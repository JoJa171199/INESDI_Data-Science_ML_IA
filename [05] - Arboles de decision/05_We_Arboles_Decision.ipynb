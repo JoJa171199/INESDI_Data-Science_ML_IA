{
  "nbformat": 4,
  "nbformat_minor": 0,
  "metadata": {
    "colab": {
      "provenance": [],
      "authorship_tag": "ABX9TyMfonO//VJPFTmWgKX/a2n/",
      "include_colab_link": true
    },
    "kernelspec": {
      "name": "python3",
      "display_name": "Python 3"
    },
    "language_info": {
      "name": "python"
    }
  },
  "cells": [
    {
      "cell_type": "markdown",
      "metadata": {
        "id": "view-in-github",
        "colab_type": "text"
      },
      "source": [
        "<a href=\"https://colab.research.google.com/github/dtoralg/INESDI_Data-Science_ML_IA/blob/main/%5B05%5D%20-%20Arboles%20de%20decision/05_We_Arboles_Decision.ipynb\" target=\"_parent\"><img src=\"https://colab.research.google.com/assets/colab-badge.svg\" alt=\"Open In Colab\"/></a>"
      ]
    },
    {
      "cell_type": "markdown",
      "metadata": {
        "id": "fc9eb426"
      },
      "source": [
        "# Arboles de decisión\n",
        "\n",
        "Este notebook es un **we do**: todo resuelto y explicado paso a paso.\n",
        "\n",
        "Objetivo: Predecir si un cliente representa bajo o alto riesgo crediticio"
      ]
    },
    {
      "cell_type": "markdown",
      "source": [
        "\n",
        "ESTRUCTURA:\n",
        "- Parte 1 (Proporcionada): Setup, EDA básico, modelo baseline\n",
        "- Parte 2 (A completar): Optimización, evaluación avanzada, interpretación\n"
      ],
      "metadata": {
        "id": "Y3KX5B0-HcU-"
      }
    },
    {
      "cell_type": "code",
      "source": [
        "# 1.1 IMPORTAR LIBRERÍAS\n",
        "import pandas as pd\n",
        "import numpy as np\n",
        "import matplotlib.pyplot as plt\n",
        "import seaborn as sns\n",
        "from sklearn.model_selection import train_test_split\n",
        "from sklearn.tree import DecisionTreeClassifier, plot_tree\n",
        "from sklearn.metrics import (classification_report, confusion_matrix,\n",
        "                              accuracy_score, precision_score, recall_score,\n",
        "                              f1_score)\n",
        "from sklearn.preprocessing import LabelEncoder"
      ],
      "metadata": {
        "id": "o-oaujVwHKxo"
      },
      "execution_count": 1,
      "outputs": []
    },
    {
      "cell_type": "code",
      "source": [
        "# Configuración de visualización\n",
        "sns.set_style(\"whitegrid\")\n",
        "plt.rcParams['figure.figsize'] = (10, 6)\n",
        "\n",
        "# 1.2 CARGAR DATASET\n",
        "# Usaremos un dataset sintético de riesgo crediticio\n",
        "np.random.seed(42)\n",
        "\n",
        "data = {\n",
        "    'edad': np.random.randint(18, 70, 1000),\n",
        "    'ingreso_anual': np.random.randint(15000, 150000, 1000),\n",
        "    'deuda_actual': np.random.randint(0, 80000, 1000),\n",
        "    'antiguedad_empleo': np.random.randint(0, 30, 1000),\n",
        "    'num_creditos': np.random.randint(0, 5, 1000),\n",
        "    'tipo_vivienda': np.random.choice(['Propia', 'Alquilada', 'Hipoteca'], 1000),\n",
        "    'estado_civil': np.random.choice(['Soltero', 'Casado', 'Divorciado'], 1000),\n",
        "    'historial_pagos': np.random.choice(['Excelente', 'Bueno', 'Regular', 'Malo'], 1000)\n",
        "}\n",
        "\n",
        "df = pd.DataFrame(data)\n",
        "\n",
        "# Generar variable objetivo basada en reglas lógicas\n",
        "def generar_riesgo(row):\n",
        "    score = 0\n",
        "    if row['ingreso_anual'] > 60000: score += 2\n",
        "    if row['deuda_actual'] < 20000: score += 2\n",
        "    if row['historial_pagos'] in ['Excelente', 'Bueno']: score += 2\n",
        "    if row['antiguedad_empleo'] > 5: score += 1\n",
        "    if row['edad'] > 30: score += 1\n",
        "\n",
        "    return 'Bajo Riesgo' if score >= 5 else 'Alto Riesgo'\n",
        "\n",
        "df['riesgo'] = df.apply(generar_riesgo, axis=1)\n",
        "\n",
        "print(\"✅ Dataset cargado correctamente\")\n",
        "print(f\"Dimensiones: {df.shape}\")\n",
        "print(f\"\\nDistribución de la variable objetivo:\")\n",
        "print(df['riesgo'].value_counts())\n",
        "\n",
        "# 1.3 EDA BÁSICO (Proporcionado)\n",
        "print(\"\\n\" + \"=\"*80)\n",
        "print(\"ANÁLISIS EXPLORATORIO DE DATOS (EDA)\")\n",
        "print(\"=\"*80)\n",
        "\n",
        "# Información general\n",
        "print(\"\\n📊 Información del Dataset:\")\n",
        "print(df.info())\n",
        "\n",
        "print(\"\\n📈 Estadísticas Descriptivas:\")\n",
        "print(df.describe())\n",
        "\n",
        "# Visualización: Distribución de edad por riesgo\n",
        "plt.figure(figsize=(12, 5))\n",
        "\n",
        "plt.subplot(1, 2, 1)\n",
        "sns.histplot(data=df, x='edad', hue='riesgo', bins=20, kde=True)\n",
        "plt.title('Distribución de Edad por Nivel de Riesgo')\n",
        "plt.xlabel('Edad')\n",
        "plt.ylabel('Frecuencia')\n",
        "\n",
        "plt.subplot(1, 2, 2)\n",
        "sns.boxplot(data=df, x='riesgo', y='ingreso_anual')\n",
        "plt.title('Ingreso Anual por Nivel de Riesgo')\n",
        "plt.ylabel('Ingreso Anual (€)')\n",
        "\n",
        "plt.tight_layout()\n",
        "plt.show()\n",
        "\n",
        "# 1.4 PREPARACIÓN DE DATOS (Proporcionado)\n",
        "print(\"\\n\" + \"=\"*80)\n",
        "print(\"PREPARACIÓN DE DATOS\")\n",
        "print(\"=\"*80)\n",
        "\n",
        "# Encoding de variables categóricas\n",
        "label_encoders = {}\n",
        "categorical_columns = ['tipo_vivienda', 'estado_civil', 'historial_pagos']\n",
        "\n",
        "for col in categorical_columns:\n",
        "    le = LabelEncoder()\n",
        "    df[col + '_encoded'] = le.fit_transform(df[col])\n",
        "    label_encoders[col] = le\n",
        "\n",
        "# Preparar X e y\n",
        "feature_columns = ['edad', 'ingreso_anual', 'deuda_actual', 'antiguedad_empleo',\n",
        "                   'num_creditos', 'tipo_vivienda_encoded', 'estado_civil_encoded',\n",
        "                   'historial_pagos_encoded']\n",
        "\n",
        "X = df[feature_columns]\n",
        "y = df['riesgo'].map({'Bajo Riesgo': 0, 'Alto Riesgo': 1})\n",
        "\n",
        "# Split train/test\n",
        "X_train, X_test, y_train, y_test = train_test_split(\n",
        "    X, y, test_size=0.2, random_state=42, stratify=y\n",
        ")\n",
        "\n",
        "print(f\"✅ Datos preparados:\")\n",
        "print(f\"   - Tamaño training: {X_train.shape}\")\n",
        "print(f\"   - Tamaño test: {X_test.shape}\")\n",
        "\n",
        "# 1.5 MODELO BASELINE (Proporcionado)\n",
        "print(\"\\n\" + \"=\"*80)\n",
        "print(\"MODELO BASELINE: Árbol de Decisión Sin Optimizar\")\n",
        "print(\"=\"*80)\n",
        "\n",
        "# Entrenar árbol simple\n",
        "baseline_tree = DecisionTreeClassifier(random_state=42)\n",
        "baseline_tree.fit(X_train, y_train)\n",
        "\n",
        "# Predicciones\n",
        "y_pred_baseline = baseline_tree.predict(X_test)\n",
        "\n",
        "# Métricas básicas\n",
        "print(f\"\\n📊 Métricas del Modelo Baseline:\")\n",
        "print(f\"   - Accuracy: {accuracy_score(y_test, y_pred_baseline):.4f}\")\n",
        "print(f\"   - Precision: {precision_score(y_test, y_pred_baseline):.4f}\")\n",
        "print(f\"   - Recall: {recall_score(y_test, y_pred_baseline):.4f}\")\n",
        "print(f\"   - F1-Score: {f1_score(y_test, y_pred_baseline):.4f}\")\n",
        "\n",
        "# Matriz de confusión\n",
        "plt.figure(figsize=(8, 6))\n",
        "cm = confusion_matrix(y_test, y_pred_baseline)\n",
        "sns.heatmap(cm, annot=True, fmt='d', cmap='Blues',\n",
        "            xticklabels=['Bajo Riesgo', 'Alto Riesgo'],\n",
        "            yticklabels=['Bajo Riesgo', 'Alto Riesgo'])\n",
        "plt.title('Matriz de Confusión - Modelo Baseline')\n",
        "plt.ylabel('Valor Real')\n",
        "plt.xlabel('Predicción')\n",
        "plt.show()\n",
        "\n",
        "print(\"\\n✅ Parte 1 completada. Ahora es tu turno...\")"
      ],
      "metadata": {
        "colab": {
          "base_uri": "https://localhost:8080/",
          "height": 1000
        },
        "id": "thNpBEhRHVDS",
        "outputId": "f9052ca3-eaea-475f-f90d-2b8eabca836f"
      },
      "execution_count": 2,
      "outputs": [
        {
          "output_type": "stream",
          "name": "stdout",
          "text": [
            "✅ Dataset cargado correctamente\n",
            "Dimensiones: (1000, 9)\n",
            "\n",
            "Distribución de la variable objetivo:\n",
            "riesgo\n",
            "Alto Riesgo    542\n",
            "Bajo Riesgo    458\n",
            "Name: count, dtype: int64\n",
            "\n",
            "================================================================================\n",
            "ANÁLISIS EXPLORATORIO DE DATOS (EDA)\n",
            "================================================================================\n",
            "\n",
            "📊 Información del Dataset:\n",
            "<class 'pandas.core.frame.DataFrame'>\n",
            "RangeIndex: 1000 entries, 0 to 999\n",
            "Data columns (total 9 columns):\n",
            " #   Column             Non-Null Count  Dtype \n",
            "---  ------             --------------  ----- \n",
            " 0   edad               1000 non-null   int64 \n",
            " 1   ingreso_anual      1000 non-null   int64 \n",
            " 2   deuda_actual       1000 non-null   int64 \n",
            " 3   antiguedad_empleo  1000 non-null   int64 \n",
            " 4   num_creditos       1000 non-null   int64 \n",
            " 5   tipo_vivienda      1000 non-null   object\n",
            " 6   estado_civil       1000 non-null   object\n",
            " 7   historial_pagos    1000 non-null   object\n",
            " 8   riesgo             1000 non-null   object\n",
            "dtypes: int64(5), object(4)\n",
            "memory usage: 70.4+ KB\n",
            "None\n",
            "\n",
            "📈 Estadísticas Descriptivas:\n",
            "             edad  ingreso_anual  deuda_actual  antiguedad_empleo  \\\n",
            "count  1000.00000    1000.000000   1000.000000        1000.000000   \n",
            "mean     43.81900   83958.460000  39998.825000          14.659000   \n",
            "std      14.99103   39293.028951  23306.319837           8.551365   \n",
            "min      18.00000   15126.000000    155.000000           0.000000   \n",
            "25%      31.00000   50012.250000  19148.250000           7.000000   \n",
            "50%      44.00000   84322.000000  39941.500000          15.000000   \n",
            "75%      56.00000  118153.000000  60368.000000          22.000000   \n",
            "max      69.00000  149869.000000  79751.000000          29.000000   \n",
            "\n",
            "       num_creditos  \n",
            "count   1000.000000  \n",
            "mean       1.970000  \n",
            "std        1.416017  \n",
            "min        0.000000  \n",
            "25%        1.000000  \n",
            "50%        2.000000  \n",
            "75%        3.000000  \n",
            "max        4.000000  \n"
          ]
        },
        {
          "output_type": "display_data",
          "data": {
            "text/plain": [
              "<Figure size 1200x500 with 2 Axes>"
            ],
            "image/png": "[encoded data removed]"
          },
          "metadata": {}
        },
        {
          "output_type": "stream",
          "name": "stdout",
          "text": [
            "\n",
            "================================================================================\n",
            "PREPARACIÓN DE DATOS\n",
            "================================================================================\n",
            "✅ Datos preparados:\n",
            "   - Tamaño training: (800, 8)\n",
            "   - Tamaño test: (200, 8)\n",
            "\n",
            "================================================================================\n",
            "MODELO BASELINE: Árbol de Decisión Sin Optimizar\n",
            "================================================================================\n",
            "\n",
            "📊 Métricas del Modelo Baseline:\n",
            "   - Accuracy: 0.9800\n",
            "   - Precision: 0.9727\n",
            "   - Recall: 0.9907\n",
            "   - F1-Score: 0.9817\n"
          ]
        },
        {
          "output_type": "display_data",
          "data": {
            "text/plain": [
              "<Figure size 800x600 with 2 Axes>"
            ],
            "image/png": "[encoded data removed]"
          },
          "metadata": {}
        },
        {
          "output_type": "stream",
          "name": "stdout",
          "text": [
            "\n",
            "✅ Parte 1 completada. Ahora es tu turno...\n"
          ]
        }
      ]
    },
    {
      "cell_type": "code",
      "source": [
        "# =============================================================================\n",
        "# PARTE 2: A COMPLETAR POR LOS ESTUDIANTES\n",
        "# =============================================================================\n",
        "\n",
        "print(\"\\n\" + \"=\"*80)\n",
        "print(\"🎯 EJERCICIO PARA ESTUDIANTES\")\n",
        "print(\"=\"*80)"
      ],
      "metadata": {
        "colab": {
          "base_uri": "https://localhost:8080/"
        },
        "id": "2vWvImxAIEVn",
        "outputId": "e4498571-e7e9-4ab5-8a96-fe1931390645"
      },
      "execution_count": 3,
      "outputs": [
        {
          "output_type": "stream",
          "name": "stdout",
          "text": [
            "\n",
            "================================================================================\n",
            "🎯 EJERCICIO PARA ESTUDIANTES\n",
            "================================================================================\n"
          ]
        }
      ]
    },
    {
      "cell_type": "code",
      "source": [
        "# -----------------------------------------------------------------------------\n",
        "# EJERCICIO 2.1: Análisis de Importancia de Características\n",
        "# -----------------------------------------------------------------------------\n",
        "print(\"\\n📝 EJERCICIO 2.1: Importancia de Características\")\n",
        "print(\"-\" * 80)\n",
        "print(\"\"\"\n",
        "TAREA: Analiza qué características son más importantes para el modelo baseline.\n",
        "\n",
        "INSTRUCCIONES:\n",
        "1. Obtén las importancias de las características del árbol baseline usando .feature_importances_\n",
        "2. Crea un DataFrame con las características y sus importancias\n",
        "3. Ordénalas de mayor a menor\n",
        "4. Visualiza las 5 características más importantes en un gráfico de barras\n",
        "\n",
        "CÓDIGO A COMPLETAR:\n",
        "\"\"\")"
      ],
      "metadata": {
        "colab": {
          "base_uri": "https://localhost:8080/"
        },
        "id": "_YLipuQiIEOJ",
        "outputId": "5e781993-1fe9-44b3-c32b-35ed1877000d"
      },
      "execution_count": 4,
      "outputs": [
        {
          "output_type": "stream",
          "name": "stdout",
          "text": [
            "\n",
            "📝 EJERCICIO 2.1: Importancia de Características\n",
            "--------------------------------------------------------------------------------\n",
            "\n",
            "TAREA: Analiza qué características son más importantes para el modelo baseline.\n",
            "\n",
            "INSTRUCCIONES:\n",
            "1. Obtén las importancias de las características del árbol baseline usando .feature_importances_\n",
            "2. Crea un DataFrame con las características y sus importancias\n",
            "3. Ordénalas de mayor a menor\n",
            "4. Visualiza las 5 características más importantes en un gráfico de barras\n",
            "\n",
            "CÓDIGO A COMPLETAR:\n",
            "\n"
          ]
        }
      ]
    },
    {
      "cell_type": "code",
      "source": [
        "# TODO: Obtener importancias\n",
        "# importances = baseline_tree.????\n",
        "# feature_importance_df = pd.DataFrame({\n",
        "#     'caracteristica': ????,\n",
        "#     'importancia': ????\n",
        "# }).sort_values(????, ascending=False)\n",
        "\n",
        "# TODO: Visualizar top 5\n",
        "# plt.figure(figsize=(10, 6))\n",
        "# sns.barplot(????)\n",
        "# plt.title('Top 5 Características Más Importantes')\n",
        "# plt.xlabel('Importancia')\n",
        "# plt.show()"
      ],
      "metadata": {
        "id": "z2Gwe0uFIxNT"
      },
      "execution_count": 5,
      "outputs": []
    },
    {
      "cell_type": "code",
      "source": [
        "# -----------------------------------------------------------------------------\n",
        "# EJERCICIO 2.2: Optimización de Hiperparámetros\n",
        "# -----------------------------------------------------------------------------\n",
        "print(\"\\n📝 EJERCICIO 2.2: Optimización de Hiperparámetros\")\n",
        "print(\"-\" * 80)\n",
        "print(\"\"\"\n",
        "TAREA: Encuentra los mejores hiperparámetros para el árbol de decisión.\n",
        "\n",
        "INSTRUCCIONES:\n",
        "1. Utiliza GridSearchCV de sklearn.model_selection\n",
        "2. Prueba diferentes valores para:\n",
        "   - max_depth: [3, 5, 7, 10, None]\n",
        "   - min_samples_split: [2, 5, 10, 20]\n",
        "   - min_samples_leaf: [1, 2, 5, 10]\n",
        "   - criterion: ['gini', 'entropy']\n",
        "3. Usa cv=5 para validación cruzada\n",
        "4. Imprime los mejores parámetros y el mejor score\n",
        "\n",
        "CÓDIGO A COMPLETAR:\n",
        "\"\"\")"
      ],
      "metadata": {
        "colab": {
          "base_uri": "https://localhost:8080/"
        },
        "id": "APP-4l5YID-8",
        "outputId": "c14d8f9d-1c60-448f-aa4f-6516f84205d1"
      },
      "execution_count": 6,
      "outputs": [
        {
          "output_type": "stream",
          "name": "stdout",
          "text": [
            "\n",
            "📝 EJERCICIO 2.2: Optimización de Hiperparámetros\n",
            "--------------------------------------------------------------------------------\n",
            "\n",
            "TAREA: Encuentra los mejores hiperparámetros para el árbol de decisión.\n",
            "\n",
            "INSTRUCCIONES:\n",
            "1. Utiliza GridSearchCV de sklearn.model_selection\n",
            "2. Prueba diferentes valores para:\n",
            "   - max_depth: [3, 5, 7, 10, None]\n",
            "   - min_samples_split: [2, 5, 10, 20]\n",
            "   - min_samples_leaf: [1, 2, 5, 10]\n",
            "   - criterion: ['gini', 'entropy']\n",
            "3. Usa cv=5 para validación cruzada\n",
            "4. Imprime los mejores parámetros y el mejor score\n",
            "\n",
            "CÓDIGO A COMPLETAR:\n",
            "\n"
          ]
        }
      ]
    },
    {
      "cell_type": "code",
      "source": [
        "# TODO: Importar GridSearchCV\n",
        "# from sklearn.model_selection import GridSearchCV\n",
        "\n",
        "# TODO: Definir grid de parámetros\n",
        "# param_grid = {\n",
        "#     'max_depth': ????,\n",
        "#     'min_samples_split': ????,\n",
        "#     'min_samples_leaf': ????,\n",
        "#     'criterion': ????\n",
        "# }\n",
        "\n",
        "# TODO: Crear y entrenar GridSearchCV\n",
        "# grid_search = GridSearchCV(\n",
        "#     DecisionTreeClassifier(random_state=42),\n",
        "#     param_grid,\n",
        "#     cv=????,\n",
        "#     scoring='f1',\n",
        "#     n_jobs=-1\n",
        "# )\n",
        "# grid_search.fit(????, ????)\n",
        "\n",
        "# TODO: Imprimir mejores parámetros\n",
        "# print(f\"Mejores parámetros: {grid_search.best_params_}\")\n",
        "# print(f\"Mejor F1-Score (CV): {grid_search.best_score_:.4f}\")"
      ],
      "metadata": {
        "id": "Ym5YN_DNJbwi"
      },
      "execution_count": 7,
      "outputs": []
    },
    {
      "cell_type": "code",
      "source": [
        "# -----------------------------------------------------------------------------\n",
        "# EJERCICIO 2.3: Entrenar Modelo Optimizado\n",
        "# -----------------------------------------------------------------------------\n",
        "print(\"\\n📝 EJERCICIO 2.3: Modelo Optimizado\")\n",
        "print(\"-\" * 80)\n",
        "print(\"\"\"\n",
        "TAREA: Entrena un nuevo modelo con los mejores hiperparámetros encontrados.\n",
        "\n",
        "INSTRUCCIONES:\n",
        "1. Crea un nuevo DecisionTreeClassifier con los mejores parámetros\n",
        "2. Entrénalo con los datos de entrenamiento\n",
        "3. Realiza predicciones en el conjunto de test\n",
        "4. Calcula y compara las métricas con el modelo baseline\n",
        "\n",
        "CÓDIGO A COMPLETAR:\n",
        "\"\"\")\n"
      ],
      "metadata": {
        "colab": {
          "base_uri": "https://localhost:8080/"
        },
        "id": "kMveHPpsIXdB",
        "outputId": "cec65fa2-bf85-4d7b-a0fa-4ea619a7fb68"
      },
      "execution_count": 8,
      "outputs": [
        {
          "output_type": "stream",
          "name": "stdout",
          "text": [
            "\n",
            "📝 EJERCICIO 2.3: Modelo Optimizado\n",
            "--------------------------------------------------------------------------------\n",
            "\n",
            "TAREA: Entrena un nuevo modelo con los mejores hiperparámetros encontrados.\n",
            "\n",
            "INSTRUCCIONES:\n",
            "1. Crea un nuevo DecisionTreeClassifier con los mejores parámetros\n",
            "2. Entrénalo con los datos de entrenamiento\n",
            "3. Realiza predicciones en el conjunto de test\n",
            "4. Calcula y compara las métricas con el modelo baseline\n",
            "\n",
            "CÓDIGO A COMPLETAR:\n",
            "\n"
          ]
        }
      ]
    },
    {
      "cell_type": "code",
      "source": [
        "# TODO: Crear modelo optimizado\n",
        "# optimized_tree = DecisionTreeClassifier(\n",
        "#     max_depth=????,\n",
        "#     min_samples_split=????,\n",
        "#     min_samples_leaf=????,\n",
        "#     criterion=????,\n",
        "#     random_state=42\n",
        "# )\n",
        "\n",
        "# TODO: Entrenar\n",
        "# optimized_tree.fit(????, ????)\n",
        "\n",
        "# TODO: Predecir\n",
        "# y_pred_optimized = optimized_tree.predict(????)\n",
        "\n",
        "# TODO: Calcular métricas\n",
        "# print(f\"\\n📊 Comparación de Modelos:\")\n",
        "# print(f\"\\nBASELINE:\")\n",
        "# print(f\"   - Accuracy: {accuracy_score(y_test, y_pred_baseline):.4f}\")\n",
        "# print(f\"   - F1-Score: {f1_score(y_test, y_pred_baseline):.4f}\")\n",
        "\n",
        "# print(f\"\\nOPTIMIZADO:\")\n",
        "# print(f\"   - Accuracy: {accuracy_score(y_test, y_pred_optimized):.4f}\")\n",
        "# print(f\"   - F1-Score: {f1_score(y_test, y_pred_optimized):.4f}\")"
      ],
      "metadata": {
        "id": "t8-Szz9kJkO6"
      },
      "execution_count": 9,
      "outputs": []
    },
    {
      "cell_type": "code",
      "source": [
        "# -----------------------------------------------------------------------------\n",
        "# EJERCICIO 2.4: Visualización del Árbol Optimizado\n",
        "# -----------------------------------------------------------------------------\n",
        "print(\"\\n📝 EJERCICIO 2.4: Visualización del Árbol\")\n",
        "print(\"-\" * 80)\n",
        "print(\"\"\"\n",
        "TAREA: Visualiza el árbol de decisión optimizado para interpretarlo.\n",
        "\n",
        "INSTRUCCIONES:\n",
        "1. Utiliza plot_tree de sklearn.tree\n",
        "2. Configura:\n",
        "   - filled=True (para colores)\n",
        "   - feature_names con los nombres de las características\n",
        "   - class_names=['Bajo Riesgo', 'Alto Riesgo']\n",
        "   - fontsize apropiado (8-10)\n",
        "3. Analiza: ¿Cuál es la primera división? ¿Tiene sentido desde perspectiva de negocio?\n",
        "\n",
        "CÓDIGO A COMPLETAR:\n",
        "\"\"\")"
      ],
      "metadata": {
        "colab": {
          "base_uri": "https://localhost:8080/"
        },
        "id": "2o-S9gOuIaY2",
        "outputId": "191ddd62-fadb-45bb-eb19-66fd1ae08a41"
      },
      "execution_count": 10,
      "outputs": [
        {
          "output_type": "stream",
          "name": "stdout",
          "text": [
            "\n",
            "📝 EJERCICIO 2.4: Visualización del Árbol\n",
            "--------------------------------------------------------------------------------\n",
            "\n",
            "TAREA: Visualiza el árbol de decisión optimizado para interpretarlo.\n",
            "\n",
            "INSTRUCCIONES:\n",
            "1. Utiliza plot_tree de sklearn.tree\n",
            "2. Configura:\n",
            "   - filled=True (para colores)\n",
            "   - feature_names con los nombres de las características\n",
            "   - class_names=['Bajo Riesgo', 'Alto Riesgo']\n",
            "   - fontsize apropiado (8-10)\n",
            "3. Analiza: ¿Cuál es la primera división? ¿Tiene sentido desde perspectiva de negocio?\n",
            "\n",
            "CÓDIGO A COMPLETAR:\n",
            "\n"
          ]
        }
      ]
    },
    {
      "cell_type": "code",
      "source": [
        "# TODO: Visualizar árbol\n",
        "# plt.figure(figsize=(20, 10))\n",
        "# plot_tree(\n",
        "#     optimized_tree,\n",
        "#     filled=????,\n",
        "#     feature_names=????,\n",
        "#     class_names=????,\n",
        "#     fontsize=????\n",
        "# )\n",
        "# plt.title('Árbol de Decisión Optimizado - Riesgo Crediticio')\n",
        "# plt.show()"
      ],
      "metadata": {
        "id": "kNWxQEyZJr2X"
      },
      "execution_count": 11,
      "outputs": []
    },
    {
      "cell_type": "code",
      "source": [
        "# -----------------------------------------------------------------------------\n",
        "# EJERCICIO 2.5: Matriz de Confusión y Métricas Detalladas\n",
        "# -----------------------------------------------------------------------------\n",
        "print(\"\\n📝 EJERCICIO 2.5: Análisis de Errores\")\n",
        "print(\"-\" * 80)\n",
        "print(\"\"\"\n",
        "TAREA: Analiza en detalle los errores del modelo optimizado.\n",
        "\n",
        "INSTRUCCIONES:\n",
        "1. Crea una matriz de confusión del modelo optimizado\n",
        "2. Visualízala con seaborn.heatmap\n",
        "3. Imprime el classification_report completo\n",
        "4. REFLEXIONA:\n",
        "   - ¿Qué tipo de error es más crítico en este contexto de negocio?\n",
        "   - ¿Falsos positivos (predecir alto riesgo cuando es bajo) o\n",
        "   - Falsos negativos (predecir bajo riesgo cuando es alto)?\n",
        "\n",
        "CÓDIGO A COMPLETAR:\n",
        "\"\"\")"
      ],
      "metadata": {
        "colab": {
          "base_uri": "https://localhost:8080/"
        },
        "id": "zvs8h2ueIb4y",
        "outputId": "4a0e58b5-c13e-45f3-c0c3-cd556b973ccf"
      },
      "execution_count": 12,
      "outputs": [
        {
          "output_type": "stream",
          "name": "stdout",
          "text": [
            "\n",
            "📝 EJERCICIO 2.5: Análisis de Errores\n",
            "--------------------------------------------------------------------------------\n",
            "\n",
            "TAREA: Analiza en detalle los errores del modelo optimizado.\n",
            "\n",
            "INSTRUCCIONES:\n",
            "1. Crea una matriz de confusión del modelo optimizado\n",
            "2. Visualízala con seaborn.heatmap\n",
            "3. Imprime el classification_report completo\n",
            "4. REFLEXIONA:\n",
            "   - ¿Qué tipo de error es más crítico en este contexto de negocio?\n",
            "   - ¿Falsos positivos (predecir alto riesgo cuando es bajo) o\n",
            "   - Falsos negativos (predecir bajo riesgo cuando es alto)?\n",
            "\n",
            "CÓDIGO A COMPLETAR:\n",
            "\n"
          ]
        }
      ]
    },
    {
      "cell_type": "code",
      "source": [
        "# TODO: Matriz de confusión\n",
        "# cm_optimized = confusion_matrix(????, ????)\n",
        "# plt.figure(figsize=(8, 6))\n",
        "# sns.heatmap(cm_optimized, annot=True, fmt='d', cmap='Greens',\n",
        "#             xticklabels=????,\n",
        "#             yticklabels=????)\n",
        "# plt.title('Matriz de Confusión - Modelo Optimizado')\n",
        "# plt.ylabel('Valor Real')\n",
        "# plt.xlabel('Predicción')\n",
        "# plt.show()\n",
        "\n",
        "# TODO: Classification report\n",
        "# print(\"\\n📋 Reporte de Clasificación Detallado:\")\n",
        "# print(classification_report(????, ????,\n",
        "#                            target_names=['Bajo Riesgo', 'Alto Riesgo']))\n"
      ],
      "metadata": {
        "id": "n8I05hKCJxj7"
      },
      "execution_count": 13,
      "outputs": []
    },
    {
      "cell_type": "code",
      "source": [
        "# -----------------------------------------------------------------------------\n",
        "# EJERCICIO 2.6: Validación Cruzada Manual\n",
        "# -----------------------------------------------------------------------------\n",
        "print(\"\\n📝 EJERCICIO 2.6: Validación Cruzada (BONUS)\")\n",
        "print(\"-\" * 80)\n",
        "print(\"\"\"\n",
        "TAREA BONUS: Implementa validación cruzada para evaluar la estabilidad del modelo.\n",
        "\n",
        "INSTRUCCIONES:\n",
        "1. Usa cross_val_score con cv=5\n",
        "2. Calcula scores de accuracy, precision, recall y f1\n",
        "3. Imprime la media y desviación estándar de cada métrica\n",
        "4. INTERPRETA: ¿Es estable el modelo? ¿Hay mucha varianza entre folds?\n",
        "\n",
        "CÓDIGO A COMPLETAR:\n",
        "\"\"\")"
      ],
      "metadata": {
        "colab": {
          "base_uri": "https://localhost:8080/"
        },
        "id": "o4TGpyHIH5HD",
        "outputId": "d0c2f844-6db2-40f3-fb99-1d8592160262"
      },
      "execution_count": 14,
      "outputs": [
        {
          "output_type": "stream",
          "name": "stdout",
          "text": [
            "\n",
            "📝 EJERCICIO 2.6: Validación Cruzada (BONUS)\n",
            "--------------------------------------------------------------------------------\n",
            "\n",
            "TAREA BONUS: Implementa validación cruzada para evaluar la estabilidad del modelo.\n",
            "\n",
            "INSTRUCCIONES:\n",
            "1. Usa cross_val_score con cv=5\n",
            "2. Calcula scores de accuracy, precision, recall y f1\n",
            "3. Imprime la media y desviación estándar de cada métrica\n",
            "4. INTERPRETA: ¿Es estable el modelo? ¿Hay mucha varianza entre folds?\n",
            "\n",
            "CÓDIGO A COMPLETAR:\n",
            "\n"
          ]
        }
      ]
    },
    {
      "cell_type": "code",
      "source": [
        "# TODO: Validación cruzada\n",
        "# from sklearn.model_selection import cross_val_score\n",
        "\n",
        "# metrics = ['accuracy', 'precision', 'recall', 'f1']\n",
        "# for metric in metrics:\n",
        "#     scores = cross_val_score(optimized_tree, X_train, y_train,\n",
        "#                             cv=5, scoring=metric)\n",
        "#     print(f\"{metric.upper()}:\")\n",
        "#     print(f\"  Media: {scores.mean():.4f}\")\n",
        "#     print(f\"  Std: {scores.std():.4f}\")\n",
        "#     print(f\"  Scores: {scores}\\n\")"
      ],
      "metadata": {
        "id": "5Br2rmSsJ5Hn"
      },
      "execution_count": 15,
      "outputs": []
    },
    {
      "cell_type": "code",
      "execution_count": 16,
      "metadata": {
        "colab": {
          "base_uri": "https://localhost:8080/"
        },
        "id": "R7GhpoSdGiNo",
        "outputId": "7fbbe6d7-7813-471b-d208-b2baf313e205"
      },
      "outputs": [
        {
          "output_type": "stream",
          "name": "stdout",
          "text": [
            "\n",
            "================================================================================\n",
            "📝 PREGUNTAS DE REFLEXIÓN (Incluir en tu entrega)\n",
            "================================================================================\n",
            "\n",
            "1. ¿Qué características fueron más importantes según el modelo? ¿Tiene sentido\n",
            "   desde una perspectiva de negocio bancario?\n",
            "\n",
            "2. ¿Cómo mejoraron las métricas al optimizar los hiperparámetros? ¿Cuál fue\n",
            "   el hiperparámetro que más impacto tuvo?\n",
            "\n",
            "3. Analizando la matriz de confusión: En un contexto bancario real, ¿qué tipo\n",
            "   de error es más costoso? ¿Dar crédito a alguien de alto riesgo (FN) o\n",
            "   rechazar a alguien de bajo riesgo (FP)? Justifica tu respuesta.\n",
            "\n",
            "4. Si tuvieras que presentar este modelo a un director de banco sin formación\n",
            "   técnica, ¿cómo explicarías cómo funciona el árbol de decisión y por qué\n",
            "   debería confiar en él?\n",
            "\n",
            "5. ¿Qué limitaciones identificas en este modelo? ¿Cómo lo mejorarías?\n",
            "   (Pista: piensa en ensemble methods como Random Forest)\n",
            "\n",
            "\n",
            "✅ ¡Ejercicio completado! No olvides subir tu notebook con todas las\n",
            "   celdas ejecutadas y las preguntas de reflexión respondidas.\n"
          ]
        }
      ],
      "source": [
        "\n",
        "# =============================================================================\n",
        "# PREGUNTAS DE REFLEXIÓN PARA ENTREGAR\n",
        "# =============================================================================\n",
        "print(\"\\n\" + \"=\"*80)\n",
        "print(\"📝 PREGUNTAS DE REFLEXIÓN (Incluir en tu entrega)\")\n",
        "print(\"=\"*80)\n",
        "print(\"\"\"\n",
        "1. ¿Qué características fueron más importantes según el modelo? ¿Tiene sentido\n",
        "   desde una perspectiva de negocio bancario?\n",
        "\n",
        "2. ¿Cómo mejoraron las métricas al optimizar los hiperparámetros? ¿Cuál fue\n",
        "   el hiperparámetro que más impacto tuvo?\n",
        "\n",
        "3. Analizando la matriz de confusión: En un contexto bancario real, ¿qué tipo\n",
        "   de error es más costoso? ¿Dar crédito a alguien de alto riesgo (FN) o\n",
        "   rechazar a alguien de bajo riesgo (FP)? Justifica tu respuesta.\n",
        "\n",
        "4. Si tuvieras que presentar este modelo a un director de banco sin formación\n",
        "   técnica, ¿cómo explicarías cómo funciona el árbol de decisión y por qué\n",
        "   debería confiar en él?\n",
        "\n",
        "5. ¿Qué limitaciones identificas en este modelo? ¿Cómo lo mejorarías?\n",
        "   (Pista: piensa en ensemble methods como Random Forest)\n",
        "\"\"\")\n",
        "\n",
        "print(\"\\n✅ ¡Ejercicio completado! No olvides subir tu notebook con todas las\")\n",
        "print(\"   celdas ejecutadas y las preguntas de reflexión respondidas.\")"
      ]
    }
  ]
}
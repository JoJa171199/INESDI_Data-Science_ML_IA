{
  "cells": [
    {
      "cell_type": "markdown",
      "metadata": {
        "id": "view-in-github",
        "colab_type": "text"
      },
      "source": [
        "<a href=\"https://colab.research.google.com/github/dtoralg/INESDI_Data-Science_ML_IA/blob/main/%5B01%5D%20-%20Preparaci%C3%B3n%20de%20datos%20y%20EDA/Transformacion_Ejercicio_5_transformacion_airbnb_barcelona.ipynb\" target=\"_parent\"><img src=\"https://colab.research.google.com/assets/colab-badge.svg\" alt=\"Open In Colab\"/></a>"
      ]
    },
    {
      "cell_type": "markdown",
      "id": "c59f0a5a",
      "metadata": {
        "id": "c59f0a5a"
      },
      "source": [
        "## Transformación - Ejercicio 5: transformacion_airbnb_barcelona.ipynb\n",
        "\n",
        "En este ejercicio aplicarás transformaciones básicas sobre un dataset real de Airbnb en Barcelona. Algunas transformaciones ya están hechas y otras deberás completarlas tú.\n",
        "\n",
        "Seguiremos el flujo aprendido: tratamiento de nulos, escalado de variables numéricas y codificación de categóricas."
      ]
    },
    {
      "cell_type": "markdown",
      "id": "5bb0e8f6",
      "metadata": {
        "id": "5bb0e8f6"
      },
      "source": [
        "### Objetivos\n",
        "- Aplicar MinMaxScaler y StandardScaler sobre variables numéricas seleccionadas.\n",
        "- Codificar variables categóricas mediante Label Encoding y One-Hot Encoding.\n",
        "- Comprender qué tipo de transformación aplicar en cada caso."
      ]
    },
    {
      "cell_type": "markdown",
      "id": "1a4943e3",
      "metadata": {
        "id": "1a4943e3"
      },
      "source": [
        "### Descripción del dataset\n",
        "El dataset se ha obtenido de Inside Airbnb y contiene información de alojamientos en Barcelona a fecha de agosto 2024.\n",
        "\n",
        "Fuente: [Inside Airbnb - NYC listings](https://data.insideairbnb.com/united-states/ny/new-york-city/2025-08-01/visualisations/listings.csv)\n",
        "\n",
        "Como Inside Airbnb cambia el enlace con cada nueva release, puede que sea necesario actualizarlo buscandolo en [Inside Airbnb](https://insideairbnb.com/get-the-data/)"
      ]
    },
    {
      "cell_type": "code",
      "execution_count": 1,
      "id": "c5d3b7f5",
      "metadata": {
        "id": "c5d3b7f5"
      },
      "outputs": [],
      "source": [
        "# Importación de librerías\n",
        "import pandas as pd\n",
        "import matplotlib.pyplot as plt\n",
        "import seaborn as sns\n",
        "from sklearn.preprocessing import MinMaxScaler, StandardScaler, LabelEncoder\n",
        "sns.set(style='whitegrid')"
      ]
    },
    {
      "cell_type": "code",
      "execution_count": 2,
      "id": "d49c7cc3",
      "metadata": {
        "colab": {
          "base_uri": "https://localhost:8080/",
          "height": 643
        },
        "id": "d49c7cc3",
        "outputId": "ce8ed8ce-5642-443f-d71f-942d2702e4ec"
      },
      "outputs": [
        {
          "output_type": "execute_result",
          "data": {
            "text/plain": [
              "      id                                               name  host_id  \\\n",
              "0  18674    Huge flat for 8 people close to Sagrada Familia    71615   \n",
              "1  23197  Forum CCIB DeLuxe, Spacious, Large Balcony, relax    90417   \n",
              "2  32711                   Sagrada Familia area - Còrsega 1   135703   \n",
              "3  34241   Stylish Top Floor Apartment - Ramblas Plaza Real    73163   \n",
              "4  34981               VIDRE HOME PLAZA REAL on LAS RAMBLAS    73163   \n",
              "\n",
              "        host_name neighbourhood_group                       neighbourhood  \\\n",
              "0   Mireia  Maria            Eixample                  la Sagrada Família   \n",
              "1  Etain (Marnie)          Sant Martí               el Besòs i el Maresme   \n",
              "2            Nick              Gràcia  el Camp d'en Grassot i Gràcia Nova   \n",
              "3          Andres        Ciutat Vella                      el Barri Gòtic   \n",
              "4          Andres        Ciutat Vella                      el Barri Gòtic   \n",
              "\n",
              "    latitude  longitude        room_type  price  minimum_nights  \\\n",
              "0  41.405560    2.17262  Entire home/apt  232.0               1   \n",
              "1  41.412432    2.21975  Entire home/apt  382.0               3   \n",
              "2  41.405660    2.17015  Entire home/apt  186.0               1   \n",
              "3  41.380620    2.17517  Entire home/apt  131.0              31   \n",
              "4  41.379780    2.17623  Entire home/apt  449.0               5   \n",
              "\n",
              "   number_of_reviews last_review  reviews_per_month  \\\n",
              "0                 48  2025-06-11               0.33   \n",
              "1                 88  2025-05-31               0.51   \n",
              "2                147  2025-05-14               0.87   \n",
              "3                 25  2024-11-05               0.14   \n",
              "4                267  2025-06-17               1.49   \n",
              "\n",
              "   calculated_host_listings_count  availability_365  number_of_reviews_ltm  \\\n",
              "0                              28                65                      6   \n",
              "1                               1               174                     10   \n",
              "2                               3                39                     26   \n",
              "3                               3               333                      9   \n",
              "4                               3               315                     31   \n",
              "\n",
              "                                             license  \n",
              "0                                        HUTB-002062  \n",
              "1                                         HUTB005057  \n",
              "2                                        HUTB-001722  \n",
              "3                                             Exempt  \n",
              "4  ESFCTU000008119000093652000000000000000HUTB-00...  "
            ],
            "text/html": [
              "\n",
              "  <div id=\"df-450a9bae-e7fd-4a6a-b8e0-1b7e727fcf6a\" class=\"colab-df-container\">\n",
              "    <div>\n",
              "<style scoped>\n",
              "    .dataframe tbody tr th:only-of-type {\n",
              "        vertical-align: middle;\n",
              "    }\n",
              "\n",
              "    .dataframe tbody tr th {\n",
              "        vertical-align: top;\n",
              "    }\n",
              "\n",
              "    .dataframe thead th {\n",
              "        text-align: right;\n",
              "    }\n",
              "</style>\n",
              "<table border=\"1\" class=\"dataframe\">\n",
              "  <thead>\n",
              "    <tr style=\"text-align: right;\">\n",
              "      <th></th>\n",
              "      <th>id</th>\n",
              "      <th>name</th>\n",
              "      <th>host_id</th>\n",
              "      <th>host_name</th>\n",
              "      <th>neighbourhood_group</th>\n",
              "      <th>neighbourhood</th>\n",
              "      <th>latitude</th>\n",
              "      <th>longitude</th>\n",
              "      <th>room_type</th>\n",
              "      <th>price</th>\n",
              "      <th>minimum_nights</th>\n",
              "      <th>number_of_reviews</th>\n",
              "      <th>last_review</th>\n",
              "      <th>reviews_per_month</th>\n",
              "      <th>calculated_host_listings_count</th>\n",
              "      <th>availability_365</th>\n",
              "      <th>number_of_reviews_ltm</th>\n",
              "      <th>license</th>\n",
              "    </tr>\n",
              "  </thead>\n",
              "  <tbody>\n",
              "    <tr>\n",
              "      <th>0</th>\n",
              "      <td>18674</td>\n",
              "      <td>Huge flat for 8 people close to Sagrada Familia</td>\n",
              "      <td>71615</td>\n",
              "      <td>Mireia  Maria</td>\n",
              "      <td>Eixample</td>\n",
              "      <td>la Sagrada Família</td>\n",
              "      <td>41.405560</td>\n",
              "      <td>2.17262</td>\n",
              "      <td>Entire home/apt</td>\n",
              "      <td>232.0</td>\n",
              "      <td>1</td>\n",
              "      <td>48</td>\n",
              "      <td>2025-06-11</td>\n",
              "      <td>0.33</td>\n",
              "      <td>28</td>\n",
              "      <td>65</td>\n",
              "      <td>6</td>\n",
              "      <td>HUTB-002062</td>\n",
              "    </tr>\n",
              "    <tr>\n",
              "      <th>1</th>\n",
              "      <td>23197</td>\n",
              "      <td>Forum CCIB DeLuxe, Spacious, Large Balcony, relax</td>\n",
              "      <td>90417</td>\n",
              "      <td>Etain (Marnie)</td>\n",
              "      <td>Sant Martí</td>\n",
              "      <td>el Besòs i el Maresme</td>\n",
              "      <td>41.412432</td>\n",
              "      <td>2.21975</td>\n",
              "      <td>Entire home/apt</td>\n",
              "      <td>382.0</td>\n",
              "      <td>3</td>\n",
              "      <td>88</td>\n",
              "      <td>2025-05-31</td>\n",
              "      <td>0.51</td>\n",
              "      <td>1</td>\n",
              "      <td>174</td>\n",
              "      <td>10</td>\n",
              "      <td>HUTB005057</td>\n",
              "    </tr>\n",
              "    <tr>\n",
              "      <th>2</th>\n",
              "      <td>32711</td>\n",
              "      <td>Sagrada Familia area - Còrsega 1</td>\n",
              "      <td>135703</td>\n",
              "      <td>Nick</td>\n",
              "      <td>Gràcia</td>\n",
              "      <td>el Camp d'en Grassot i Gràcia Nova</td>\n",
              "      <td>41.405660</td>\n",
              "      <td>2.17015</td>\n",
              "      <td>Entire home/apt</td>\n",
              "      <td>186.0</td>\n",
              "      <td>1</td>\n",
              "      <td>147</td>\n",
              "      <td>2025-05-14</td>\n",
              "      <td>0.87</td>\n",
              "      <td>3</td>\n",
              "      <td>39</td>\n",
              "      <td>26</td>\n",
              "      <td>HUTB-001722</td>\n",
              "    </tr>\n",
              "    <tr>\n",
              "      <th>3</th>\n",
              "      <td>34241</td>\n",
              "      <td>Stylish Top Floor Apartment - Ramblas Plaza Real</td>\n",
              "      <td>73163</td>\n",
              "      <td>Andres</td>\n",
              "      <td>Ciutat Vella</td>\n",
              "      <td>el Barri Gòtic</td>\n",
              "      <td>41.380620</td>\n",
              "      <td>2.17517</td>\n",
              "      <td>Entire home/apt</td>\n",
              "      <td>131.0</td>\n",
              "      <td>31</td>\n",
              "      <td>25</td>\n",
              "      <td>2024-11-05</td>\n",
              "      <td>0.14</td>\n",
              "      <td>3</td>\n",
              "      <td>333</td>\n",
              "      <td>9</td>\n",
              "      <td>Exempt</td>\n",
              "    </tr>\n",
              "    <tr>\n",
              "      <th>4</th>\n",
              "      <td>34981</td>\n",
              "      <td>VIDRE HOME PLAZA REAL on LAS RAMBLAS</td>\n",
              "      <td>73163</td>\n",
              "      <td>Andres</td>\n",
              "      <td>Ciutat Vella</td>\n",
              "      <td>el Barri Gòtic</td>\n",
              "      <td>41.379780</td>\n",
              "      <td>2.17623</td>\n",
              "      <td>Entire home/apt</td>\n",
              "      <td>449.0</td>\n",
              "      <td>5</td>\n",
              "      <td>267</td>\n",
              "      <td>2025-06-17</td>\n",
              "      <td>1.49</td>\n",
              "      <td>3</td>\n",
              "      <td>315</td>\n",
              "      <td>31</td>\n",
              "      <td>ESFCTU000008119000093652000000000000000HUTB-00...</td>\n",
              "    </tr>\n",
              "  </tbody>\n",
              "</table>\n",
              "</div>\n",
              "    <div class=\"colab-df-buttons\">\n",
              "\n",
              "  <div class=\"colab-df-container\">\n",
              "    <button class=\"colab-df-convert\" onclick=\"convertToInteractive('df-450a9bae-e7fd-4a6a-b8e0-1b7e727fcf6a')\"\n",
              "            title=\"Convert this dataframe to an interactive table.\"\n",
              "            style=\"display:none;\">\n",
              "\n",
              "  <svg xmlns=\"http://www.w3.org/2000/svg\" height=\"24px\" viewBox=\"0 -960 960 960\">\n",
              "    <path d=\"M120-120v-720h720v720H120Zm60-500h600v-160H180v160Zm220 220h160v-160H400v160Zm0 220h160v-160H400v160ZM180-400h160v-160H180v160Zm440 0h160v-160H620v160ZM180-180h160v-160H180v160Zm440 0h160v-160H620v160Z\"/>\n",
              "  </svg>\n",
              "    </button>\n",
              "\n",
              "  <style>\n",
              "    .colab-df-container {\n",
              "      display:flex;\n",
              "      gap: 12px;\n",
              "    }\n",
              "\n",
              "    .colab-df-convert {\n",
              "      background-color: #E8F0FE;\n",
              "      border: none;\n",
              "      border-radius: 50%;\n",
              "      cursor: pointer;\n",
              "      display: none;\n",
              "      fill: #1967D2;\n",
              "      height: 32px;\n",
              "      padding: 0 0 0 0;\n",
              "      width: 32px;\n",
              "    }\n",
              "\n",
              "    .colab-df-convert:hover {\n",
              "      background-color: #E2EBFA;\n",
              "      box-shadow: 0px 1px 2px rgba(60, 64, 67, 0.3), 0px 1px 3px 1px rgba(60, 64, 67, 0.15);\n",
              "      fill: #174EA6;\n",
              "    }\n",
              "\n",
              "    .colab-df-buttons div {\n",
              "      margin-bottom: 4px;\n",
              "    }\n",
              "\n",
              "    [theme=dark] .colab-df-convert {\n",
              "      background-color: #3B4455;\n",
              "      fill: #D2E3FC;\n",
              "    }\n",
              "\n",
              "    [theme=dark] .colab-df-convert:hover {\n",
              "      background-color: #434B5C;\n",
              "      box-shadow: 0px 1px 3px 1px rgba(0, 0, 0, 0.15);\n",
              "      filter: drop-shadow(0px 1px 2px rgba(0, 0, 0, 0.3));\n",
              "      fill: #FFFFFF;\n",
              "    }\n",
              "  </style>\n",
              "\n",
              "    <script>\n",
              "      const buttonEl =\n",
              "        document.querySelector('#df-450a9bae-e7fd-4a6a-b8e0-1b7e727fcf6a button.colab-df-convert');\n",
              "      buttonEl.style.display =\n",
              "        google.colab.kernel.accessAllowed ? 'block' : 'none';\n",
              "\n",
              "      async function convertToInteractive(key) {\n",
              "        const element = document.querySelector('#df-450a9bae-e7fd-4a6a-b8e0-1b7e727fcf6a');\n",
              "        const dataTable =\n",
              "          await google.colab.kernel.invokeFunction('convertToInteractive',\n",
              "                                                    [key], {});\n",
              "        if (!dataTable) return;\n",
              "\n",
              "        const docLinkHtml = 'Like what you see? Visit the ' +\n",
              "          '<a target=\"_blank\" href=https://colab.research.google.com/notebooks/data_table.ipynb>data table notebook</a>'\n",
              "          + ' to learn more about interactive tables.';\n",
              "        element.innerHTML = '';\n",
              "        dataTable['output_type'] = 'display_data';\n",
              "        await google.colab.output.renderOutput(dataTable, element);\n",
              "        const docLink = document.createElement('div');\n",
              "        docLink.innerHTML = docLinkHtml;\n",
              "        element.appendChild(docLink);\n",
              "      }\n",
              "    </script>\n",
              "  </div>\n",
              "\n",
              "\n",
              "    <div id=\"df-d3537c12-abe0-4cc2-bea9-3060406fbeb1\">\n",
              "      <button class=\"colab-df-quickchart\" onclick=\"quickchart('df-d3537c12-abe0-4cc2-bea9-3060406fbeb1')\"\n",
              "                title=\"Suggest charts\"\n",
              "                style=\"display:none;\">\n",
              "\n",
              "<svg xmlns=\"http://www.w3.org/2000/svg\" height=\"24px\"viewBox=\"0 0 24 24\"\n",
              "     width=\"24px\">\n",
              "    <g>\n",
              "        <path d=\"M19 3H5c-1.1 0-2 .9-2 2v14c0 1.1.9 2 2 2h14c1.1 0 2-.9 2-2V5c0-1.1-.9-2-2-2zM9 17H7v-7h2v7zm4 0h-2V7h2v10zm4 0h-2v-4h2v4z\"/>\n",
              "    </g>\n",
              "</svg>\n",
              "      </button>\n",
              "\n",
              "<style>\n",
              "  .colab-df-quickchart {\n",
              "      --bg-color: #E8F0FE;\n",
              "      --fill-color: #1967D2;\n",
              "      --hover-bg-color: #E2EBFA;\n",
              "      --hover-fill-color: #174EA6;\n",
              "      --disabled-fill-color: #AAA;\n",
              "      --disabled-bg-color: #DDD;\n",
              "  }\n",
              "\n",
              "  [theme=dark] .colab-df-quickchart {\n",
              "      --bg-color: #3B4455;\n",
              "      --fill-color: #D2E3FC;\n",
              "      --hover-bg-color: #434B5C;\n",
              "      --hover-fill-color: #FFFFFF;\n",
              "      --disabled-bg-color: #3B4455;\n",
              "      --disabled-fill-color: #666;\n",
              "  }\n",
              "\n",
              "  .colab-df-quickchart {\n",
              "    background-color: var(--bg-color);\n",
              "    border: none;\n",
              "    border-radius: 50%;\n",
              "    cursor: pointer;\n",
              "    display: none;\n",
              "    fill: var(--fill-color);\n",
              "    height: 32px;\n",
              "    padding: 0;\n",
              "    width: 32px;\n",
              "  }\n",
              "\n",
              "  .colab-df-quickchart:hover {\n",
              "    background-color: var(--hover-bg-color);\n",
              "    box-shadow: 0 1px 2px rgba(60, 64, 67, 0.3), 0 1px 3px 1px rgba(60, 64, 67, 0.15);\n",
              "    fill: var(--button-hover-fill-color);\n",
              "  }\n",
              "\n",
              "  .colab-df-quickchart-complete:disabled,\n",
              "  .colab-df-quickchart-complete:disabled:hover {\n",
              "    background-color: var(--disabled-bg-color);\n",
              "    fill: var(--disabled-fill-color);\n",
              "    box-shadow: none;\n",
              "  }\n",
              "\n",
              "  .colab-df-spinner {\n",
              "    border: 2px solid var(--fill-color);\n",
              "    border-color: transparent;\n",
              "    border-bottom-color: var(--fill-color);\n",
              "    animation:\n",
              "      spin 1s steps(1) infinite;\n",
              "  }\n",
              "\n",
              "  @keyframes spin {\n",
              "    0% {\n",
              "      border-color: transparent;\n",
              "      border-bottom-color: var(--fill-color);\n",
              "      border-left-color: var(--fill-color);\n",
              "    }\n",
              "    20% {\n",
              "      border-color: transparent;\n",
              "      border-left-color: var(--fill-color);\n",
              "      border-top-color: var(--fill-color);\n",
              "    }\n",
              "    30% {\n",
              "      border-color: transparent;\n",
              "      border-left-color: var(--fill-color);\n",
              "      border-top-color: var(--fill-color);\n",
              "      border-right-color: var(--fill-color);\n",
              "    }\n",
              "    40% {\n",
              "      border-color: transparent;\n",
              "      border-right-color: var(--fill-color);\n",
              "      border-top-color: var(--fill-color);\n",
              "    }\n",
              "    60% {\n",
              "      border-color: transparent;\n",
              "      border-right-color: var(--fill-color);\n",
              "    }\n",
              "    80% {\n",
              "      border-color: transparent;\n",
              "      border-right-color: var(--fill-color);\n",
              "      border-bottom-color: var(--fill-color);\n",
              "    }\n",
              "    90% {\n",
              "      border-color: transparent;\n",
              "      border-bottom-color: var(--fill-color);\n",
              "    }\n",
              "  }\n",
              "</style>\n",
              "\n",
              "      <script>\n",
              "        async function quickchart(key) {\n",
              "          const quickchartButtonEl =\n",
              "            document.querySelector('#' + key + ' button');\n",
              "          quickchartButtonEl.disabled = true;  // To prevent multiple clicks.\n",
              "          quickchartButtonEl.classList.add('colab-df-spinner');\n",
              "          try {\n",
              "            const charts = await google.colab.kernel.invokeFunction(\n",
              "                'suggestCharts', [key], {});\n",
              "          } catch (error) {\n",
              "            console.error('Error during call to suggestCharts:', error);\n",
              "          }\n",
              "          quickchartButtonEl.classList.remove('colab-df-spinner');\n",
              "          quickchartButtonEl.classList.add('colab-df-quickchart-complete');\n",
              "        }\n",
              "        (() => {\n",
              "          let quickchartButtonEl =\n",
              "            document.querySelector('#df-d3537c12-abe0-4cc2-bea9-3060406fbeb1 button');\n",
              "          quickchartButtonEl.style.display =\n",
              "            google.colab.kernel.accessAllowed ? 'block' : 'none';\n",
              "        })();\n",
              "      </script>\n",
              "    </div>\n",
              "\n",
              "    </div>\n",
              "  </div>\n"
            ],
            "application/vnd.google.colaboratory.intrinsic+json": {
              "type": "dataframe",
              "variable_name": "df",
              "summary": "{\n  \"name\": \"df\",\n  \"rows\": 18927,\n  \"fields\": [\n    {\n      \"column\": \"id\",\n      \"properties\": {\n        \"dtype\": \"number\",\n        \"std\": 558668487451023680,\n        \"min\": 18674,\n        \"max\": 1440886957702009698,\n        \"num_unique_values\": 18927,\n        \"samples\": [\n          7711359,\n          40694534,\n          873694155571844421\n        ],\n        \"semantic_type\": \"\",\n        \"description\": \"\"\n      }\n    },\n    {\n      \"column\": \"name\",\n      \"properties\": {\n        \"dtype\": \"string\",\n        \"num_unique_values\": 18165,\n        \"samples\": [\n          \"Poblenou Beachside: Pool, Gym & Sea View Rooftop\",\n          \"Amazing close to the beach\",\n          \"Central BCN bed&coffee: Near Fun, good vives\"\n        ],\n        \"semantic_type\": \"\",\n        \"description\": \"\"\n      }\n    },\n    {\n      \"column\": \"host_id\",\n      \"properties\": {\n        \"dtype\": \"number\",\n        \"std\": 202774255,\n        \"min\": 3073,\n        \"max\": 700703019,\n        \"num_unique_values\": 6637,\n        \"samples\": [\n          105612948,\n          480555330,\n          45260083\n        ],\n        \"semantic_type\": \"\",\n        \"description\": \"\"\n      }\n    },\n    {\n      \"column\": \"host_name\",\n      \"properties\": {\n        \"dtype\": \"category\",\n        \"num_unique_values\": 3212,\n        \"samples\": [\n          \"Alvaro\",\n          \"Olivia Rose\",\n          \"Tingping\"\n        ],\n        \"semantic_type\": \"\",\n        \"description\": \"\"\n      }\n    },\n    {\n      \"column\": \"neighbourhood_group\",\n      \"properties\": {\n        \"dtype\": \"category\",\n        \"num_unique_values\": 10,\n        \"samples\": [\n          \"Sarri\\u00e0-Sant Gervasi\",\n          \"Sant Mart\\u00ed\",\n          \"Les Corts\"\n        ],\n        \"semantic_type\": \"\",\n        \"description\": \"\"\n      }\n    },\n    {\n      \"column\": \"neighbourhood\",\n      \"properties\": {\n        \"dtype\": \"category\",\n        \"num_unique_values\": 70,\n        \"samples\": [\n          \"la Nova Esquerra de l'Eixample\",\n          \"la Sagrada Fam\\u00edlia\",\n          \"la Marina del Prat Vermell\"\n        ],\n        \"semantic_type\": \"\",\n        \"description\": \"\"\n      }\n    },\n    {\n      \"column\": \"latitude\",\n      \"properties\": {\n        \"dtype\": \"number\",\n        \"std\": 0.01405775035056869,\n        \"min\": 41.33531017971992,\n        \"max\": 41.4563771,\n        \"num_unique_values\": 10511,\n        \"samples\": [\n          41.39036,\n          41.37110084211314,\n          41.39358\n        ],\n        \"semantic_type\": \"\",\n        \"description\": \"\"\n      }\n    },\n    {\n      \"column\": \"longitude\",\n      \"properties\": {\n        \"dtype\": \"number\",\n        \"std\": 0.017843043798801316,\n        \"min\": 2.0855932,\n        \"max\": 2.22183,\n        \"num_unique_values\": 11323,\n        \"samples\": [\n          2.15317,\n          2.17576,\n          2.1907140508437686\n        ],\n        \"semantic_type\": \"\",\n        \"description\": \"\"\n      }\n    },\n    {\n      \"column\": \"room_type\",\n      \"properties\": {\n        \"dtype\": \"category\",\n        \"num_unique_values\": 4,\n        \"samples\": [\n          \"Private room\",\n          \"Shared room\",\n          \"Entire home/apt\"\n        ],\n        \"semantic_type\": \"\",\n        \"description\": \"\"\n      }\n    },\n    {\n      \"column\": \"price\",\n      \"properties\": {\n        \"dtype\": \"number\",\n        \"std\": 385.4025913778931,\n        \"min\": 9.0,\n        \"max\": 10000.0,\n        \"num_unique_values\": 891,\n        \"samples\": [\n          635.0,\n          731.0,\n          1367.0\n        ],\n        \"semantic_type\": \"\",\n        \"description\": \"\"\n      }\n    },\n    {\n      \"column\": \"minimum_nights\",\n      \"properties\": {\n        \"dtype\": \"number\",\n        \"std\": 29,\n        \"min\": 1,\n        \"max\": 1124,\n        \"num_unique_values\": 78,\n        \"samples\": [\n          730,\n          1,\n          75\n        ],\n        \"semantic_type\": \"\",\n        \"description\": \"\"\n      }\n    },\n    {\n      \"column\": \"number_of_reviews\",\n      \"properties\": {\n        \"dtype\": \"number\",\n        \"std\": 105,\n        \"min\": 0,\n        \"max\": 1624,\n        \"num_unique_values\": 631,\n        \"samples\": [\n          399,\n          40,\n          360\n        ],\n        \"semantic_type\": \"\",\n        \"description\": \"\"\n      }\n    },\n    {\n      \"column\": \"last_review\",\n      \"properties\": {\n        \"dtype\": \"object\",\n        \"num_unique_values\": 1828,\n        \"samples\": [\n          \"2024-09-30\",\n          \"2019-11-10\",\n          \"2022-01-14\"\n        ],\n        \"semantic_type\": \"\",\n        \"description\": \"\"\n      }\n    },\n    {\n      \"column\": \"reviews_per_month\",\n      \"properties\": {\n        \"dtype\": \"number\",\n        \"std\": 2.1174808223432007,\n        \"min\": 0.01,\n        \"max\": 74.79,\n        \"num_unique_values\": 831,\n        \"samples\": [\n          5.14,\n          74.79,\n          2.44\n        ],\n        \"semantic_type\": \"\",\n        \"description\": \"\"\n      }\n    },\n    {\n      \"column\": \"calculated_host_listings_count\",\n      \"properties\": {\n        \"dtype\": \"number\",\n        \"std\": 118,\n        \"min\": 1,\n        \"max\": 522,\n        \"num_unique_values\": 72,\n        \"samples\": [\n          2,\n          74,\n          5\n        ],\n        \"semantic_type\": \"\",\n        \"description\": \"\"\n      }\n    },\n    {\n      \"column\": \"availability_365\",\n      \"properties\": {\n        \"dtype\": \"number\",\n        \"std\": 125,\n        \"min\": 0,\n        \"max\": 365,\n        \"num_unique_values\": 366,\n        \"samples\": [\n          226,\n          220,\n          176\n        ],\n        \"semantic_type\": \"\",\n        \"description\": \"\"\n      }\n    },\n    {\n      \"column\": \"number_of_reviews_ltm\",\n      \"properties\": {\n        \"dtype\": \"number\",\n        \"std\": 22,\n        \"min\": 0,\n        \"max\": 753,\n        \"num_unique_values\": 182,\n        \"samples\": [\n          52,\n          50,\n          226\n        ],\n        \"semantic_type\": \"\",\n        \"description\": \"\"\n      }\n    },\n    {\n      \"column\": \"license\",\n      \"properties\": {\n        \"dtype\": \"category\",\n        \"num_unique_values\": 6111,\n        \"samples\": [\n          \"HUTB-004524\",\n          \"ESFCTU00000806500014270100000000000000000HUTB-0143659\",\n          \"HUTB-836482\"\n        ],\n        \"semantic_type\": \"\",\n        \"description\": \"\"\n      }\n    }\n  ]\n}"
            }
          },
          "metadata": {},
          "execution_count": 2
        }
      ],
      "source": [
        "# Cargar dataset desde Inside Airbnb\n",
        "url = 'https://data.insideairbnb.com/spain/catalonia/barcelona/2025-06-12/visualisations/listings.csv'\n",
        "df = pd.read_csv(url)\n",
        "df.head()"
      ]
    },
    {
      "cell_type": "markdown",
      "id": "783597b4",
      "metadata": {
        "id": "783597b4"
      },
      "source": [
        "### 1. Selección de variables y tratamiento de nulos"
      ]
    },
    {
      "cell_type": "code",
      "execution_count": null,
      "id": "d9722a26",
      "metadata": {
        "id": "d9722a26"
      },
      "outputs": [],
      "source": [
        "# Seleccionamos algunas variables numéricas y categóricas comunes\n",
        "vars_numericas = df.select_dtypes(include= ['int']).columns\n",
        "vars_categoricas = df.select_dtypes(include=['object']).columns"
      ]
    },
    {
      "cell_type": "code",
      "execution_count": null,
      "id": "6786b4ba",
      "metadata": {
        "id": "6786b4ba"
      },
      "outputs": [],
      "source": [
        "# TODO: Revisa los nombres reales de las columnas categóricas si dan error y ajusta la lista\n",
        "# df.columns  # para inspeccionar las columnas\n",
        "# TODO"
      ]
    },
    {
      "cell_type": "code",
      "execution_count": null,
      "id": "dbcd8dc7",
      "metadata": {
        "id": "dbcd8dc7"
      },
      "outputs": [],
      "source": [
        "# TODO: Verifica los valores nulos en las variables seleccionadas y realiza imputaciones si es necesario\n",
        "# Usa fillna con la mediana para numéricas y la moda para categóricas\n",
        "# TODO"
      ]
    },
    {
      "cell_type": "markdown",
      "id": "22218301",
      "metadata": {
        "id": "22218301"
      },
      "source": [
        "### 2. Min-Max Scaling"
      ]
    },
    {
      "cell_type": "code",
      "execution_count": null,
      "id": "90273d1a",
      "metadata": {
        "id": "90273d1a"
      },
      "outputs": [],
      "source": [
        "# Ya aplicado para ti en una variable\n",
        "scaler = MinMaxScaler()\n",
        "df_scaled = df.copy()\n",
        "df_scaled['price'] = scaler.fit_transform(df[['price']])"
      ]
    },
    {
      "cell_type": "code",
      "execution_count": null,
      "id": "aeee404b",
      "metadata": {
        "id": "aeee404b"
      },
      "outputs": [],
      "source": [
        "# TODO: Aplica también Min-Max Scaling a las columnas 'minimum_nights' y 'availability_365'\n",
        "# TODO"
      ]
    },
    {
      "cell_type": "markdown",
      "id": "55ce5165",
      "metadata": {
        "id": "55ce5165"
      },
      "source": [
        "### 3. StandardScaler"
      ]
    },
    {
      "cell_type": "code",
      "execution_count": null,
      "id": "dbcf1355",
      "metadata": {
        "id": "dbcf1355"
      },
      "outputs": [],
      "source": [
        "# TODO: Crea una nueva copia del dataframe y aplica StandardScaler a tres columnas numéricas\n",
        "# Puedes usar df_std como nuevo nombre\n",
        "# TODO"
      ]
    },
    {
      "cell_type": "markdown",
      "id": "f071edbd",
      "metadata": {
        "id": "f071edbd"
      },
      "source": [
        "### 4. Label Encoding"
      ]
    },
    {
      "cell_type": "code",
      "execution_count": null,
      "id": "a87d72d6",
      "metadata": {
        "id": "a87d72d6"
      },
      "outputs": [],
      "source": [
        "# TODO: Aplica LabelEncoder sobre la variable 'room_type'\n",
        "# Guarda la nueva columna como room_type_encoded\n",
        "# TODO"
      ]
    },
    {
      "cell_type": "markdown",
      "id": "e037f113",
      "metadata": {
        "id": "e037f113"
      },
      "source": [
        "### 5. One-Hot Encoding"
      ]
    },
    {
      "cell_type": "code",
      "execution_count": null,
      "id": "95c2b6c5",
      "metadata": {
        "id": "95c2b6c5"
      },
      "outputs": [],
      "source": [
        "# TODO: Aplica One-Hot Encoding sobre la columna 'neighbourhood_group_cleansed' (solo las primeras 1000 filas)\n",
        "# Usa drop_first=True para evitar multicolinealidad\n",
        "# TODO"
      ]
    },
    {
      "cell_type": "markdown",
      "id": "73c4c972",
      "metadata": {
        "id": "73c4c972"
      },
      "source": [
        "### Conclusión\n",
        "Has aplicado transformaciones numéricas y categóricas sobre un dataset real.\n",
        "Reflexiona sobre qué técnicas te parecen más útiles y cuándo preferirías una sobre otra."
      ]
    }
  ],
  "metadata": {
    "colab": {
      "provenance": [],
      "include_colab_link": true
    },
    "language_info": {
      "name": "python"
    },
    "kernelspec": {
      "name": "python3",
      "display_name": "Python 3"
    }
  },
  "nbformat": 4,
  "nbformat_minor": 5
}
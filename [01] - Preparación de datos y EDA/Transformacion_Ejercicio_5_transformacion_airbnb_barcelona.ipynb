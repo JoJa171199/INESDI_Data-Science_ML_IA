{
  "cells": [
    {
      "cell_type": "markdown",
      "metadata": {
        "id": "view-in-github",
        "colab_type": "text"
      },
      "source": [
        "<a href=\"https://colab.research.google.com/github/dtoralg/INESDI_Data-Science_ML_IA/blob/main/%5B01%5D%20-%20Preparaci%C3%B3n%20de%20datos%20y%20EDA/Transformacion_Ejercicio_5_transformacion_airbnb_barcelona.ipynb\" target=\"_parent\"><img src=\"https://colab.research.google.com/assets/colab-badge.svg\" alt=\"Open In Colab\"/></a>"
      ]
    },
    {
      "cell_type": "markdown",
      "id": "c59f0a5a",
      "metadata": {
        "id": "c59f0a5a"
      },
      "source": [
        "## Transformación - Ejercicio 5: transformacion_airbnb_barcelona.ipynb\n",
        "\n",
        "En este ejercicio aplicarás transformaciones básicas sobre un dataset real de Airbnb en Barcelona. Algunas transformaciones ya están hechas y otras deberás completarlas tú.\n",
        "\n",
        "Seguiremos el flujo aprendido: tratamiento de nulos, escalado de variables numéricas y codificación de categóricas."
      ]
    },
    {
      "cell_type": "markdown",
      "id": "5bb0e8f6",
      "metadata": {
        "id": "5bb0e8f6"
      },
      "source": [
        "### Objetivos\n",
        "- Aplicar MinMaxScaler y StandardScaler sobre variables numéricas seleccionadas.\n",
        "- Codificar variables categóricas mediante Label Encoding y One-Hot Encoding.\n",
        "- Comprender qué tipo de transformación aplicar en cada caso."
      ]
    },
    {
      "cell_type": "markdown",
      "id": "1a4943e3",
      "metadata": {
        "id": "1a4943e3"
      },
      "source": [
        "### Descripción del dataset\n",
        "El dataset se ha obtenido de Inside Airbnb y contiene información de alojamientos en Barcelona a fecha de agosto 2024.\n",
        "\n",
        "Fuente: [Inside Airbnb Barcelona](https://data.insideairbnb.com/spain/catalonia/barcelona/2025-06-12/visualisations/listings.csv)\n",
        "\n",
        "Como Inside Airbnb cambia el enlace con cada nueva release, puede que sea necesario actualizarlo buscandolo en [Inside Airbnb](https://insideairbnb.com/get-the-data/)"
      ]
    },
    {
      "cell_type": "code",
      "execution_count": null,
      "id": "c5d3b7f5",
      "metadata": {
        "id": "c5d3b7f5"
      },
      "outputs": [],
      "source": [
        "# Importación de librerías\n",
        "import pandas as pd\n",
        "import matplotlib.pyplot as plt\n",
        "import seaborn as sns\n",
        "from sklearn.preprocessing import MinMaxScaler, StandardScaler, LabelEncoder\n",
        "sns.set(style='whitegrid')"
      ]
    },
    {
      "cell_type": "code",
      "execution_count": null,
      "id": "d49c7cc3",
      "metadata": {
        "id": "d49c7cc3"
      },
      "outputs": [],
      "source": [
        "# Cargar dataset desde Inside Airbnb\n",
        "url = 'https://data.insideairbnb.com/spain/catalonia/barcelona/2025-06-12/visualisations/listings.csv'\n",
        "df = pd.read_csv(url)\n",
        "df.head()"
      ]
    },
    {
      "cell_type": "markdown",
      "id": "783597b4",
      "metadata": {
        "id": "783597b4"
      },
      "source": [
        "### 1. Selección de variables y tratamiento de nulos"
      ]
    },
    {
      "cell_type": "code",
      "execution_count": null,
      "id": "d9722a26",
      "metadata": {
        "id": "d9722a26"
      },
      "outputs": [],
      "source": [
        "# Seleccionamos algunas variables numéricas y categóricas comunes\n",
        "vars_numericas = df.select_dtypes(include= ['int']).columns\n",
        "vars_categoricas = df.select_dtypes(include=['object']).columns"
      ]
    },
    {
      "cell_type": "code",
      "execution_count": null,
      "id": "6786b4ba",
      "metadata": {
        "id": "6786b4ba"
      },
      "outputs": [],
      "source": [
        "# TODO: Revisa los nombres reales de las columnas categóricas si dan error y ajusta la lista\n",
        "# df.columns  # para inspeccionar las columnas\n",
        "# TODO"
      ]
    },
    {
      "cell_type": "code",
      "execution_count": null,
      "id": "dbcd8dc7",
      "metadata": {
        "id": "dbcd8dc7"
      },
      "outputs": [],
      "source": [
        "# TODO: Verifica los valores nulos en las variables seleccionadas y realiza imputaciones si es necesario\n",
        "# Usa fillna con la mediana para numéricas y la moda para categóricas\n",
        "# TODO"
      ]
    },
    {
      "cell_type": "markdown",
      "id": "22218301",
      "metadata": {
        "id": "22218301"
      },
      "source": [
        "### 2. Min-Max Scaling"
      ]
    },
    {
      "cell_type": "code",
      "execution_count": null,
      "id": "90273d1a",
      "metadata": {
        "id": "90273d1a"
      },
      "outputs": [],
      "source": [
        "# Ya aplicado para ti en una variable\n",
        "scaler = MinMaxScaler()\n",
        "df_scaled = df.copy()\n",
        "df_scaled['price'] = scaler.fit_transform(df[['price']])"
      ]
    },
    {
      "cell_type": "code",
      "execution_count": null,
      "id": "aeee404b",
      "metadata": {
        "id": "aeee404b"
      },
      "outputs": [],
      "source": [
        "# TODO: Aplica también Min-Max Scaling a las columnas 'minimum_nights' y 'availability_365'\n",
        "# TODO"
      ]
    },
    {
      "cell_type": "markdown",
      "id": "55ce5165",
      "metadata": {
        "id": "55ce5165"
      },
      "source": [
        "### 3. StandardScaler"
      ]
    },
    {
      "cell_type": "code",
      "execution_count": null,
      "id": "dbcf1355",
      "metadata": {
        "id": "dbcf1355"
      },
      "outputs": [],
      "source": [
        "# TODO: Crea una nueva copia del dataframe y aplica StandardScaler a tres columnas numéricas\n",
        "# Puedes usar df_std como nuevo nombre\n",
        "# TODO"
      ]
    },
    {
      "cell_type": "markdown",
      "id": "f071edbd",
      "metadata": {
        "id": "f071edbd"
      },
      "source": [
        "### 4. Label Encoding"
      ]
    },
    {
      "cell_type": "code",
      "execution_count": null,
      "id": "a87d72d6",
      "metadata": {
        "id": "a87d72d6"
      },
      "outputs": [],
      "source": [
        "# TODO: Aplica LabelEncoder sobre la variable 'room_type'\n",
        "# Guarda la nueva columna como room_type_encoded\n",
        "# TODO"
      ]
    },
    {
      "cell_type": "markdown",
      "id": "e037f113",
      "metadata": {
        "id": "e037f113"
      },
      "source": [
        "### 5. One-Hot Encoding"
      ]
    },
    {
      "cell_type": "code",
      "execution_count": null,
      "id": "95c2b6c5",
      "metadata": {
        "id": "95c2b6c5"
      },
      "outputs": [],
      "source": [
        "# TODO: Aplica One-Hot Encoding sobre la columna 'neighbourhood_group_cleansed' (solo las primeras 1000 filas)\n",
        "# Usa drop_first=True para evitar multicolinealidad\n",
        "# TODO"
      ]
    },
    {
      "cell_type": "markdown",
      "id": "73c4c972",
      "metadata": {
        "id": "73c4c972"
      },
      "source": [
        "### Conclusión\n",
        "Has aplicado transformaciones numéricas y categóricas sobre un dataset real.\n",
        "Reflexiona sobre qué técnicas te parecen más útiles y cuándo preferirías una sobre otra."
      ]
    }
  ],
  "metadata": {
    "colab": {
      "provenance": [],
      "include_colab_link": true
    },
    "language_info": {
      "name": "python"
    },
    "kernelspec": {
      "name": "python3",
      "display_name": "Python 3"
    }
  },
  "nbformat": 4,
  "nbformat_minor": 5
}
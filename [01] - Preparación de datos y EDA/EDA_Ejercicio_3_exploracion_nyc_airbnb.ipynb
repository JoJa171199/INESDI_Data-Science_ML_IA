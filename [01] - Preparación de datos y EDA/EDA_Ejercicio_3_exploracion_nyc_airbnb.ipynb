{
  "cells": [
    {
      "cell_type": "markdown",
      "metadata": {
        "id": "view-in-github",
        "colab_type": "text"
      },
      "source": [
        "<a href=\"https://colab.research.google.com/github/dtoralg/INESDI_Data-Science_ML_IA/blob/main/%5B01%5D%20-%20Preparaci%C3%B3n%20de%20datos%20y%20EDA/EDA_Ejercicio_3_exploracion_nyc_airbnb.ipynb\" target=\"_parent\"><img src=\"https://colab.research.google.com/assets/colab-badge.svg\" alt=\"Open In Colab\"/></a>"
      ]
    },
    {
      "cell_type": "markdown",
      "id": "225421b4",
      "metadata": {
        "id": "225421b4"
      },
      "source": [
        "## EDA - Ejercicio 3: exploracion_nyc_airbnb.ipynb\n",
        "\n",
        "En este ejercicio realizarás de forma autónoma un análisis exploratorio del dataset de alojamientos de Airbnb en Nueva York.\n",
        "Aplicarás todas las técnicas vistas en los ejercicios anteriores (tipos de variables, nulos, outliers, correlaciones y visualización).\n",
        "\n",
        "**Este ejercicio está pensado para que tú lo resuelvas completamente.**"
      ]
    },
    {
      "cell_type": "markdown",
      "id": "7e4b2967",
      "metadata": {
        "id": "7e4b2967"
      },
      "source": [
        "### Objetivos\n",
        "- Aplicar de forma autónoma las técnicas básicas de EDA.\n",
        "- Detectar problemas de calidad de datos y patrones relevantes.\n",
        "- Usar visualizaciones para respaldar observaciones."
      ]
    },
    {
      "cell_type": "markdown",
      "id": "322d1b5f",
      "metadata": {
        "id": "322d1b5f"
      },
      "source": [
        "### Descripción del dataset\n",
        "Usaremos el dataset público de Inside Airbnb con los anuncios activos en Nueva York a fecha de agosto de 2024.\n",
        "Incluye información de precio, ubicación, tipo de habitación, noches mínimas, disponibilidad y valoraciones.\n",
        "\n",
        "Fuente: [Inside Airbnb - NYC listings](https://data.insideairbnb.com/united-states/ny/new-york-city/2025-08-01/visualisations/listings.csv)\n",
        "\n",
        "Como Inside Airbnb cambia el enlace con cada nueva release, puede que sea necesario actualizarlo buscandolo en [Inside Airbnb](https://insideairbnb.com/get-the-data/)"
      ]
    },
    {
      "cell_type": "code",
      "execution_count": 2,
      "id": "7268227e",
      "metadata": {
        "id": "7268227e"
      },
      "outputs": [],
      "source": [
        "# Importar librerías necesarias\n",
        "import pandas as pd\n",
        "import matplotlib.pyplot as plt\n",
        "import seaborn as sns\n",
        "sns.set(style='whitegrid')"
      ]
    },
    {
      "cell_type": "code",
      "execution_count": 3,
      "id": "9f3a921b",
      "metadata": {
        "colab": {
          "base_uri": "https://localhost:8080/",
          "height": 573
        },
        "id": "9f3a921b",
        "outputId": "82c4ae2c-60e7-4f2c-f1f5-4d7c2ee77e2e"
      },
      "outputs": [
        {
          "output_type": "execute_result",
          "data": {
            "text/plain": [
              "     id                                               name  host_id  \\\n",
              "0  2539   Superfast Wi-Fi.  Clean & quiet home by the park     2787   \n",
              "1  2595            Skylit Studio Oasis | Midtown Manhattan     2845   \n",
              "2  6848                   Only 2 stops to Manhattan studio    15991   \n",
              "3  6872  Uptown Sanctuary w/ Private Bath (Month to Month)    16104   \n",
              "4  6990                            UES Beautiful Blue Room    16800   \n",
              "\n",
              "   host_name neighbourhood_group neighbourhood  latitude  longitude  \\\n",
              "0       John            Brooklyn    Kensington  40.64529  -73.97238   \n",
              "1   Jennifer           Manhattan       Midtown  40.75356  -73.98559   \n",
              "2      Allen            Brooklyn  Williamsburg  40.70935  -73.95342   \n",
              "3  Kahshanna           Manhattan   East Harlem  40.80107  -73.94255   \n",
              "4    Cynthia           Manhattan   East Harlem  40.78778  -73.94759   \n",
              "\n",
              "         room_type  price  minimum_nights  number_of_reviews last_review  \\\n",
              "0     Private room  260.0              30                  9  2018-10-19   \n",
              "1  Entire home/apt  240.0              30                 47  2022-06-21   \n",
              "2  Entire home/apt   98.0              30                195  2025-06-09   \n",
              "3     Private room    NaN              30                  1  2022-06-05   \n",
              "4     Private room   74.0              30                249  2025-05-27   \n",
              "\n",
              "   reviews_per_month  calculated_host_listings_count  availability_365  \\\n",
              "0               0.08                               6               365   \n",
              "1               0.25                               3               365   \n",
              "2               0.99                               1                 1   \n",
              "3               0.03                               2                24   \n",
              "4               1.30                               1               288   \n",
              "\n",
              "   number_of_reviews_ltm license  \n",
              "0                      0     NaN  \n",
              "1                      0     NaN  \n",
              "2                      3     NaN  \n",
              "3                      0     NaN  \n",
              "4                      6     NaN  "
            ],
            "text/html": [
              "\n",
              "  <div id=\"df-88558565-a30b-4104-85d3-39e8aa0b457a\" class=\"colab-df-container\">\n",
              "    <div>\n",
              "<style scoped>\n",
              "    .dataframe tbody tr th:only-of-type {\n",
              "        vertical-align: middle;\n",
              "    }\n",
              "\n",
              "    .dataframe tbody tr th {\n",
              "        vertical-align: top;\n",
              "    }\n",
              "\n",
              "    .dataframe thead th {\n",
              "        text-align: right;\n",
              "    }\n",
              "</style>\n",
              "<table border=\"1\" class=\"dataframe\">\n",
              "  <thead>\n",
              "    <tr style=\"text-align: right;\">\n",
              "      <th></th>\n",
              "      <th>id</th>\n",
              "      <th>name</th>\n",
              "      <th>host_id</th>\n",
              "      <th>host_name</th>\n",
              "      <th>neighbourhood_group</th>\n",
              "      <th>neighbourhood</th>\n",
              "      <th>latitude</th>\n",
              "      <th>longitude</th>\n",
              "      <th>room_type</th>\n",
              "      <th>price</th>\n",
              "      <th>minimum_nights</th>\n",
              "      <th>number_of_reviews</th>\n",
              "      <th>last_review</th>\n",
              "      <th>reviews_per_month</th>\n",
              "      <th>calculated_host_listings_count</th>\n",
              "      <th>availability_365</th>\n",
              "      <th>number_of_reviews_ltm</th>\n",
              "      <th>license</th>\n",
              "    </tr>\n",
              "  </thead>\n",
              "  <tbody>\n",
              "    <tr>\n",
              "      <th>0</th>\n",
              "      <td>2539</td>\n",
              "      <td>Superfast Wi-Fi.  Clean &amp; quiet home by the park</td>\n",
              "      <td>2787</td>\n",
              "      <td>John</td>\n",
              "      <td>Brooklyn</td>\n",
              "      <td>Kensington</td>\n",
              "      <td>40.64529</td>\n",
              "      <td>-73.97238</td>\n",
              "      <td>Private room</td>\n",
              "      <td>260.0</td>\n",
              "      <td>30</td>\n",
              "      <td>9</td>\n",
              "      <td>2018-10-19</td>\n",
              "      <td>0.08</td>\n",
              "      <td>6</td>\n",
              "      <td>365</td>\n",
              "      <td>0</td>\n",
              "      <td>NaN</td>\n",
              "    </tr>\n",
              "    <tr>\n",
              "      <th>1</th>\n",
              "      <td>2595</td>\n",
              "      <td>Skylit Studio Oasis | Midtown Manhattan</td>\n",
              "      <td>2845</td>\n",
              "      <td>Jennifer</td>\n",
              "      <td>Manhattan</td>\n",
              "      <td>Midtown</td>\n",
              "      <td>40.75356</td>\n",
              "      <td>-73.98559</td>\n",
              "      <td>Entire home/apt</td>\n",
              "      <td>240.0</td>\n",
              "      <td>30</td>\n",
              "      <td>47</td>\n",
              "      <td>2022-06-21</td>\n",
              "      <td>0.25</td>\n",
              "      <td>3</td>\n",
              "      <td>365</td>\n",
              "      <td>0</td>\n",
              "      <td>NaN</td>\n",
              "    </tr>\n",
              "    <tr>\n",
              "      <th>2</th>\n",
              "      <td>6848</td>\n",
              "      <td>Only 2 stops to Manhattan studio</td>\n",
              "      <td>15991</td>\n",
              "      <td>Allen</td>\n",
              "      <td>Brooklyn</td>\n",
              "      <td>Williamsburg</td>\n",
              "      <td>40.70935</td>\n",
              "      <td>-73.95342</td>\n",
              "      <td>Entire home/apt</td>\n",
              "      <td>98.0</td>\n",
              "      <td>30</td>\n",
              "      <td>195</td>\n",
              "      <td>2025-06-09</td>\n",
              "      <td>0.99</td>\n",
              "      <td>1</td>\n",
              "      <td>1</td>\n",
              "      <td>3</td>\n",
              "      <td>NaN</td>\n",
              "    </tr>\n",
              "    <tr>\n",
              "      <th>3</th>\n",
              "      <td>6872</td>\n",
              "      <td>Uptown Sanctuary w/ Private Bath (Month to Month)</td>\n",
              "      <td>16104</td>\n",
              "      <td>Kahshanna</td>\n",
              "      <td>Manhattan</td>\n",
              "      <td>East Harlem</td>\n",
              "      <td>40.80107</td>\n",
              "      <td>-73.94255</td>\n",
              "      <td>Private room</td>\n",
              "      <td>NaN</td>\n",
              "      <td>30</td>\n",
              "      <td>1</td>\n",
              "      <td>2022-06-05</td>\n",
              "      <td>0.03</td>\n",
              "      <td>2</td>\n",
              "      <td>24</td>\n",
              "      <td>0</td>\n",
              "      <td>NaN</td>\n",
              "    </tr>\n",
              "    <tr>\n",
              "      <th>4</th>\n",
              "      <td>6990</td>\n",
              "      <td>UES Beautiful Blue Room</td>\n",
              "      <td>16800</td>\n",
              "      <td>Cynthia</td>\n",
              "      <td>Manhattan</td>\n",
              "      <td>East Harlem</td>\n",
              "      <td>40.78778</td>\n",
              "      <td>-73.94759</td>\n",
              "      <td>Private room</td>\n",
              "      <td>74.0</td>\n",
              "      <td>30</td>\n",
              "      <td>249</td>\n",
              "      <td>2025-05-27</td>\n",
              "      <td>1.30</td>\n",
              "      <td>1</td>\n",
              "      <td>288</td>\n",
              "      <td>6</td>\n",
              "      <td>NaN</td>\n",
              "    </tr>\n",
              "  </tbody>\n",
              "</table>\n",
              "</div>\n",
              "    <div class=\"colab-df-buttons\">\n",
              "\n",
              "  <div class=\"colab-df-container\">\n",
              "    <button class=\"colab-df-convert\" onclick=\"convertToInteractive('df-88558565-a30b-4104-85d3-39e8aa0b457a')\"\n",
              "            title=\"Convert this dataframe to an interactive table.\"\n",
              "            style=\"display:none;\">\n",
              "\n",
              "  <svg xmlns=\"http://www.w3.org/2000/svg\" height=\"24px\" viewBox=\"0 -960 960 960\">\n",
              "    <path d=\"M120-120v-720h720v720H120Zm60-500h600v-160H180v160Zm220 220h160v-160H400v160Zm0 220h160v-160H400v160ZM180-400h160v-160H180v160Zm440 0h160v-160H620v160ZM180-180h160v-160H180v160Zm440 0h160v-160H620v160Z\"/>\n",
              "  </svg>\n",
              "    </button>\n",
              "\n",
              "  <style>\n",
              "    .colab-df-container {\n",
              "      display:flex;\n",
              "      gap: 12px;\n",
              "    }\n",
              "\n",
              "    .colab-df-convert {\n",
              "      background-color: #E8F0FE;\n",
              "      border: none;\n",
              "      border-radius: 50%;\n",
              "      cursor: pointer;\n",
              "      display: none;\n",
              "      fill: #1967D2;\n",
              "      height: 32px;\n",
              "      padding: 0 0 0 0;\n",
              "      width: 32px;\n",
              "    }\n",
              "\n",
              "    .colab-df-convert:hover {\n",
              "      background-color: #E2EBFA;\n",
              "      box-shadow: 0px 1px 2px rgba(60, 64, 67, 0.3), 0px 1px 3px 1px rgba(60, 64, 67, 0.15);\n",
              "      fill: #174EA6;\n",
              "    }\n",
              "\n",
              "    .colab-df-buttons div {\n",
              "      margin-bottom: 4px;\n",
              "    }\n",
              "\n",
              "    [theme=dark] .colab-df-convert {\n",
              "      background-color: #3B4455;\n",
              "      fill: #D2E3FC;\n",
              "    }\n",
              "\n",
              "    [theme=dark] .colab-df-convert:hover {\n",
              "      background-color: #434B5C;\n",
              "      box-shadow: 0px 1px 3px 1px rgba(0, 0, 0, 0.15);\n",
              "      filter: drop-shadow(0px 1px 2px rgba(0, 0, 0, 0.3));\n",
              "      fill: #FFFFFF;\n",
              "    }\n",
              "  </style>\n",
              "\n",
              "    <script>\n",
              "      const buttonEl =\n",
              "        document.querySelector('#df-88558565-a30b-4104-85d3-39e8aa0b457a button.colab-df-convert');\n",
              "      buttonEl.style.display =\n",
              "        google.colab.kernel.accessAllowed ? 'block' : 'none';\n",
              "\n",
              "      async function convertToInteractive(key) {\n",
              "        const element = document.querySelector('#df-88558565-a30b-4104-85d3-39e8aa0b457a');\n",
              "        const dataTable =\n",
              "          await google.colab.kernel.invokeFunction('convertToInteractive',\n",
              "                                                    [key], {});\n",
              "        if (!dataTable) return;\n",
              "\n",
              "        const docLinkHtml = 'Like what you see? Visit the ' +\n",
              "          '<a target=\"_blank\" href=https://colab.research.google.com/notebooks/data_table.ipynb>data table notebook</a>'\n",
              "          + ' to learn more about interactive tables.';\n",
              "        element.innerHTML = '';\n",
              "        dataTable['output_type'] = 'display_data';\n",
              "        await google.colab.output.renderOutput(dataTable, element);\n",
              "        const docLink = document.createElement('div');\n",
              "        docLink.innerHTML = docLinkHtml;\n",
              "        element.appendChild(docLink);\n",
              "      }\n",
              "    </script>\n",
              "  </div>\n",
              "\n",
              "\n",
              "    <div id=\"df-8604e288-7ff5-43a7-99a0-518fc4fe1c1d\">\n",
              "      <button class=\"colab-df-quickchart\" onclick=\"quickchart('df-8604e288-7ff5-43a7-99a0-518fc4fe1c1d')\"\n",
              "                title=\"Suggest charts\"\n",
              "                style=\"display:none;\">\n",
              "\n",
              "<svg xmlns=\"http://www.w3.org/2000/svg\" height=\"24px\"viewBox=\"0 0 24 24\"\n",
              "     width=\"24px\">\n",
              "    <g>\n",
              "        <path d=\"M19 3H5c-1.1 0-2 .9-2 2v14c0 1.1.9 2 2 2h14c1.1 0 2-.9 2-2V5c0-1.1-.9-2-2-2zM9 17H7v-7h2v7zm4 0h-2V7h2v10zm4 0h-2v-4h2v4z\"/>\n",
              "    </g>\n",
              "</svg>\n",
              "      </button>\n",
              "\n",
              "<style>\n",
              "  .colab-df-quickchart {\n",
              "      --bg-color: #E8F0FE;\n",
              "      --fill-color: #1967D2;\n",
              "      --hover-bg-color: #E2EBFA;\n",
              "      --hover-fill-color: #174EA6;\n",
              "      --disabled-fill-color: #AAA;\n",
              "      --disabled-bg-color: #DDD;\n",
              "  }\n",
              "\n",
              "  [theme=dark] .colab-df-quickchart {\n",
              "      --bg-color: #3B4455;\n",
              "      --fill-color: #D2E3FC;\n",
              "      --hover-bg-color: #434B5C;\n",
              "      --hover-fill-color: #FFFFFF;\n",
              "      --disabled-bg-color: #3B4455;\n",
              "      --disabled-fill-color: #666;\n",
              "  }\n",
              "\n",
              "  .colab-df-quickchart {\n",
              "    background-color: var(--bg-color);\n",
              "    border: none;\n",
              "    border-radius: 50%;\n",
              "    cursor: pointer;\n",
              "    display: none;\n",
              "    fill: var(--fill-color);\n",
              "    height: 32px;\n",
              "    padding: 0;\n",
              "    width: 32px;\n",
              "  }\n",
              "\n",
              "  .colab-df-quickchart:hover {\n",
              "    background-color: var(--hover-bg-color);\n",
              "    box-shadow: 0 1px 2px rgba(60, 64, 67, 0.3), 0 1px 3px 1px rgba(60, 64, 67, 0.15);\n",
              "    fill: var(--button-hover-fill-color);\n",
              "  }\n",
              "\n",
              "  .colab-df-quickchart-complete:disabled,\n",
              "  .colab-df-quickchart-complete:disabled:hover {\n",
              "    background-color: var(--disabled-bg-color);\n",
              "    fill: var(--disabled-fill-color);\n",
              "    box-shadow: none;\n",
              "  }\n",
              "\n",
              "  .colab-df-spinner {\n",
              "    border: 2px solid var(--fill-color);\n",
              "    border-color: transparent;\n",
              "    border-bottom-color: var(--fill-color);\n",
              "    animation:\n",
              "      spin 1s steps(1) infinite;\n",
              "  }\n",
              "\n",
              "  @keyframes spin {\n",
              "    0% {\n",
              "      border-color: transparent;\n",
              "      border-bottom-color: var(--fill-color);\n",
              "      border-left-color: var(--fill-color);\n",
              "    }\n",
              "    20% {\n",
              "      border-color: transparent;\n",
              "      border-left-color: var(--fill-color);\n",
              "      border-top-color: var(--fill-color);\n",
              "    }\n",
              "    30% {\n",
              "      border-color: transparent;\n",
              "      border-left-color: var(--fill-color);\n",
              "      border-top-color: var(--fill-color);\n",
              "      border-right-color: var(--fill-color);\n",
              "    }\n",
              "    40% {\n",
              "      border-color: transparent;\n",
              "      border-right-color: var(--fill-color);\n",
              "      border-top-color: var(--fill-color);\n",
              "    }\n",
              "    60% {\n",
              "      border-color: transparent;\n",
              "      border-right-color: var(--fill-color);\n",
              "    }\n",
              "    80% {\n",
              "      border-color: transparent;\n",
              "      border-right-color: var(--fill-color);\n",
              "      border-bottom-color: var(--fill-color);\n",
              "    }\n",
              "    90% {\n",
              "      border-color: transparent;\n",
              "      border-bottom-color: var(--fill-color);\n",
              "    }\n",
              "  }\n",
              "</style>\n",
              "\n",
              "      <script>\n",
              "        async function quickchart(key) {\n",
              "          const quickchartButtonEl =\n",
              "            document.querySelector('#' + key + ' button');\n",
              "          quickchartButtonEl.disabled = true;  // To prevent multiple clicks.\n",
              "          quickchartButtonEl.classList.add('colab-df-spinner');\n",
              "          try {\n",
              "            const charts = await google.colab.kernel.invokeFunction(\n",
              "                'suggestCharts', [key], {});\n",
              "          } catch (error) {\n",
              "            console.error('Error during call to suggestCharts:', error);\n",
              "          }\n",
              "          quickchartButtonEl.classList.remove('colab-df-spinner');\n",
              "          quickchartButtonEl.classList.add('colab-df-quickchart-complete');\n",
              "        }\n",
              "        (() => {\n",
              "          let quickchartButtonEl =\n",
              "            document.querySelector('#df-8604e288-7ff5-43a7-99a0-518fc4fe1c1d button');\n",
              "          quickchartButtonEl.style.display =\n",
              "            google.colab.kernel.accessAllowed ? 'block' : 'none';\n",
              "        })();\n",
              "      </script>\n",
              "    </div>\n",
              "\n",
              "    </div>\n",
              "  </div>\n"
            ],
            "application/vnd.google.colaboratory.intrinsic+json": {
              "type": "dataframe",
              "variable_name": "df",
              "summary": "{\n  \"name\": \"df\",\n  \"rows\": 36403,\n  \"fields\": [\n    {\n      \"column\": \"id\",\n      \"properties\": {\n        \"dtype\": \"number\",\n        \"std\": 532071127678685696,\n        \"min\": 2539,\n        \"max\": 1477745941712844713,\n        \"num_unique_values\": 36403,\n        \"samples\": [\n          1378336991669885276,\n          30392834,\n          828084046100883383\n        ],\n        \"semantic_type\": \"\",\n        \"description\": \"\"\n      }\n    },\n    {\n      \"column\": \"name\",\n      \"properties\": {\n        \"dtype\": \"string\",\n        \"num_unique_values\": 34804,\n        \"samples\": [\n          \"spacious chelsea room\",\n          \"HUGE Old-World 1-Bedroom in Clinton Hill\",\n          \"Private Sun-Splashed Studio Chelsea\"\n        ],\n        \"semantic_type\": \"\",\n        \"description\": \"\"\n      }\n    },\n    {\n      \"column\": \"host_id\",\n      \"properties\": {\n        \"dtype\": \"number\",\n        \"std\": 192287741,\n        \"min\": 1678,\n        \"max\": 710587002,\n        \"num_unique_values\": 21643,\n        \"samples\": [\n          503150479,\n          483770088,\n          554475884\n        ],\n        \"semantic_type\": \"\",\n        \"description\": \"\"\n      }\n    },\n    {\n      \"column\": \"host_name\",\n      \"properties\": {\n        \"dtype\": \"category\",\n        \"num_unique_values\": 8351,\n        \"samples\": [\n          \"Petros\",\n          \"Flora\",\n          \"Mahfuz\"\n        ],\n        \"semantic_type\": \"\",\n        \"description\": \"\"\n      }\n    },\n    {\n      \"column\": \"neighbourhood_group\",\n      \"properties\": {\n        \"dtype\": \"category\",\n        \"num_unique_values\": 5,\n        \"samples\": [\n          \"Manhattan\",\n          \"Staten Island\",\n          \"Queens\"\n        ],\n        \"semantic_type\": \"\",\n        \"description\": \"\"\n      }\n    },\n    {\n      \"column\": \"neighbourhood\",\n      \"properties\": {\n        \"dtype\": \"category\",\n        \"num_unique_values\": 223,\n        \"samples\": [\n          \"Greenpoint\",\n          \"College Point\",\n          \"Mount Hope\"\n        ],\n        \"semantic_type\": \"\",\n        \"description\": \"\"\n      }\n    },\n    {\n      \"column\": \"latitude\",\n      \"properties\": {\n        \"dtype\": \"number\",\n        \"std\": 0.05633553444546926,\n        \"min\": 40.5003663,\n        \"max\": 40.91139,\n        \"num_unique_values\": 22478,\n        \"samples\": [\n          40.67778173650108,\n          40.86837,\n          40.70573\n        ],\n        \"semantic_type\": \"\",\n        \"description\": \"\"\n      }\n    },\n    {\n      \"column\": \"longitude\",\n      \"properties\": {\n        \"dtype\": \"number\",\n        \"std\": 0.05503342284454184,\n        \"min\": -74.251907,\n        \"max\": -73.71182221830068,\n        \"num_unique_values\": 20348,\n        \"samples\": [\n          -73.97938783839417,\n          -73.76203,\n          -73.97771\n        ],\n        \"semantic_type\": \"\",\n        \"description\": \"\"\n      }\n    },\n    {\n      \"column\": \"room_type\",\n      \"properties\": {\n        \"dtype\": \"category\",\n        \"num_unique_values\": 4,\n        \"samples\": [\n          \"Entire home/apt\",\n          \"Shared room\",\n          \"Private room\"\n        ],\n        \"semantic_type\": \"\",\n        \"description\": \"\"\n      }\n    },\n    {\n      \"column\": \"price\",\n      \"properties\": {\n        \"dtype\": \"number\",\n        \"std\": 3174.205887912292,\n        \"min\": 3.0,\n        \"max\": 50052.0,\n        \"num_unique_values\": 1088,\n        \"samples\": [\n          271.0,\n          75.0,\n          956.0\n        ],\n        \"semantic_type\": \"\",\n        \"description\": \"\"\n      }\n    },\n    {\n      \"column\": \"minimum_nights\",\n      \"properties\": {\n        \"dtype\": \"number\",\n        \"std\": 29,\n        \"min\": 1,\n        \"max\": 1124,\n        \"num_unique_values\": 112,\n        \"samples\": [\n          10,\n          222,\n          90\n        ],\n        \"semantic_type\": \"\",\n        \"description\": \"\"\n      }\n    },\n    {\n      \"column\": \"number_of_reviews\",\n      \"properties\": {\n        \"dtype\": \"number\",\n        \"std\": 68,\n        \"min\": 0,\n        \"max\": 3518,\n        \"num_unique_values\": 498,\n        \"samples\": [\n          1145,\n          302,\n          201\n        ],\n        \"semantic_type\": \"\",\n        \"description\": \"\"\n      }\n    },\n    {\n      \"column\": \"last_review\",\n      \"properties\": {\n        \"dtype\": \"object\",\n        \"num_unique_values\": 3359,\n        \"samples\": [\n          \"2023-09-28\",\n          \"2016-03-13\",\n          \"2020-02-15\"\n        ],\n        \"semantic_type\": \"\",\n        \"description\": \"\"\n      }\n    },\n    {\n      \"column\": \"reviews_per_month\",\n      \"properties\": {\n        \"dtype\": \"number\",\n        \"std\": 1.8784610094125336,\n        \"min\": 0.01,\n        \"max\": 123.87,\n        \"num_unique_values\": 798,\n        \"samples\": [\n          7.16,\n          8.15,\n          1.81\n        ],\n        \"semantic_type\": \"\",\n        \"description\": \"\"\n      }\n    },\n    {\n      \"column\": \"calculated_host_listings_count\",\n      \"properties\": {\n        \"dtype\": \"number\",\n        \"std\": 202,\n        \"min\": 1,\n        \"max\": 1087,\n        \"num_unique_values\": 69,\n        \"samples\": [\n          9,\n          6,\n          85\n        ],\n        \"semantic_type\": \"\",\n        \"description\": \"\"\n      }\n    },\n    {\n      \"column\": \"availability_365\",\n      \"properties\": {\n        \"dtype\": \"number\",\n        \"std\": 147,\n        \"min\": 0,\n        \"max\": 365,\n        \"num_unique_values\": 366,\n        \"samples\": [\n          142,\n          39,\n          195\n        ],\n        \"semantic_type\": \"\",\n        \"description\": \"\"\n      }\n    },\n    {\n      \"column\": \"number_of_reviews_ltm\",\n      \"properties\": {\n        \"dtype\": \"number\",\n        \"std\": 19,\n        \"min\": 0,\n        \"max\": 1771,\n        \"num_unique_values\": 170,\n        \"samples\": [\n          198,\n          43,\n          114\n        ],\n        \"semantic_type\": \"\",\n        \"description\": \"\"\n      }\n    },\n    {\n      \"column\": \"license\",\n      \"properties\": {\n        \"dtype\": \"category\",\n        \"num_unique_values\": 1978,\n        \"samples\": [\n          \"OSE-STRREG-0000960\",\n          \"OSE-STRREG-0000822\",\n          \"OSE-STRREG-0001436\"\n        ],\n        \"semantic_type\": \"\",\n        \"description\": \"\"\n      }\n    }\n  ]\n}"
            }
          },
          "metadata": {},
          "execution_count": 3
        }
      ],
      "source": [
        "# Cargar el dataset de Inside Airbnb NYC (comprimido en .csv.gz)\n",
        "url = 'https://data.insideairbnb.com/united-states/ny/new-york-city/2025-08-01/visualisations/listings.csv'\n",
        "df = pd.read_csv(url)\n",
        "df.head()"
      ]
    },
    {
      "cell_type": "markdown",
      "id": "d007ebe3",
      "metadata": {
        "id": "d007ebe3"
      },
      "source": [
        "### 1. Información general del dataset"
      ]
    },
    {
      "cell_type": "code",
      "execution_count": null,
      "id": "4719f4b4",
      "metadata": {
        "id": "4719f4b4"
      },
      "outputs": [],
      "source": [
        "# TODO: Mostrar las dimensiones del dataset y sus primeras filas\n",
        "# Usa .shape y .head()\n",
        "# TODO"
      ]
    },
    {
      "cell_type": "code",
      "execution_count": null,
      "id": "718eb4aa",
      "metadata": {
        "id": "718eb4aa"
      },
      "outputs": [],
      "source": [
        "# TODO: Verifica el tipo de variables con df.dtypes\n",
        "# ¿Hay columnas que no sean útiles para el análisis? ¿ID, nombres, etc.?\n",
        "# TODO"
      ]
    },
    {
      "cell_type": "markdown",
      "id": "5e19482a",
      "metadata": {
        "id": "5e19482a"
      },
      "source": [
        "### 2. Análisis de nulos y duplicados"
      ]
    },
    {
      "cell_type": "code",
      "execution_count": null,
      "id": "5442b3f3",
      "metadata": {
        "id": "5442b3f3"
      },
      "outputs": [],
      "source": [
        "# TODO: Calcula el % de nulos por columna y muestra solo las columnas con más del 10%\n",
        "# Pista: df.isnull().mean() * 100\n",
        "# TODO"
      ]
    },
    {
      "cell_type": "code",
      "execution_count": null,
      "id": "1d3dba6d",
      "metadata": {
        "id": "1d3dba6d"
      },
      "outputs": [],
      "source": [
        "# TODO: Verifica si hay filas duplicadas\n",
        "# Pista: df.duplicated().sum()\n",
        "# TODO"
      ]
    },
    {
      "cell_type": "markdown",
      "id": "3cd130d9",
      "metadata": {
        "id": "3cd130d9"
      },
      "source": [
        "### 3. Análisis univariado (distribuciones)"
      ]
    },
    {
      "cell_type": "code",
      "execution_count": null,
      "id": "f7f86398",
      "metadata": {
        "id": "f7f86398"
      },
      "outputs": [],
      "source": [
        "# TODO: Visualiza la distribución de precios con histograma y límite razonable (por ejemplo, hasta $500)\n",
        "# TODO"
      ]
    },
    {
      "cell_type": "code",
      "execution_count": null,
      "id": "b50dc01d",
      "metadata": {
        "id": "b50dc01d"
      },
      "outputs": [],
      "source": [
        "# TODO: Explora también la distribución de minimum_nights y availability_365\n",
        "# Limita los ejes si hay outliers muy extremos\n",
        "# TODO"
      ]
    },
    {
      "cell_type": "markdown",
      "id": "02071c2f",
      "metadata": {
        "id": "02071c2f"
      },
      "source": [
        "### 4. Análisis de outliers"
      ]
    },
    {
      "cell_type": "code",
      "execution_count": null,
      "id": "7d74d0c7",
      "metadata": {
        "id": "7d74d0c7"
      },
      "outputs": [],
      "source": [
        "# TODO: Crea un boxplot de precios para detectar outliers\n",
        "# TODO"
      ]
    },
    {
      "cell_type": "code",
      "execution_count": null,
      "id": "f82e51b2",
      "metadata": {
        "id": "f82e51b2"
      },
      "outputs": [],
      "source": [
        "# TODO: Crea otro boxplot con otra variable numérica relevante (por ejemplo, number_of_reviews)\n",
        "# TODO"
      ]
    },
    {
      "cell_type": "markdown",
      "id": "08c8c427",
      "metadata": {
        "id": "08c8c427"
      },
      "source": [
        "### 5. Análisis geográfico"
      ]
    },
    {
      "cell_type": "code",
      "execution_count": null,
      "id": "c7d8f907",
      "metadata": {
        "id": "c7d8f907"
      },
      "outputs": [],
      "source": [
        "# TODO: Representa la ubicación de los alojamientos con un scatterplot usando longitude y latitude\n",
        "# Usa una muestra aleatoria de ~5000 filas si es necesario\n",
        "# TODO"
      ]
    },
    {
      "cell_type": "markdown",
      "id": "1e5f0da1",
      "metadata": {
        "id": "1e5f0da1"
      },
      "source": [
        "### 6. Análisis de correlaciones"
      ]
    },
    {
      "cell_type": "code",
      "execution_count": null,
      "id": "5b06a3cf",
      "metadata": {
        "id": "5b06a3cf"
      },
      "outputs": [],
      "source": [
        "# TODO: Calcula la matriz de correlación y represéntala con heatmap\n",
        "# Usa solo variables numéricas\n",
        "# TODO"
      ]
    },
    {
      "cell_type": "code",
      "execution_count": null,
      "id": "6b07ada1",
      "metadata": {
        "id": "6b07ada1"
      },
      "outputs": [],
      "source": [
        "# TODO: Muestra las correlaciones más fuertes ordenadas (en valor absoluto)\n",
        "# Pista: usa .unstack(), .abs(), .sort_values()\n",
        "# TODO"
      ]
    },
    {
      "cell_type": "markdown",
      "id": "8e6bc7e1",
      "metadata": {
        "id": "8e6bc7e1"
      },
      "source": [
        "### 7. Análisis de relaciones entre variables"
      ]
    },
    {
      "cell_type": "code",
      "execution_count": null,
      "id": "5f3663fa",
      "metadata": {
        "id": "5f3663fa"
      },
      "outputs": [],
      "source": [
        "# TODO: Compara el precio según tipo de habitación con boxplot\n",
        "# Eje x: room_type | Eje y: price\n",
        "# Aplica límites al eje y si hay outliers\n",
        "# TODO"
      ]
    },
    {
      "cell_type": "code",
      "execution_count": null,
      "id": "0a900152",
      "metadata": {
        "id": "0a900152"
      },
      "outputs": [],
      "source": [
        "# TODO: Crea un countplot del número de alojamientos por barrio (neighbourhood_group o similar)\n",
        "# TODO"
      ]
    },
    {
      "cell_type": "markdown",
      "id": "0e63cc0b",
      "metadata": {
        "id": "0e63cc0b"
      },
      "source": [
        "### Conclusión\n",
        "Resume en una celda markdown los principales hallazgos de tu análisis: variables con problemas de calidad, patrones detectados, correlaciones destacadas y qué variables podrían ser útiles para modelos de predicción."
      ]
    }
  ],
  "metadata": {
    "colab": {
      "provenance": [],
      "include_colab_link": true
    },
    "language_info": {
      "name": "python"
    },
    "kernelspec": {
      "name": "python3",
      "display_name": "Python 3"
    }
  },
  "nbformat": 4,
  "nbformat_minor": 5
}
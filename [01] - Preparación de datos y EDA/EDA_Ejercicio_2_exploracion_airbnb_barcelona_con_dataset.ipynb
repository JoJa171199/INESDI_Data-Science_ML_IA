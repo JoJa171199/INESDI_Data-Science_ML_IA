{
  "cells": [
    {
      "cell_type": "markdown",
      "metadata": {
        "id": "view-in-github",
        "colab_type": "text"
      },
      "source": [
        "<a href=\"https://colab.research.google.com/github/dtoralg/INESDI_Data-Science_ML_IA/blob/main/%5B01%5D%20-%20Preparaci%C3%B3n%20de%20datos%20y%20EDA/EDA_Ejercicio_2_exploracion_airbnb_barcelona_con_dataset.ipynb\" target=\"_parent\"><img src=\"https://colab.research.google.com/assets/colab-badge.svg\" alt=\"Open In Colab\"/></a>"
      ]
    },
    {
      "cell_type": "markdown",
      "id": "7c3d329f",
      "metadata": {
        "id": "7c3d329f"
      },
      "source": [
        "## EDA - Ejercicio 2: exploracion_airbnb_barcelona.ipynb\n",
        "\n",
        "En este ejercicio trabajaremos con el dataset de alojamientos de Airbnb en Barcelona que proporciona Inside Airbnb. Aplicaremos técnicas de exploración de datos para entender su estructura, calidad y patrones."
      ]
    },
    {
      "cell_type": "markdown",
      "id": "727eebf7",
      "metadata": {
        "id": "727eebf7"
      },
      "source": [
        "### Objetivos\n",
        "- Identificar tipos de variables y estructura básica del dataset.\n",
        "- Detectar valores nulos, duplicados y outliers relevantes.\n",
        "- Explorar relaciones y correlaciones entre variables numéricas y categóricas.\n",
        "- Generar visualizaciones útiles para la toma de decisiones."
      ]
    },
    {
      "cell_type": "markdown",
      "id": "59e6716f",
      "metadata": {
        "id": "59e6716f"
      },
      "source": [
        "### Descripción del dataset\n",
        "El dataset proviene de Inside Airbnb (Sección \"Get the Data\" para Barcelona). Incluye `listings.csv`, que contiene información de los alojamientos: precio, tipo de habitación, barrio/neighborhood, número de noches mínimas, latitud, longitud, disponibilidad, etc. Fuente: [Inside Airbnb](http://insideairbnb.com/get-the-data/)"
      ]
    },
    {
      "cell_type": "code",
      "execution_count": null,
      "id": "3f4947bf",
      "metadata": {
        "id": "3f4947bf"
      },
      "outputs": [],
      "source": [
        "import pandas as pd\n",
        "import matplotlib.pyplot as plt\n",
        "import seaborn as sns\n",
        "sns.set(style='whitegrid')"
      ]
    },
    {
      "cell_type": "code",
      "execution_count": null,
      "id": "b9124165",
      "metadata": {
        "id": "b9124165"
      },
      "outputs": [],
      "source": [
        "url = 'https://data.insideairbnb.com/spain/catalonia/barcelona/2025-06-12/visualisations/listings.csv'\n",
        "df = pd.read_csv(url)\n",
        "df.head()"
      ]
    },
    {
      "cell_type": "markdown",
      "id": "5c7962e2",
      "metadata": {
        "id": "5c7962e2"
      },
      "source": [
        "### Tipos de variables y resumen estadístico"
      ]
    },
    {
      "cell_type": "code",
      "execution_count": null,
      "id": "144ea846",
      "metadata": {
        "id": "144ea846"
      },
      "outputs": [],
      "source": [
        "df.dtypes.value_counts()"
      ]
    },
    {
      "cell_type": "code",
      "execution_count": null,
      "id": "c9d4a292",
      "metadata": {
        "id": "c9d4a292"
      },
      "outputs": [],
      "source": [
        "df.describe()"
      ]
    },
    {
      "cell_type": "code",
      "execution_count": null,
      "id": "7d90d642",
      "metadata": {
        "id": "7d90d642"
      },
      "outputs": [],
      "source": [
        "# TODO: mostrar resumen estadístico de variables categóricas con describe(include='object')\n",
        "# Explica qué te llama la atención del resultado\n",
        "\n"
      ]
    },
    {
      "cell_type": "markdown",
      "id": "cb80bbb6",
      "metadata": {
        "id": "cb80bbb6"
      },
      "source": [
        "### Valores nulos y duplicados"
      ]
    },
    {
      "cell_type": "code",
      "execution_count": null,
      "id": "19407bfb",
      "metadata": {
        "id": "19407bfb"
      },
      "outputs": [],
      "source": [
        "df.isnull().sum().sort_values(ascending=False)"
      ]
    },
    {
      "cell_type": "code",
      "execution_count": null,
      "id": "130218b4",
      "metadata": {
        "id": "130218b4"
      },
      "outputs": [],
      "source": [
        "# TODO: calcular porcentaje de nulos por columna, mostrar solo columnas con más del 10%\n",
        "\n"
      ]
    },
    {
      "cell_type": "code",
      "execution_count": null,
      "id": "854800fe",
      "metadata": {
        "id": "854800fe"
      },
      "outputs": [],
      "source": [
        "df.duplicated().sum()"
      ]
    },
    {
      "cell_type": "markdown",
      "id": "1edf4119",
      "metadata": {
        "id": "1edf4119"
      },
      "source": [
        "### Distribución de variables numéricas"
      ]
    },
    {
      "cell_type": "code",
      "execution_count": null,
      "id": "82662212",
      "metadata": {
        "id": "82662212"
      },
      "outputs": [],
      "source": [
        "plt.figure(figsize=(8,4))\n",
        "sns.histplot(df['price'], bins=100, kde=True)\n",
        "plt.title('Distribución de precios por noche')\n",
        "plt.xlim(0, 500)\n",
        "plt.show()"
      ]
    },
    {
      "cell_type": "code",
      "execution_count": null,
      "id": "e723e4d1",
      "metadata": {
        "id": "e723e4d1"
      },
      "outputs": [],
      "source": [
        "# TODO: explorar distribución de minimum_nights, availability_365 u otra variable relevante\n",
        "\n"
      ]
    },
    {
      "cell_type": "markdown",
      "id": "59219c17",
      "metadata": {
        "id": "59219c17"
      },
      "source": [
        "### Outliers"
      ]
    },
    {
      "cell_type": "code",
      "execution_count": null,
      "id": "28ccddfb",
      "metadata": {
        "id": "28ccddfb"
      },
      "outputs": [],
      "source": [
        "plt.figure(figsize=(6,3))\n",
        "sns.boxplot(x=df['price'])\n",
        "plt.title('Boxplot de precios')\n",
        "plt.xlim(0, 500)\n",
        "plt.show()"
      ]
    },
    {
      "cell_type": "code",
      "execution_count": null,
      "id": "1086daa9",
      "metadata": {
        "id": "1086daa9"
      },
      "outputs": [],
      "source": [
        "# TODO: hacer boxplot de otra variable numérica como minimum_nights\n"
      ]
    },
    {
      "cell_type": "markdown",
      "id": "29a4a839",
      "metadata": {
        "id": "29a4a839"
      },
      "source": [
        "### Distribución geográfica"
      ]
    },
    {
      "cell_type": "code",
      "execution_count": null,
      "id": "17018e83",
      "metadata": {
        "id": "17018e83"
      },
      "outputs": [],
      "source": [
        "plt.figure(figsize=(6,6))\n",
        "sns.scatterplot(data=df.sample(5000), x='longitude', y='latitude', alpha=0.3)\n",
        "plt.title('Ubicación de alojamientos (muestra 5000)')\n",
        "plt.show()"
      ]
    },
    {
      "cell_type": "markdown",
      "id": "b624be3a",
      "metadata": {
        "id": "b624be3a"
      },
      "source": [
        "### Correlaciones"
      ]
    },
    {
      "cell_type": "code",
      "execution_count": null,
      "id": "5246d844",
      "metadata": {
        "id": "5246d844"
      },
      "outputs": [],
      "source": [
        "corr = df.corr(numeric_only=True)\n",
        "plt.figure(figsize=(10,8))\n",
        "sns.heatmap(corr, annot=True, cmap='coolwarm', fmt='.2f')\n",
        "plt.title('Matriz de correlación entre variables numéricas')\n",
        "plt.show()"
      ]
    },
    {
      "cell_type": "code",
      "execution_count": null,
      "id": "449c0a1c",
      "metadata": {
        "id": "449c0a1c"
      },
      "outputs": [],
      "source": [
        "# TODO: mostrar las 10 correlaciones más fuertes ordenadas en valor absoluto\n"
      ]
    },
    {
      "cell_type": "markdown",
      "id": "8e65c58a",
      "metadata": {
        "id": "8e65c58a"
      },
      "source": [
        "### Relaciones entre variables"
      ]
    },
    {
      "cell_type": "code",
      "execution_count": null,
      "id": "7af111aa",
      "metadata": {
        "id": "7af111aa"
      },
      "outputs": [],
      "source": [
        "plt.figure(figsize=(6,4))\n",
        "sns.boxplot(x='room_type', y='price', data=df)\n",
        "plt.title('Precio por tipo de habitación')\n",
        "plt.ylim(0, df['price'].quantile(0.95))\n",
        "plt.show()"
      ]
    },
    {
      "cell_type": "code",
      "execution_count": null,
      "id": "27521c23",
      "metadata": {
        "id": "27521c23"
      },
      "outputs": [],
      "source": [
        "# TODO: gráfico de conteo (countplot) de los barrios/neighborhoods con más alojamientos\n"
      ]
    },
    {
      "cell_type": "markdown",
      "id": "4c5b281d",
      "metadata": {
        "id": "4c5b281d"
      },
      "source": [
        "### Conclusión\n",
        "En este análisis usamos un dataset real de Inside Airbnb para Barcelona."
      ]
    }
  ],
  "metadata": {
    "colab": {
      "provenance": [],
      "include_colab_link": true
    },
    "language_info": {
      "name": "python"
    },
    "kernelspec": {
      "name": "python3",
      "display_name": "Python 3"
    }
  },
  "nbformat": 4,
  "nbformat_minor": 5
}
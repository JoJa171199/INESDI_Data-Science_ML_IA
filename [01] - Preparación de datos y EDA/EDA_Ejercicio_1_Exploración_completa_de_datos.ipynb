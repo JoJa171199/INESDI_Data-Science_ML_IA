{
  "cells": [
    {
      "cell_type": "markdown",
      "metadata": {
        "id": "view-in-github",
        "colab_type": "text"
      },
      "source": [
        "<a href=\"https://colab.research.google.com/github/dtoralg/INESDI_Data-Science_ML_IA/blob/main/%5B01%5D%20-%20Preparaci%C3%B3n%20de%20datos%20y%20EDA/EDA_Ejercicio_1_Exploraci%C3%B3n_completa_de_datos.ipynb\" target=\"_parent\"><img src=\"https://colab.research.google.com/assets/colab-badge.svg\" alt=\"Open In Colab\"/></a>"
      ]
    },
    {
      "cell_type": "markdown",
      "id": "8b5625af",
      "metadata": {
        "id": "8b5625af"
      },
      "source": [
        "# EDA - Ejercicio 1: Exploración completa de datos (I do)\n",
        "\n",
        "**Contexto:** vamos a realizar una exploración detallada del dataset Titanic, uno de los más utilizados para introducir técnicas básicas de ciencia de datos."
      ]
    },
    {
      "cell_type": "markdown",
      "id": "9118a027",
      "metadata": {
        "id": "9118a027"
      },
      "source": [
        "## 1) Introducción\n",
        "\n",
        "El objetivo de este ejercicio es entender cómo abordar la primera fase del análisis de datos: la exploración inicial. Trabajaremos con un dataset clásico (Titanic) para identificar los tipos de variables, comprender su distribución, detectar nulos, duplicados, outliers y realizar algunas visualizaciones clave. Este análisis es fundamental antes de cualquier tarea de modelado o predicción, ya que permite detectar problemas y oportunidades en los datos."
      ]
    },
    {
      "cell_type": "markdown",
      "id": "bd6cb91e",
      "metadata": {
        "id": "bd6cb91e"
      },
      "source": [
        "## 2) Objetivos\n",
        "\n",
        "- Comprender la estructura general de un dataset y los distintos tipos de variables.\n",
        "- Detectar problemas comunes en los datos: nulos, duplicados, tipos erróneos y outliers.\n",
        "- Aplicar visualizaciones básicas para entender distribuciones y relaciones entre variables."
      ]
    },
    {
      "cell_type": "markdown",
      "id": "969b048c",
      "metadata": {
        "id": "969b048c"
      },
      "source": [
        "## 3) Descripción breve de los datos\n",
        "\n",
        "- **Origen:** Dataset Titanic (Kaggle / seaborn). Datos reales de pasajeros del Titanic.\n",
        "- **Filas:** 891\n",
        "- **Columnas:** 12 columnas (edad, clase, sexo, tarifa, puerto de embarque, etc.)\n",
        "- **Variable objetivo (en otras tareas):** `Survived` (0 = no sobrevivió, 1 = sí sobrevivió)\n",
        "- Este ejercicio se centrará en la exploración, no en la predicción."
      ]
    },
    {
      "cell_type": "markdown",
      "id": "389c9cdd",
      "metadata": {
        "id": "389c9cdd"
      },
      "source": [
        "## 4) Bloques del ejercicio\n",
        "\n",
        "### 4.1 Preparación del entorno"
      ]
    },
    {
      "cell_type": "code",
      "execution_count": null,
      "id": "28b7922a",
      "metadata": {
        "id": "28b7922a"
      },
      "outputs": [],
      "source": [
        "import pandas as pd\n",
        "import numpy as np\n",
        "import seaborn as sns\n",
        "import matplotlib.pyplot as plt\n",
        "\n",
        "sns.set(style='whitegrid')\n",
        "pd.set_option('display.max_columns', None)  # mostrar todas las columnas\n",
        "print('Entorno preparado.')"
      ]
    },
    {
      "cell_type": "markdown",
      "id": "2a1202ed",
      "metadata": {
        "id": "2a1202ed"
      },
      "source": [
        "### 4.2 Carga del dataset\n",
        "\n",
        "Usaremos la versión integrada del dataset Titanic de seaborn."
      ]
    },
    {
      "cell_type": "code",
      "execution_count": null,
      "id": "84a8f6fc",
      "metadata": {
        "id": "84a8f6fc"
      },
      "outputs": [],
      "source": [
        "df = sns.load_dataset('titanic')\n",
        "df.head()"
      ]
    },
    {
      "cell_type": "markdown",
      "id": "4e735d3a",
      "metadata": {
        "id": "4e735d3a"
      },
      "source": [
        "### 4.3 EDA: Dimensiones, tipos y muestra aleatoria"
      ]
    },
    {
      "cell_type": "code",
      "execution_count": null,
      "id": "959f0f5d",
      "metadata": {
        "id": "959f0f5d"
      },
      "outputs": [],
      "source": [
        "print('Filas y columnas:', df.shape)\n",
        "print('\\nTipos de datos:')\n",
        "print(df.dtypes)\n",
        "print('\\n \\n ------------------- \\n \\n')\n",
        "df.sample(5)"
      ]
    },
    {
      "cell_type": "markdown",
      "id": "ecbde38d",
      "metadata": {
        "id": "ecbde38d"
      },
      "source": [
        "### 4.4 Nulos y duplicados"
      ]
    },
    {
      "cell_type": "code",
      "execution_count": null,
      "id": "4797881d",
      "metadata": {
        "id": "4797881d"
      },
      "outputs": [],
      "source": [
        "print('Porcentaje de valores nulos:')\n",
        "display(round(df.isna().mean().sort_values(ascending=False)*100, 2))\n",
        "\n",
        "print('\\nFilas duplicadas:', df.duplicated().sum())"
      ]
    },
    {
      "cell_type": "markdown",
      "id": "674e2da0",
      "metadata": {
        "id": "674e2da0"
      },
      "source": [
        "### 4.5 Estadísticos básicos y cardinalidad de columnas categóricas"
      ]
    },
    {
      "cell_type": "code",
      "execution_count": null,
      "id": "a94488f7",
      "metadata": {
        "id": "a94488f7"
      },
      "outputs": [],
      "source": [
        "# Numéricas\n",
        "print('Descripción de variables numéricas:')\n",
        "display(df.describe())\n",
        "\n",
        "# Categóricas\n",
        "print('\\nCardinalidad de variables categóricas:')\n",
        "for col in df.select_dtypes(include='object').columns:\n",
        "    print(f\"{col}: {df[col].nunique()} valores únicos\")"
      ]
    },
    {
      "cell_type": "markdown",
      "id": "2014cba7",
      "metadata": {
        "id": "2014cba7"
      },
      "source": [
        "### 4.6 Distribuciones y outliers"
      ]
    },
    {
      "cell_type": "code",
      "execution_count": null,
      "id": "8f657fd7",
      "metadata": {
        "id": "8f657fd7"
      },
      "outputs": [],
      "source": [
        "# Histogramas para todas las numéricas\n",
        "df.select_dtypes(include='number').hist(bins=20, figsize=(12,8))\n",
        "plt.suptitle('Distribuciones de variables numéricas')\n",
        "plt.show()"
      ]
    },
    {
      "cell_type": "code",
      "execution_count": null,
      "id": "8d062c0b",
      "metadata": {
        "id": "8d062c0b"
      },
      "outputs": [],
      "source": [
        "# Boxplots para outliers\n",
        "for col in ['age', 'fare']:\n",
        "    sns.boxplot(x=df[col])\n",
        "    plt.title(f'Distribución de {col}')\n",
        "    plt.show()"
      ]
    },
    {
      "cell_type": "markdown",
      "id": "241d57c1",
      "metadata": {
        "id": "241d57c1"
      },
      "source": [
        "### 4.7 Visualizaciones de relaciones y correlaciones"
      ]
    },
    {
      "cell_type": "code",
      "execution_count": null,
      "id": "59e69733",
      "metadata": {
        "id": "59e69733"
      },
      "outputs": [],
      "source": [
        "sns.countplot(x='class', hue='survived', data=df)\n",
        "plt.title('Supervivencia según clase')\n",
        "plt.show()"
      ]
    },
    {
      "cell_type": "code",
      "source": [
        "sns.countplot(x='sex', hue='survived', data=df)\n",
        "plt.title('Supervivencia según sexo')\n",
        "plt.show()"
      ],
      "metadata": {
        "id": "7Cw3BVqVoQSX"
      },
      "id": "7Cw3BVqVoQSX",
      "execution_count": null,
      "outputs": []
    },
    {
      "cell_type": "code",
      "execution_count": null,
      "id": "8c85fb19",
      "metadata": {
        "id": "8c85fb19"
      },
      "outputs": [],
      "source": [
        "sns.heatmap(df.corr(numeric_only=True), annot=True, cmap='coolwarm')\n",
        "plt.title('Matriz de correlación')\n",
        "plt.show()"
      ]
    },
    {
      "cell_type": "markdown",
      "id": "94732ff7",
      "metadata": {
        "id": "94732ff7"
      },
      "source": [
        "## 5) Conclusiones\n",
        "\n",
        "- El dataset contiene varias variables con valores nulos (`age`, `embark_town`, `deck`).\n",
        "- Hay 107 filas duplicadas.\n",
        "- Existen outliers especialmente en la tarifa (`fare`).\n",
        "- La clase (`class`) y el sexo (`sex`) parecen influir fuertemente en la supervivencia.\n",
        "\n",
        "> Este análisis sienta las bases para tomar decisiones informadas sobre limpieza, preprocesamiento y diseño de modelos en etapas futuras."
      ]
    }
  ],
  "metadata": {
    "colab": {
      "provenance": [],
      "include_colab_link": true
    },
    "language_info": {
      "name": "python"
    },
    "kernelspec": {
      "name": "python3",
      "display_name": "Python 3"
    }
  },
  "nbformat": 4,
  "nbformat_minor": 5
}
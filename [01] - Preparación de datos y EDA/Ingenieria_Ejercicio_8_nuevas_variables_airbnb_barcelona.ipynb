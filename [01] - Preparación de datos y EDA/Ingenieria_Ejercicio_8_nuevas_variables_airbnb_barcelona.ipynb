{
  "cells": [
    {
      "cell_type": "markdown",
      "metadata": {
        "id": "view-in-github",
        "colab_type": "text"
      },
      "source": [
        "<a href=\"https://colab.research.google.com/github/dtoralg/INESDI_Data-Science_ML_IA/blob/main/%5B01%5D%20-%20Preparaci%C3%B3n%20de%20datos%20y%20EDA/Ingenieria_Ejercicio_8_nuevas_variables_airbnb_barcelona.ipynb\" target=\"_parent\"><img src=\"https://colab.research.google.com/assets/colab-badge.svg\" alt=\"Open In Colab\"/></a>"
      ]
    },
    {
      "cell_type": "markdown",
      "id": "e9d3942d",
      "metadata": {
        "id": "e9d3942d"
      },
      "source": [
        "## Ingenieria - Ejercicio 8: nuevas_variables_airbnb_barcelona.ipynb\n",
        "\n",
        "En este ejercicio aplicarás técnicas de ingeniería de variables sobre el dataset de Airbnb Barcelona.\n",
        "El flujo está guiado, con comentarios y celdas TODO para que puedas completarlo paso a paso."
      ]
    },
    {
      "cell_type": "markdown",
      "id": "4bdea627",
      "metadata": {
        "id": "4bdea627"
      },
      "source": [
        "### Objetivos\n",
        "- Diseñar y crear variables derivadas útiles para análisis y modelado.\n",
        "- Documentar decisiones y validar las nuevas variables con visualizaciones simples.\n",
        "- Mantener un pipeline reproducible y ordenado para aplicar las transformaciones."
      ]
    },
    {
      "cell_type": "markdown",
      "id": "ef4f8608",
      "metadata": {
        "id": "ef4f8608"
      },
      "source": [
        "### Descripción del dataset\n",
        "El dataset proviene de Inside Airbnb (Sección \"Get the Data\" para Barcelona). Incluye `listings.csv`, que contiene información de los alojamientos: precio, tipo de habitación, barrio/neighborhood, número de noches mínimas, latitud, longitud, disponibilidad, etc.\n",
        "\n",
        "Fuente: [Inside Airbnb Barcelona](https://data.insideairbnb.com/spain/catalonia/barcelona/2025-06-12/visualisations/listings.csv)\n",
        "\n",
        "Como Inside Airbnb cambia el enlace con cada nueva release, puede que sea necesario actualizarlo buscandolo en [Inside Airbnb](https://insideairbnb.com/get-the-data/)"
      ]
    },
    {
      "cell_type": "markdown",
      "id": "4c7da470",
      "metadata": {
        "id": "4c7da470"
      },
      "source": [
        "### 1. Preparación y carga de datos"
      ]
    },
    {
      "cell_type": "code",
      "execution_count": null,
      "id": "3daea515",
      "metadata": {
        "id": "3daea515"
      },
      "outputs": [],
      "source": [
        "import pandas as pd\n",
        "import numpy as np\n",
        "import matplotlib.pyplot as plt\n",
        "import seaborn as sns\n",
        "sns.set(style='whitegrid')"
      ]
    },
    {
      "cell_type": "code",
      "execution_count": null,
      "id": "1a543861",
      "metadata": {
        "id": "1a543861"
      },
      "outputs": [],
      "source": [
        "# Cargar dataset de Inside Airbnb Barcelona (CSV comprimido)\n",
        "url = 'https://data.insideairbnb.com/spain/catalonia/barcelona/2025-06-12/visualisations/listings.csv'\n",
        "df = pd.read_csv(url)\n",
        "df.head()"
      ]
    },
    {
      "cell_type": "code",
      "execution_count": null,
      "id": "d26cdef5",
      "metadata": {
        "id": "d26cdef5"
      },
      "outputs": [],
      "source": [
        "# TODO: Revisa el tamaño del dataset y tipos de datos principales\n",
        "# Indica en un comentario si observas columnas claramente irrelevantes para ingeniería de variables\n",
        "# Sugerencia: usa df.shape, df.dtypes.head(20)\n",
        "# TODO"
      ]
    },
    {
      "cell_type": "markdown",
      "id": "ff653856",
      "metadata": {
        "id": "ff653856"
      },
      "source": [
        "### 2. Selección de columnas objetivo y tratamiento previo mínimo"
      ]
    },
    {
      "cell_type": "code",
      "execution_count": null,
      "id": "e3e45144",
      "metadata": {
        "id": "e3e45144"
      },
      "outputs": [],
      "source": [
        "vars_numericas = df.select_dtypes(include=['int']).columns\n",
        "vars_categoricas = df.select_dtypes(include=['object']).columns\n",
        "vars_numericas, vars_categoricas"
      ]
    },
    {
      "cell_type": "code",
      "execution_count": null,
      "id": "cb2a43f4",
      "metadata": {
        "id": "cb2a43f4"
      },
      "outputs": [],
      "source": [
        "# TODO: Imputa nulos mínimos si es necesario para continuar (sin entrar aún en escalado/codificación)\n",
        "# Reglas sugeridas:\n",
        "#  - Numéricas: mediana\n",
        "#  - Categóricas: moda\n",
        "# Aplica de forma genérica sobre todas las columnas identificadas\n",
        "# Pista: usa df[col].fillna(..., inplace=True)\n",
        "# TODO"
      ]
    },
    {
      "cell_type": "markdown",
      "id": "83757196",
      "metadata": {
        "id": "83757196"
      },
      "source": [
        "### 3. Ingeniería de variables derivadas"
      ]
    },
    {
      "cell_type": "markdown",
      "id": "000552e3",
      "metadata": {
        "id": "000552e3"
      },
      "source": [
        "#### 3.1. Transformaciones numéricas útiles"
      ]
    },
    {
      "cell_type": "code",
      "execution_count": null,
      "id": "8919e313",
      "metadata": {
        "id": "8919e313"
      },
      "outputs": [],
      "source": [
        "# Ejemplo resuelto: precio logarítmico para reducir asimetría\n",
        "if 'price' in df.columns:\n",
        "    df['log_price'] = np.log1p(df['price'])\n",
        "    df[['price','log_price']].head()\n",
        "else:\n",
        "    print('Columna price no encontrada, ajusta el nombre en el dataset actual.')"
      ]
    },
    {
      "cell_type": "code",
      "execution_count": null,
      "id": "9df84143",
      "metadata": {
        "id": "9df84143"
      },
      "outputs": [],
      "source": [
        "# TODO: Crea transformaciones numéricas adicionales sobre todas las columnas numéricas enteras\n",
        "# Ideas:\n",
        "#  - Escala logarítmica para variables sesgadas (p.ej., number_of_reviews, availability_365 si existen)\n",
        "#  - Winsorizar o recortar valores extremos para visualizaciones (sin perder original)\n",
        "#  - Ratios simples entre columnas relacionadas (si procede)\n",
        "# Aclara en comentarios por qué aplicas cada transformación\n",
        "# TODO"
      ]
    },
    {
      "cell_type": "markdown",
      "id": "cc2c98de",
      "metadata": {
        "id": "cc2c98de"
      },
      "source": [
        "#### 3.2. Variables combinadas"
      ]
    },
    {
      "cell_type": "code",
      "execution_count": null,
      "id": "188ecb8a",
      "metadata": {
        "id": "188ecb8a"
      },
      "outputs": [],
      "source": [
        "# TODO: Crea al menos dos variables combinadas teniendo en cuenta coherencia del dominio\n",
        "# Ejemplos:\n",
        "#  - price_per_min_night = price / (minimum_nights + 1e-6)\n",
        "#  - intensidad_disponibilidad = availability_365 / 365\n",
        "#  - densidad_resenas = number_of_reviews / (reviews_per_month + 1e-6)\n",
        "# Ajusta a las columnas disponibles en este dataset\n",
        "# TODO"
      ]
    },
    {
      "cell_type": "markdown",
      "id": "f2662e43",
      "metadata": {
        "id": "f2662e43"
      },
      "source": [
        "#### 3.3. Binning y categorización supervisada por reglas"
      ]
    },
    {
      "cell_type": "code",
      "execution_count": null,
      "id": "c19a1c43",
      "metadata": {
        "id": "c19a1c43"
      },
      "outputs": [],
      "source": [
        "# Ejemplo resuelto: categorizar precio en tramos para análisis descriptivo\n",
        "if 'price' in df.columns:\n",
        "    df['price_bin'] = pd.cut(df['price'], bins=[-1, 50, 100, 200, 1000, np.inf],\n",
        "                             labels=['muy_bajo','bajo','medio','alto','muy_alto'])\n",
        "    df['price_bin'].value_counts().sort_index()\n",
        "else:\n",
        "    print('Columna price no encontrada, ajusta el nombre en el dataset actual.')"
      ]
    },
    {
      "cell_type": "code",
      "execution_count": null,
      "id": "d67fc5f6",
      "metadata": {
        "id": "d67fc5f6"
      },
      "outputs": [],
      "source": [
        "# TODO: Crea al menos un binning adicional sobre otra variable numérica presente\n",
        "# Justifica los cortes utilizados (por ejemplo, percentiles o cortes de negocio)\n",
        "# TODO"
      ]
    },
    {
      "cell_type": "markdown",
      "id": "f66d194a",
      "metadata": {
        "id": "f66d194a"
      },
      "source": [
        "#### 3.4. Variables geográficas simples"
      ]
    },
    {
      "cell_type": "code",
      "execution_count": null,
      "id": "935e4140",
      "metadata": {
        "id": "935e4140"
      },
      "outputs": [],
      "source": [
        "# TODO: A partir de latitude y longitude, crea:\n",
        "#  - un indicador de si el anuncio está dentro de un bounding box central (ej: centro de Barcelona)\n",
        "#  - una cuadrícula sencilla (tile_x, tile_y) redondeando coordenadas para agregación\n",
        "# Sugerencia:\n",
        "#  - centro aproximado BCN ~ (41.385, 2.173)\n",
        "#  - bounding box simple: lat in [41.35, 41.41], lon in [2.13, 2.20]\n",
        "# TODO"
      ]
    },
    {
      "cell_type": "markdown",
      "id": "efba648e",
      "metadata": {
        "id": "efba648e"
      },
      "source": [
        "#### 3.5. Variables textuales ligeras"
      ]
    },
    {
      "cell_type": "code",
      "execution_count": null,
      "id": "a2672905",
      "metadata": {
        "id": "a2672905"
      },
      "outputs": [],
      "source": [
        "# TODO: Si existen columnas textuales (name, description, amenities, etc.), crea contadores simples\n",
        "# Ejemplos:\n",
        "#  - len_name = longitud del título\n",
        "#  - count_amenities = número de amenidades si viene en formato lista/cadena separada por comas\n",
        "#  - binary flags: has_wifi, has_kitchen, etc. (si es viable con string contains)\n",
        "# Aclara posibles problemas (idioma, limpieza)\n",
        "# TODO"
      ]
    },
    {
      "cell_type": "markdown",
      "id": "72f1b853",
      "metadata": {
        "id": "72f1b853"
      },
      "source": [
        "### 4. Validación rápida de las nuevas variables"
      ]
    },
    {
      "cell_type": "code",
      "execution_count": null,
      "id": "767bc7b7",
      "metadata": {
        "id": "767bc7b7"
      },
      "outputs": [],
      "source": [
        "# TODO: Selecciona 4-6 variables creadas y muestra:\n",
        "#  - describe() o value_counts() según el tipo\n",
        "#  - al menos dos visualizaciones sencillas (histogramas, countplots)\n",
        "# Pista: usa df.select_dtypes para decidir tipo de gráfico\n",
        "# TODO"
      ]
    },
    {
      "cell_type": "markdown",
      "id": "8d21d6e8",
      "metadata": {
        "id": "8d21d6e8"
      },
      "source": [
        "### 5. Ensamblado del dataset enriquecido"
      ]
    },
    {
      "cell_type": "code",
      "execution_count": null,
      "id": "dd5c0a44",
      "metadata": {
        "id": "dd5c0a44"
      },
      "outputs": [],
      "source": [
        "# TODO: Construye un DataFrame final con las columnas originales clave + nuevas variables\n",
        "# Asegúrate de no sobrescribir columnas necesarias y conservar identificadores si existen\n",
        "# Sugerencia: df_final = df[cols_originales + cols_nuevas]\n",
        "# TODO"
      ]
    },
    {
      "cell_type": "code",
      "execution_count": null,
      "id": "3159b47c",
      "metadata": {
        "id": "3159b47c"
      },
      "outputs": [],
      "source": [
        "# TODO: Guarda a CSV local (opcional)\n",
        "# df.to_csv('airbnb_barcelona_enriquecido.csv', index=False)\n",
        "# TODO"
      ]
    },
    {
      "cell_type": "markdown",
      "id": "d8547776",
      "metadata": {
        "id": "d8547776"
      },
      "source": [
        "### Conclusión\n",
        "Describe brevemente las variables que has creado, por qué pueden aportar valor en un modelo predictivo\n",
        "y cómo validarías su utilidad (por ejemplo, con correlaciones, importancia de variables o rendimiento en un modelo base)."
      ]
    }
  ],
  "metadata": {
    "colab": {
      "provenance": [],
      "include_colab_link": true
    },
    "language_info": {
      "name": "python"
    },
    "kernelspec": {
      "name": "python3",
      "display_name": "Python 3"
    }
  },
  "nbformat": 4,
  "nbformat_minor": 5
}
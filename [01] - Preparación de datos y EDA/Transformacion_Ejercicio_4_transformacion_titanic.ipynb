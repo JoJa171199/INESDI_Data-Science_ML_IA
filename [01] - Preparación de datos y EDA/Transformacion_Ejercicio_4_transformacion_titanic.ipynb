{
  "cells": [
    {
      "cell_type": "markdown",
      "metadata": {
        "id": "view-in-github",
        "colab_type": "text"
      },
      "source": [
        "<a href=\"https://colab.research.google.com/github/dtoralg/INESDI_Data-Science_ML_IA/blob/main/%5B01%5D%20-%20Preparaci%C3%B3n%20de%20datos%20y%20EDA/Transformacion_Ejercicio_4_transformacion_titanic.ipynb\" target=\"_parent\"><img src=\"https://colab.research.google.com/assets/colab-badge.svg\" alt=\"Open In Colab\"/></a>"
      ]
    },
    {
      "cell_type": "markdown",
      "id": "26bf6ff2",
      "metadata": {
        "id": "26bf6ff2"
      },
      "source": [
        "## Transformación - Ejercicio 4: transformacion_titanic.ipynb\n",
        "\n",
        "En este ejercicio aprenderás cómo aplicar transformaciones básicas a las variables de un dataset para prepararlo para un modelo de machine learning.\n",
        "\n",
        "Trabajaremos con el dataset clásico de Titanic y aplicaremos técnicas de normalización, estandarización y codificación de variables categóricas."
      ]
    },
    {
      "cell_type": "markdown",
      "id": "b7345395",
      "metadata": {
        "id": "b7345395"
      },
      "source": [
        "### Objetivos\n",
        "- Aplicar escalado Min-Max y Z-score sobre variables numéricas.\n",
        "- Realizar codificación one-hot y label encoding sobre variables categóricas.\n",
        "- Identificar qué variables deben ser transformadas y cómo."
      ]
    },
    {
      "cell_type": "markdown",
      "id": "6252f71c",
      "metadata": {
        "id": "6252f71c"
      },
      "source": [
        "### Descripción del dataset\n",
        "Usaremos el dataset de Titanic disponible públicamente. Contiene información de los pasajeros como edad, sexo, clase, tarifa pagada y si sobrevivieron o no."
      ]
    },
    {
      "cell_type": "code",
      "execution_count": null,
      "id": "5d6e4012",
      "metadata": {
        "id": "5d6e4012"
      },
      "outputs": [],
      "source": [
        "# Importar librerías necesarias\n",
        "import pandas as pd\n",
        "from sklearn.preprocessing import MinMaxScaler, StandardScaler, LabelEncoder\n",
        "import seaborn as sns\n",
        "import matplotlib.pyplot as plt"
      ]
    },
    {
      "cell_type": "code",
      "execution_count": null,
      "id": "11239bac",
      "metadata": {
        "id": "11239bac"
      },
      "outputs": [],
      "source": [
        "# Cargar el dataset Titanic desde GitHub\n",
        "url = 'https://raw.githubusercontent.com/datasciencedojo/datasets/master/titanic.csv'\n",
        "df = pd.read_csv(url)\n",
        "df.head()"
      ]
    },
    {
      "cell_type": "markdown",
      "id": "ad369a7c",
      "metadata": {
        "id": "ad369a7c"
      },
      "source": [
        "### 1. Selección de variables para transformar"
      ]
    },
    {
      "cell_type": "code",
      "execution_count": null,
      "id": "3bfeb693",
      "metadata": {
        "id": "3bfeb693"
      },
      "outputs": [],
      "source": [
        "# Seleccionamos variables numéricas y categóricas relevantes\n",
        "vars_numericas = df.select_dtypes(include= ['int']).columns\n",
        "vars_categoricas = df.select_dtypes(include=['object']).columns"
      ]
    },
    {
      "cell_type": "code",
      "source": [
        "vars_numericas"
      ],
      "metadata": {
        "id": "3nunyIkswiVN"
      },
      "id": "3nunyIkswiVN",
      "execution_count": null,
      "outputs": []
    },
    {
      "cell_type": "code",
      "execution_count": null,
      "id": "97ced3ca",
      "metadata": {
        "id": "97ced3ca"
      },
      "outputs": [],
      "source": [
        "# Visualizamos valores nulos\n",
        "df.isnull().mean().sort_values(ascending=False) * 100"
      ]
    },
    {
      "cell_type": "code",
      "execution_count": null,
      "id": "5343e142",
      "metadata": {
        "id": "5343e142"
      },
      "outputs": [],
      "source": [
        "# Imputamos valores nulos antes de transformar\n",
        "df['Age'] = df['Age'].fillna(df['Age'].median())\n",
        "df['Embarked'] = df['Embarked'].fillna(df['Embarked'].mode()[0])\n",
        "\n",
        "# Como Cabin tiene muchos valores nulos, lo deshechamos\n",
        "df = df.drop(\"Cabin\", axis = 1)"
      ]
    },
    {
      "cell_type": "code",
      "source": [
        "# Comprobamos que ya no quedan valores null\n",
        "df.isnull().mean().sort_values(ascending=False) * 100"
      ],
      "metadata": {
        "id": "PirWYRVGwnnR"
      },
      "id": "PirWYRVGwnnR",
      "execution_count": null,
      "outputs": []
    },
    {
      "cell_type": "code",
      "source": [
        "df.head(10)"
      ],
      "metadata": {
        "id": "fypTeNSpvxuq"
      },
      "id": "fypTeNSpvxuq",
      "execution_count": null,
      "outputs": []
    },
    {
      "cell_type": "markdown",
      "id": "34c092a1",
      "metadata": {
        "id": "34c092a1"
      },
      "source": [
        "### 2. Normalización (Min-Max Scaling)"
      ]
    },
    {
      "cell_type": "code",
      "execution_count": null,
      "id": "6f872aaa",
      "metadata": {
        "id": "6f872aaa"
      },
      "outputs": [],
      "source": [
        "# Aplicamos Min-Max Scaling a las variables numéricas\n",
        "scaler_minmax = MinMaxScaler()\n",
        "df_minmax = df.copy()\n",
        "df_minmax[vars_numericas] = scaler_minmax.fit_transform(df[vars_numericas])\n",
        "df_minmax[vars_numericas].describe()"
      ]
    },
    {
      "cell_type": "markdown",
      "id": "0057b25d",
      "metadata": {
        "id": "0057b25d"
      },
      "source": [
        "### 3. Estandarización StandardScaler"
      ]
    },
    {
      "cell_type": "code",
      "execution_count": null,
      "id": "3e77b3d6",
      "metadata": {
        "id": "3e77b3d6"
      },
      "outputs": [],
      "source": [
        "# Aplicamos StandardScaler\n",
        "scaler_std = StandardScaler()\n",
        "df_std = df.copy()\n",
        "df_std[vars_numericas] = scaler_std.fit_transform(df[vars_numericas])\n",
        "df_std[vars_numericas].describe()"
      ]
    },
    {
      "cell_type": "markdown",
      "id": "211d917c",
      "metadata": {
        "id": "211d917c"
      },
      "source": [
        "### 4. Codificación de variables categóricas"
      ]
    },
    {
      "cell_type": "code",
      "execution_count": null,
      "id": "d31df8da",
      "metadata": {
        "id": "d31df8da"
      },
      "outputs": [],
      "source": [
        "# Label Encoding para 'Sex'\n",
        "le = LabelEncoder()\n",
        "df['Sex_encoded'] = le.fit_transform(df['Sex'])\n",
        "df[['Sex', 'Sex_encoded']].head()"
      ]
    },
    {
      "cell_type": "code",
      "source": [
        "df.head(5)"
      ],
      "metadata": {
        "id": "qxiK9AWMxIIp"
      },
      "id": "qxiK9AWMxIIp",
      "execution_count": null,
      "outputs": []
    },
    {
      "cell_type": "code",
      "execution_count": null,
      "id": "1e8cf0e9",
      "metadata": {
        "id": "1e8cf0e9"
      },
      "outputs": [],
      "source": [
        "# One-Hot Encoding para 'Embarked'\n",
        "df_encoded = pd.get_dummies(df, columns=['Embarked'])\n",
        "\n",
        "df_encoded[['Embarked_S', 'Embarked_Q', 'Embarked_C']].head(5)"
      ]
    },
    {
      "cell_type": "markdown",
      "id": "922256fc",
      "metadata": {
        "id": "922256fc"
      },
      "source": [
        "### Conclusión\n",
        "Hemos aprendido a aplicar transformaciones básicas de preparación de datos:\n",
        "- Escalado con MinMaxScaler y StandardScaler\n",
        "- Codificación con LabelEncoder y One-Hot Encoding\n",
        "\n",
        "Estas transformaciones son necesarias antes de alimentar modelos de machine learning que no pueden procesar variables categóricas o son sensibles a las escalas numéricas."
      ]
    }
  ],
  "metadata": {
    "colab": {
      "provenance": [],
      "include_colab_link": true
    },
    "language_info": {
      "name": "python"
    },
    "kernelspec": {
      "name": "python3",
      "display_name": "Python 3"
    }
  },
  "nbformat": 4,
  "nbformat_minor": 5
}
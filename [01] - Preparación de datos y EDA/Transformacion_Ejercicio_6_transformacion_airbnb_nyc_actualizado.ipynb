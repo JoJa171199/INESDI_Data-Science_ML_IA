{
  "cells": [
    {
      "cell_type": "markdown",
      "metadata": {
        "id": "view-in-github",
        "colab_type": "text"
      },
      "source": [
        "<a href=\"https://colab.research.google.com/github/dtoralg/INESDI_Data-Science_ML_IA/blob/main/%5B01%5D%20-%20Preparaci%C3%B3n%20de%20datos%20y%20EDA/Transformacion_Ejercicio_6_transformacion_airbnb_nyc_actualizado.ipynb\" target=\"_parent\"><img src=\"https://colab.research.google.com/assets/colab-badge.svg\" alt=\"Open In Colab\"/></a>"
      ]
    },
    {
      "cell_type": "markdown",
      "id": "c5a21007",
      "metadata": {
        "id": "c5a21007"
      },
      "source": [
        "## Transformación - Ejercicio 6: transformacion_airbnb_nyc.ipynb\n",
        "\n",
        "Este ejercicio lo resolverás de forma completamente autónoma. Debes aplicar transformaciones básicas de preparación de datos sobre el dataset de Airbnb en Nueva York.\n",
        "\n",
        "**Tu misión:** seleccionar variables relevantes, tratar nulos, aplicar escalado (MinMax y StandardScaler), y codificar variables categóricas (Label Encoding y One-Hot Encoding)."
      ]
    },
    {
      "cell_type": "markdown",
      "id": "58205e25",
      "metadata": {
        "id": "58205e25"
      },
      "source": [
        "### Objetivos\n",
        "- Aplicar transformaciones sobre todas las columnas numéricas y categóricas del dataset.\n",
        "- Automatizar la selección de variables según su tipo.\n",
        "- Consolidar el conocimiento en escalado y codificación."
      ]
    },
    {
      "cell_type": "markdown",
      "id": "085571bd",
      "metadata": {
        "id": "085571bd"
      },
      "source": [
        "### Descripción del dataset\n",
        "Dataset público con alojamientos activos en Nueva York (agosto 2024), disponible en Inside Airbnb.\n",
        "Incluye: precio, mínimo de noches, disponibilidad, ubicación, tipo de alojamiento, valoraciones, etc.\n",
        "\n",
        "Fuente: [Inside Airbnb - NYC listings](https://data.insideairbnb.com/united-states/ny/new-york-city/2025-08-01/visualisations/listings.csv)\n",
        "\n",
        "Como Inside Airbnb cambia el enlace con cada nueva release, puede que sea necesario actualizarlo buscandolo en [Inside Airbnb](https://insideairbnb.com/get-the-data/)"
      ]
    },
    {
      "cell_type": "code",
      "execution_count": null,
      "id": "ce5751ad",
      "metadata": {
        "id": "ce5751ad"
      },
      "outputs": [],
      "source": [
        "# TODO: Importa pandas, matplotlib, seaborn, y las clases necesarias de sklearn.preprocessing\n",
        "# TODO"
      ]
    },
    {
      "cell_type": "code",
      "execution_count": null,
      "id": "b920f114",
      "metadata": {
        "id": "b920f114"
      },
      "outputs": [],
      "source": [
        "# TODO: Carga el dataset desde la URL pública\n",
        "url = 'https://data.insideairbnb.com/united-states/ny/new-york-city/2025-08-01/visualisations/listings.csv'\n",
        "# TODO\n"
      ]
    },
    {
      "cell_type": "markdown",
      "id": "4d6b7bef",
      "metadata": {
        "id": "4d6b7bef"
      },
      "source": [
        "### 1. Exploración inicial"
      ]
    },
    {
      "cell_type": "code",
      "execution_count": null,
      "id": "a9064861",
      "metadata": {
        "id": "a9064861"
      },
      "outputs": [],
      "source": [
        "# TODO: Muestra las primeras filas y las dimensiones del dataset\n",
        "# TODO"
      ]
    },
    {
      "cell_type": "code",
      "execution_count": null,
      "id": "bdf16dcb",
      "metadata": {
        "id": "bdf16dcb"
      },
      "outputs": [],
      "source": [
        "# TODO: Selecciona todas las columnas numéricas y categóricas del dataset\n",
        "# Usa el siguiente código:\n",
        "# vars_numericas = df.select_dtypes(include=['int']).columns\n",
        "# vars_categoricas = df.select_dtypes(include=['object']).columns\n",
        "# TODO"
      ]
    },
    {
      "cell_type": "markdown",
      "id": "d2a243eb",
      "metadata": {
        "id": "d2a243eb"
      },
      "source": [
        "### 2. Tratamiento de nulos"
      ]
    },
    {
      "cell_type": "code",
      "execution_count": null,
      "id": "c3e387ac",
      "metadata": {
        "id": "c3e387ac"
      },
      "outputs": [],
      "source": [
        "# TODO: Calcula el porcentaje de nulos por columna\n",
        "# Imputa los nulos de variables numéricas con la mediana y categóricas con la moda\n",
        "# TODO"
      ]
    },
    {
      "cell_type": "markdown",
      "id": "b943a8ac",
      "metadata": {
        "id": "b943a8ac"
      },
      "source": [
        "### 3. Min-Max Scaling sobre todas las columnas numéricas"
      ]
    },
    {
      "cell_type": "code",
      "execution_count": null,
      "id": "f3b27946",
      "metadata": {
        "id": "f3b27946"
      },
      "outputs": [],
      "source": [
        "# TODO: Aplica Min-Max Scaling a todas las columnas de vars_numericas\n",
        "# Guarda los resultados en un nuevo DataFrame llamado df_minmax\n",
        "# TODO"
      ]
    },
    {
      "cell_type": "markdown",
      "id": "4b445506",
      "metadata": {
        "id": "4b445506"
      },
      "source": [
        "### 4. StandardScaler sobre todas las columnas numéricas"
      ]
    },
    {
      "cell_type": "code",
      "execution_count": null,
      "id": "eac8bb40",
      "metadata": {
        "id": "eac8bb40"
      },
      "outputs": [],
      "source": [
        "# TODO: Aplica StandardScaler a todas las columnas de vars_numericas\n",
        "# Guarda los resultados en un nuevo DataFrame llamado df_std\n",
        "# TODO"
      ]
    },
    {
      "cell_type": "markdown",
      "id": "b143948f",
      "metadata": {
        "id": "b143948f"
      },
      "source": [
        "### 5. Label Encoding (si procede)"
      ]
    },
    {
      "cell_type": "code",
      "execution_count": null,
      "id": "8831e236",
      "metadata": {
        "id": "8831e236"
      },
      "outputs": [],
      "source": [
        "# TODO: Si hay alguna variable categórica binaria, aplica LabelEncoder y justifica tu elección\n",
        "# TODO"
      ]
    },
    {
      "cell_type": "markdown",
      "id": "c437aa9a",
      "metadata": {
        "id": "c437aa9a"
      },
      "source": [
        "### 6. One-Hot Encoding de todas las columnas categóricas"
      ]
    },
    {
      "cell_type": "code",
      "execution_count": null,
      "id": "9773bccb",
      "metadata": {
        "id": "9773bccb"
      },
      "outputs": [],
      "source": [
        "# TODO: Aplica One-Hot Encoding a todas las columnas de vars_categoricas\n",
        "# Usa drop_first=True\n",
        "# Guarda el resultado en df_ohe\n",
        "# TODO"
      ]
    },
    {
      "cell_type": "markdown",
      "id": "e13bc3c1",
      "metadata": {
        "id": "e13bc3c1"
      },
      "source": [
        "### Conclusión\n",
        "Resume qué transformaciones aplicaste, qué problemas encontraste (por ejemplo columnas con muchos nulos, cardinalidad elevada, etc.) y cómo lo resolviste."
      ]
    }
  ],
  "metadata": {
    "colab": {
      "provenance": [],
      "include_colab_link": true
    }
  },
  "nbformat": 4,
  "nbformat_minor": 5
}
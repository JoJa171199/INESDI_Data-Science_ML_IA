{
  "cells": [
    {
      "cell_type": "markdown",
      "metadata": {
        "id": "view-in-github",
        "colab_type": "text"
      },
      "source": [
        "<a href=\"https://colab.research.google.com/github/dtoralg/INESDI_Data-Science_ML_IA/blob/main/%5B01%5D%20-%20Preparaci%C3%B3n%20de%20datos%20y%20EDA/Ingenieria_Ejercicio_9_nuevas_variables_airbnb_nyc.ipynb\" target=\"_parent\"><img src=\"https://colab.research.google.com/assets/colab-badge.svg\" alt=\"Open In Colab\"/></a>"
      ]
    },
    {
      "cell_type": "markdown",
      "id": "5d47db1a",
      "metadata": {
        "id": "5d47db1a"
      },
      "source": [
        "## Ingenieria - Ejercicio 9: nuevas_variables_airbnb_nyc.ipynb\n",
        "\n",
        "Este ejercicio está diseñado para que lo resuelvas de forma completamente autónoma. Debes aplicar todo lo aprendido sobre ingeniería de variables usando el dataset de Airbnb en Nueva York.\n",
        "\n",
        "**Tu misión:** explorar el dataset, tratar nulos, y crear un conjunto amplio de nuevas variables derivadas, combinadas, categorizadas, geográficas o textuales."
      ]
    },
    {
      "cell_type": "markdown",
      "id": "650288b5",
      "metadata": {
        "id": "650288b5"
      },
      "source": [
        "### Objetivos\n",
        "- Crear variables nuevas que aporten información relevante.\n",
        "- Aplicar transformaciones sobre todas las columnas numéricas y categóricas identificadas.\n",
        "- Justificar las decisiones tomadas en cada transformación."
      ]
    },
    {
      "cell_type": "markdown",
      "id": "7ee1b35c",
      "metadata": {
        "id": "7ee1b35c"
      },
      "source": [
        "### Descripción del dataset\n",
        "Dataset público con alojamientos activos en Nueva York, disponible en Inside Airbnb.\n",
        "Incluye: precio, mínimo de noches, disponibilidad, ubicación, tipo de alojamiento, valoraciones, etc.\n",
        "\n",
        "Fuente: [Inside Airbnb - NYC listings](https://data.insideairbnb.com/united-states/ny/new-york-city/2025-08-01/visualisations/listings.csv)\n",
        "\n",
        "Como Inside Airbnb cambia el enlace con cada nueva release, puede que sea necesario actualizarlo buscandolo en [Inside Airbnb](https://insideairbnb.com/get-the-data/)"
      ]
    },
    {
      "cell_type": "markdown",
      "id": "611fd1a8",
      "metadata": {
        "id": "611fd1a8"
      },
      "source": [
        "### 1. Preparación y carga de datos"
      ]
    },
    {
      "cell_type": "code",
      "execution_count": null,
      "id": "d9a41d96",
      "metadata": {
        "id": "d9a41d96"
      },
      "outputs": [],
      "source": [
        "# TODO: Importa pandas, numpy, matplotlib y seaborn"
      ]
    },
    {
      "cell_type": "code",
      "execution_count": null,
      "id": "0d87f133",
      "metadata": {
        "id": "0d87f133"
      },
      "outputs": [],
      "source": [
        "# TODO: Carga el dataset desde la URL proporcionada\n",
        "url = 'https://data.insideairbnb.com/united-states/ny/new-york-city/2025-08-01/visualisations/listings.csv'"
      ]
    },
    {
      "cell_type": "code",
      "execution_count": null,
      "id": "5d251309",
      "metadata": {
        "id": "5d251309"
      },
      "outputs": [],
      "source": [
        "# TODO: Explora el dataset (df.head(), df.shape, df.dtypes)\n",
        "# Identifica rápidamente qué tipo de variables contiene"
      ]
    },
    {
      "cell_type": "markdown",
      "id": "ba237ac9",
      "metadata": {
        "id": "ba237ac9"
      },
      "source": [
        "### 2. Identificación de variables numéricas y categóricas"
      ]
    },
    {
      "cell_type": "code",
      "execution_count": null,
      "id": "73ee43cf",
      "metadata": {
        "id": "73ee43cf"
      },
      "outputs": [],
      "source": [
        "# TODO: Selecciona columnas numéricas y categóricas de forma automática\n",
        "vars_numericas = df.select_dtypes(include=['int']).columns\n",
        "vars_categoricas = df.select_dtypes(include=['object']).columns\n",
        "vars_numericas, vars_categoricas"
      ]
    },
    {
      "cell_type": "markdown",
      "id": "1efc1e4c",
      "metadata": {
        "id": "1efc1e4c"
      },
      "source": [
        "### 3. Tratamiento de nulos"
      ]
    },
    {
      "cell_type": "code",
      "execution_count": null,
      "id": "e1a07460",
      "metadata": {
        "id": "e1a07460"
      },
      "outputs": [],
      "source": [
        "# TODO: Calcula el porcentaje de nulos por columna\n",
        "# Imputa valores faltantes: mediana en numéricas, moda en categóricas"
      ]
    },
    {
      "cell_type": "markdown",
      "id": "d4933d03",
      "metadata": {
        "id": "d4933d03"
      },
      "source": [
        "### 4. Creación de nuevas variables"
      ]
    },
    {
      "cell_type": "code",
      "execution_count": null,
      "id": "102590a0",
      "metadata": {
        "id": "102590a0"
      },
      "outputs": [],
      "source": [
        "# TODO: Crea variables derivadas numéricas\n",
        "# Ejemplos posibles:\n",
        "# - logaritmo de precios o número de reseñas\n",
        "# - ratios como price/minimum_nights\n",
        "# - transformaciones de disponibilidad\n"
      ]
    },
    {
      "cell_type": "code",
      "execution_count": null,
      "id": "4cb78bf0",
      "metadata": {
        "id": "4cb78bf0"
      },
      "outputs": [],
      "source": [
        "# TODO: Crea variables categóricas a partir de binning\n",
        "# Ejemplo: categorizar precios en tramos"
      ]
    },
    {
      "cell_type": "code",
      "execution_count": null,
      "id": "2138e917",
      "metadata": {
        "id": "2138e917"
      },
      "outputs": [],
      "source": [
        "# TODO: Extrae información de variables textuales si existen (name, description, amenities)\n",
        "# Ejemplo: longitud de descripciones, número de amenidades"
      ]
    },
    {
      "cell_type": "code",
      "execution_count": null,
      "id": "67d71405",
      "metadata": {
        "id": "67d71405"
      },
      "outputs": [],
      "source": [
        "# TODO: Genera variables geográficas a partir de lat/long\n",
        "# Ejemplo: indicador de si está dentro de Manhattan, cuadrícula por coordenadas"
      ]
    },
    {
      "cell_type": "markdown",
      "id": "6942e3ba",
      "metadata": {
        "id": "6942e3ba"
      },
      "source": [
        "### 5. Validación de nuevas variables"
      ]
    },
    {
      "cell_type": "code",
      "execution_count": null,
      "id": "0393e95b",
      "metadata": {
        "id": "0393e95b"
      },
      "outputs": [],
      "source": [
        "# TODO: Selecciona algunas de las nuevas variables creadas y muéstralas con describe(), value_counts() o gráficos"
      ]
    },
    {
      "cell_type": "markdown",
      "id": "25e1462e",
      "metadata": {
        "id": "25e1462e"
      },
      "source": [
        "### Conclusión\n",
        "Escribe un resumen sobre qué nuevas variables has creado, por qué pueden ser útiles, y cómo podrían mejorar un modelo predictivo."
      ]
    }
  ],
  "metadata": {
    "colab": {
      "provenance": [],
      "include_colab_link": true
    }
  },
  "nbformat": 4,
  "nbformat_minor": 5
}
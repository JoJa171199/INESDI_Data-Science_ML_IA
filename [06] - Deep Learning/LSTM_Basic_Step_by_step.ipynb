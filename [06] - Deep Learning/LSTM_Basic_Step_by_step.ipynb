{
  "nbformat": 4,
  "nbformat_minor": 0,
  "metadata": {
    "colab": {
      "provenance": [],
      "include_colab_link": true
    },
    "kernelspec": {
      "name": "python3",
      "display_name": "Python 3"
    },
    "language_info": {
      "name": "python"
    }
  },
  "cells": [
    {
      "cell_type": "markdown",
      "metadata": {
        "id": "view-in-github",
        "colab_type": "text"
      },
      "source": [
        "<a href=\"https://colab.research.google.com/github/JoJa171199/INESDI_Data-Science_ML_IA/blob/main/%5B06%5D%20-%20Deep%20Learning/LSTM_Basic_Step_by_step.ipynb\" target=\"_parent\"><img src=\"https://colab.research.google.com/assets/colab-badge.svg\" alt=\"Open In Colab\"/></a>"
      ]
    },
    {
      "cell_type": "markdown",
      "metadata": {
        "id": "OGXXUmYYH8VK"
      },
      "source": [
        "# 🎯 Caso Práctico: LSTM Series Temporales\n",
        "# Predicción de temperatura\n",
        "\n",
        "---\n",
        "\n",
        "## 📋 Información del Módulo\n",
        "\n",
        "**Asignatura:** Data Analytics: Data Science, Machine Learning e Inteligencia Artificial  \n",
        "**Máster:** FP en Business Analytics e Inteligencia Artificial  \n",
        "**Profesores:** Álvaro López Barberá\n",
        "**Ejemplo Práctico:**  Deep Learning (LSTM)\n",
        "\n",
        "---\n",
        "\n",
        "## 🎓 Objetivo\n",
        "\n",
        "Predecir la tempratura de los próximos dias através de un dataset generado"
      ]
    },
    {
      "cell_type": "code",
      "source": [
        "import numpy as np\n",
        "from tensorflow import keras\n",
        "from tensorflow.keras import layers\n",
        "import matplotlib.pyplot as plt"
      ],
      "metadata": {
        "id": "NMewutcUUc0O"
      },
      "execution_count": 1,
      "outputs": []
    },
    {
      "cell_type": "code",
      "source": [
        "# =====================\n",
        "# 1. DATOS DE TEMPERATURA\n",
        "# =====================\n",
        "# Temperaturas diarias de 30 días\n",
        "np.random.seed(42)\n",
        "dias = np.arange(30)\n",
        "# Simulamos patrón: tendencia + ciclo semanal + ruido\n",
        "temperatura = 15 + 0.3 * dias + 3 * np.sin(dias / 3.5) + np.random.randn(30) * 0.5\n",
        "\n",
        "print(\"📊 Temperaturas (primeros 10 días):\")\n",
        "print(temperatura[:10])\n",
        "print(f\"\\nForma: {temperatura.shape}\")"
      ],
      "metadata": {
        "colab": {
          "base_uri": "https://localhost:8080/"
        },
        "id": "ipxdr9L2UeyI",
        "outputId": "5a6a6789-f62f-40d3-d50d-b06e7db20d73"
      },
      "execution_count": 2,
      "outputs": [
        {
          "output_type": "stream",
          "name": "stdout",
          "text": [
            "📊 Temperaturas (primeros 10 días):\n",
            "[15.24835708 16.07639641 17.54634691 18.92944102 18.81239205 19.35264075\n",
            " 20.55877555 20.21160965 19.43070389 19.59059057]\n",
            "\n",
            "Forma: (30,)\n"
          ]
        }
      ]
    },
    {
      "cell_type": "code",
      "source": [
        "# =====================\n",
        "# 2. CREAR SECUENCIAS (ventanas deslizantes)\n",
        "# =====================\n",
        "def crear_secuencias(datos, longitud_secuencia):\n",
        "    \"\"\"\n",
        "    Convierte serie temporal en secuencias para LSTM\n",
        "\n",
        "    Ejemplo:\n",
        "    datos = [15, 16, 18, 20, 22, 21, 19]\n",
        "    longitud = 3\n",
        "\n",
        "    X:                      y:\n",
        "    [15, 16, 18]    →      20\n",
        "    [16, 18, 20]    →      22\n",
        "    [18, 20, 22]    →      21\n",
        "    \"\"\"\n",
        "    X, y = [], []\n",
        "    for i in range(len(datos) - longitud_secuencia):\n",
        "        X.append(datos[i:i+longitud_secuencia])\n",
        "        y.append(datos[i+longitud_secuencia])\n",
        "    return np.array(X), np.array(y)\n",
        "\n",
        "# Usar últimos 7 días para predecir el siguiente\n",
        "longitud_secuencia = 7\n",
        "X, y = crear_secuencias(temperatura, longitud_secuencia)\n",
        "\n",
        "print(f\"\\n🔄 Secuencias creadas:\")\n",
        "print(f\"X shape: {X.shape}\")  # (23, 7)\n",
        "print(f\"y shape: {y.shape}\")  # (23,)\n",
        "\n",
        "# Ejemplo de una secuencia\n",
        "print(f\"\\n📝 Ejemplo de secuencia:\")\n",
        "print(f\"Input (7 días):  {X[0]}\")\n",
        "print(f\"Output (día 8):  {y[0]:.2f}\")"
      ],
      "metadata": {
        "colab": {
          "base_uri": "https://localhost:8080/"
        },
        "id": "0O73ffB1UjuN",
        "outputId": "61276bdf-353d-448e-e697-df00abf07188"
      },
      "execution_count": 3,
      "outputs": [
        {
          "output_type": "stream",
          "name": "stdout",
          "text": [
            "\n",
            "🔄 Secuencias creadas:\n",
            "X shape: (23, 7)\n",
            "y shape: (23,)\n",
            "\n",
            "📝 Ejemplo de secuencia:\n",
            "Input (7 días):  [15.24835708 16.07639641 17.54634691 18.92944102 18.81239205 19.35264075\n",
            " 20.55877555]\n",
            "Output (día 8):  20.21\n"
          ]
        }
      ]
    },
    {
      "cell_type": "code",
      "source": [
        "# =====================\n",
        "# 3. RESHAPE PARA LSTM\n",
        "# =====================\n",
        "\n",
        "#LSTM espera:  (samples, timesteps, features)\n",
        "#              (n° secuencias, pasos temporales, variables)\n",
        "\n",
        "#Tú tienes:    (23, 7)\n",
        "#              (samples, timesteps) ← ¡Falta la dimensión de features!\n",
        "\n",
        "# LSTM necesita formato: (samples, timesteps, features)\n",
        "X = X.reshape((X.shape[0], X.shape[1], 1))\n",
        "print(f\"\\n📐 Shape final para LSTM: {X.shape}\")\n",
        "print(f\"   - Samples (secuencias): {X.shape[0]}\")\n",
        "print(f\"   - Timesteps (días): {X.shape[1]}\")\n",
        "print(f\"   - Features (temperatura): {X.shape[2]}\")"
      ],
      "metadata": {
        "colab": {
          "base_uri": "https://localhost:8080/"
        },
        "id": "8NzWxDiUUoy4",
        "outputId": "0c3588d3-1057-4182-917c-e096a794321f"
      },
      "execution_count": 4,
      "outputs": [
        {
          "output_type": "stream",
          "name": "stdout",
          "text": [
            "\n",
            "📐 Shape final para LSTM: (23, 7, 1)\n",
            "   - Samples (secuencias): 23\n",
            "   - Timesteps (días): 7\n",
            "   - Features (temperatura): 1\n"
          ]
        }
      ]
    },
    {
      "cell_type": "code",
      "source": [
        "# =====================\n",
        "# 4. NORMALIZAR\n",
        "# =====================\n",
        "from sklearn.preprocessing import MinMaxScaler\n",
        "\n",
        "scaler_X = MinMaxScaler()\n",
        "scaler_y = MinMaxScaler()\n",
        "\n",
        "# normalizar, reshape\n",
        "X_scaled = scaler_X.fit_transform(X.reshape(-1, 1)).reshape(X.shape)\n",
        "y_scaled = scaler_y.fit_transform(y.reshape(-1, 1))\n",
        "\n",
        "print(f\"\\n✅ Datos normalizados a rango [0, 1]\")\n",
        "print(f\"Ejemplo normalizado: {X_scaled[0].flatten()[:3]}\")"
      ],
      "metadata": {
        "colab": {
          "base_uri": "https://localhost:8080/"
        },
        "id": "Sav-CDLmUqC-",
        "outputId": "c90411b2-45a8-4c7f-f3ad-8c8da0c0fab8"
      },
      "execution_count": 5,
      "outputs": [
        {
          "output_type": "stream",
          "name": "stdout",
          "text": [
            "\n",
            "✅ Datos normalizados a rango [0, 1]\n",
            "Ejemplo normalizado: [0.         0.07520611 0.20871336]\n"
          ]
        }
      ]
    },
    {
      "cell_type": "code",
      "execution_count": 6,
      "metadata": {
        "colab": {
          "base_uri": "https://localhost:8080/"
        },
        "id": "hXYsm-n5S3_I",
        "outputId": "6cf48501-fafb-4aef-e2c7-f7afede875f7"
      },
      "outputs": [
        {
          "output_type": "stream",
          "name": "stdout",
          "text": [
            "\n",
            "📊 División train/test:\n",
            "Train: 18 secuencias\n",
            "Test:  5 secuencias\n"
          ]
        }
      ],
      "source": [
        "# =====================\n",
        "# 5. TRAIN/TEST SPLIT\n",
        "# =====================\n",
        "# Importante: NO aleatorio, división temporal\n",
        "split_idx = int(len(X_scaled) * 0.8)\n",
        "\n",
        "X_train = X_scaled[:split_idx]\n",
        "X_test = X_scaled[split_idx:]\n",
        "y_train = y_scaled[:split_idx]\n",
        "y_test = y_scaled[split_idx:]\n",
        "\n",
        "print(f\"\\n📊 División train/test:\")\n",
        "print(f\"Train: {X_train.shape[0]} secuencias\")\n",
        "print(f\"Test:  {X_test.shape[0]} secuencias\")"
      ]
    },
    {
      "cell_type": "code",
      "source": [
        "# =====================\n",
        "# ARQUITECTURA LSTM BÁSICA\n",
        "# =====================\n",
        "model = keras.Sequential([\n",
        "    # Capa LSTM\n",
        "    layers.LSTM(\n",
        "        units=32,              # 32 neuronas (tamaño de memoria)\n",
        "        activation='tanh',     # Función de activación interna ¿Por qué tanh?: Es el estándar en LSTM porque:Permite valores negativos y positivos\n",
        "        input_shape=(7, 1)     # (timesteps, features) La red \"mira\" 7 pasos temporales anteriores y 1 predccion\n",
        "    ),\n",
        "\n",
        "    # Capa Dense para salida\n",
        "    layers.Dense(1)            # 1 valor: temperatura predicha, Si fuera clasificación, usaríamos sigmoid o softmax\n",
        "])\n",
        "\n",
        "model.compile(\n",
        "    optimizer='adam',\n",
        "    loss='mse',\n",
        "    metrics=['mae']\n",
        ")\n",
        "\n",
        "print(\"📋 Resumen del modelo:\")\n",
        "model.summary()"
      ],
      "metadata": {
        "colab": {
          "base_uri": "https://localhost:8080/",
          "height": 268
        },
        "id": "bNIUp2oGS6zH",
        "outputId": "abf65469-d07c-4c57-ff63-9a9b24f01cb9"
      },
      "execution_count": 7,
      "outputs": [
        {
          "output_type": "stream",
          "name": "stdout",
          "text": [
            "📋 Resumen del modelo:\n"
          ]
        },
        {
          "output_type": "stream",
          "name": "stderr",
          "text": [
            "/usr/local/lib/python3.12/dist-packages/keras/src/layers/rnn/rnn.py:199: UserWarning: Do not pass an `input_shape`/`input_dim` argument to a layer. When using Sequential models, prefer using an `Input(shape)` object as the first layer in the model instead.\n",
            "  super().__init__(**kwargs)\n"
          ]
        },
        {
          "output_type": "display_data",
          "data": {
            "text/plain": [
              "\u001b[1mModel: \"sequential\"\u001b[0m\n"
            ],
            "text/html": [
              "<pre style=\"white-space:pre;overflow-x:auto;line-height:normal;font-family:Menlo,'DejaVu Sans Mono',consolas,'Courier New',monospace\"><span style=\"font-weight: bold\">Model: \"sequential\"</span>\n",
              "</pre>\n"
            ]
          },
          "metadata": {}
        },
        {
          "output_type": "display_data",
          "data": {
            "text/plain": [
              "┏━━━━━━━━━━━━━━━━━━━━━━━━━━━━━━━━━┳━━━━━━━━━━━━━━━━━━━━━━━━┳━━━━━━━━━━━━━━━┓\n",
              "┃\u001b[1m \u001b[0m\u001b[1mLayer (type)                   \u001b[0m\u001b[1m \u001b[0m┃\u001b[1m \u001b[0m\u001b[1mOutput Shape          \u001b[0m\u001b[1m \u001b[0m┃\u001b[1m \u001b[0m\u001b[1m      Param #\u001b[0m\u001b[1m \u001b[0m┃\n",
              "┡━━━━━━━━━━━━━━━━━━━━━━━━━━━━━━━━━╇━━━━━━━━━━━━━━━━━━━━━━━━╇━━━━━━━━━━━━━━━┩\n",
              "│ lstm (\u001b[38;5;33mLSTM\u001b[0m)                     │ (\u001b[38;5;45mNone\u001b[0m, \u001b[38;5;34m32\u001b[0m)             │         \u001b[38;5;34m4,352\u001b[0m │\n",
              "├─────────────────────────────────┼────────────────────────┼───────────────┤\n",
              "│ dense (\u001b[38;5;33mDense\u001b[0m)                   │ (\u001b[38;5;45mNone\u001b[0m, \u001b[38;5;34m1\u001b[0m)              │            \u001b[38;5;34m33\u001b[0m │\n",
              "└─────────────────────────────────┴────────────────────────┴───────────────┘\n"
            ],
            "text/html": [
              "<pre style=\"white-space:pre;overflow-x:auto;line-height:normal;font-family:Menlo,'DejaVu Sans Mono',consolas,'Courier New',monospace\">┏━━━━━━━━━━━━━━━━━━━━━━━━━━━━━━━━━┳━━━━━━━━━━━━━━━━━━━━━━━━┳━━━━━━━━━━━━━━━┓\n",
              "┃<span style=\"font-weight: bold\"> Layer (type)                    </span>┃<span style=\"font-weight: bold\"> Output Shape           </span>┃<span style=\"font-weight: bold\">       Param # </span>┃\n",
              "┡━━━━━━━━━━━━━━━━━━━━━━━━━━━━━━━━━╇━━━━━━━━━━━━━━━━━━━━━━━━╇━━━━━━━━━━━━━━━┩\n",
              "│ lstm (<span style=\"color: #0087ff; text-decoration-color: #0087ff\">LSTM</span>)                     │ (<span style=\"color: #00d7ff; text-decoration-color: #00d7ff\">None</span>, <span style=\"color: #00af00; text-decoration-color: #00af00\">32</span>)             │         <span style=\"color: #00af00; text-decoration-color: #00af00\">4,352</span> │\n",
              "├─────────────────────────────────┼────────────────────────┼───────────────┤\n",
              "│ dense (<span style=\"color: #0087ff; text-decoration-color: #0087ff\">Dense</span>)                   │ (<span style=\"color: #00d7ff; text-decoration-color: #00d7ff\">None</span>, <span style=\"color: #00af00; text-decoration-color: #00af00\">1</span>)              │            <span style=\"color: #00af00; text-decoration-color: #00af00\">33</span> │\n",
              "└─────────────────────────────────┴────────────────────────┴───────────────┘\n",
              "</pre>\n"
            ]
          },
          "metadata": {}
        },
        {
          "output_type": "display_data",
          "data": {
            "text/plain": [
              "\u001b[1m Total params: \u001b[0m\u001b[38;5;34m4,385\u001b[0m (17.13 KB)\n"
            ],
            "text/html": [
              "<pre style=\"white-space:pre;overflow-x:auto;line-height:normal;font-family:Menlo,'DejaVu Sans Mono',consolas,'Courier New',monospace\"><span style=\"font-weight: bold\"> Total params: </span><span style=\"color: #00af00; text-decoration-color: #00af00\">4,385</span> (17.13 KB)\n",
              "</pre>\n"
            ]
          },
          "metadata": {}
        },
        {
          "output_type": "display_data",
          "data": {
            "text/plain": [
              "\u001b[1m Trainable params: \u001b[0m\u001b[38;5;34m4,385\u001b[0m (17.13 KB)\n"
            ],
            "text/html": [
              "<pre style=\"white-space:pre;overflow-x:auto;line-height:normal;font-family:Menlo,'DejaVu Sans Mono',consolas,'Courier New',monospace\"><span style=\"font-weight: bold\"> Trainable params: </span><span style=\"color: #00af00; text-decoration-color: #00af00\">4,385</span> (17.13 KB)\n",
              "</pre>\n"
            ]
          },
          "metadata": {}
        },
        {
          "output_type": "display_data",
          "data": {
            "text/plain": [
              "\u001b[1m Non-trainable params: \u001b[0m\u001b[38;5;34m0\u001b[0m (0.00 B)\n"
            ],
            "text/html": [
              "<pre style=\"white-space:pre;overflow-x:auto;line-height:normal;font-family:Menlo,'DejaVu Sans Mono',consolas,'Courier New',monospace\"><span style=\"font-weight: bold\"> Non-trainable params: </span><span style=\"color: #00af00; text-decoration-color: #00af00\">0</span> (0.00 B)\n",
              "</pre>\n"
            ]
          },
          "metadata": {}
        }
      ]
    },
    {
      "cell_type": "markdown",
      "source": [
        "# Fórmula: 4 × (units² + units × input_size + units)\n",
        "units = 32\n",
        "input_size = 1\n",
        "\n",
        "# Para cada puerta (forget, input, candidate, output):\n",
        "params_per_gate = (units + input_size) × units + units\n",
        "                = (32 + 1) × 32 + 32\n",
        "                = 33 × 32 + 32\n",
        "                = 1,056 + 32\n",
        "                = 1,088\n",
        "\n",
        "# Total: 4 puertas\n",
        "total = 4 × 1,088 = 4,352 ✅"
      ],
      "metadata": {
        "id": "b18ZHb5tTOwR"
      }
    },
    {
      "cell_type": "code",
      "source": [
        "# =====================\n",
        "# ENTRENAR MODELO\n",
        "# =====================\n",
        "from tensorflow.keras.callbacks import EarlyStopping\n",
        "\n",
        "early_stop = EarlyStopping(\n",
        "    monitor='loss',\n",
        "    patience=20,\n",
        "    restore_best_weights=True\n",
        ")\n",
        "\n",
        "print(\"🏃 Entrenando modelo LSTM...\")\n",
        "history = model.fit(\n",
        "    X_train, y_train,\n",
        "    epochs=100,\n",
        "    batch_size=4,\n",
        "    callbacks=[early_stop],\n",
        "    verbose=0  # Sin output por epoch\n",
        ")\n",
        "\n",
        "print(f\"✅ Entrenamiento completado en {len(history.history['loss'])} epochs\")\n",
        "print(f\"   Loss final: {history.history['loss'][-1]:.6f}\")"
      ],
      "metadata": {
        "colab": {
          "base_uri": "https://localhost:8080/"
        },
        "id": "o3nbLdN1UvPx",
        "outputId": "6460fd5c-40a0-453e-a1b4-2984998406bd"
      },
      "execution_count": 8,
      "outputs": [
        {
          "output_type": "stream",
          "name": "stdout",
          "text": [
            "🏃 Entrenando modelo LSTM...\n",
            "✅ Entrenamiento completado en 100 epochs\n",
            "   Loss final: 0.005365\n"
          ]
        }
      ]
    },
    {
      "cell_type": "code",
      "source": [
        "# =====================\n",
        "# VISUALIZAR ENTRENAMIENTO\n",
        "# =====================\n",
        "plt.figure(figsize=(10, 4))\n",
        "plt.plot(history.history['loss'], label='Train Loss')\n",
        "plt.title('Evolución del Loss Durante Entrenamiento')\n",
        "plt.xlabel('Epoch')\n",
        "plt.ylabel('MSE Loss')\n",
        "plt.legend()\n",
        "plt.grid(True)\n",
        "plt.show()"
      ],
      "metadata": {
        "colab": {
          "base_uri": "https://localhost:8080/",
          "height": 410
        },
        "id": "r6FTtCkzTV2E",
        "outputId": "2c4a5793-4361-4427-f2c8-fd64a33f45c5"
      },
      "execution_count": 9,
      "outputs": [
        {
          "output_type": "display_data",
          "data": {
            "text/plain": [
              "<Figure size 1000x400 with 1 Axes>"
            ],
            "image/png": "[encoded data removed]"
          },
          "metadata": {}
        }
      ]
    },
    {
      "cell_type": "code",
      "source": [
        "# =====================\n",
        "# HACER PREDICCIONES\n",
        "# =====================\n",
        "y_pred_scaled = model.predict(X_test, verbose=0)\n",
        "\n",
        "# Desnormalizar\n",
        "y_pred = scaler_y.inverse_transform(y_pred_scaled)\n",
        "y_test_original = scaler_y.inverse_transform(y_test)\n",
        "\n",
        "# Métricas\n",
        "from sklearn.metrics import mean_absolute_error, mean_squared_error\n",
        "\n",
        "mae = mean_absolute_error(y_test_original, y_pred)\n",
        "rmse = np.sqrt(mean_squared_error(y_test_original, y_pred))\n",
        "\n",
        "print(f\"\\n📊 RESULTADOS:\")\n",
        "print(f\"   MAE:  {mae:.2f}°C\")\n",
        "print(f\"   RMSE: {rmse:.2f}°C\")"
      ],
      "metadata": {
        "colab": {
          "base_uri": "https://localhost:8080/"
        },
        "id": "sCwgUOayUy5Z",
        "outputId": "3079c90f-7538-4a4a-c810-39256dcc0a8c"
      },
      "execution_count": 10,
      "outputs": [
        {
          "output_type": "stream",
          "name": "stdout",
          "text": [
            "\n",
            "📊 RESULTADOS:\n",
            "   MAE:  3.55°C\n",
            "   RMSE: 3.68°C\n"
          ]
        }
      ]
    },
    {
      "cell_type": "code",
      "source": [
        "# =====================\n",
        "# VISUALIZAR PREDICCIONES\n",
        "# =====================\n",
        "plt.figure(figsize=(12, 5))\n",
        "plt.plot(y_test_original, label='Temperatura Real', marker='o', linewidth=2)\n",
        "plt.plot(y_pred, label='Predicción LSTM', marker='x', linewidth=2, alpha=0.7)\n",
        "plt.title('Predicciones vs Realidad')\n",
        "plt.xlabel('Día')\n",
        "plt.ylabel('Temperatura (°C)')\n",
        "plt.legend()\n",
        "plt.grid(True)\n",
        "plt.show()"
      ],
      "metadata": {
        "colab": {
          "base_uri": "https://localhost:8080/",
          "height": 487
        },
        "id": "4yTFL5NsU0we",
        "outputId": "fa40418d-b0dd-4e27-cc44-be170956b56e"
      },
      "execution_count": 11,
      "outputs": [
        {
          "output_type": "display_data",
          "data": {
            "text/plain": [
              "<Figure size 1200x500 with 1 Axes>"
            ],
            "image/png": "[encoded data removed]"
          },
          "metadata": {}
        }
      ]
    },
    {
      "cell_type": "code",
      "source": [
        "# =====================\n",
        "# EJEMPLO DETALLADO\n",
        "# =====================\n",
        "print(f\"\\n🔍 Primeras 5 predicciones:\")\n",
        "print(f\"{'Real':>10} {'Predicho':>10} {'Error':>10}\")\n",
        "print(\"-\" * 35)\n",
        "for i in range(min(5, len(y_test_original))):\n",
        "    real = y_test_original[i][0]\n",
        "    pred = y_pred[i][0]\n",
        "    error = abs(real - pred)\n",
        "    print(f\"{real:10.2f} {pred:10.2f} {error:10.2f}\")"
      ],
      "metadata": {
        "colab": {
          "base_uri": "https://localhost:8080/"
        },
        "id": "E8aAC8C-TZan",
        "outputId": "f2f75cfb-a939-4f64-abc8-003dcbb33048"
      },
      "execution_count": 12,
      "outputs": [
        {
          "output_type": "stream",
          "name": "stdout",
          "text": [
            "\n",
            "🔍 Primeras 5 predicciones:\n",
            "      Real   Predicho      Error\n",
            "-----------------------------------\n",
            "     24.83      22.46       2.36\n",
            "     24.96      22.54       2.42\n",
            "     26.26      21.91       4.35\n",
            "     26.07      22.17       3.90\n",
            "     26.28      21.57       4.71\n"
          ]
        }
      ]
    },
    {
      "cell_type": "code",
      "source": [
        "# =====================\n",
        "# ARQUITECTURAS A COMPARAR\n",
        "# =====================\n",
        "arquitecturas = {\n",
        "    'LSTM Simple (16)': keras.Sequential([\n",
        "        layers.LSTM(16, input_shape=(7, 1)),\n",
        "        layers.Dense(1)\n",
        "    ]),\n",
        "\n",
        "    'LSTM Simple (32)': keras.Sequential([\n",
        "        layers.LSTM(32, input_shape=(7, 1)),\n",
        "        layers.Dense(1)\n",
        "    ]),\n",
        "\n",
        "    'LSTM Simple (64)': keras.Sequential([\n",
        "        layers.LSTM(64, input_shape=(7, 1)),\n",
        "        layers.Dense(1)\n",
        "    ]),\n",
        "\n",
        "    'LSTM Apilada': keras.Sequential([\n",
        "        layers.LSTM(32, return_sequences=True, input_shape=(7, 1)),\n",
        "        layers.LSTM(16),\n",
        "        layers.Dense(1)\n",
        "    ]),\n",
        "\n",
        "    'LSTM + Dropout': keras.Sequential([\n",
        "        layers.LSTM(32, dropout=0.2, input_shape=(7, 1)),\n",
        "        layers.Dense(1)\n",
        "    ])\n",
        "}\n",
        "\n",
        "# Entrenar y evaluar cada arquitectura\n",
        "resultados = {}\n",
        "\n",
        "for nombre, modelo in arquitecturas.items():\n",
        "    print(f\"\\n🔄 Entrenando: {nombre}\")\n",
        "\n",
        "    modelo.compile(optimizer='adam', loss='mse', metrics=['mae'])\n",
        "\n",
        "    history = modelo.fit(\n",
        "        X_train, y_train,\n",
        "        epochs=50,\n",
        "        batch_size=4,\n",
        "        verbose=0,\n",
        "        callbacks=[EarlyStopping(patience=10, restore_best_weights=True)]\n",
        "    )\n",
        "\n",
        "    # Predecir\n",
        "    y_pred = modelo.predict(X_test, verbose=0)\n",
        "    y_pred = scaler_y.inverse_transform(y_pred)\n",
        "    y_test_orig = scaler_y.inverse_transform(y_test)\n",
        "\n",
        "    # Métricas\n",
        "    mae = mean_absolute_error(y_test_orig, y_pred)\n",
        "    rmse = np.sqrt(mean_squared_error(y_test_orig, y_pred))\n",
        "    params = modelo.count_params()\n",
        "\n",
        "    resultados[nombre] = {\n",
        "        'MAE': mae,\n",
        "        'RMSE': rmse,\n",
        "        'Parámetros': params\n",
        "    }\n"
      ],
      "metadata": {
        "colab": {
          "base_uri": "https://localhost:8080/"
        },
        "id": "3SmsvQqIY4Jw",
        "outputId": "00f9f5f9-1691-4eb9-dc8e-826027e754f1"
      },
      "execution_count": 13,
      "outputs": [
        {
          "output_type": "stream",
          "name": "stderr",
          "text": [
            "/usr/local/lib/python3.12/dist-packages/keras/src/layers/rnn/rnn.py:199: UserWarning: Do not pass an `input_shape`/`input_dim` argument to a layer. When using Sequential models, prefer using an `Input(shape)` object as the first layer in the model instead.\n",
            "  super().__init__(**kwargs)\n"
          ]
        },
        {
          "output_type": "stream",
          "name": "stdout",
          "text": [
            "\n",
            "🔄 Entrenando: LSTM Simple (16)\n"
          ]
        },
        {
          "output_type": "stream",
          "name": "stderr",
          "text": [
            "/usr/local/lib/python3.12/dist-packages/keras/src/callbacks/early_stopping.py:153: UserWarning: Early stopping conditioned on metric `val_loss` which is not available. Available metrics are: loss,mae\n",
            "  current = self.get_monitor_value(logs)\n"
          ]
        },
        {
          "output_type": "stream",
          "name": "stdout",
          "text": [
            "\n",
            "🔄 Entrenando: LSTM Simple (32)\n"
          ]
        },
        {
          "output_type": "stream",
          "name": "stderr",
          "text": [
            "/usr/local/lib/python3.12/dist-packages/keras/src/callbacks/early_stopping.py:153: UserWarning: Early stopping conditioned on metric `val_loss` which is not available. Available metrics are: loss,mae\n",
            "  current = self.get_monitor_value(logs)\n"
          ]
        },
        {
          "output_type": "stream",
          "name": "stdout",
          "text": [
            "\n",
            "🔄 Entrenando: LSTM Simple (64)\n"
          ]
        },
        {
          "output_type": "stream",
          "name": "stderr",
          "text": [
            "/usr/local/lib/python3.12/dist-packages/keras/src/callbacks/early_stopping.py:153: UserWarning: Early stopping conditioned on metric `val_loss` which is not available. Available metrics are: loss,mae\n",
            "  current = self.get_monitor_value(logs)\n"
          ]
        },
        {
          "output_type": "stream",
          "name": "stdout",
          "text": [
            "\n",
            "🔄 Entrenando: LSTM Apilada\n"
          ]
        },
        {
          "output_type": "stream",
          "name": "stderr",
          "text": [
            "/usr/local/lib/python3.12/dist-packages/keras/src/callbacks/early_stopping.py:153: UserWarning: Early stopping conditioned on metric `val_loss` which is not available. Available metrics are: loss,mae\n",
            "  current = self.get_monitor_value(logs)\n",
            "WARNING:tensorflow:5 out of the last 5 calls to <function TensorFlowTrainer.make_predict_function.<locals>.one_step_on_data_distributed at 0x78dd24c6dee0> triggered tf.function retracing. Tracing is expensive and the excessive number of tracings could be due to (1) creating @tf.function repeatedly in a loop, (2) passing tensors with different shapes, (3) passing Python objects instead of tensors. For (1), please define your @tf.function outside of the loop. For (2), @tf.function has reduce_retracing=True option that can avoid unnecessary retracing. For (3), please refer to https://www.tensorflow.org/guide/function#controlling_retracing and https://www.tensorflow.org/api_docs/python/tf/function for  more details.\n"
          ]
        },
        {
          "output_type": "stream",
          "name": "stdout",
          "text": [
            "\n",
            "🔄 Entrenando: LSTM + Dropout\n"
          ]
        },
        {
          "output_type": "stream",
          "name": "stderr",
          "text": [
            "/usr/local/lib/python3.12/dist-packages/keras/src/callbacks/early_stopping.py:153: UserWarning: Early stopping conditioned on metric `val_loss` which is not available. Available metrics are: loss,mae\n",
            "  current = self.get_monitor_value(logs)\n",
            "WARNING:tensorflow:6 out of the last 6 calls to <function TensorFlowTrainer.make_predict_function.<locals>.one_step_on_data_distributed at 0x78dd243dc680> triggered tf.function retracing. Tracing is expensive and the excessive number of tracings could be due to (1) creating @tf.function repeatedly in a loop, (2) passing tensors with different shapes, (3) passing Python objects instead of tensors. For (1), please define your @tf.function outside of the loop. For (2), @tf.function has reduce_retracing=True option that can avoid unnecessary retracing. For (3), please refer to https://www.tensorflow.org/guide/function#controlling_retracing and https://www.tensorflow.org/api_docs/python/tf/function for  more details.\n"
          ]
        }
      ]
    },
    {
      "cell_type": "code",
      "source": [
        "# =====================\n",
        "# TABLA COMPARATIVA\n",
        "# =====================\n",
        "print(\"\\n\" + \"=\"*70)\n",
        "print(f\"{'Arquitectura':<25} {'MAE (°C)':<12} {'RMSE (°C)':<12} {'Parámetros':<12}\")\n",
        "print(\"=\"*70)\n",
        "\n",
        "for nombre, metricas in resultados.items():\n",
        "    print(f\"{nombre:<25} {metricas['MAE']:>10.2f} {metricas['RMSE']:>11.2f} {metricas['Parámetros']:>11,}\")\n",
        "\n",
        "print(\"=\"*70)"
      ],
      "metadata": {
        "colab": {
          "base_uri": "https://localhost:8080/"
        },
        "id": "jW79FAiVY6iq",
        "outputId": "ca8ca1c8-43f5-4417-b87d-e379d1c125aa"
      },
      "execution_count": 14,
      "outputs": [
        {
          "output_type": "stream",
          "name": "stdout",
          "text": [
            "\n",
            "======================================================================\n",
            "Arquitectura              MAE (°C)     RMSE (°C)    Parámetros  \n",
            "======================================================================\n",
            "LSTM Simple (16)                5.31        5.35       1,169\n",
            "LSTM Simple (32)                4.61        4.80       4,385\n",
            "LSTM Simple (64)                2.93        3.10      16,961\n",
            "LSTM Apilada                    5.33        5.48       7,505\n",
            "LSTM + Dropout                  5.71        5.78       4,385\n",
            "======================================================================\n"
          ]
        }
      ]
    },
    {
      "cell_type": "code",
      "source": [
        "# =====================\n",
        "# VISUALIZAR COMPARACIÓN\n",
        "# =====================\n",
        "nombres = list(resultados.keys())\n",
        "maes = [resultados[n]['MAE'] for n in nombres]\n",
        "\n",
        "plt.figure(figsize=(10, 6))\n",
        "plt.bar(range(len(nombres)), maes, color='steelblue')\n",
        "plt.xticks(range(len(nombres)), nombres, rotation=45, ha='right')\n",
        "plt.ylabel('MAE (°C)')\n",
        "plt.title('Comparación de Arquitecturas LSTM')\n",
        "plt.grid(axis='y', alpha=0.3)\n",
        "plt.tight_layout()\n",
        "plt.show()"
      ],
      "metadata": {
        "colab": {
          "base_uri": "https://localhost:8080/",
          "height": 607
        },
        "id": "yfFOZavzTmx0",
        "outputId": "584eb1b9-1035-412d-c719-60a07519e963"
      },
      "execution_count": 15,
      "outputs": [
        {
          "output_type": "display_data",
          "data": {
            "text/plain": [
              "<Figure size 1000x600 with 1 Axes>"
            ],
            "image/png": "[encoded data removed]"
          },
          "metadata": {}
        }
      ]
    },
    {
      "cell_type": "markdown",
      "source": [
        "🎓 Resumen\n",
        "Este ejemplo muestra:\n",
        "\n",
        "* ✅ Cómo preparar datos temporales para LSTM\n",
        "* ✅ La arquitectura básica de un LSTM (32 units)\n",
        "* ✅ Cómo entrenar y evaluar\n",
        "* ✅ Cómo visualizar estados internos\n",
        "* ✅ Comparación de arquitecturas\n",
        "\n",
        "Recuerda: LSTM es poderoso para secuencias, pero requiere datos bien preparados y paciencia en el entrenamiento. ¡Experimenta con diferentes configuraciones!"
      ],
      "metadata": {
        "id": "EZ14GxoUUAzJ"
      }
    }
  ]
}
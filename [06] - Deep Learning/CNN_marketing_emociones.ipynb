{
  "cells": [
    {
      "cell_type": "markdown",
      "metadata": {
        "id": "view-in-github",
        "colab_type": "text"
      },
      "source": [
        "<a href=\"https://colab.research.google.com/github/dtoralg/INESDI_Data-Science_ML_IA/blob/main/%5B06%5D%20-%20Deep%20Learning/CNN_marketing_emociones.ipynb\" target=\"_parent\"><img src=\"https://colab.research.google.com/assets/colab-badge.svg\" alt=\"Open In Colab\"/></a>"
      ]
    },
    {
      "cell_type": "markdown",
      "metadata": {
        "id": "OGXXUmYYH8VK"
      },
      "source": [
        "# 🎯 Caso Práctico: CNN para Marketing\n",
        "# Clasificador de Emociones en Imágenes\n",
        "\n",
        "---\n",
        "\n",
        "## 📋 Información del Módulo\n",
        "\n",
        "**Asignatura:** Data Analytics: Data Science, Machine Learning e Inteligencia Artificial  \n",
        "**Máster:** FP en Business Analytics e Inteligencia Artificial  \n",
        "**Profesores:** Álvaro López Barberá\n",
        "**Ejemplo Práctico:**  Deep Learning (CNN)\n",
        "\n",
        "---\n",
        "\n",
        "## 🎓 Objetivo\n",
        "\n",
        "Desarrollar un clasificador de emociones basado en Redes Neuronales Convolucionales (CNN) para analizar imágenes y detectar expresiones faciales, con aplicación directa a casos de uso en marketing digital.\n",
        "\n",
        "**Dataset:** FER-2013 (Facial Expression Recognition)  \n",
        "**7 Emociones:** Enojado, Disgustado, Asustado, Feliz, Triste, Sorprendido, Neutral\n",
        "\n",
        "---\n",
        "\n",
        "### ⚙️ Configuración inicial\n",
        "\n",
        "**Antes de empezar:**\n",
        "1. Activa GPU: `Runtime → Change runtime type → GPU`\n",
        "2. Ejecuta las celdas con `Shift + Enter`"
      ]
    },
    {
      "cell_type": "markdown",
      "metadata": {
        "id": "kcFcfv3UH8VO"
      },
      "source": [
        "---\n",
        "\n",
        "## 📦 PASO 1: Instalación y Configuración Inicial"
      ]
    },
    {
      "cell_type": "code",
      "execution_count": 1,
      "metadata": {
        "colab": {
          "base_uri": "https://localhost:8080/"
        },
        "id": "lFEADkPgH8VP",
        "outputId": "d3a25f6f-4ad2-452f-811a-2e2bd3b6346b"
      },
      "source": [
        "print(\"📦 Instalando dependencias...\")\n",
        "\n",
        "# Verificar versiones\n",
        "import tensorflow as tf\n",
        "print(f\"✅ TensorFlow: {tf.__version__}\")\n",
        "\n",
        "# Imports necesarios\n",
        "import numpy as np\n",
        "import matplotlib.pyplot as plt\n",
        "import seaborn as sns\n",
        "from sklearn.model_selection import train_test_split\n",
        "from sklearn.metrics import classification_report, confusion_matrix\n",
        "import pandas as pd\n",
        "from tensorflow import keras\n",
        "from tensorflow.keras import layers, models\n",
        "from tensorflow.keras.preprocessing.image import ImageDataGenerator\n",
        "from tensorflow.keras.callbacks import EarlyStopping, ReduceLROnPlateau\n",
        "import warnings\n",
        "warnings.filterwarnings('ignore')\n",
        "\n",
        "# Configuración de visualización\n",
        "plt.style.use('seaborn-v0_8-darkgrid')\n",
        "sns.set_palette(\"husl\")\n",
        "\n",
        "print(\"\\n✅ Librerías cargadas correctamente\")"
      ],
      "outputs": [
        {
          "output_type": "stream",
          "name": "stdout",
          "text": [
            "📦 Instalando dependencias...\n",
            "✅ TensorFlow: 2.19.0\n",
            "\n",
            "✅ Librerías cargadas correctamente\n"
          ]
        }
      ]
    },
    {
      "cell_type": "markdown",
      "metadata": {
        "id": "6cnwLnneH8VQ"
      },
      "source": [
        "---\n",
        "\n",
        "## 📊 PASO 2: Carga y Exploración del Dataset FER-2013"
      ]
    },
    {
      "cell_type": "markdown",
      "metadata": {
        "id": "eTMghkkOH8VQ"
      },
      "source": [
        "### Descarga del dataset\n",
        "\n",
        "**Ejecuta UNA de estas opciones:**"
      ]
    },
    {
      "cell_type": "code",
      "source": [
        "import kagglehub\n",
        "\n",
        "# Download latest version\n",
        "path = kagglehub.dataset_download(\"msambare/fer2013\")\n",
        "\n",
        "print(\"Path to dataset files:\", path)"
      ],
      "metadata": {
        "colab": {
          "base_uri": "https://localhost:8080/"
        },
        "id": "W_eDafd9PTd2",
        "outputId": "e93e2615-a1a1-4298-b174-d47f54f7d5c9"
      },
      "execution_count": 2,
      "outputs": [
        {
          "output_type": "stream",
          "name": "stdout",
          "text": [
            "Using Colab cache for faster access to the 'fer2013' dataset.\n",
            "Path to dataset files: /kaggle/input/fer2013\n"
          ]
        }
      ]
    },
    {
      "cell_type": "code",
      "execution_count": null,
      "metadata": {
        "id": "3kVjLS8VH8VQ"
      },
      "source": [
        "# OPCIÓN 1: Desde Kaggle (RECOMENDADO)\n",
        "# Necesitas tu API token de Kaggle\n",
        "\n",
        "# !pip install kaggle\n",
        "# !mkdir -p ~/.kaggle\n",
        "# !cp kaggle.json ~/.kaggle/\n",
        "# !chmod 600 ~/.kaggle/kaggle.json\n",
        "# !kaggle datasets download -d msambare/fer2013\n",
        "# !unzip fer2013.zip"
      ],
      "outputs": []
    },
    {
      "cell_type": "code",
      "execution_count": null,
      "metadata": {
        "id": "ztQrVuytH8VR"
      },
      "source": [
        "# OPCIÓN 2: Desde URL directa (si está disponible)\n",
        "# !wget https://www.dropbox.com/s/7r5g9u0k8h4g3qs/fer2013.csv"
      ],
      "outputs": []
    },
    {
      "cell_type": "code",
      "execution_count": 3,
      "metadata": {
        "colab": {
          "base_uri": "https://localhost:8080/"
        },
        "id": "3ECN8Sa1H8VR",
        "outputId": "6f3dd0bb-74ae-4491-fe91-5aa3252c15ee"
      },
      "source": [
        "print(\"=\" * 80)\n",
        "print(\"PASO 2: CARGA DE DATOS - FER-2013 Dataset\")\n",
        "print(\"=\" * 80)\n",
        "\n",
        "# Clases de emociones\n",
        "emotion_labels = {\n",
        "    0: 'Enojado',\n",
        "    1: 'Disgustado',\n",
        "    2: 'Asustado',\n",
        "    3: 'Feliz',\n",
        "    4: 'Triste',\n",
        "    5: 'Sorprendido',\n",
        "    6: 'Neutral'\n",
        "}\n",
        "\n",
        "# Dimensiones\n",
        "IMG_SIZE = 48\n",
        "NUM_CLASSES = 7\n",
        "\n",
        "print(f\"\\n📐 Características del dataset:\")\n",
        "print(f\"   • Dimensión imágenes: {IMG_SIZE}x{IMG_SIZE} píxeles\")\n",
        "print(f\"   • Canales: 1 (Escala de grises)\")\n",
        "print(f\"   • Número de clases: {NUM_CLASSES}\")\n",
        "print(f\"   • Clases: {list(emotion_labels.values())}\")"
      ],
      "outputs": [
        {
          "output_type": "stream",
          "name": "stdout",
          "text": [
            "================================================================================\n",
            "PASO 2: CARGA DE DATOS - FER-2013 Dataset\n",
            "================================================================================\n",
            "\n",
            "📐 Características del dataset:\n",
            "   • Dimensión imágenes: 48x48 píxeles\n",
            "   • Canales: 1 (Escala de grises)\n",
            "   • Número de clases: 7\n",
            "   • Clases: ['Enojado', 'Disgustado', 'Asustado', 'Feliz', 'Triste', 'Sorprendido', 'Neutral']\n"
          ]
        }
      ]
    },
    {
      "cell_type": "markdown",
      "metadata": {
        "id": "P4YPOMcnH8VS"
      },
      "source": [
        "### Función para cargar datos reales"
      ]
    },
    {
      "cell_type": "code",
      "execution_count": 4,
      "metadata": {
        "id": "FOoygO1eH8VS"
      },
      "source": [
        "def cargar_fer2013(csv_path):\n",
        "    \"\"\"\n",
        "    Carga el dataset FER-2013 desde CSV\n",
        "\n",
        "    Args:\n",
        "        csv_path: Ruta al archivo fer2013.csv\n",
        "\n",
        "    Returns:\n",
        "        X: Array de imágenes (n_samples, 48, 48, 1)\n",
        "        y: Array de etiquetas one-hot encoded (n_samples, 7)\n",
        "    \"\"\"\n",
        "    print(f\"📂 Cargando dataset desde: {csv_path}\")\n",
        "    df = pd.read_csv(csv_path)\n",
        "\n",
        "    print(f\"✅ Dataset cargado: {len(df)} imágenes\")\n",
        "\n",
        "    # Extraer píxeles y etiquetas\n",
        "    pixels = df['pixels'].tolist()\n",
        "    emotions = df['emotion'].values\n",
        "\n",
        "    # Convertir strings de píxeles a arrays\n",
        "    X = []\n",
        "    for i, pixel_sequence in enumerate(pixels):\n",
        "        if i % 5000 == 0:\n",
        "            print(f\"   Procesando imagen {i}/{len(pixels)}...\")\n",
        "        face = [int(pixel) for pixel in pixel_sequence.split()]\n",
        "        face = np.array(face).reshape(48, 48, 1)\n",
        "        X.append(face)\n",
        "\n",
        "    X = np.array(X, dtype='float32')\n",
        "    y = keras.utils.to_categorical(emotions, NUM_CLASSES)\n",
        "\n",
        "    # Normalizar\n",
        "    X = X / 255.0\n",
        "\n",
        "    print(f\"✅ Procesamiento completado\")\n",
        "    print(f\"   • Shape X: {X.shape}\")\n",
        "    print(f\"   • Shape y: {y.shape}\")\n",
        "\n",
        "    return X, y"
      ],
      "outputs": []
    },
    {
      "cell_type": "markdown",
      "metadata": {
        "id": "oQcNbKUMH8VS"
      },
      "source": [
        "---\n",
        "\n",
        "## 🔧 PASO 3: Preparación de Datos"
      ]
    },
    {
      "cell_type": "code",
      "execution_count": 5,
      "metadata": {
        "colab": {
          "base_uri": "https://localhost:8080/"
        },
        "id": "-el6NPLQH8VS",
        "outputId": "472ed103-052d-4b72-d846-1a76803bcd7b"
      },
      "source": [
        "print(\"=\" * 80)\n",
        "print(\"PASO 3: PREPARACIÓN DE DATOS\")\n",
        "print(\"=\" * 80)\n",
        "\n",
        "# IMPORTANTE: Elige UNA de las dos opciones\n",
        "\n",
        "# -----------------------------------------------------------------------------\n",
        "# OPCIÓN A: DATOS SINTÉTICOS (SOLO PARA DEMO RÁPIDA)\n",
        "# -----------------------------------------------------------------------------\n",
        "print(\"\\n⚠️  MODO DEMO: Usando datos sintéticos\")\n",
        "print(\"   Para usar datos reales, comenta esta sección y descomenta la siguiente\")\n",
        "\n",
        "np.random.seed(42)\n",
        "tf.random.set_seed(42)\n",
        "\n",
        "n_samples = 1400  # 200 por clase\n",
        "X_all = np.random.rand(n_samples, IMG_SIZE, IMG_SIZE, 1).astype('float32')\n",
        "y_all = np.random.randint(0, NUM_CLASSES, n_samples)\n",
        "y_all = keras.utils.to_categorical(y_all, NUM_CLASSES)\n",
        "\n",
        "# -----------------------------------------------------------------------------\n",
        "# OPCIÓN B: DATOS REALES FER-2013 (USAR EN CLASE REAL)\n",
        "# -----------------------------------------------------------------------------\n",
        "# Descomentar estas líneas para usar datos reales:\n",
        "# X_all, y_all = cargar_fer2013('fer2013.csv')  # Ajustar ruta si es necesario"
      ],
      "outputs": [
        {
          "output_type": "stream",
          "name": "stdout",
          "text": [
            "================================================================================\n",
            "PASO 3: PREPARACIÓN DE DATOS\n",
            "================================================================================\n",
            "\n",
            "⚠️  MODO DEMO: Usando datos sintéticos\n",
            "   Para usar datos reales, comenta esta sección y descomenta la siguiente\n"
          ]
        }
      ]
    },
    {
      "cell_type": "code",
      "execution_count": 6,
      "metadata": {
        "colab": {
          "base_uri": "https://localhost:8080/"
        },
        "id": "LaDw1eAGH8VS",
        "outputId": "dddeee3f-c563-4f1d-966b-6fc752eb1676"
      },
      "source": [
        "# División de datos: 70% train, 15% validation, 15% test\n",
        "X_train, X_temp, y_train, y_temp = train_test_split(\n",
        "    X_all, y_all, test_size=0.3, random_state=42, stratify=y_all\n",
        ")\n",
        "\n",
        "X_val, X_test, y_val, y_test = train_test_split(\n",
        "    X_temp, y_temp, test_size=0.5, random_state=42, stratify=y_temp\n",
        ")\n",
        "\n",
        "print(f\"\\n✅ División de datos completada:\")\n",
        "print(f\"   • Entrenamiento: {X_train.shape[0]} imágenes ({X_train.shape[0]/len(X_all)*100:.1f}%)\")\n",
        "print(f\"   • Validación: {X_val.shape[0]} imágenes ({X_val.shape[0]/len(X_all)*100:.1f}%)\")\n",
        "print(f\"   • Test: {X_test.shape[0]} imágenes ({X_test.shape[0]/len(X_all)*100:.1f}%)\")"
      ],
      "outputs": [
        {
          "output_type": "stream",
          "name": "stdout",
          "text": [
            "\n",
            "✅ División de datos completada:\n",
            "   • Entrenamiento: 980 imágenes (70.0%)\n",
            "   • Validación: 210 imágenes (15.0%)\n",
            "   • Test: 210 imágenes (15.0%)\n"
          ]
        }
      ]
    },
    {
      "cell_type": "code",
      "execution_count": 7,
      "metadata": {
        "colab": {
          "base_uri": "https://localhost:8080/"
        },
        "id": "JvuxxwqgH8VT",
        "outputId": "06031e4c-52aa-4f02-c108-d561a250fa66"
      },
      "source": [
        "# Visualizar distribución de clases\n",
        "print(f\"\\n📊 Distribución de emociones en entrenamiento:\")\n",
        "train_distribution = np.argmax(y_train, axis=1)\n",
        "\n",
        "for emotion_id, emotion_name in emotion_labels.items():\n",
        "    count = np.sum(train_distribution == emotion_id)\n",
        "    percentage = (count / len(train_distribution)) * 100\n",
        "    bar = \"█\" * int(percentage / 5)\n",
        "    print(f\"   {emotion_name:12} | {bar:20} {count:4} ({percentage:5.1f}%)\")"
      ],
      "outputs": [
        {
          "output_type": "stream",
          "name": "stdout",
          "text": [
            "\n",
            "📊 Distribución de emociones en entrenamiento:\n",
            "   Enojado      | ██                    142 ( 14.5%)\n",
            "   Disgustado   | ██                    134 ( 13.7%)\n",
            "   Asustado     | ██                    144 ( 14.7%)\n",
            "   Feliz        | ██                    139 ( 14.2%)\n",
            "   Triste       | ███                   151 ( 15.4%)\n",
            "   Sorprendido  | ██                    123 ( 12.6%)\n",
            "   Neutral      | ███                   147 ( 15.0%)\n"
          ]
        }
      ]
    },
    {
      "cell_type": "markdown",
      "metadata": {
        "id": "o2-AAo2uH8VT"
      },
      "source": [
        "---\n",
        "\n",
        "## 🔄 PASO 4: Data Augmentation"
      ]
    },
    {
      "cell_type": "code",
      "execution_count": 8,
      "metadata": {
        "colab": {
          "base_uri": "https://localhost:8080/"
        },
        "id": "JO-EyDKAH8VT",
        "outputId": "a66e05fc-7311-4639-ce2a-968ceaf516a0"
      },
      "source": [
        "print(\"=\" * 80)\n",
        "print(\"PASO 4: DATA AUGMENTATION\")\n",
        "print(\"=\" * 80)\n",
        "\n",
        "print(\"\\n🔄 Configurando técnicas de augmentación...\")\n",
        "\n",
        "# Generador con augmentación para entrenamiento\n",
        "train_datagen = ImageDataGenerator(\n",
        "    rotation_range=10,\n",
        "    width_shift_range=0.1,\n",
        "    height_shift_range=0.1,\n",
        "    horizontal_flip=True,\n",
        "    zoom_range=0.1,\n",
        "    fill_mode='nearest'\n",
        ")\n",
        "\n",
        "# Sin augmentación para validación\n",
        "val_datagen = ImageDataGenerator()\n",
        "\n",
        "print(\"✅ Augmentación configurada:\")\n",
        "print(\"   • Rotación: ±10°\")\n",
        "print(\"   • Desplazamiento: 10%\")\n",
        "print(\"   • Zoom: 10%\")\n",
        "print(\"   • Flip horizontal: Sí\")\n",
        "print(\"\\n💡 Esto ayuda a que el modelo generalice mejor\")"
      ],
      "outputs": [
        {
          "output_type": "stream",
          "name": "stdout",
          "text": [
            "================================================================================\n",
            "PASO 4: DATA AUGMENTATION\n",
            "================================================================================\n",
            "\n",
            "🔄 Configurando técnicas de augmentación...\n",
            "✅ Augmentación configurada:\n",
            "   • Rotación: ±10°\n",
            "   • Desplazamiento: 10%\n",
            "   • Zoom: 10%\n",
            "   • Flip horizontal: Sí\n",
            "\n",
            "💡 Esto ayuda a que el modelo generalice mejor\n"
          ]
        }
      ]
    },
    {
      "cell_type": "markdown",
      "metadata": {
        "id": "5cHXDb1EH8VT"
      },
      "source": [
        "---\n",
        "\n",
        "## 🏗️ PASO 5: Arquitectura CNN"
      ]
    },
    {
      "cell_type": "code",
      "execution_count": 9,
      "metadata": {
        "colab": {
          "base_uri": "https://localhost:8080/",
          "height": 972
        },
        "id": "Cw4LmbSmH8VT",
        "outputId": "942d36f9-1808-4c0d-8415-5b87951e528f"
      },
      "source": [
        "print(\"=\" * 80)\n",
        "print(\"PASO 5: ARQUITECTURA CNN PERSONALIZADA\")\n",
        "print(\"=\" * 80)\n",
        "\n",
        "def crear_modelo_cnn_basico():\n",
        "    \"\"\"\n",
        "    Arquitectura CNN para clasificación de emociones\n",
        "\n",
        "    Estructura:\n",
        "    - 3 bloques convolucionales (32, 64, 128 filtros)\n",
        "    - BatchNormalization + MaxPooling + Dropout\n",
        "    - 2 capas densas\n",
        "    - Softmax para 7 clases\n",
        "    \"\"\"\n",
        "\n",
        "    model = models.Sequential(name='EmotionCNN')\n",
        "\n",
        "    # Bloque 1\n",
        "    model.add(layers.Conv2D(32, (3, 3), activation='relu',\n",
        "                           input_shape=(IMG_SIZE, IMG_SIZE, 1),\n",
        "                           padding='same', name='conv1'))\n",
        "    model.add(layers.BatchNormalization())\n",
        "    model.add(layers.MaxPooling2D((2, 2)))\n",
        "    model.add(layers.Dropout(0.25))\n",
        "\n",
        "    # Bloque 2\n",
        "    model.add(layers.Conv2D(64, (3, 3), activation='relu',\n",
        "                           padding='same', name='conv2'))\n",
        "    model.add(layers.BatchNormalization())\n",
        "    model.add(layers.MaxPooling2D((2, 2)))\n",
        "    model.add(layers.Dropout(0.25))\n",
        "\n",
        "    # Bloque 3\n",
        "    model.add(layers.Conv2D(128, (3, 3), activation='relu',\n",
        "                           padding='same', name='conv3'))\n",
        "    model.add(layers.BatchNormalization())\n",
        "    model.add(layers.MaxPooling2D((2, 2)))\n",
        "    model.add(layers.Dropout(0.25))\n",
        "\n",
        "    # Flatten y capas densas\n",
        "    model.add(layers.Flatten())\n",
        "    model.add(layers.Dense(256, activation='relu'))\n",
        "    model.add(layers.BatchNormalization())\n",
        "    model.add(layers.Dropout(0.5))\n",
        "\n",
        "    model.add(layers.Dense(128, activation='relu'))\n",
        "    model.add(layers.Dropout(0.4))\n",
        "\n",
        "    # Salida\n",
        "    model.add(layers.Dense(NUM_CLASSES, activation='softmax'))\n",
        "\n",
        "    return model\n",
        "\n",
        "# Crear modelo\n",
        "print(\"🏗️  Construyendo arquitectura...\\n\")\n",
        "model = crear_modelo_cnn_basico()\n",
        "\n",
        "# Mostrar resumen\n",
        "model.summary()\n",
        "\n",
        "# Parámetros\n",
        "total_params = model.count_params()\n",
        "print(f\"\\n📊 Total de parámetros: {total_params:,}\")"
      ],
      "outputs": [
        {
          "output_type": "stream",
          "name": "stdout",
          "text": [
            "================================================================================\n",
            "PASO 5: ARQUITECTURA CNN PERSONALIZADA\n",
            "================================================================================\n",
            "🏗️  Construyendo arquitectura...\n",
            "\n"
          ]
        },
        {
          "output_type": "display_data",
          "data": {
            "text/plain": [
              "\u001b[1mModel: \"EmotionCNN\"\u001b[0m\n"
            ],
            "text/html": [
              "<pre style=\"white-space:pre;overflow-x:auto;line-height:normal;font-family:Menlo,'DejaVu Sans Mono',consolas,'Courier New',monospace\"><span style=\"font-weight: bold\">Model: \"EmotionCNN\"</span>\n",
              "</pre>\n"
            ]
          },
          "metadata": {}
        },
        {
          "output_type": "display_data",
          "data": {
            "text/plain": [
              "┏━━━━━━━━━━━━━━━━━━━━━━━━━━━━━━━━━┳━━━━━━━━━━━━━━━━━━━━━━━━┳━━━━━━━━━━━━━━━┓\n",
              "┃\u001b[1m \u001b[0m\u001b[1mLayer (type)                   \u001b[0m\u001b[1m \u001b[0m┃\u001b[1m \u001b[0m\u001b[1mOutput Shape          \u001b[0m\u001b[1m \u001b[0m┃\u001b[1m \u001b[0m\u001b[1m      Param #\u001b[0m\u001b[1m \u001b[0m┃\n",
              "┡━━━━━━━━━━━━━━━━━━━━━━━━━━━━━━━━━╇━━━━━━━━━━━━━━━━━━━━━━━━╇━━━━━━━━━━━━━━━┩\n",
              "│ conv1 (\u001b[38;5;33mConv2D\u001b[0m)                  │ (\u001b[38;5;45mNone\u001b[0m, \u001b[38;5;34m48\u001b[0m, \u001b[38;5;34m48\u001b[0m, \u001b[38;5;34m32\u001b[0m)     │           \u001b[38;5;34m320\u001b[0m │\n",
              "├─────────────────────────────────┼────────────────────────┼───────────────┤\n",
              "│ batch_normalization             │ (\u001b[38;5;45mNone\u001b[0m, \u001b[38;5;34m48\u001b[0m, \u001b[38;5;34m48\u001b[0m, \u001b[38;5;34m32\u001b[0m)     │           \u001b[38;5;34m128\u001b[0m │\n",
              "│ (\u001b[38;5;33mBatchNormalization\u001b[0m)            │                        │               │\n",
              "├─────────────────────────────────┼────────────────────────┼───────────────┤\n",
              "│ max_pooling2d (\u001b[38;5;33mMaxPooling2D\u001b[0m)    │ (\u001b[38;5;45mNone\u001b[0m, \u001b[38;5;34m24\u001b[0m, \u001b[38;5;34m24\u001b[0m, \u001b[38;5;34m32\u001b[0m)     │             \u001b[38;5;34m0\u001b[0m │\n",
              "├─────────────────────────────────┼────────────────────────┼───────────────┤\n",
              "│ dropout (\u001b[38;5;33mDropout\u001b[0m)               │ (\u001b[38;5;45mNone\u001b[0m, \u001b[38;5;34m24\u001b[0m, \u001b[38;5;34m24\u001b[0m, \u001b[38;5;34m32\u001b[0m)     │             \u001b[38;5;34m0\u001b[0m │\n",
              "├─────────────────────────────────┼────────────────────────┼───────────────┤\n",
              "│ conv2 (\u001b[38;5;33mConv2D\u001b[0m)                  │ (\u001b[38;5;45mNone\u001b[0m, \u001b[38;5;34m24\u001b[0m, \u001b[38;5;34m24\u001b[0m, \u001b[38;5;34m64\u001b[0m)     │        \u001b[38;5;34m18,496\u001b[0m │\n",
              "├─────────────────────────────────┼────────────────────────┼───────────────┤\n",
              "│ batch_normalization_1           │ (\u001b[38;5;45mNone\u001b[0m, \u001b[38;5;34m24\u001b[0m, \u001b[38;5;34m24\u001b[0m, \u001b[38;5;34m64\u001b[0m)     │           \u001b[38;5;34m256\u001b[0m │\n",
              "│ (\u001b[38;5;33mBatchNormalization\u001b[0m)            │                        │               │\n",
              "├─────────────────────────────────┼────────────────────────┼───────────────┤\n",
              "│ max_pooling2d_1 (\u001b[38;5;33mMaxPooling2D\u001b[0m)  │ (\u001b[38;5;45mNone\u001b[0m, \u001b[38;5;34m12\u001b[0m, \u001b[38;5;34m12\u001b[0m, \u001b[38;5;34m64\u001b[0m)     │             \u001b[38;5;34m0\u001b[0m │\n",
              "├─────────────────────────────────┼────────────────────────┼───────────────┤\n",
              "│ dropout_1 (\u001b[38;5;33mDropout\u001b[0m)             │ (\u001b[38;5;45mNone\u001b[0m, \u001b[38;5;34m12\u001b[0m, \u001b[38;5;34m12\u001b[0m, \u001b[38;5;34m64\u001b[0m)     │             \u001b[38;5;34m0\u001b[0m │\n",
              "├─────────────────────────────────┼────────────────────────┼───────────────┤\n",
              "│ conv3 (\u001b[38;5;33mConv2D\u001b[0m)                  │ (\u001b[38;5;45mNone\u001b[0m, \u001b[38;5;34m12\u001b[0m, \u001b[38;5;34m12\u001b[0m, \u001b[38;5;34m128\u001b[0m)    │        \u001b[38;5;34m73,856\u001b[0m │\n",
              "├─────────────────────────────────┼────────────────────────┼───────────────┤\n",
              "│ batch_normalization_2           │ (\u001b[38;5;45mNone\u001b[0m, \u001b[38;5;34m12\u001b[0m, \u001b[38;5;34m12\u001b[0m, \u001b[38;5;34m128\u001b[0m)    │           \u001b[38;5;34m512\u001b[0m │\n",
              "│ (\u001b[38;5;33mBatchNormalization\u001b[0m)            │                        │               │\n",
              "├─────────────────────────────────┼────────────────────────┼───────────────┤\n",
              "│ max_pooling2d_2 (\u001b[38;5;33mMaxPooling2D\u001b[0m)  │ (\u001b[38;5;45mNone\u001b[0m, \u001b[38;5;34m6\u001b[0m, \u001b[38;5;34m6\u001b[0m, \u001b[38;5;34m128\u001b[0m)      │             \u001b[38;5;34m0\u001b[0m │\n",
              "├─────────────────────────────────┼────────────────────────┼───────────────┤\n",
              "│ dropout_2 (\u001b[38;5;33mDropout\u001b[0m)             │ (\u001b[38;5;45mNone\u001b[0m, \u001b[38;5;34m6\u001b[0m, \u001b[38;5;34m6\u001b[0m, \u001b[38;5;34m128\u001b[0m)      │             \u001b[38;5;34m0\u001b[0m │\n",
              "├─────────────────────────────────┼────────────────────────┼───────────────┤\n",
              "│ flatten (\u001b[38;5;33mFlatten\u001b[0m)               │ (\u001b[38;5;45mNone\u001b[0m, \u001b[38;5;34m4608\u001b[0m)           │             \u001b[38;5;34m0\u001b[0m │\n",
              "├─────────────────────────────────┼────────────────────────┼───────────────┤\n",
              "│ dense (\u001b[38;5;33mDense\u001b[0m)                   │ (\u001b[38;5;45mNone\u001b[0m, \u001b[38;5;34m256\u001b[0m)            │     \u001b[38;5;34m1,179,904\u001b[0m │\n",
              "├─────────────────────────────────┼────────────────────────┼───────────────┤\n",
              "│ batch_normalization_3           │ (\u001b[38;5;45mNone\u001b[0m, \u001b[38;5;34m256\u001b[0m)            │         \u001b[38;5;34m1,024\u001b[0m │\n",
              "│ (\u001b[38;5;33mBatchNormalization\u001b[0m)            │                        │               │\n",
              "├─────────────────────────────────┼────────────────────────┼───────────────┤\n",
              "│ dropout_3 (\u001b[38;5;33mDropout\u001b[0m)             │ (\u001b[38;5;45mNone\u001b[0m, \u001b[38;5;34m256\u001b[0m)            │             \u001b[38;5;34m0\u001b[0m │\n",
              "├─────────────────────────────────┼────────────────────────┼───────────────┤\n",
              "│ dense_1 (\u001b[38;5;33mDense\u001b[0m)                 │ (\u001b[38;5;45mNone\u001b[0m, \u001b[38;5;34m128\u001b[0m)            │        \u001b[38;5;34m32,896\u001b[0m │\n",
              "├─────────────────────────────────┼────────────────────────┼───────────────┤\n",
              "│ dropout_4 (\u001b[38;5;33mDropout\u001b[0m)             │ (\u001b[38;5;45mNone\u001b[0m, \u001b[38;5;34m128\u001b[0m)            │             \u001b[38;5;34m0\u001b[0m │\n",
              "├─────────────────────────────────┼────────────────────────┼───────────────┤\n",
              "│ dense_2 (\u001b[38;5;33mDense\u001b[0m)                 │ (\u001b[38;5;45mNone\u001b[0m, \u001b[38;5;34m7\u001b[0m)              │           \u001b[38;5;34m903\u001b[0m │\n",
              "└─────────────────────────────────┴────────────────────────┴───────────────┘\n"
            ],
            "text/html": [
              "<pre style=\"white-space:pre;overflow-x:auto;line-height:normal;font-family:Menlo,'DejaVu Sans Mono',consolas,'Courier New',monospace\">┏━━━━━━━━━━━━━━━━━━━━━━━━━━━━━━━━━┳━━━━━━━━━━━━━━━━━━━━━━━━┳━━━━━━━━━━━━━━━┓\n",
              "┃<span style=\"font-weight: bold\"> Layer (type)                    </span>┃<span style=\"font-weight: bold\"> Output Shape           </span>┃<span style=\"font-weight: bold\">       Param # </span>┃\n",
              "┡━━━━━━━━━━━━━━━━━━━━━━━━━━━━━━━━━╇━━━━━━━━━━━━━━━━━━━━━━━━╇━━━━━━━━━━━━━━━┩\n",
              "│ conv1 (<span style=\"color: #0087ff; text-decoration-color: #0087ff\">Conv2D</span>)                  │ (<span style=\"color: #00d7ff; text-decoration-color: #00d7ff\">None</span>, <span style=\"color: #00af00; text-decoration-color: #00af00\">48</span>, <span style=\"color: #00af00; text-decoration-color: #00af00\">48</span>, <span style=\"color: #00af00; text-decoration-color: #00af00\">32</span>)     │           <span style=\"color: #00af00; text-decoration-color: #00af00\">320</span> │\n",
              "├─────────────────────────────────┼────────────────────────┼───────────────┤\n",
              "│ batch_normalization             │ (<span style=\"color: #00d7ff; text-decoration-color: #00d7ff\">None</span>, <span style=\"color: #00af00; text-decoration-color: #00af00\">48</span>, <span style=\"color: #00af00; text-decoration-color: #00af00\">48</span>, <span style=\"color: #00af00; text-decoration-color: #00af00\">32</span>)     │           <span style=\"color: #00af00; text-decoration-color: #00af00\">128</span> │\n",
              "│ (<span style=\"color: #0087ff; text-decoration-color: #0087ff\">BatchNormalization</span>)            │                        │               │\n",
              "├─────────────────────────────────┼────────────────────────┼───────────────┤\n",
              "│ max_pooling2d (<span style=\"color: #0087ff; text-decoration-color: #0087ff\">MaxPooling2D</span>)    │ (<span style=\"color: #00d7ff; text-decoration-color: #00d7ff\">None</span>, <span style=\"color: #00af00; text-decoration-color: #00af00\">24</span>, <span style=\"color: #00af00; text-decoration-color: #00af00\">24</span>, <span style=\"color: #00af00; text-decoration-color: #00af00\">32</span>)     │             <span style=\"color: #00af00; text-decoration-color: #00af00\">0</span> │\n",
              "├─────────────────────────────────┼────────────────────────┼───────────────┤\n",
              "│ dropout (<span style=\"color: #0087ff; text-decoration-color: #0087ff\">Dropout</span>)               │ (<span style=\"color: #00d7ff; text-decoration-color: #00d7ff\">None</span>, <span style=\"color: #00af00; text-decoration-color: #00af00\">24</span>, <span style=\"color: #00af00; text-decoration-color: #00af00\">24</span>, <span style=\"color: #00af00; text-decoration-color: #00af00\">32</span>)     │             <span style=\"color: #00af00; text-decoration-color: #00af00\">0</span> │\n",
              "├─────────────────────────────────┼────────────────────────┼───────────────┤\n",
              "│ conv2 (<span style=\"color: #0087ff; text-decoration-color: #0087ff\">Conv2D</span>)                  │ (<span style=\"color: #00d7ff; text-decoration-color: #00d7ff\">None</span>, <span style=\"color: #00af00; text-decoration-color: #00af00\">24</span>, <span style=\"color: #00af00; text-decoration-color: #00af00\">24</span>, <span style=\"color: #00af00; text-decoration-color: #00af00\">64</span>)     │        <span style=\"color: #00af00; text-decoration-color: #00af00\">18,496</span> │\n",
              "├─────────────────────────────────┼────────────────────────┼───────────────┤\n",
              "│ batch_normalization_1           │ (<span style=\"color: #00d7ff; text-decoration-color: #00d7ff\">None</span>, <span style=\"color: #00af00; text-decoration-color: #00af00\">24</span>, <span style=\"color: #00af00; text-decoration-color: #00af00\">24</span>, <span style=\"color: #00af00; text-decoration-color: #00af00\">64</span>)     │           <span style=\"color: #00af00; text-decoration-color: #00af00\">256</span> │\n",
              "│ (<span style=\"color: #0087ff; text-decoration-color: #0087ff\">BatchNormalization</span>)            │                        │               │\n",
              "├─────────────────────────────────┼────────────────────────┼───────────────┤\n",
              "│ max_pooling2d_1 (<span style=\"color: #0087ff; text-decoration-color: #0087ff\">MaxPooling2D</span>)  │ (<span style=\"color: #00d7ff; text-decoration-color: #00d7ff\">None</span>, <span style=\"color: #00af00; text-decoration-color: #00af00\">12</span>, <span style=\"color: #00af00; text-decoration-color: #00af00\">12</span>, <span style=\"color: #00af00; text-decoration-color: #00af00\">64</span>)     │             <span style=\"color: #00af00; text-decoration-color: #00af00\">0</span> │\n",
              "├─────────────────────────────────┼────────────────────────┼───────────────┤\n",
              "│ dropout_1 (<span style=\"color: #0087ff; text-decoration-color: #0087ff\">Dropout</span>)             │ (<span style=\"color: #00d7ff; text-decoration-color: #00d7ff\">None</span>, <span style=\"color: #00af00; text-decoration-color: #00af00\">12</span>, <span style=\"color: #00af00; text-decoration-color: #00af00\">12</span>, <span style=\"color: #00af00; text-decoration-color: #00af00\">64</span>)     │             <span style=\"color: #00af00; text-decoration-color: #00af00\">0</span> │\n",
              "├─────────────────────────────────┼────────────────────────┼───────────────┤\n",
              "│ conv3 (<span style=\"color: #0087ff; text-decoration-color: #0087ff\">Conv2D</span>)                  │ (<span style=\"color: #00d7ff; text-decoration-color: #00d7ff\">None</span>, <span style=\"color: #00af00; text-decoration-color: #00af00\">12</span>, <span style=\"color: #00af00; text-decoration-color: #00af00\">12</span>, <span style=\"color: #00af00; text-decoration-color: #00af00\">128</span>)    │        <span style=\"color: #00af00; text-decoration-color: #00af00\">73,856</span> │\n",
              "├─────────────────────────────────┼────────────────────────┼───────────────┤\n",
              "│ batch_normalization_2           │ (<span style=\"color: #00d7ff; text-decoration-color: #00d7ff\">None</span>, <span style=\"color: #00af00; text-decoration-color: #00af00\">12</span>, <span style=\"color: #00af00; text-decoration-color: #00af00\">12</span>, <span style=\"color: #00af00; text-decoration-color: #00af00\">128</span>)    │           <span style=\"color: #00af00; text-decoration-color: #00af00\">512</span> │\n",
              "│ (<span style=\"color: #0087ff; text-decoration-color: #0087ff\">BatchNormalization</span>)            │                        │               │\n",
              "├─────────────────────────────────┼────────────────────────┼───────────────┤\n",
              "│ max_pooling2d_2 (<span style=\"color: #0087ff; text-decoration-color: #0087ff\">MaxPooling2D</span>)  │ (<span style=\"color: #00d7ff; text-decoration-color: #00d7ff\">None</span>, <span style=\"color: #00af00; text-decoration-color: #00af00\">6</span>, <span style=\"color: #00af00; text-decoration-color: #00af00\">6</span>, <span style=\"color: #00af00; text-decoration-color: #00af00\">128</span>)      │             <span style=\"color: #00af00; text-decoration-color: #00af00\">0</span> │\n",
              "├─────────────────────────────────┼────────────────────────┼───────────────┤\n",
              "│ dropout_2 (<span style=\"color: #0087ff; text-decoration-color: #0087ff\">Dropout</span>)             │ (<span style=\"color: #00d7ff; text-decoration-color: #00d7ff\">None</span>, <span style=\"color: #00af00; text-decoration-color: #00af00\">6</span>, <span style=\"color: #00af00; text-decoration-color: #00af00\">6</span>, <span style=\"color: #00af00; text-decoration-color: #00af00\">128</span>)      │             <span style=\"color: #00af00; text-decoration-color: #00af00\">0</span> │\n",
              "├─────────────────────────────────┼────────────────────────┼───────────────┤\n",
              "│ flatten (<span style=\"color: #0087ff; text-decoration-color: #0087ff\">Flatten</span>)               │ (<span style=\"color: #00d7ff; text-decoration-color: #00d7ff\">None</span>, <span style=\"color: #00af00; text-decoration-color: #00af00\">4608</span>)           │             <span style=\"color: #00af00; text-decoration-color: #00af00\">0</span> │\n",
              "├─────────────────────────────────┼────────────────────────┼───────────────┤\n",
              "│ dense (<span style=\"color: #0087ff; text-decoration-color: #0087ff\">Dense</span>)                   │ (<span style=\"color: #00d7ff; text-decoration-color: #00d7ff\">None</span>, <span style=\"color: #00af00; text-decoration-color: #00af00\">256</span>)            │     <span style=\"color: #00af00; text-decoration-color: #00af00\">1,179,904</span> │\n",
              "├─────────────────────────────────┼────────────────────────┼───────────────┤\n",
              "│ batch_normalization_3           │ (<span style=\"color: #00d7ff; text-decoration-color: #00d7ff\">None</span>, <span style=\"color: #00af00; text-decoration-color: #00af00\">256</span>)            │         <span style=\"color: #00af00; text-decoration-color: #00af00\">1,024</span> │\n",
              "│ (<span style=\"color: #0087ff; text-decoration-color: #0087ff\">BatchNormalization</span>)            │                        │               │\n",
              "├─────────────────────────────────┼────────────────────────┼───────────────┤\n",
              "│ dropout_3 (<span style=\"color: #0087ff; text-decoration-color: #0087ff\">Dropout</span>)             │ (<span style=\"color: #00d7ff; text-decoration-color: #00d7ff\">None</span>, <span style=\"color: #00af00; text-decoration-color: #00af00\">256</span>)            │             <span style=\"color: #00af00; text-decoration-color: #00af00\">0</span> │\n",
              "├─────────────────────────────────┼────────────────────────┼───────────────┤\n",
              "│ dense_1 (<span style=\"color: #0087ff; text-decoration-color: #0087ff\">Dense</span>)                 │ (<span style=\"color: #00d7ff; text-decoration-color: #00d7ff\">None</span>, <span style=\"color: #00af00; text-decoration-color: #00af00\">128</span>)            │        <span style=\"color: #00af00; text-decoration-color: #00af00\">32,896</span> │\n",
              "├─────────────────────────────────┼────────────────────────┼───────────────┤\n",
              "│ dropout_4 (<span style=\"color: #0087ff; text-decoration-color: #0087ff\">Dropout</span>)             │ (<span style=\"color: #00d7ff; text-decoration-color: #00d7ff\">None</span>, <span style=\"color: #00af00; text-decoration-color: #00af00\">128</span>)            │             <span style=\"color: #00af00; text-decoration-color: #00af00\">0</span> │\n",
              "├─────────────────────────────────┼────────────────────────┼───────────────┤\n",
              "│ dense_2 (<span style=\"color: #0087ff; text-decoration-color: #0087ff\">Dense</span>)                 │ (<span style=\"color: #00d7ff; text-decoration-color: #00d7ff\">None</span>, <span style=\"color: #00af00; text-decoration-color: #00af00\">7</span>)              │           <span style=\"color: #00af00; text-decoration-color: #00af00\">903</span> │\n",
              "└─────────────────────────────────┴────────────────────────┴───────────────┘\n",
              "</pre>\n"
            ]
          },
          "metadata": {}
        },
        {
          "output_type": "display_data",
          "data": {
            "text/plain": [
              "\u001b[1m Total params: \u001b[0m\u001b[38;5;34m1,308,295\u001b[0m (4.99 MB)\n"
            ],
            "text/html": [
              "<pre style=\"white-space:pre;overflow-x:auto;line-height:normal;font-family:Menlo,'DejaVu Sans Mono',consolas,'Courier New',monospace\"><span style=\"font-weight: bold\"> Total params: </span><span style=\"color: #00af00; text-decoration-color: #00af00\">1,308,295</span> (4.99 MB)\n",
              "</pre>\n"
            ]
          },
          "metadata": {}
        },
        {
          "output_type": "display_data",
          "data": {
            "text/plain": [
              "\u001b[1m Trainable params: \u001b[0m\u001b[38;5;34m1,307,335\u001b[0m (4.99 MB)\n"
            ],
            "text/html": [
              "<pre style=\"white-space:pre;overflow-x:auto;line-height:normal;font-family:Menlo,'DejaVu Sans Mono',consolas,'Courier New',monospace\"><span style=\"font-weight: bold\"> Trainable params: </span><span style=\"color: #00af00; text-decoration-color: #00af00\">1,307,335</span> (4.99 MB)\n",
              "</pre>\n"
            ]
          },
          "metadata": {}
        },
        {
          "output_type": "display_data",
          "data": {
            "text/plain": [
              "\u001b[1m Non-trainable params: \u001b[0m\u001b[38;5;34m960\u001b[0m (3.75 KB)\n"
            ],
            "text/html": [
              "<pre style=\"white-space:pre;overflow-x:auto;line-height:normal;font-family:Menlo,'DejaVu Sans Mono',consolas,'Courier New',monospace\"><span style=\"font-weight: bold\"> Non-trainable params: </span><span style=\"color: #00af00; text-decoration-color: #00af00\">960</span> (3.75 KB)\n",
              "</pre>\n"
            ]
          },
          "metadata": {}
        },
        {
          "output_type": "stream",
          "name": "stdout",
          "text": [
            "\n",
            "📊 Total de parámetros: 1,308,295\n"
          ]
        }
      ]
    },
    {
      "cell_type": "markdown",
      "metadata": {
        "id": "X9x8Gy_XH8VT"
      },
      "source": [
        "---\n",
        "\n",
        "## ⚙️ PASO 6: Compilación del Modelo"
      ]
    },
    {
      "cell_type": "code",
      "execution_count": 10,
      "metadata": {
        "colab": {
          "base_uri": "https://localhost:8080/"
        },
        "id": "hBUGbMq0H8VU",
        "outputId": "5b262a81-7a09-46d4-cb28-aaa68011fa50"
      },
      "source": [
        "print(\"=\" * 80)\n",
        "print(\"PASO 6: COMPILACIÓN DEL MODELO\")\n",
        "print(\"=\" * 80)\n",
        "\n",
        "model.compile(\n",
        "    optimizer=keras.optimizers.Adam(learning_rate=0.001),\n",
        "    loss='categorical_crossentropy',\n",
        "    metrics=['accuracy', keras.metrics.Precision(), keras.metrics.Recall()]\n",
        ")\n",
        "\n",
        "print(\"\\n✅ Modelo compilado:\")\n",
        "print(\"   • Optimizer: Adam (lr=0.001)\")\n",
        "print(\"   • Loss: Categorical Crossentropy\")\n",
        "print(\"   • Métricas: Accuracy, Precision, Recall\")"
      ],
      "outputs": [
        {
          "output_type": "stream",
          "name": "stdout",
          "text": [
            "================================================================================\n",
            "PASO 6: COMPILACIÓN DEL MODELO\n",
            "================================================================================\n",
            "\n",
            "✅ Modelo compilado:\n",
            "   • Optimizer: Adam (lr=0.001)\n",
            "   • Loss: Categorical Crossentropy\n",
            "   • Métricas: Accuracy, Precision, Recall\n"
          ]
        }
      ]
    },
    {
      "cell_type": "markdown",
      "metadata": {
        "id": "bfQQY3MDH8VU"
      },
      "source": [
        "---\n",
        "\n",
        "## 🎯 PASO 7: Callbacks"
      ]
    },
    {
      "cell_type": "code",
      "execution_count": 11,
      "metadata": {
        "colab": {
          "base_uri": "https://localhost:8080/"
        },
        "id": "Xjcn1UpOH8VU",
        "outputId": "d348f47c-b70d-4292-ccb5-0b2c8ad01106"
      },
      "source": [
        "print(\"=\" * 80)\n",
        "print(\"PASO 7: CONFIGURACIÓN DE CALLBACKS\")\n",
        "print(\"=\" * 80)\n",
        "\n",
        "# Early Stopping\n",
        "early_stopping = EarlyStopping(\n",
        "    monitor='val_loss',\n",
        "    patience=5,\n",
        "    restore_best_weights=True,\n",
        "    verbose=1\n",
        ")\n",
        "\n",
        "# Reduce Learning Rate\n",
        "reduce_lr = ReduceLROnPlateau(\n",
        "    monitor='val_loss',\n",
        "    factor=0.5,\n",
        "    patience=3,\n",
        "    min_lr=1e-7,\n",
        "    verbose=1\n",
        ")\n",
        "\n",
        "print(\"\\n✅ Callbacks configurados:\")\n",
        "print(\"   • Early Stopping: patience=5\")\n",
        "print(\"   • Reduce LR: factor=0.5, patience=3\")"
      ],
      "outputs": [
        {
          "output_type": "stream",
          "name": "stdout",
          "text": [
            "================================================================================\n",
            "PASO 7: CONFIGURACIÓN DE CALLBACKS\n",
            "================================================================================\n",
            "\n",
            "✅ Callbacks configurados:\n",
            "   • Early Stopping: patience=5\n",
            "   • Reduce LR: factor=0.5, patience=3\n"
          ]
        }
      ]
    },
    {
      "cell_type": "markdown",
      "metadata": {
        "id": "G52L9PRLH8VU"
      },
      "source": [
        "---\n",
        "\n",
        "## 🚀 PASO 8: Entrenamiento"
      ]
    },
    {
      "cell_type": "code",
      "execution_count": 12,
      "metadata": {
        "colab": {
          "base_uri": "https://localhost:8080/"
        },
        "id": "kCkYKN21H8VU",
        "outputId": "44d333fd-aac5-41e4-b654-f74a2a05370b"
      },
      "source": [
        "print(\"=\" * 80)\n",
        "print(\"PASO 8: ENTRENAMIENTO DEL MODELO\")\n",
        "print(\"=\" * 80)\n",
        "\n",
        "EPOCHS = 25\n",
        "BATCH_SIZE = 32\n",
        "\n",
        "print(f\"\\n🚀 Configuración:\")\n",
        "print(f\"   • Épocas: {EPOCHS}\")\n",
        "print(f\"   • Batch size: {BATCH_SIZE}\")\n",
        "print(f\"   • Tiempo estimado: 2-3 minutos (con GPU)\\n\")\n",
        "\n",
        "# Entrenar\n",
        "history = model.fit(\n",
        "    train_datagen.flow(X_train, y_train, batch_size=BATCH_SIZE),\n",
        "    validation_data=(X_val, y_val),\n",
        "    epochs=EPOCHS,\n",
        "    callbacks=[early_stopping, reduce_lr],\n",
        "    verbose=1\n",
        ")\n",
        "\n",
        "print(\"\\n\" + \"=\" * 80)\n",
        "print(\"✅ ENTRENAMIENTO COMPLETADO!\")\n",
        "print(\"=\" * 80)"
      ],
      "outputs": [
        {
          "output_type": "stream",
          "name": "stdout",
          "text": [
            "================================================================================\n",
            "PASO 8: ENTRENAMIENTO DEL MODELO\n",
            "================================================================================\n",
            "\n",
            "🚀 Configuración:\n",
            "   • Épocas: 25\n",
            "   • Batch size: 32\n",
            "   • Tiempo estimado: 2-3 minutos (con GPU)\n",
            "\n",
            "Epoch 1/25\n",
            "\u001b[1m31/31\u001b[0m \u001b[32m━━━━━━━━━━━━━━━━━━━━\u001b[0m\u001b[37m\u001b[0m \u001b[1m16s\u001b[0m 339ms/step - accuracy: 0.1613 - loss: 2.9106 - precision: 0.1806 - recall: 0.0812 - val_accuracy: 0.1524 - val_loss: 2.6199 - val_precision: 0.0000e+00 - val_recall: 0.0000e+00 - learning_rate: 0.0010\n",
            "Epoch 2/25\n",
            "\u001b[1m31/31\u001b[0m \u001b[32m━━━━━━━━━━━━━━━━━━━━\u001b[0m\u001b[37m\u001b[0m \u001b[1m10s\u001b[0m 323ms/step - accuracy: 0.1576 - loss: 2.5069 - precision: 0.1495 - recall: 0.0481 - val_accuracy: 0.1381 - val_loss: 4.7056 - val_precision: 0.1381 - val_recall: 0.1381 - learning_rate: 0.0010\n",
            "Epoch 3/25\n",
            "\u001b[1m31/31\u001b[0m \u001b[32m━━━━━━━━━━━━━━━━━━━━\u001b[0m\u001b[37m\u001b[0m \u001b[1m9s\u001b[0m 288ms/step - accuracy: 0.1558 - loss: 2.3686 - precision: 0.1556 - recall: 0.0340 - val_accuracy: 0.1381 - val_loss: 6.9498 - val_precision: 0.1381 - val_recall: 0.1381 - learning_rate: 0.0010\n",
            "Epoch 4/25\n",
            "\u001b[1m31/31\u001b[0m \u001b[32m━━━━━━━━━━━━━━━━━━━━\u001b[0m\u001b[37m\u001b[0m \u001b[1m0s\u001b[0m 280ms/step - accuracy: 0.1321 - loss: 2.4234 - precision: 0.1229 - recall: 0.0215\n",
            "Epoch 4: ReduceLROnPlateau reducing learning rate to 0.0005000000237487257.\n",
            "\u001b[1m31/31\u001b[0m \u001b[32m━━━━━━━━━━━━━━━━━━━━\u001b[0m\u001b[37m\u001b[0m \u001b[1m9s\u001b[0m 302ms/step - accuracy: 0.1321 - loss: 2.4228 - precision: 0.1232 - recall: 0.0216 - val_accuracy: 0.1524 - val_loss: 8.3016 - val_precision: 0.1524 - val_recall: 0.1524 - learning_rate: 0.0010\n",
            "Epoch 5/25\n",
            "\u001b[1m31/31\u001b[0m \u001b[32m━━━━━━━━━━━━━━━━━━━━\u001b[0m\u001b[37m\u001b[0m \u001b[1m10s\u001b[0m 311ms/step - accuracy: 0.1369 - loss: 2.3700 - precision: 0.1274 - recall: 0.0173 - val_accuracy: 0.1524 - val_loss: 10.7669 - val_precision: 0.1524 - val_recall: 0.1524 - learning_rate: 5.0000e-04\n",
            "Epoch 6/25\n",
            "\u001b[1m31/31\u001b[0m \u001b[32m━━━━━━━━━━━━━━━━━━━━\u001b[0m\u001b[37m\u001b[0m \u001b[1m8s\u001b[0m 257ms/step - accuracy: 0.1430 - loss: 2.3472 - precision: 0.1408 - recall: 0.0177 - val_accuracy: 0.1524 - val_loss: 12.1125 - val_precision: 0.1524 - val_recall: 0.1524 - learning_rate: 5.0000e-04\n",
            "Epoch 6: early stopping\n",
            "Restoring model weights from the end of the best epoch: 1.\n",
            "\n",
            "================================================================================\n",
            "✅ ENTRENAMIENTO COMPLETADO!\n",
            "================================================================================\n"
          ]
        }
      ]
    },
    {
      "cell_type": "markdown",
      "metadata": {
        "id": "e2R_3fXXH8VU"
      },
      "source": [
        "---\n",
        "\n",
        "## 📈 PASO 9: Visualización de Resultados"
      ]
    },
    {
      "cell_type": "code",
      "execution_count": 13,
      "metadata": {
        "colab": {
          "base_uri": "https://localhost:8080/",
          "height": 1000
        },
        "id": "V1KF1qcrH8VU",
        "outputId": "e25393ff-1524-4ece-ff02-099e4e5f8405"
      },
      "source": [
        "print(\"=\" * 80)\n",
        "print(\"PASO 9: ANÁLISIS DE RESULTADOS\")\n",
        "print(\"=\" * 80)\n",
        "\n",
        "def plot_training_history(history):\n",
        "    \"\"\"Visualiza el progreso del entrenamiento\"\"\"\n",
        "\n",
        "    available_metrics = list(history.history.keys())\n",
        "    precision_key = next((k for k in available_metrics if 'precision' in k.lower() and 'val' not in k), None)\n",
        "    val_precision_key = next((k for k in available_metrics if 'precision' in k.lower() and 'val' in k), None)\n",
        "    recall_key = next((k for k in available_metrics if 'recall' in k.lower() and 'val' not in k), None)\n",
        "    val_recall_key = next((k for k in available_metrics if 'recall' in k.lower() and 'val' in k), None)\n",
        "\n",
        "    fig, axes = plt.subplots(2, 2, figsize=(15, 10))\n",
        "    fig.suptitle('📈 Evolución del Entrenamiento', fontsize=16, fontweight='bold')\n",
        "\n",
        "    # Accuracy\n",
        "    axes[0, 0].plot(history.history['accuracy'], label='Train', linewidth=2, marker='o')\n",
        "    axes[0, 0].plot(history.history['val_accuracy'], label='Validation', linewidth=2, marker='s')\n",
        "    axes[0, 0].set_title('Accuracy', fontsize=12, fontweight='bold')\n",
        "    axes[0, 0].set_xlabel('Época')\n",
        "    axes[0, 0].set_ylabel('Accuracy')\n",
        "    axes[0, 0].legend()\n",
        "    axes[0, 0].grid(True, alpha=0.3)\n",
        "\n",
        "    # Loss\n",
        "    axes[0, 1].plot(history.history['loss'], label='Train', linewidth=2, marker='o')\n",
        "    axes[0, 1].plot(history.history['val_loss'], label='Validation', linewidth=2, marker='s')\n",
        "    axes[0, 1].set_title('Loss', fontsize=12, fontweight='bold')\n",
        "    axes[0, 1].set_xlabel('Época')\n",
        "    axes[0, 1].set_ylabel('Loss')\n",
        "    axes[0, 1].legend()\n",
        "    axes[0, 1].grid(True, alpha=0.3)\n",
        "\n",
        "    # Precision\n",
        "    if precision_key and val_precision_key:\n",
        "        axes[1, 0].plot(history.history[precision_key], label='Train', linewidth=2, marker='o')\n",
        "        axes[1, 0].plot(history.history[val_precision_key], label='Validation', linewidth=2, marker='s')\n",
        "        axes[1, 0].set_title('Precision', fontsize=12, fontweight='bold')\n",
        "        axes[1, 0].set_xlabel('Época')\n",
        "        axes[1, 0].set_ylabel('Precision')\n",
        "        axes[1, 0].legend()\n",
        "        axes[1, 0].grid(True, alpha=0.3)\n",
        "    else:\n",
        "        axes[1, 0].text(0.5, 0.5, 'Precision no disponible',\n",
        "                       ha='center', va='center', transform=axes[1, 0].transAxes)\n",
        "\n",
        "    # Recall\n",
        "    if recall_key and val_recall_key:\n",
        "        axes[1, 1].plot(history.history[recall_key], label='Train', linewidth=2, marker='o')\n",
        "        axes[1, 1].plot(history.history[val_recall_key], label='Validation', linewidth=2, marker='s')\n",
        "        axes[1, 1].set_title('Recall', fontsize=12, fontweight='bold')\n",
        "        axes[1, 1].set_xlabel('Época')\n",
        "        axes[1, 1].set_ylabel('Recall')\n",
        "        axes[1, 1].legend()\n",
        "        axes[1, 1].grid(True, alpha=0.3)\n",
        "    else:\n",
        "        axes[1, 1].text(0.5, 0.5, 'Recall no disponible',\n",
        "                       ha='center', va='center', transform=axes[1, 1].transAxes)\n",
        "\n",
        "    plt.tight_layout()\n",
        "    plt.show()\n",
        "\n",
        "plot_training_history(history)"
      ],
      "outputs": [
        {
          "output_type": "stream",
          "name": "stdout",
          "text": [
            "================================================================================\n",
            "PASO 9: ANÁLISIS DE RESULTADOS\n",
            "================================================================================\n"
          ]
        },
        {
          "output_type": "display_data",
          "data": {
            "text/plain": [
              "<Figure size 1500x1000 with 4 Axes>"
            ],
            "image/png": "[encoded data removed]"
          },
          "metadata": {}
        }
      ]
    },
    {
      "cell_type": "code",
      "execution_count": 14,
      "metadata": {
        "colab": {
          "base_uri": "https://localhost:8080/"
        },
        "id": "nDSj6aOVH8VV",
        "outputId": "9d3ab695-476e-49fa-d530-2b56a47d37cd"
      },
      "source": [
        "    # Métricas finales\n",
        "\n",
        "train_acc = history.history['accuracy'][-1]\n",
        "val_acc = history.history['val_accuracy'][-1]\n",
        "train_loss = history.history['loss'][-1]\n",
        "val_loss = history.history['val_loss'][-1]\n",
        "\n",
        "print(f\"\\n📊 Métricas Finales:\")\n",
        "print(f\"   • Training Accuracy: {train_acc:.4f} ({train_acc*100:.2f}%)\")\n",
        "print(f\"   • Validation Accuracy: {val_acc:.4f} ({val_acc*100:.2f}%)\")\n",
        "print(f\"   • Gap (Overfitting): {abs(train_acc - val_acc)*100:.2f}%\")\n",
        "\n",
        "print(\"\\n⚠️ Si el training menos la validacion es mayor de un 10% posible overfitting detectado\")\n"
      ],
      "outputs": [
        {
          "output_type": "stream",
          "name": "stdout",
          "text": [
            "\n",
            "📊 Métricas Finales:\n",
            "   • Training Accuracy: 0.1367 (13.67%)\n",
            "   • Validation Accuracy: 0.1524 (15.24%)\n",
            "   • Gap (Overfitting): 1.56%\n",
            "\n",
            "⚠️ Si el training menos la validacion es mayor de un 10% posible overfitting detectado\n"
          ]
        }
      ]
    },
    {
      "cell_type": "markdown",
      "metadata": {
        "id": "SeTzfLGiH8VV"
      },
      "source": [
        "---\n",
        "\n",
        "## 🔍 PASO 10: Evaluación en Test Set"
      ]
    },
    {
      "cell_type": "code",
      "execution_count": 15,
      "metadata": {
        "colab": {
          "base_uri": "https://localhost:8080/"
        },
        "id": "Qne7d9REH8VV",
        "outputId": "1a740e1c-c1c2-4c85-8514-4fe562cca0e3"
      },
      "source": [
        "print(\"=\" * 80)\n",
        "print(\"PASO 10: EVALUACIÓN EN TEST SET\")\n",
        "print(\"=\" * 80)\n",
        "\n",
        "print(\"\\n🔍 Evaluando en test (datos nunca vistos)...\\n\")\n",
        "\n",
        "test_results = model.evaluate(X_test, y_test, verbose=0)\n",
        "test_loss = test_results[0]\n",
        "test_acc = test_results[1]\n",
        "test_precision = test_results[2] if len(test_results) > 2 else 0\n",
        "test_recall = test_results[3] if len(test_results) > 3 else 0\n",
        "\n",
        "print(f\"📊 Resultados en Test:\")\n",
        "print(f\"   • Test Accuracy: {test_acc:.4f} ({test_acc*100:.2f}%)\")\n",
        "print(f\"   • Test Loss: {test_loss:.4f}\")\n",
        "print(f\"   • Test Precision: {test_precision:.4f}\")\n",
        "print(f\"   • Test Recall: {test_recall:.4f}\")\n",
        "\n",
        "if (test_precision + test_recall) > 0:\n",
        "    f1_score = 2 * (test_precision * test_recall) / (test_precision + test_recall)\n",
        "    print(f\"   • F1-Score: {f1_score:.4f}\")\n",
        "else:\n",
        "    print(f\"   • F1-Score: N/A\")"
      ],
      "outputs": [
        {
          "output_type": "stream",
          "name": "stdout",
          "text": [
            "================================================================================\n",
            "PASO 10: EVALUACIÓN EN TEST SET\n",
            "================================================================================\n",
            "\n",
            "🔍 Evaluando en test (datos nunca vistos)...\n",
            "\n",
            "📊 Resultados en Test:\n",
            "   • Test Accuracy: 0.1571 (15.71%)\n",
            "   • Test Loss: 2.5977\n",
            "   • Test Precision: 0.0000\n",
            "   • Test Recall: 0.0000\n",
            "   • F1-Score: N/A\n"
          ]
        }
      ]
    },
    {
      "cell_type": "markdown",
      "metadata": {
        "id": "KracmouRH8VV"
      },
      "source": [
        "---\n",
        "\n",
        "## 📊 PASO 11: Matriz de Confusión"
      ]
    },
    {
      "cell_type": "code",
      "execution_count": 16,
      "metadata": {
        "colab": {
          "base_uri": "https://localhost:8080/",
          "height": 1000
        },
        "id": "MRl95L8hH8VV",
        "outputId": "8c73f47f-3e5e-457c-bd7b-99b513fc67ca"
      },
      "source": [
        "print(\"=\" * 80)\n",
        "print(\"PASO 11: MATRIZ DE CONFUSIÓN\")\n",
        "print(\"=\" * 80)\n",
        "\n",
        "# Generar predicciones\n",
        "y_pred = model.predict(X_test, verbose=0)\n",
        "y_pred_classes = np.argmax(y_pred, axis=1)\n",
        "y_true_classes = np.argmax(y_test, axis=1)\n",
        "\n",
        "# Calcular matriz\n",
        "cm = confusion_matrix(y_true_classes, y_pred_classes)\n",
        "\n",
        "# Visualizar\n",
        "plt.figure(figsize=(12, 10))\n",
        "sns.heatmap(cm, annot=True, fmt='d', cmap='Blues',\n",
        "            xticklabels=list(emotion_labels.values()),\n",
        "            yticklabels=list(emotion_labels.values()),\n",
        "            cbar_kws={'label': 'Número de predicciones'},\n",
        "            linewidths=0.5, linecolor='gray')\n",
        "plt.title('Matriz de Confusión - Clasificación de Emociones',\n",
        "          fontsize=14, fontweight='bold', pad=20)\n",
        "plt.ylabel('Etiqueta Real', fontsize=12, fontweight='bold')\n",
        "plt.xlabel('Predicción del Modelo', fontsize=12, fontweight='bold')\n",
        "plt.xticks(rotation=45, ha='right')\n",
        "plt.yticks(rotation=0)\n",
        "plt.tight_layout()\n",
        "plt.show()\n",
        "\n",
        "print(\"\\n💡 Diagonal: predicciones correctas\")\n",
        "print(\"   Fuera diagonal: confusiones del modelo\")"
      ],
      "outputs": [
        {
          "output_type": "stream",
          "name": "stdout",
          "text": [
            "================================================================================\n",
            "PASO 11: MATRIZ DE CONFUSIÓN\n",
            "================================================================================\n"
          ]
        },
        {
          "output_type": "display_data",
          "data": {
            "text/plain": [
              "<Figure size 1200x1000 with 2 Axes>"
            ],
            "image/png": "[encoded data removed]"
          },
          "metadata": {}
        },
        {
          "output_type": "stream",
          "name": "stdout",
          "text": [
            "\n",
            "💡 Diagonal: predicciones correctas\n",
            "   Fuera diagonal: confusiones del modelo\n"
          ]
        }
      ]
    },
    {
      "cell_type": "code",
      "execution_count": 17,
      "metadata": {
        "colab": {
          "base_uri": "https://localhost:8080/"
        },
        "id": "z4T_SUFmH8VV",
        "outputId": "8d856172-efa1-4c78-a265-69d67fc3c059"
      },
      "source": [
        "# Top confusiones\n",
        "print(\"\\n🔍 Top 3 confusiones más comunes:\")\n",
        "cm_copy = cm.copy()\n",
        "np.fill_diagonal(cm_copy, 0)\n",
        "top_confusions = []\n",
        "\n",
        "for i in range(NUM_CLASSES):\n",
        "    for j in range(NUM_CLASSES):\n",
        "        if i != j and cm_copy[i, j] > 0:\n",
        "            top_confusions.append((i, j, cm_copy[i, j]))\n",
        "\n",
        "top_confusions.sort(key=lambda x: x[2], reverse=True)\n",
        "\n",
        "for idx, (true_label, pred_label, count) in enumerate(top_confusions[:3], 1):\n",
        "    print(f\"   {idx}. {emotion_labels[true_label]} → {emotion_labels[pred_label]}: {count} veces\")"
      ],
      "outputs": [
        {
          "output_type": "stream",
          "name": "stdout",
          "text": [
            "\n",
            "🔍 Top 3 confusiones más comunes:\n",
            "   1. Neutral → Triste: 32 veces\n",
            "   2. Enojado → Triste: 30 veces\n",
            "   3. Asustado → Triste: 30 veces\n"
          ]
        }
      ]
    },
    {
      "cell_type": "markdown",
      "metadata": {
        "id": "vuoGXfdQH8VV"
      },
      "source": [
        "---\n",
        "\n",
        "## 📋 PASO 12: Reporte de Clasificación"
      ]
    },
    {
      "cell_type": "code",
      "execution_count": 18,
      "metadata": {
        "colab": {
          "base_uri": "https://localhost:8080/"
        },
        "id": "0ekV8DSAH8VV",
        "outputId": "bea6bab7-7954-46e7-b655-c41d10ddd18b"
      },
      "source": [
        "print(\"=\" * 80)\n",
        "print(\"PASO 12: REPORTE DE CLASIFICACIÓN\")\n",
        "print(\"=\" * 80)\n",
        "\n",
        "report = classification_report(\n",
        "    y_true_classes,\n",
        "    y_pred_classes,\n",
        "    target_names=list(emotion_labels.values()),\n",
        "    digits=4\n",
        ")\n",
        "\n",
        "print(\"\\n📋 Métricas detalladas por emoción:\")\n",
        "print(\"=\" * 80)\n",
        "print(report)\n",
        "print(\"=\" * 80)"
      ],
      "outputs": [
        {
          "output_type": "stream",
          "name": "stdout",
          "text": [
            "================================================================================\n",
            "PASO 12: REPORTE DE CLASIFICACIÓN\n",
            "================================================================================\n",
            "\n",
            "📋 Métricas detalladas por emoción:\n",
            "================================================================================\n",
            "              precision    recall  f1-score   support\n",
            "\n",
            "     Enojado     0.0000    0.0000    0.0000        30\n",
            "  Disgustado     0.0000    0.0000    0.0000        29\n",
            "    Asustado     0.0000    0.0000    0.0000        30\n",
            "       Feliz     0.0000    0.0000    0.0000        30\n",
            "      Triste     0.1571    1.0000    0.2716        33\n",
            " Sorprendido     0.0000    0.0000    0.0000        26\n",
            "     Neutral     0.0000    0.0000    0.0000        32\n",
            "\n",
            "    accuracy                         0.1571       210\n",
            "   macro avg     0.0224    0.1429    0.0388       210\n",
            "weighted avg     0.0247    0.1571    0.0427       210\n",
            "\n",
            "================================================================================\n"
          ]
        }
      ]
    },
    {
      "cell_type": "markdown",
      "metadata": {
        "id": "BjVJixEqH8VW"
      },
      "source": [
        "---\n",
        "\n",
        "## 🎯 PASO 13: Aplicación a Marketing"
      ]
    },
    {
      "cell_type": "markdown",
      "metadata": {
        "id": "n-j764IlH8VW"
      },
      "source": [
        "### Casos de Uso en Marketing Digital\n",
        "\n",
        "#### 1️⃣ Optimización de Creatividades Publicitarias\n",
        "- Analizar qué emociones generan tus anuncios\n",
        "- A/B testing basado en respuesta emocional\n",
        "- ROI: Mejorar CTR y conversiones\n",
        "\n",
        "#### 2️⃣ Segmentación de Audiencias\n",
        "- Crear clusters por preferencias emocionales\n",
        "- Personalizar mensajes por segmento\n",
        "- ROI: Reducir CPA y aumentar engagement\n",
        "\n",
        "#### 3️⃣ Análisis Competitivo\n",
        "- Estudiar emociones de competidores\n",
        "- Identificar oportunidades no explotadas\n",
        "- ROI: Diferenciación de marca\n",
        "\n",
        "#### 4️⃣ Testing de Producto\n",
        "- Medir reacciones emocionales\n",
        "- Focus groups automatizados\n",
        "- ROI: Reducir riesgo de fracaso\n",
        "\n",
        "#### 5️⃣ Contenido en RRSS\n",
        "- Optimizar posts por engagement emocional\n",
        "- Calendario balanceado de contenidos\n",
        "- ROI: Aumentar alcance orgánico"
      ]
    },
    {
      "cell_type": "code",
      "execution_count": 19,
      "metadata": {
        "colab": {
          "base_uri": "https://localhost:8080/"
        },
        "id": "j0bFYeowH8VW",
        "outputId": "e8d59a1d-d1d1-4134-c9b6-64f9a8f3499f"
      },
      "source": [
        "print(\"=\" * 80)\n",
        "print(\"📸 EJEMPLO: Análisis de Creatividad Publicitaria\")\n",
        "print(\"=\" * 80)\n",
        "\n",
        "# Seleccionar muestra\n",
        "np.random.seed(123)\n",
        "muestra_idx = np.random.randint(0, len(X_test))\n",
        "muestra_img = X_test[muestra_idx:muestra_idx+1]\n",
        "muestra_true = emotion_labels[np.argmax(y_test[muestra_idx])]\n",
        "\n",
        "# Predecir\n",
        "prediccion = model.predict(muestra_img, verbose=0)[0]\n",
        "\n",
        "print(f\"\\nAnálisis de Imagen #{muestra_idx}\")\n",
        "print(f\"Emoción real: {muestra_true}\")\n",
        "print(\"\\n📊 Distribución de probabilidades:\")\n",
        "print(\"-\" * 60)\n",
        "\n",
        "# Ordenar por probabilidad\n",
        "emotion_probs = [(emotion_labels[i], prediccion[i]) for i in range(NUM_CLASSES)]\n",
        "emotion_probs.sort(key=lambda x: x[1], reverse=True)\n",
        "\n",
        "for emotion_name, prob in emotion_probs:\n",
        "    prob_pct = prob * 100\n",
        "    bar = \"█\" * int(prob_pct / 2)\n",
        "    print(f\"{emotion_name:12} | {bar:50} {prob_pct:5.1f}%\")\n",
        "\n",
        "emocion_dominante = emotion_probs[0][0]\n",
        "confianza = emotion_probs[0][1] * 100\n",
        "\n",
        "print(f\"\\n✨ Resultado:\")\n",
        "print(f\"   • Emoción dominante: {emocion_dominante}\")\n",
        "print(f\"   • Confianza: {confianza:.1f}%\")"
      ],
      "outputs": [
        {
          "output_type": "stream",
          "name": "stdout",
          "text": [
            "================================================================================\n",
            "📸 EJEMPLO: Análisis de Creatividad Publicitaria\n",
            "================================================================================\n",
            "\n",
            "Análisis de Imagen #109\n",
            "Emoción real: Feliz\n",
            "\n",
            "📊 Distribución de probabilidades:\n",
            "------------------------------------------------------------\n",
            "Triste       | ████████████████                                    32.1%\n",
            "Disgustado   | ███████████████                                     30.1%\n",
            "Neutral      | █████████████                                       27.4%\n",
            "Asustado     | █                                                    3.7%\n",
            "Sorprendido  | █                                                    3.2%\n",
            "Feliz        |                                                      1.8%\n",
            "Enojado      |                                                      1.7%\n",
            "\n",
            "✨ Resultado:\n",
            "   • Emoción dominante: Triste\n",
            "   • Confianza: 32.1%\n"
          ]
        }
      ]
    },
    {
      "cell_type": "code",
      "execution_count": 20,
      "metadata": {
        "colab": {
          "base_uri": "https://localhost:8080/",
          "height": 659
        },
        "id": "wVK3-LAAH8VW",
        "outputId": "4d7be080-6a93-4881-ade0-be608a456e27"
      },
      "source": [
        "# Recomendaciones personalizadas\n",
        "recomendaciones = {\n",
        "    'Feliz': \"Excelente para campañas de lifestyle y branding positivo. Úsala en landing pages.\",\n",
        "    'Neutral': \"Ideal para comunicación corporativa y B2B. Transmite profesionalismo.\",\n",
        "    'Sorprendido': \"Perfecta para lanzamientos y ofertas. Genera curiosidad y urgencia.\",\n",
        "    'Triste': \"Adecuada para RSC y storytelling emocional. Úsala con cuidado.\",\n",
        "    'Enojado': \"Útil para campañas disruptivas. Genera controversia y engagement.\",\n",
        "    'Asustado': \"Apropiada para seguros y seguridad. Debe ir con la solución.\",\n",
        "    'Disgustado': \"Efectiva para 'antes/después'. Contrasta con beneficios.\"\n",
        "}\n",
        "\n",
        "print(f\"\\n💼 Recomendación de Marketing:\")\n",
        "print(f\"   {recomendaciones.get(emocion_dominante, 'Analiza contexto y audiencia.')}\")\n",
        "\n",
        "# Visualizar imagen\n",
        "fig, ax = plt.subplots(1, 1, figsize=(6, 6))\n",
        "ax.imshow(muestra_img[0, :, :, 0], cmap='gray')\n",
        "ax.set_title(f'Emoción: {emocion_dominante} ({confianza:.1f}%)',\n",
        "             fontsize=14, fontweight='bold')\n",
        "ax.axis('off')\n",
        "plt.tight_layout()\n",
        "plt.show()"
      ],
      "outputs": [
        {
          "output_type": "stream",
          "name": "stdout",
          "text": [
            "\n",
            "💼 Recomendación de Marketing:\n",
            "   Adecuada para RSC y storytelling emocional. Úsala con cuidado.\n"
          ]
        },
        {
          "output_type": "display_data",
          "data": {
            "text/plain": [
              "<Figure size 600x600 with 1 Axes>"
            ],
            "image/png": "[encoded data removed]"
          },
          "metadata": {}
        }
      ]
    },
    {
      "cell_type": "markdown",
      "metadata": {
        "id": "7dqV3xAYH8VW"
      },
      "source": [
        "---\n",
        "\n",
        "## 💾 PASO 14: Guardar el Modelo"
      ]
    },
    {
      "cell_type": "code",
      "execution_count": null,
      "metadata": {
        "colab": {
          "base_uri": "https://localhost:8080/"
        },
        "id": "J6doP1MiH8Va",
        "outputId": "98195f06-4dc0-4e28-cab7-1e00061a078f"
      },
      "source": [
        "print(\"=\" * 80)\n",
        "print(\"PASO 14: GUARDAR MODELO\")\n",
        "print(\"=\" * 80)\n",
        "\n",
        "print(\"\\n💾 Guardando modelo y pesos...\")\n",
        "\n",
        "# Guardar modelo completo\n",
        "model.save('modelo_emociones_marketing.keras')\n",
        "print(\"✅ Modelo: modelo_emociones_marketing.keras\")\n",
        "\n",
        "# Guardar pesos\n",
        "model.save_weights('pesos_modelo.weights.h5')\n",
        "print(\"✅ Pesos: pesos_modelo.weights.h5\")\n",
        "\n",
        "print(\"\\n💡 Para cargar más adelante:\")\n",
        "print(\"   modelo = keras.models.load_model('modelo_emociones_marketing.keras')\")"
      ],
      "outputs": [
        {
          "output_type": "stream",
          "name": "stdout",
          "text": [
            "================================================================================\n",
            "PASO 14: GUARDAR MODELO\n",
            "================================================================================\n",
            "\n",
            "💾 Guardando modelo y pesos...\n",
            "✅ Modelo: modelo_emociones_marketing.keras\n",
            "✅ Pesos: pesos_modelo.weights.h5\n",
            "\n",
            "💡 Para cargar más adelante:\n",
            "   modelo = keras.models.load_model('modelo_emociones_marketing.keras')\n"
          ]
        }
      ]
    },
    {
      "cell_type": "markdown",
      "metadata": {
        "id": "WJFCxQKqH8Va"
      },
      "source": [
        "---\n",
        "\n",
        "## 🎓 Resumen Final"
      ]
    },
    {
      "cell_type": "code",
      "execution_count": null,
      "metadata": {
        "colab": {
          "base_uri": "https://localhost:8080/"
        },
        "id": "tbwM4pqAH8Va",
        "outputId": "a3c6a4a2-4d27-472b-ad94-6140fcc0c61d"
      },
      "source": [
        "print(\"=\" * 80)\n",
        "print(\"🎓 RESUMEN Y APRENDIZAJES CLAVE\")\n",
        "print(\"=\" * 80)\n",
        "\n",
        "print(\"\"\"\n",
        "✅ Has aprendido:\n",
        "   1. Arquitectura CNN para clasificación de imágenes\n",
        "   2. Preprocesamiento y normalización de datos\n",
        "   3. Data augmentation para generalización\n",
        "   4. Callbacks para entrenamiento inteligente\n",
        "   5. Evaluación completa con múltiples métricas\n",
        "   6. Interpretación de matriz de confusión\n",
        "   7. Aplicación práctica a casos de marketing\n",
        "   8. Conexión entre métricas técnicas y KPIs\n",
        "\n",
        "🚀 Próximos pasos:\n",
        "   • Transfer Learning con modelos pre-entrenados\n",
        "   • Interpretabilidad con Grad-CAM\n",
        "   • Optimización de hiperparámetros\n",
        "   • Despliegue como API REST\n",
        "   • Integración con herramientas de marketing\n",
        "\n",
        "💡 Ejercicios para casa:\n",
        "   1. BÁSICO: Entrenar con dataset FER-2013 completo\n",
        "   2. INTERMEDIO: Experimentar con arquitecturas diferentes\n",
        "   3. AVANZADO: Implementar Transfer Learning\n",
        "   4. PROYECTO: Dashboard para análisis de creatividades\n",
        "\n",
        "📚 Recursos:\n",
        "   • Dataset: kaggle.com/datasets/msambare/fer2013\n",
        "   • Keras Docs: keras.io\n",
        "   • Transfer Learning: keras.io/guides/transfer_learning/\n",
        "\"\"\")\n",
        "\n",
        "print(\"\\n\" + \"=\" * 80)\n",
        "print(\"🎉 ¡CASO PRÁCTICO COMPLETADO!\")\n",
        "print(\"=\" * 80)\n",
        "\n",
        "print(\"\"\"\n",
        "📊 Estadísticas:\n",
        "   • Pasos completados: 14/14 ✅\n",
        "   • Modelo entrenado: ✅\n",
        "   • Evaluación completada: ✅\n",
        "   • Aplicación a marketing: ✅\n",
        "\n",
        "❓ ¿Preguntas? ¿Dudas? ¿Ideas?\n",
        "   Contacta con los profesores del módulo.\n",
        "\n",
        "🎯 Recuerda: El objetivo no es solo entender CNN,\n",
        "   sino aplicarlas para generar valor real.\n",
        "\"\"\")"
      ],
      "outputs": [
        {
          "output_type": "stream",
          "name": "stdout",
          "text": [
            "================================================================================\n",
            "🎓 RESUMEN Y APRENDIZAJES CLAVE\n",
            "================================================================================\n",
            "\n",
            "✅ Has aprendido:\n",
            "   1. Arquitectura CNN para clasificación de imágenes\n",
            "   2. Preprocesamiento y normalización de datos\n",
            "   3. Data augmentation para generalización\n",
            "   4. Callbacks para entrenamiento inteligente\n",
            "   5. Evaluación completa con múltiples métricas\n",
            "   6. Interpretación de matriz de confusión\n",
            "   7. Aplicación práctica a casos de marketing\n",
            "   8. Conexión entre métricas técnicas y KPIs\n",
            "\n",
            "🚀 Próximos pasos:\n",
            "   • Transfer Learning con modelos pre-entrenados\n",
            "   • Interpretabilidad con Grad-CAM\n",
            "   • Optimización de hiperparámetros\n",
            "   • Despliegue como API REST\n",
            "   • Integración con herramientas de marketing\n",
            "\n",
            "💡 Ejercicios para casa:\n",
            "   1. BÁSICO: Entrenar con dataset FER-2013 completo\n",
            "   2. INTERMEDIO: Experimentar con arquitecturas diferentes\n",
            "   3. AVANZADO: Implementar Transfer Learning\n",
            "   4. PROYECTO: Dashboard para análisis de creatividades\n",
            "\n",
            "📚 Recursos:\n",
            "   • Dataset: kaggle.com/datasets/msambare/fer2013\n",
            "   • Keras Docs: keras.io\n",
            "   • Transfer Learning: keras.io/guides/transfer_learning/\n",
            "\n",
            "\n",
            "================================================================================\n",
            "🎉 ¡CASO PRÁCTICO COMPLETADO!\n",
            "================================================================================\n",
            "\n",
            "📊 Estadísticas:\n",
            "   • Pasos completados: 14/14 ✅\n",
            "   • Modelo entrenado: ✅\n",
            "   • Evaluación completada: ✅\n",
            "   • Aplicación a marketing: ✅\n",
            "\n",
            "❓ ¿Preguntas? ¿Dudas? ¿Ideas?\n",
            "   Contacta con los profesores del módulo.\n",
            "\n",
            "🎯 Recuerda: El objetivo no es solo entender CNN,\n",
            "   sino aplicarlas para generar valor real.\n",
            "\n"
          ]
        }
      ]
    }
  ],
  "metadata": {
    "kernelspec": {
      "display_name": "Python 3",
      "language": "python",
      "name": "python3"
    },
    "language_info": {
      "codemirror_mode": {
        "name": "ipython",
        "version": 3
      },
      "file_extension": ".py",
      "mimetype": "text/x-python",
      "name": "python",
      "nbconvert_exporter": "python",
      "pygments_lexer": "ipython3",
      "version": "3.8.0"
    },
    "colab": {
      "provenance": [],
      "include_colab_link": true
    }
  },
  "nbformat": 4,
  "nbformat_minor": 0
}
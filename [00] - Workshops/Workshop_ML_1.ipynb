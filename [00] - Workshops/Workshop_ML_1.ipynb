{
  "cells": [
    {
      "cell_type": "markdown",
      "metadata": {
        "id": "view-in-github",
        "colab_type": "text"
      },
      "source": [
        "<a href=\"https://colab.research.google.com/github/dtoralg/INESDI_Data-Science_ML_IA/blob/main/%5B00%5D%20-%20Workshops/Workshop_ML_1.ipynb\" target=\"_parent\"><img src=\"https://colab.research.google.com/assets/colab-badge.svg\" alt=\"Open In Colab\"/></a>"
      ]
    },
    {
      "cell_type": "markdown",
      "id": "49b76ccd",
      "metadata": {
        "id": "49b76ccd"
      },
      "source": [
        "\n",
        "# Workshop Final — Machine Learning Integrado (ENUNCIADO)\n"
      ]
    },
    {
      "cell_type": "markdown",
      "id": "4ade73e3",
      "metadata": {
        "id": "4ade73e3"
      },
      "source": [
        "\n",
        "## Contexto y objetivo\n",
        "\n",
        "Este workshop plantea un **caso de negocio en retail**: una cadena de tiendas quiere entender mejor a sus clientes y optimizar sus decisiones comerciales. Para ello se pondrá en práctica todo el ciclo de Machine Learning.\n",
        "\n",
        "**Dataset propuesto (opcional):** [Sample - Superstore (CSV en GitHub)](https://github.com/dtoralg/INESDI_Data-Science_ML_IA/blob/main/%5B00%5D%20-%20Workshops/Sample%20-%20Superstore.csv)  \n",
        "- 9994 filas de datos de pedidos de una cadena de tiendas.  \n",
        "- Permite trabajar con problemas de **clasificación** (ej. clientes rentables vs. no rentables), **regresión** (predicción de ventas o beneficio) y **clustering** (segmentación de clientes).  \n",
        "\n",
        "**Columnas principales:**  \n",
        "- Order ID / Customer ID: identificadores únicos de pedido y cliente  \n",
        "- Order Date / Ship Mode: fecha y modo de envío  \n",
        "- Segment: tipo de cliente (Consumer, Corporate, Home Office)  \n",
        "- Region / State / City: localización geográfica  \n",
        "- Category / Sub-Category: categoría de producto  \n",
        "- Sales: importe de la venta  \n",
        "- Quantity: número de unidades vendidas  \n",
        "- Discount: descuento aplicado (%)  \n",
        "- Profit: beneficio asociado al pedido  \n",
        "\n",
        "**Problema de negocio (ejemplo):**  \n",
        "“Queremos identificar qué clientes tienen mayor probabilidad de generar pérdidas, predecir su volumen de compra y segmentarlos para diseñar campañas de marketing más eficaces.”\n",
        "\n",
        "**Importante:**  \n",
        "- Este dataset es una **base común** para quienes lo deseen.  \n",
        "- Cada grupo puede elegir **otro dataset** que cumpla las reglas (mínimo 1000 filas, target definido, datos tabulares) y adaptar el resto del workshop a su caso.\n"
      ]
    },
    {
      "cell_type": "markdown",
      "id": "cda10c75",
      "metadata": {
        "id": "cda10c75"
      },
      "source": [
        "## Pregunta de negocio\n",
        "\n",
        "Redacta aquí en una frase la pregunta que guiará vuestro trabajo."
      ]
    },
    {
      "cell_type": "code",
      "execution_count": null,
      "id": "caf34a23",
      "metadata": {
        "id": "caf34a23"
      },
      "outputs": [],
      "source": [
        "# Escribe aquí la pregunta de negocio"
      ]
    },
    {
      "cell_type": "markdown",
      "id": "a864d3ed",
      "metadata": {
        "id": "a864d3ed"
      },
      "source": [
        "\n",
        "## Bloque común — EDA y preparación de datos\n",
        "\n",
        "1. Descripción del dataset y justificación de su elección  \n",
        "2. Identificación de variables, tipos, nulos y duplicados  \n",
        "3. Limpieza de datos  \n",
        "4. Creación de nuevas variables (feature engineering)  \n",
        "5. Transformaciones: encoding y escalado  \n",
        "6. Exploración avanzada: PCA y detección de anomalías (LOF)\n"
      ]
    },
    {
      "cell_type": "code",
      "execution_count": null,
      "id": "769ed3f8",
      "metadata": {
        "id": "769ed3f8"
      },
      "outputs": [],
      "source": [
        "# Código de EDA y preparación"
      ]
    },
    {
      "cell_type": "markdown",
      "id": "9416ef4e",
      "metadata": {
        "id": "9416ef4e"
      },
      "source": [
        "\n",
        "## Ruta 1 — Clasificación\n",
        "\n",
        "1. Selección del target categórico  \n",
        "2. Entrenamiento de modelos base\n",
        "3. Entrenamiento de modelos avanzados\n",
        "4. Evaluación con métricas (Accuracy, Precision, Recall, F1, ROC-AUC)  \n",
        "5. Validación y ajuste de hiperparámetros  \n",
        "6. Breve análisis de explicabilidad\n"
      ]
    },
    {
      "cell_type": "code",
      "execution_count": null,
      "id": "d5a472ce",
      "metadata": {
        "id": "d5a472ce"
      },
      "outputs": [],
      "source": [
        "# Código de clasificación"
      ]
    },
    {
      "cell_type": "markdown",
      "id": "9933db62",
      "metadata": {
        "id": "9933db62"
      },
      "source": [
        "\n",
        "## Ruta 2 — Regresión\n",
        "\n",
        "1. Selección del target numérico  \n",
        "2. Entrenamiento de modelos base y avanzados  \n",
        "3. Evaluación con métricas (MAE, RMSE, R²)  \n",
        "4. Validación y ajuste de hiperparámetros  \n",
        "5. Breve análisis de explicabilidad\n"
      ]
    },
    {
      "cell_type": "code",
      "execution_count": null,
      "id": "fe56c6e1",
      "metadata": {
        "id": "fe56c6e1"
      },
      "outputs": [],
      "source": [
        "# Código de regresión"
      ]
    },
    {
      "cell_type": "markdown",
      "id": "2c917a83",
      "metadata": {
        "id": "2c917a83"
      },
      "source": [
        "\n",
        "## Ruta 3 — No supervisados\n",
        "\n",
        "1. Aplicación de clustering (K-Means, DBSCAN u otros)  \n",
        "2. Evaluación con métricas (Silhouette, índices adicionales)  \n",
        "3. Visualización de clusters en 2D con PCA  \n",
        "4. Identificación de anomalías con LOF  \n",
        "5. Perfilado de clusters y discusión de aplicaciones de negocio\n"
      ]
    },
    {
      "cell_type": "code",
      "execution_count": null,
      "id": "ba35df1a",
      "metadata": {
        "id": "ba35df1a"
      },
      "outputs": [],
      "source": [
        "# Código de clustering y no supervisados"
      ]
    },
    {
      "cell_type": "markdown",
      "id": "36039bf4",
      "metadata": {
        "id": "36039bf4"
      },
      "source": [
        "\n",
        "## Comparativa de resultados y recomendación final\n",
        "\n",
        "- Resumen de métricas por ruta y modelo  \n",
        "- Comparación de fortalezas y limitaciones  \n",
        "- Recomendación final orientada a negocio\n"
      ]
    },
    {
      "cell_type": "code",
      "execution_count": null,
      "id": "2dffa1fc",
      "metadata": {
        "id": "2dffa1fc"
      },
      "outputs": [],
      "source": [
        "# Tabla comparativa y recomendación"
      ]
    },
    {
      "cell_type": "markdown",
      "id": "54fcbd19",
      "metadata": {
        "id": "54fcbd19"
      },
      "source": [
        "\n",
        "## Preparación de la presentación\n",
        "\n",
        "Cada grupo dispondrá de 3–4 minutos para exponer:  \n",
        "1. Dataset y problema de negocio elegido  \n",
        "2. Caminos explorados y modelos aplicados  \n",
        "3. Resultados clave y métricas  \n",
        "4. Recomendación final\n"
      ]
    },
    {
      "cell_type": "code",
      "execution_count": null,
      "id": "eb233b8e",
      "metadata": {
        "id": "eb233b8e"
      },
      "outputs": [],
      "source": [
        "# Puntos clave de la presentación"
      ]
    },
    {
      "cell_type": "markdown",
      "id": "7b83d279",
      "metadata": {
        "id": "7b83d279"
      },
      "source": [
        "\n",
        "## Checklist final\n",
        "\n",
        "- [ ] Notebook ejecuta de principio a fin  \n",
        "- [ ] Dos rutas completas como mínimo  \n",
        "- [ ] Visualizaciones incluidas y comentadas  \n",
        "- [ ] Recomendación final clara y accionable  \n",
        "- [ ] Descarga y sube este ipynb a la carpeta de feedback para recibir comentarios\n"
      ]
    }
  ],
  "metadata": {
    "colab": {
      "provenance": [],
      "include_colab_link": true
    }
  },
  "nbformat": 4,
  "nbformat_minor": 5
}
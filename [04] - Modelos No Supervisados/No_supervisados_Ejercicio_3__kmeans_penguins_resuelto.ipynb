{
  "cells": [
    {
      "cell_type": "markdown",
      "metadata": {
        "id": "view-in-github",
        "colab_type": "text"
      },
      "source": [
        "<a href=\"https://colab.research.google.com/github/dtoralg/INESDI_Data-Science_ML_IA/blob/main/%5B04%5D%20-%20Modelos%20No%20Supervisados/No_supervisados_Ejercicio_3__kmeans_penguins_resuelto.ipynb\" target=\"_parent\"><img src=\"https://colab.research.google.com/assets/colab-badge.svg\" alt=\"Open In Colab\"/></a>"
      ]
    },
    {
      "cell_type": "markdown",
      "id": "eaa82d7c",
      "metadata": {
        "id": "eaa82d7c"
      },
      "source": [
        "# No supervisados - Ejercicio 3: kmeans_penguins.ipynb\n",
        "\n",
        "Este notebook es **You do**. Trabajarás de forma autónoma aplicando KMeans (con comparación a DBSCAN), PCA y LOF sobre el dataset Palmer Penguins. Sigue las instrucciones en cada celda, ejecuta el código y escribe tus conclusiones al final."
      ]
    },
    {
      "cell_type": "markdown",
      "id": "abed4d40",
      "metadata": {
        "id": "abed4d40"
      },
      "source": [
        "## Objetivos\n",
        "\n",
        "- Cargar y explorar el dataset `penguins`.\n",
        "- Preparar los datos (limpieza, encoding, escalado), aplicar KMeans y comparar con DBSCAN.\n",
        "- Usar PCA para visualización y LOF para detección de outliers; interpretar resultados y redactar conclusiones."
      ]
    },
    {
      "cell_type": "markdown",
      "id": "79488b40",
      "metadata": {
        "id": "79488b40"
      },
      "source": [
        "## Descripción del dataset\n",
        "\n",
        "Palmer Penguins contiene medidas morfológicas de pingüinos (`bill_length_mm`, `bill_depth_mm`, `flipper_length_mm`, `body_mass_g`) y variables categóricas (`species`, `island`, `sex`). Cárgalo con `seaborn.load_dataset('penguins')` o desde el raw CSV si no está disponible."
      ]
    },
    {
      "cell_type": "code",
      "execution_count": null,
      "id": "8d7ab2e1",
      "metadata": {
        "id": "8d7ab2e1"
      },
      "outputs": [],
      "source": [
        "# 1) Importaciones\n",
        "import numpy as np\n",
        "import pandas as pd\n",
        "import matplotlib.pyplot as plt\n",
        "import seaborn as sns\n",
        "sns.set(style='whitegrid')\n",
        "\n",
        "from sklearn.preprocessing import StandardScaler, OneHotEncoder\n",
        "from sklearn.cluster import KMeans, DBSCAN\n",
        "from sklearn.decomposition import PCA\n",
        "from sklearn.neighbors import LocalOutlierFactor, NearestNeighbors\n",
        "from sklearn.metrics import silhouette_score, adjusted_rand_score\n",
        "np.random.seed(42)"
      ]
    },
    {
      "cell_type": "markdown",
      "id": "1708f4d1",
      "metadata": {
        "id": "1708f4d1"
      },
      "source": [
        "### Carga de datos\n",
        "\n",
        "Carga el dataset `penguins`. Si `seaborn` no proporciona el dataset en tu entorno, usa la versión raw en GitHub."
      ]
    },
    {
      "cell_type": "code",
      "execution_count": null,
      "id": "2163531f",
      "metadata": {
        "id": "2163531f"
      },
      "outputs": [],
      "source": [
        "try:\n",
        "    df = sns.load_dataset('penguins')\n",
        "except Exception:\n",
        "    url = 'https://raw.githubusercontent.com/mwaskom/seaborn-data/master/penguins.csv'\n",
        "    df = pd.read_csv(url)\n",
        "display(df.head())\n",
        "print('Shape:', df.shape)"
      ]
    },
    {
      "cell_type": "markdown",
      "id": "e54e8689",
      "metadata": {
        "id": "e54e8689"
      },
      "source": [
        "### Exploración inicial\n",
        "\n",
        "Revisa estructura, nulos y distribuciones. Ejecuta las celdas y observa los resultados."
      ]
    },
    {
      "cell_type": "code",
      "execution_count": null,
      "id": "2a7d7b4c",
      "metadata": {
        "id": "2a7d7b4c"
      },
      "outputs": [],
      "source": [
        "print(df.info())\n",
        "display((df.isnull().mean()*100).round(2))\n",
        "\n",
        "# Distribución de categorías\n",
        "print('\\nDistribución por species:')\n",
        "print(df['species'].value_counts())\n",
        "print('\\nDistribución por sex:')\n",
        "print(df['sex'].value_counts())\n",
        "\n",
        "# Pairplot sugerido para variables numéricas\n",
        "sns.pairplot(df[['bill_length_mm','bill_depth_mm','flipper_length_mm','body_mass_g','species']].dropna(), hue='species')\n",
        "plt.show()"
      ]
    },
    {
      "cell_type": "markdown",
      "id": "6191e7c2",
      "metadata": {
        "id": "6191e7c2"
      },
      "source": [
        "### Selección de variables y limpieza\n",
        "\n",
        "Decide si imputas o eliminas filas con nulos. Selecciona las variables numéricas y, si vas a usar categóricas, codifícalas con OneHotEncoder."
      ]
    },
    {
      "cell_type": "code",
      "execution_count": null,
      "id": "0de30c6e",
      "metadata": {
        "id": "0de30c6e"
      },
      "outputs": [],
      "source": [
        "# Selección según la convención del curso\n",
        "vars_numericas = df.select_dtypes(include=[np.number]).columns\n",
        "vars_categoricas = df.select_dtypes(include=['object','category']).columns\n",
        "print('Numéricas:', list(vars_numericas))\n",
        "print('Categóricas:', list(vars_categoricas))\n",
        "\n",
        "# Ejemplo simple: eliminar filas con nulos en numéricas\n",
        "df_clean = df.dropna(subset=vars_numericas).reset_index(drop=True)\n",
        "display(df_clean.head())\n",
        "print('New shape:', df_clean.shape)"
      ]
    },
    {
      "cell_type": "markdown",
      "id": "2613cd4d",
      "metadata": {
        "id": "2613cd4d"
      },
      "source": [
        "### Preprocesado: encoding y escalado\n",
        "\n",
        "Codifica las categóricas (si las usas) y escala todas las variables numéricas con StandardScaler. La idea es obtener una matriz `X_scaled` lista para modelado."
      ]
    },
    {
      "cell_type": "code",
      "execution_count": null,
      "id": "17f17a22",
      "metadata": {
        "id": "17f17a22"
      },
      "outputs": [],
      "source": [
        "# Pipeline de ejemplo (ajusta si decides incluir categóricas)\n",
        "X_num = df_clean[vars_numericas]\n",
        "if len(vars_categoricas) > 0:\n",
        "    ohe = OneHotEncoder(sparse=False, drop='first')\n",
        "    X_cat = ohe.fit_transform(df_clean[vars_categoricas])\n",
        "    X_full = np.concatenate([X_num.values, X_cat], axis=1)\n",
        "else:\n",
        "    X_full = X_num.values\n",
        "\n",
        "scaler = StandardScaler()\n",
        "X_scaled = scaler.fit_transform(X_full)\n",
        "print('X_scaled shape:', X_scaled.shape)"
      ]
    },
    {
      "cell_type": "markdown",
      "id": "e004e270",
      "metadata": {
        "id": "e004e270"
      },
      "source": [
        "### PCA para visualización y compresión\n",
        "\n",
        "Calcula PCA para visualizar en 2D y para estimar cuántas componentes retienen la mayor parte de la varianza."
      ]
    },
    {
      "cell_type": "code",
      "execution_count": null,
      "id": "d44738cc",
      "metadata": {
        "id": "d44738cc"
      },
      "outputs": [],
      "source": [
        "pca = PCA(n_components=2)\n",
        "X_pca2 = pca.fit_transform(X_scaled)\n",
        "print('Explained variance ratio (2 PCs):', pca.explained_variance_ratio_)\n",
        "plt.figure(); plt.bar([1,2], pca.explained_variance_ratio_); plt.title('Explained variance (2 PCs)'); plt.show()\n",
        "\n",
        "# PCA para 90% varianza (opcional)\n",
        "pca90 = PCA(n_components=0.90)\n",
        "X_pca90 = pca90.fit_transform(X_scaled)\n",
        "print('n_components to retain 90% variance:', getattr(pca90, 'n_components_', None))"
      ]
    },
    {
      "cell_type": "markdown",
      "id": "869e7590",
      "metadata": {
        "id": "869e7590"
      },
      "source": [
        "### KMeans\n",
        "\n",
        "Prueba manualmente varios valores de `k` (por ejemplo 2..8). Calcula silhouette score para cada `k` y elige un valor razonable."
      ]
    },
    {
      "cell_type": "code",
      "execution_count": null,
      "id": "29e516bd",
      "metadata": {
        "id": "29e516bd"
      },
      "outputs": [],
      "source": [
        "results = []\n",
        "for k in range(2,9):\n",
        "    km = KMeans(n_clusters=k, random_state=42, n_init=10)\n",
        "    labels = km.fit_predict(X_scaled)\n",
        "    score = silhouette_score(X_scaled, labels)\n",
        "    results.append({'k':k, 'silhouette': score, 'inertia': km.inertia_})\n",
        "res_df = pd.DataFrame(results).set_index('k')\n",
        "display(res_df)\n",
        "\n",
        "plt.figure(figsize=(10,4))\n",
        "plt.subplot(1,2,1); plt.plot(res_df.index, res_df['inertia'], marker='o'); plt.title('Inertia');\n",
        "plt.subplot(1,2,2); plt.plot(res_df.index, res_df['silhouette'], marker='o'); plt.title('Silhouette');\n",
        "plt.show()\n",
        "\n",
        "k_chosen = int(res_df['silhouette'].idxmax())\n",
        "print('k elegido (máx silhouette):', k_chosen)\n",
        "\n",
        "km = KMeans(n_clusters=k_chosen, random_state=42, n_init=10)\n",
        "labels_km = km.fit_predict(X_scaled)\n",
        "df_clean['cluster_km'] = labels_km\n",
        "plt.figure(figsize=(8,6)); sns.scatterplot(x=X_pca2[:,0], y=X_pca2[:,1], hue=labels_km.astype(str), palette='tab10'); plt.title('KMeans clusters (PCA 2D)'); plt.show()"
      ]
    },
    {
      "cell_type": "markdown",
      "id": "f0b83f7a",
      "metadata": {
        "id": "f0b83f7a"
      },
      "source": [
        "### Comparación con DBSCAN\n",
        "\n",
        "Usa un k-distance plot para estimar `eps` y prueba DBSCAN con valores diferentes de `eps` y `min_samples`. Compara las etiquetas con KMeans usando adjusted rand index si procede."
      ]
    },
    {
      "cell_type": "code",
      "execution_count": null,
      "id": "dd8c5e8d",
      "metadata": {
        "id": "dd8c5e8d"
      },
      "outputs": [],
      "source": [
        "neigh = NearestNeighbors(n_neighbors=5)\n",
        "distances, indices = neigh.fit(X_scaled).kneighbors(X_scaled)\n",
        "distances = np.sort(distances[:, -1])\n",
        "plt.plot(distances); plt.title('k-distance plot'); plt.show()\n",
        "\n",
        "# Ejecuta DBSCAN con un ejemplo de parámetros\n",
        "from sklearn.metrics import adjusted_rand_score\n",
        "\n",
        "db = DBSCAN(eps=0.5, min_samples=5)\n",
        "labels_db = db.fit_predict(X_scaled)\n",
        "df_clean['cluster_db'] = labels_db\n",
        "print('Unique labels (DBSCAN):', np.unique(labels_db))\n",
        "print(pd.Series(labels_db).value_counts())\n",
        "print('Adjusted Rand Index (KMeans vs DBSCAN):', adjusted_rand_score(labels_km, labels_db))\n",
        "plt.figure(figsize=(8,6)); sns.scatterplot(x=X_pca2[:,0], y=X_pca2[:,1], hue=labels_db.astype(str), palette='tab10'); plt.title('DBSCAN labels (PCA 2D)'); plt.show()"
      ]
    },
    {
      "cell_type": "markdown",
      "id": "7e56900e",
      "metadata": {
        "id": "7e56900e"
      },
      "source": [
        "### LOF — detección de outliers\n",
        "\n",
        "Aplica LocalOutlierFactor para identificar observaciones atípicas. Ajusta `n_neighbors` y `contamination` según convenga."
      ]
    },
    {
      "cell_type": "code",
      "execution_count": null,
      "id": "6e0b56f3",
      "metadata": {
        "id": "6e0b56f3"
      },
      "outputs": [],
      "source": [
        "lof = LocalOutlierFactor(n_neighbors=20, contamination=0.05)\n",
        "lof_labels = lof.fit_predict(X_scaled)\n",
        "df_clean['lof_label'] = lof_labels\n",
        "print('Counts LOF labels:', pd.Series(lof_labels).value_counts())\n",
        "plt.figure(figsize=(8,6)); sns.scatterplot(x=X_pca2[:,0], y=X_pca2[:,1], hue=lof_labels.astype(str), palette='tab10'); plt.title('LOF labels (PCA 2D)'); plt.show()\n",
        "\n",
        "# Comparar outliers LOF con ruido DBSCAN\n",
        "print('\\nEjemplos where DBSCAN noise (-1):')\n",
        "display(df_clean[df_clean['cluster_db']==-1].head())\n",
        "print('\\nEjemplos detected by LOF (-1):')\n",
        "display(df_clean[df_clean['lof_label']==-1].head())"
      ]
    },
    {
      "cell_type": "markdown",
      "id": "dd3563bd",
      "metadata": {
        "id": "dd3563bd"
      },
      "source": [
        "### Perfilado y acciones\n",
        "\n",
        "Analiza medias por cluster y las características de los outliers. Decide si excluir, investigar o tratar estos casos de forma específica."
      ]
    },
    {
      "cell_type": "code",
      "execution_count": null,
      "id": "6d8c2ed9",
      "metadata": {
        "id": "6d8c2ed9"
      },
      "outputs": [],
      "source": [
        "print('Perfil KMeans:')\n",
        "display(df_clean.groupby('cluster_km')[vars_numericas].mean().round(2))\n",
        "\n",
        "print('\\nOutliers LOF examples:')\n",
        "display(df_clean[df_clean['lof_label']==-1].head())"
      ]
    },
    {
      "cell_type": "markdown",
      "id": "6fe4754c",
      "metadata": {
        "id": "6fe4754c"
      },
      "source": [
        "### Conclusiones\n",
        "\n",
        "Escribe aquí un párrafo con tus conclusiones: elección de k o parámetros de DBSCAN, qué encontró LOF y recomendaciones prácticas."
      ]
    },
    {
      "cell_type": "code",
      "execution_count": null,
      "id": "f5991a8d",
      "metadata": {
        "id": "f5991a8d"
      },
      "outputs": [],
      "source": [
        "# Escribe tu conclusión como texto en esta celda, por ejemplo:\n",
        "conclusion = '''\n",
        "'''\n",
        "print(conclusion)"
      ]
    },
    {
      "cell_type": "markdown",
      "id": "207ad222",
      "metadata": {
        "id": "207ad222"
      },
      "source": [
        "### Guardar notebook\n",
        "\n",
        "Ejecuta todas las celdas y guarda el notebook. Luego descarga el archivo para entregar o subir a tu repositorio."
      ]
    }
  ],
  "metadata": {
    "colab": {
      "provenance": [],
      "include_colab_link": true
    }
  },
  "nbformat": 4,
  "nbformat_minor": 5
}
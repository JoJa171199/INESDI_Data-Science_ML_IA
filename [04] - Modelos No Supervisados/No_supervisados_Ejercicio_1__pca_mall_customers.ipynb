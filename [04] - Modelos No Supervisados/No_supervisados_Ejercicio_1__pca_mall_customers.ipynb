{
  "cells": [
    {
      "cell_type": "markdown",
      "metadata": {
        "id": "view-in-github",
        "colab_type": "text"
      },
      "source": [
        "<a href=\"https://colab.research.google.com/github/dtoralg/INESDI_Data-Science_ML_IA/blob/main/%5B04%5D%20-%20Modelos%20No%20Supervisados/No_supervisados_Ejercicio_1__pca_mall_customers.ipynb\" target=\"_parent\"><img src=\"https://colab.research.google.com/assets/colab-badge.svg\" alt=\"Open In Colab\"/></a>"
      ]
    },
    {
      "cell_type": "markdown",
      "id": "fdf75ebc",
      "metadata": {
        "id": "fdf75ebc"
      },
      "source": [
        "# No supervisados - Ejercicio 1: pca_mall_customers.ipynb\n",
        "\n",
        "Este notebook es **I do**. Está resuelto: ejecuta las celdas para ver paso a paso cómo aplicar PCA sobre el dataset *Mall Customers*, cómo elegir el número de componentes, cómo medir la pérdida por reconstrucción y cómo usar PCA como preprocesado antes de clustering. Lee las explicaciones en cada celda y observa los resultados."
      ]
    },
    {
      "cell_type": "markdown",
      "id": "f3e6ead0",
      "metadata": {
        "id": "f3e6ead0"
      },
      "source": [
        "## Objetivos\n",
        "\n",
        "- Cargar el dataset *Mall Customers* (con fallback sintético si no está disponible).\n",
        "- Estandarizar las variables y calcular PCA completo.\n",
        "- Analizar varianza explicada y seleccionar componentes que retengan el 90% de la varianza.\n",
        "- Medir el error de reconstrucción (MSE) para distintos números de componentes.\n",
        "- Comparar el efecto de aplicar PCA antes de KMeans (inertia) y visualizar en 2D."
      ]
    },
    {
      "cell_type": "code",
      "execution_count": null,
      "id": "2a03def9",
      "metadata": {
        "id": "2a03def9"
      },
      "outputs": [],
      "source": [
        "import numpy as np\n",
        "import pandas as pd\n",
        "import matplotlib.pyplot as plt\n",
        "import seaborn as sns\n",
        "sns.set(style='whitegrid')\n",
        "\n",
        "from sklearn.preprocessing import StandardScaler, LabelEncoder\n",
        "from sklearn.decomposition import PCA\n",
        "from sklearn.cluster import KMeans\n",
        "from sklearn.metrics import mean_squared_error\n",
        "\n",
        "np.random.seed(42)\n"
      ]
    },
    {
      "cell_type": "markdown",
      "id": "af4d1f80",
      "metadata": {
        "id": "af4d1f80"
      },
      "source": [
        "### 1) Carga de datos\n",
        "\n",
        "Intento cargar desde un par de URLs públicas. Si no se puede, genero un dataset sintético con la misma estructura para que puedas ejecutar el notebook sin dependencias de red."
      ]
    },
    {
      "cell_type": "code",
      "execution_count": null,
      "id": "d758035b",
      "metadata": {
        "id": "d758035b"
      },
      "outputs": [],
      "source": [
        "url = 'https://raw.githubusercontent.com/dtoralg/INESDI_Data-Science_ML_IA/refs/heads/main/%5B04%5D%20-%20Modelos%20No%20Supervisados/Mall_Customers.csv'\n",
        "\n",
        "df = pd.read_csv(url)\n",
        "print('Cargado desde', url)\n"
      ]
    },
    {
      "cell_type": "markdown",
      "id": "d93349d8",
      "metadata": {
        "id": "d93349d8"
      },
      "source": [
        "### 2) Exploración rápida\n",
        "\n",
        "Comprueba nulos, tipos y estadísticas resumidas; esto te ayudará a decidir qué columnas usar para PCA."
      ]
    },
    {
      "cell_type": "code",
      "execution_count": null,
      "id": "2ebea9dc",
      "metadata": {
        "id": "2ebea9dc"
      },
      "outputs": [],
      "source": [
        "print('Porcentaje de nulos por columna:')\n",
        "print((df.isnull().mean()*100).round(2))\n",
        "print('\\nTipos de columnas:')\n",
        "print(df.dtypes)\n",
        "\n",
        "num_cols = df.select_dtypes(include=[np.number]).columns.tolist()\n",
        "print('\\nColumnas numéricas detectadas:', num_cols)\n",
        "\n",
        "display(df[num_cols].describe().T)"
      ]
    },
    {
      "cell_type": "markdown",
      "id": "0e81b646",
      "metadata": {
        "id": "0e81b646"
      },
      "source": [
        "### 3) Preparación: encoding y selección de features\n",
        "\n",
        "Codifico `Gender` y selecciono las variables numéricas relevantes para PCA: `Age`, `Annual Income (k$)` y `Spending Score (1-100)`. Puedes añadir más columnas si lo deseas, pero al menos estas tres son representativas para segmentación."
      ]
    },
    {
      "cell_type": "code",
      "execution_count": null,
      "id": "8444b48d",
      "metadata": {
        "id": "8444b48d"
      },
      "outputs": [],
      "source": [
        "df_proc = df.copy()\n",
        "if 'Gender' in df_proc.columns:\n",
        "    le = LabelEncoder()\n",
        "    df_proc['Gender_enc'] = le.fit_transform(df_proc['Gender'].astype(str))\n",
        "\n",
        "features = [c for c in ['Age','Annual Income (k$)','Spending Score (1-100)'] if c in df_proc.columns]\n",
        "print('Features seleccionadas:', features)\n",
        "X = df_proc[features].copy()\n",
        "display(X.head())"
      ]
    },
    {
      "cell_type": "markdown",
      "id": "a68bf3e4",
      "metadata": {
        "id": "a68bf3e4"
      },
      "source": [
        "### 4) Escalado\n",
        "\n",
        "Estandariza las features para que cada variable contribuya por igual a las componentes principales."
      ]
    },
    {
      "cell_type": "code",
      "execution_count": null,
      "id": "cf144d63",
      "metadata": {
        "id": "cf144d63"
      },
      "outputs": [],
      "source": [
        "scaler = StandardScaler()\n",
        "X_scaled = scaler.fit_transform(X)\n",
        "X_scaled_df = pd.DataFrame(X_scaled, columns=features)\n",
        "display(X_scaled_df.describe().T)"
      ]
    },
    {
      "cell_type": "markdown",
      "id": "fb4b0dca",
      "metadata": {
        "id": "fb4b0dca"
      },
      "source": [
        "### 5) Cálculo de PCA y varianza explicada\n",
        "\n",
        "Ajusto PCA completo (sin limitar el nº de componentes) y muestro la varianza explicada por cada componente y la acumulada. Esto te permite decidir cuántas componentes retener."
      ]
    },
    {
      "cell_type": "code",
      "execution_count": null,
      "id": "e11906bd",
      "metadata": {
        "id": "e11906bd"
      },
      "outputs": [],
      "source": [
        "pca_full = PCA()\n",
        "X_pca_full = pca_full.fit_transform(X_scaled)\n",
        "explained = pca_full.explained_variance_ratio_\n",
        "cumulative = np.cumsum(explained)\n",
        "\n",
        "explained_df = pd.DataFrame({'pc': np.arange(1, len(explained)+1), 'explained_variance': explained, 'cumulative': cumulative})\n",
        "explained_df.index = explained_df['pc']\n",
        "display(explained_df[['explained_variance','cumulative']])\n",
        "\n",
        "plt.figure(figsize=(8,4))\n",
        "plt.plot(explained_df['pc'], explained_df['explained_variance'], marker='o', label='Individual')\n",
        "plt.plot(explained_df['pc'], explained_df['cumulative'], marker='o', label='Cumulative')\n",
        "plt.xlabel('Componente principal')\n",
        "plt.ylabel('Varianza explicada')\n",
        "plt.xticks(explained_df['pc'])\n",
        "plt.legend()\n",
        "plt.title('Scree plot y varianza acumulada')\n",
        "plt.grid(True)\n",
        "plt.show()"
      ]
    },
    {
      "cell_type": "markdown",
      "id": "d434e2a3",
      "metadata": {
        "id": "d434e2a3"
      },
      "source": [
        "### 6) Elegir número de componentes para retener el 90% de la varianza\n",
        "\n",
        "Calculo cuántas componentes necesito para retener el 90% de la varianza y creo la transformación correspondiente."
      ]
    },
    {
      "cell_type": "code",
      "execution_count": null,
      "id": "e854e07a",
      "metadata": {
        "id": "e854e07a"
      },
      "outputs": [],
      "source": [
        "target_var = 0.90\n",
        "n_components_90 = int(np.argmax(cumulative >= target_var) + 1)\n",
        "print(f'Componentes necesarios para retener {int(target_var*100)}% de varianza: {n_components_90}')\n",
        "\n",
        "pca90 = PCA(n_components=n_components_90)\n",
        "X_pca_90 = pca90.fit_transform(X_scaled)\n",
        "print('Shape after PCA (90%):', X_pca_90.shape)"
      ]
    },
    {
      "cell_type": "markdown",
      "id": "af6193c4",
      "metadata": {
        "id": "af6193c4"
      },
      "source": [
        "### 7) Reconstrucción y error de reconstrucción\n",
        "\n",
        "Reconstruyo los datos desde diferentes números de componentes y mido el MSE para entender la pérdida de información que introduce la reducción dimensional."
      ]
    },
    {
      "cell_type": "code",
      "execution_count": null,
      "id": "2441f018",
      "metadata": {
        "id": "2441f018"
      },
      "outputs": [],
      "source": [
        "mse_records = []\n",
        "for k in range(1, X_scaled.shape[1]+1):\n",
        "    pca_k = PCA(n_components=k)\n",
        "    Xk = pca_k.fit_transform(X_scaled)\n",
        "    Xk_rec = pca_k.inverse_transform(Xk)\n",
        "    mse = mean_squared_error(X_scaled, Xk_rec)\n",
        "    mse_records.append({'k': k, 'mse': mse})\n",
        "\n",
        "mse_df = pd.DataFrame(mse_records).set_index('k')\n",
        "display(mse_df)\n",
        "\n",
        "plt.figure(figsize=(6,4))\n",
        "plt.plot(mse_df.index, mse_df['mse'], marker='o')\n",
        "plt.xlabel('n_components')\n",
        "plt.ylabel('MSE reconstrucción')\n",
        "plt.title('Error de reconstrucción vs nº componentes')\n",
        "plt.grid(True)\n",
        "plt.show()"
      ]
    },
    {
      "cell_type": "markdown",
      "id": "0959fa3f",
      "metadata": {
        "id": "0959fa3f"
      },
      "source": [
        "### 8) Visualización en 2D (PCA) y observaciones\n",
        "\n",
        "Proyecto los datos en las dos primeras componentes principales y uso un gradiente con `Spending Score` para detectar patrones. Además muestro cómo se verían centroides de un KMeans de ejemplo en este espacio para ayudarte a interpretar los clusters."
      ]
    },
    {
      "cell_type": "code",
      "execution_count": null,
      "id": "155b17be",
      "metadata": {
        "id": "155b17be"
      },
      "outputs": [],
      "source": [
        "pca2 = PCA(n_components=2)\n",
        "X_pca2 = pca2.fit_transform(X_scaled)\n",
        "\n",
        "plt.figure(figsize=(8,6))\n",
        "plt.scatter(X_pca2[:,0], X_pca2[:,1], c=df_proc['Spending Score (1-100)'] if 'Spending Score (1-100)' in df_proc.columns else X_scaled[:, -1], cmap='viridis', s=60)\n",
        "plt.colorbar(label='Spending Score (1-100)')\n",
        "plt.xlabel('PC1')\n",
        "plt.ylabel('PC2')\n",
        "plt.title('Datos proyectados en las 2 primeras componentes (color = Spending Score)')\n",
        "plt.show()\n",
        "\n",
        "# Centroides de ejemplo\n",
        "km_example = KMeans(n_clusters=4, random_state=42, n_init=10)\n",
        "labels_km_ex = km_example.fit_predict(X_scaled)\n",
        "centroids = km_example.cluster_centers_\n",
        "centroids_pca = pca2.transform(centroids)\n",
        "\n",
        "plt.figure(figsize=(8,6))\n",
        "plt.scatter(X_pca2[:,0], X_pca2[:,1], c=labels_km_ex, cmap='tab10', s=40, alpha=0.6)\n",
        "plt.scatter(centroids_pca[:,0], centroids_pca[:,1], c='black', s=150, marker='X', label='centroides')\n",
        "plt.title('KMeans (k=4) visualizado en PCA 2D con centroides')\n",
        "plt.legend()\n",
        "plt.show()"
      ]
    },
    {
      "cell_type": "markdown",
      "id": "b74a5a74",
      "metadata": {
        "id": "b74a5a74"
      },
      "source": [
        "### 9) PCA como preprocesado antes de clustering\n",
        "\n",
        "Comparo la inercia de KMeans ejecutado sobre los datos escalados frente a la representación reducida por PCA (2 componentes y n_components_90). Esto te da una idea de cómo afecta PCA a la estructura de clusters."
      ]
    },
    {
      "cell_type": "code",
      "execution_count": null,
      "id": "9a5a3089",
      "metadata": {
        "id": "9a5a3089"
      },
      "outputs": [],
      "source": [
        "km_orig = KMeans(n_clusters=4, random_state=42, n_init=10).fit(X_scaled)\n",
        "km_pca2 = KMeans(n_clusters=4, random_state=42, n_init=10).fit(pca2.transform(X_scaled))\n",
        "km_pca90 = KMeans(n_clusters=4, random_state=42, n_init=10).fit(X_pca_90)\n",
        "\n",
        "print('Inertia original (scaled):', km_orig.inertia_)\n",
        "print('Inertia PCA 2D:', km_pca2.inertia_)\n",
        "print('Inertia PCA 90%:', km_pca90.inertia_)"
      ]
    },
    {
      "cell_type": "markdown",
      "id": "6b0b8f68",
      "metadata": {
        "id": "6b0b8f68"
      },
      "source": [
        "### 10) Conclusión\n",
        "\n",
        "Has calculado PCA, medido varianza explicada y evaluado la pérdida de información por reconstrucción. Para visualización se usan 2 componentes; para preprocesado antes de clustering usé las componentes necesarias para retener el 90% de varianza. PCA reduce dimensionalidad y ruido y acelera el clustering, aunque introduce una pérdida medida por el MSE de reconstrucción."
      ]
    }
  ],
  "metadata": {
    "colab": {
      "provenance": [],
      "include_colab_link": true
    },
    "language_info": {
      "name": "python"
    },
    "kernelspec": {
      "name": "python3",
      "display_name": "Python 3"
    }
  },
  "nbformat": 4,
  "nbformat_minor": 5
}
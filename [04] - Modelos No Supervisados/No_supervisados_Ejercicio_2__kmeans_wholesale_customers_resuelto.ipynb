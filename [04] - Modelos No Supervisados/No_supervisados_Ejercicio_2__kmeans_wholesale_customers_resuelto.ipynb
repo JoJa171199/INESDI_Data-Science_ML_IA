{
  "cells": [
    {
      "cell_type": "markdown",
      "metadata": {
        "id": "view-in-github",
        "colab_type": "text"
      },
      "source": [
        "<a href=\"https://colab.research.google.com/github/dtoralg/INESDI_Data-Science_ML_IA/blob/main/%5B04%5D%20-%20Modelos%20No%20Supervisados/No_supervisados_Ejercicio_2__kmeans_wholesale_customers.ipynb\" target=\"_parent\"><img src=\"https://colab.research.google.com/assets/colab-badge.svg\" alt=\"Open In Colab\"/></a>"
      ]
    },
    {
      "cell_type": "markdown",
      "id": "353c2790",
      "metadata": {
        "id": "353c2790"
      },
      "source": [
        "# No supervisados - Ejercicio 2: kmeans_wholesale_customers.ipynb\n",
        "\n",
        "Este notebook es **We do**: ayudaremos a completar paso a paso el análisis de **KMeans** (+ comparación con DBSCAN) sobre el dataset **Wholesale Customers (UCI)**."
      ]
    },
    {
      "cell_type": "markdown",
      "id": "fdf7442b",
      "metadata": {
        "id": "fdf7442b"
      },
      "source": [
        "## Objetivos\n",
        "\n",
        "- Cargar y explorar el dataset Wholesale Customers.\n",
        "- Preparar los datos (selección de variables, escalado) y elegir un número razonable de clusters usando Elbow + Silhouette (búsqueda manual).\n",
        "- Entrenar KMeans y comparar con DBSCAN; perfilar clusters para interpretación de negocio.\n",
        "- Practicar con PCA para visualizar resultados en 2D."
      ]
    },
    {
      "cell_type": "markdown",
      "id": "86e9a158",
      "metadata": {
        "id": "86e9a158"
      },
      "source": [
        "## Dataset\n",
        "\n",
        "**Wholesale customers dataset** (UCI) — características de compras (annual spending) en diferentes categorías para clientes mayoristas.\n",
        "URL: https://archive.ics.uci.edu/ml/datasets/Wholesale+customers\n",
        "\n",
        "El fichero suele estar en formato CSV con columnas numéricas como `Fresh`, `Milk`, `Grocery`, `Frozen`, `Detergents_Paper`, `Delicassen` y etiquetas opcionales como `Channel`, `Region`."
      ]
    },
    {
      "cell_type": "code",
      "execution_count": 1,
      "id": "a764fff3",
      "metadata": {
        "id": "a764fff3"
      },
      "outputs": [],
      "source": [
        "# 1) Importaciones básicas (resuelto)\n",
        "import numpy as np\n",
        "import pandas as pd\n",
        "import matplotlib.pyplot as plt\n",
        "import seaborn as sns\n",
        "from sklearn.preprocessing import StandardScaler\n",
        "from sklearn.cluster import KMeans, DBSCAN\n",
        "from sklearn.metrics import silhouette_score\n",
        "from sklearn.decomposition import PCA\n",
        "from sklearn.neighbors import NearestNeighbors\n",
        "sns.set(style='whitegrid')\n",
        "np.random.seed(42)"
      ]
    },
    {
      "cell_type": "markdown",
      "id": "4319d1cc",
      "metadata": {
        "id": "4319d1cc"
      },
      "source": [
        "### 2) Carga de datos\n"
      ]
    },
    {
      "cell_type": "code",
      "execution_count": null,
      "id": "dcb983a1",
      "metadata": {
        "id": "dcb983a1"
      },
      "outputs": [],
      "source": [
        "# TODO: Carga el dataset Wholesale Customers en `df`\n",
        "# url = 'https://raw.githubusercontent.com/selva86/datasets/master/Wholesale_Customers_data.csv'"
      ]
    },
    {
      "cell_type": "markdown",
      "id": "be2be3df",
      "metadata": {
        "id": "be2be3df"
      },
      "source": [
        "### 3) Exploración inicial\n",
        "\n",
        "Tareas: revisar tipos, nulos, estadísticas descriptivas, correlaciones y distribución de las variables de gasto."
      ]
    },
    {
      "cell_type": "code",
      "execution_count": null,
      "id": "249feeee",
      "metadata": {
        "id": "249feeee"
      },
      "outputs": [],
      "source": [
        "# TODO: Muestra df.info(), df.describe().T y nulos por columna\n",
        "# TODO"
      ]
    },
    {
      "cell_type": "code",
      "execution_count": null,
      "id": "6c0dcbf5",
      "metadata": {
        "id": "6c0dcbf5"
      },
      "outputs": [],
      "source": [
        "# TODO: Dibuja un heatmap de correlación entre las features de gasto (usa df.corr())\n",
        "# Sugerencia: sns.heatmap(df[features].corr(), annot=True)\n",
        "# TODO"
      ]
    },
    {
      "cell_type": "code",
      "execution_count": null,
      "id": "8faec5d8",
      "metadata": {
        "id": "8faec5d8"
      },
      "outputs": [],
      "source": [
        "# TODO: Opcional - Usa pairplot para visualizar relaciones entre un subconjunto de features\n",
        "# Sugerencia: sns.pairplot(df[features_subset])\n",
        "# TODO"
      ]
    },
    {
      "cell_type": "markdown",
      "id": "b702cdf2",
      "metadata": {
        "id": "b702cdf2"
      },
      "source": [
        "### 4) Selección de features y limpieza (TODO)\n",
        "\n",
        "Decide qué columnas usar para clustering (normalmente las columnas de gasto). Crea `X` con las columnas escogidas."
      ]
    },
    {
      "cell_type": "code",
      "execution_count": null,
      "id": "d52f3593",
      "metadata": {
        "id": "d52f3593"
      },
      "outputs": [],
      "source": [
        "# TODO: Define `features` (lista de columnas numéricas de gasto) y crea X = df[features].copy()\n",
        "# Ejemplo guía:\n",
        "# features = ['Fresh','Milk','Grocery','Frozen','Detergents_Paper','Delicassen']\n",
        "# X = df[features].copy()\n",
        "# TODO"
      ]
    },
    {
      "cell_type": "markdown",
      "id": "6530419d",
      "metadata": {
        "id": "6530419d"
      },
      "source": [
        "### 5) Preprocesado: escalado (parte resuelta + TODO)\n",
        "\n",
        "Escalamos con `StandardScaler`. El escalado está resuelto en la primera línea; el alumno debe aplicar el scaler correctamente al train/test o al dataset completo según prefieras (aquí trabajamos sin split)."
      ]
    },
    {
      "cell_type": "code",
      "execution_count": null,
      "id": "ba6388f9",
      "metadata": {
        "id": "ba6388f9"
      },
      "outputs": [],
      "source": [
        "# Escalado (resuelto)\n",
        "scaler = StandardScaler()\n",
        "# TODO: aplica scaler sobre X y guarda en X_scaled (DataFrame con mismos nombres de columnas)\n",
        "# Ejemplo guía:\n",
        "# X_scaled = pd.DataFrame(scaler.fit_transform(X), columns=X.columns)\n",
        "# display(X_scaled.describe().T)\n",
        "# TODO"
      ]
    },
    {
      "cell_type": "markdown",
      "id": "466e29dd",
      "metadata": {
        "id": "466e29dd"
      },
      "source": [
        "### 6) Determinar k: Elbow + Silhouette (varias `# TODO`)\n",
        "\n",
        "Probad `k` en un rango (ej. 2..10) y calculad inertia y silhouette score para cada `k`. Dibujad ambos gráficos y decidid un `k` razonable."
      ]
    },
    {
      "cell_type": "code",
      "execution_count": null,
      "id": "2c906b8b",
      "metadata": {
        "id": "2c906b8b"
      },
      "outputs": [],
      "source": [
        "# TODO: Bucle para k en range(2,11):\n",
        "# - Entrena KMeans(n_clusters=k)\n",
        "# - Guarda inertia y silhouette_score(X_scaled, labels)\n",
        "# - Al final dibuja ambos plots (inertia vs k, silhouette vs k)\n",
        "# Pista: silhouette_score requiere al menos 2 clusters distintos.\n",
        "# TODO"
      ]
    },
    {
      "cell_type": "markdown",
      "id": "57f257dd",
      "metadata": {
        "id": "57f257dd"
      },
      "source": [
        "### 7) Entrenamiento KMeans y perfilado (varias `# TODO`)\n",
        "\n",
        "Entrenad KMeans con el `k` elegido y perfilar los clusters (medias por cluster sobre las variables originales)."
      ]
    },
    {
      "cell_type": "code",
      "execution_count": null,
      "id": "83f61e26",
      "metadata": {
        "id": "83f61e26"
      },
      "outputs": [],
      "source": [
        "# TODO: Entrena KMeans con k elegido: k_chosen = ...\n",
        "# - kmeans = KMeans(n_clusters=k_chosen, random_state=42, n_init=10)\n",
        "# - labels_km = kmeans.fit_predict(X_scaled)\n",
        "# - Añade labels a df: df['cluster_km'] = labels_km\n",
        "# - Muestra tamaños de cluster y medias (df.groupby('cluster_km')[features].mean())\n",
        "# TODO"
      ]
    },
    {
      "cell_type": "markdown",
      "id": "5891d75d",
      "metadata": {
        "id": "5891d75d"
      },
      "source": [
        "### 8) PCA para visualización (TODO)\n",
        "\n",
        "Reducir a 2 componentes para visualizar clusters. Esta celda está parcialmente resuelta: creamos el PCA; el alumno debe proyectar y plotear."
      ]
    },
    {
      "cell_type": "code",
      "execution_count": null,
      "id": "e0985a5b",
      "metadata": {
        "id": "e0985a5b"
      },
      "outputs": [],
      "source": [
        "# Resuelto: crear PCA\n",
        "pca = PCA(n_components=2)\n",
        "# TODO: proyecta X_scaled en 2D -> X_pca (array o DataFrame)\n",
        "# TODO: plotea scatter de X_pca coloreado por df['cluster_km']\n",
        "# TODO"
      ]
    },
    {
      "cell_type": "markdown",
      "id": "d43c2f2f",
      "metadata": {
        "id": "d43c2f2f"
      },
      "source": [
        "### 9) Comparación con DBSCAN (varias `# TODO`)\n",
        "\n",
        "Usad un k-distance plot para elegir `eps` y probad DBSCAN con al menos dos valores de eps/min_samples. Comparad etiquetas y discutid diferencias."
      ]
    },
    {
      "cell_type": "code",
      "execution_count": null,
      "id": "8f90e508",
      "metadata": {
        "id": "8f90e508"
      },
      "outputs": [],
      "source": [
        "# TODO: k-distance plot (usa NearestNeighbors)\n",
        "# - neigh = NearestNeighbors(n_neighbors=5)\n",
        "                      # - distances, indices = neigh.fit(X_scaled).kneighbors(X_scaled)\n",
        "# - distances = np.sort(distances[:, -1])\n",
        "# - plt.plot(distances)\n",
        "# TODO"
      ]
    },
    {
      "cell_type": "code",
      "execution_count": null,
      "id": "a39ae966",
      "metadata": {
        "id": "a39ae966"
      },
      "outputs": [],
      "source": [
        "# TODO: Ejecuta DBSCAN con algún eps/min_samples y guarda labels_db\n",
        "# - db = DBSCAN(eps=..., min_samples=...)\n",
        "# - labels_db = db.fit_predict(X_scaled)\n",
        "# - df['cluster_db'] = labels_db\n",
        "# - muestra np.unique(labels_db) y pd.Series(labels_db).value_counts()\n",
        "# TODO"
      ]
    },
    {
      "cell_type": "code",
      "execution_count": null,
      "id": "4cd44f89",
      "metadata": {
        "id": "4cd44f89"
      },
      "outputs": [],
      "source": [
        "# TODO: Opcional: calcula adjusted_rand_score(labels_km, labels_db) para cuantificar similitud\n",
        "# from sklearn.metrics import adjusted_rand_score\n",
        "# TODO"
      ]
    },
    {
      "cell_type": "markdown",
      "id": "d8eecc5c",
      "metadata": {
        "id": "d8eecc5c"
      },
      "source": [
        "### 10) Interpretación y acciones (TODO)\n",
        "\n",
        "Escribid en la celda siguiente un párrafo corto (3–5 líneas) sobre qué acciones de negocio propondríais para cada segmento descubierto y por qué."
      ]
    },
    {
      "cell_type": "code",
      "execution_count": null,
      "id": "db9e634b",
      "metadata": {
        "id": "db9e634b"
      },
      "outputs": [],
      "source": [
        "# TODO: Escribe aquí el párrafo con recomendaciones de negocio basadas en los clusters\n",
        "# Por ejemplo: 'Cluster 0: clientes jóvenes con alto spending score -> campaña de retención...'\n",
        "# TODO"
      ]
    },
    {
      "cell_type": "markdown",
      "id": "0a9dd2ff",
      "metadata": {
        "id": "0a9dd2ff"
      },
      "source": [
        "### 11) Extensiones opcionales (para clase avanzada)\n",
        "\n",
        "- Aplicar LOF (Local Outlier Factor) sobre las mismas features para detectar outliers y comparar con clusters que aparecen como noise en DBSCAN.\n",
        "- Probar clustering jerárquico y comparar resultados.\n",
        "- Calcular perfiles de cliente más sofisticados con reglas de negocio."
      ]
    },
    {
      "cell_type": "markdown",
      "id": "5781df7e",
      "metadata": {
        "id": "5781df7e"
      },
      "source": [
        "### Entrega\n",
        "\n",
        "Rellena las celdas `# TODO` en clase, ejecuta el notebook y guarda. Añade al final un breve resumen (3–5 líneas) con la elección de k, parámetros de DBSCAN y la recomendación de negocio."
      ]
    }
  ],
  "metadata": {
    "colab": {
      "provenance": [],
      "include_colab_link": true
    },
    "language_info": {
      "name": "python"
    },
    "kernelspec": {
      "name": "python3",
      "display_name": "Python 3"
    }
  },
  "nbformat": 4,
  "nbformat_minor": 5
}

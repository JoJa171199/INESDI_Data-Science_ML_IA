{
  "cells": [
    {
      "cell_type": "markdown",
      "metadata": {
        "id": "view-in-github",
        "colab_type": "text"
      },
      "source": [
        "<a href=\"https://colab.research.google.com/github/dtoralg/INESDI_Data-Science_ML_IA/blob/main/%5B04%5D%20-%20Modelos%20No%20Supervisados/No_supervisados_Ejercicio_4_kmeans_wholesale_customers.ipynb\" target=\"_parent\"><img src=\"https://colab.research.google.com/assets/colab-badge.svg\" alt=\"Open In Colab\"/></a>"
      ]
    },
    {
      "cell_type": "markdown",
      "id": "353c2790",
      "metadata": {
        "id": "353c2790"
      },
      "source": [
        "# No supervisados - Ejercicio 4: kmeans_wholesale_customers.ipynb\n",
        "\n",
        "Este notebook es **We do**: completaremos paso a paso el análisis de **KMeans** (+ comparación con DBSCAN) sobre el dataset **Wholesale Customers (UCI)**."
      ]
    },
    {
      "cell_type": "markdown",
      "id": "fdf7442b",
      "metadata": {
        "id": "fdf7442b"
      },
      "source": [
        "## Objetivos\n",
        "\n",
        "- Cargar y explorar el dataset Wholesale Customers.\n",
        "- Preparar los datos (selección de variables, escalado) y elegir un número razonable de clusters usando Elbow + Silhouette (búsqueda manual).\n",
        "- Entrenar KMeans y comparar con DBSCAN; perfilar clusters para interpretación de negocio.\n",
        "- Practicar con PCA para visualizar resultados en 2D."
      ]
    },
    {
      "cell_type": "markdown",
      "id": "86e9a158",
      "metadata": {
        "id": "86e9a158"
      },
      "source": [
        "## Dataset\n",
        "\n",
        "**Wholesale customers dataset** (UCI) — características de compras (annual spending) en diferentes categorías para clientes mayoristas.\n",
        "URL: https://archive.ics.uci.edu/ml/datasets/Wholesale+customers\n",
        "\n",
        "El fichero suele estar en formato CSV con columnas numéricas como `Fresh`, `Milk`, `Grocery`, `Frozen`, `Detergents_Paper`, `Delicassen` y etiquetas opcionales como `Channel`, `Region`."
      ]
    },
    {
      "cell_type": "code",
      "execution_count": null,
      "id": "a764fff3",
      "metadata": {
        "id": "a764fff3"
      },
      "outputs": [],
      "source": [
        "# 1) Importaciones básicas (resuelto)\n",
        "import numpy as np\n",
        "import pandas as pd\n",
        "import matplotlib.pyplot as plt\n",
        "import seaborn as sns\n",
        "from sklearn.preprocessing import StandardScaler\n",
        "from sklearn.cluster import KMeans, DBSCAN\n",
        "from sklearn.metrics import silhouette_score\n",
        "from sklearn.decomposition import PCA\n",
        "from sklearn.neighbors import NearestNeighbors\n",
        "sns.set(style='whitegrid')\n",
        "np.random.seed(42)"
      ]
    },
    {
      "cell_type": "markdown",
      "id": "4319d1cc",
      "metadata": {
        "id": "4319d1cc"
      },
      "source": [
        "### 2) Carga de datos\n"
      ]
    },
    {
      "cell_type": "code",
      "execution_count": null,
      "id": "dcb983a1",
      "metadata": {
        "id": "dcb983a1"
      },
      "outputs": [],
      "source": [
        "# TODO: Carga el dataset Wholesale Customers en `df`\n",
        "# url = 'https://raw.githubusercontent.com/selva86/datasets/master/Wholesale_Customers_data.csv'"
      ]
    },
    {
      "cell_type": "markdown",
      "id": "be2be3df",
      "metadata": {
        "id": "be2be3df"
      },
      "source": [
        "### 3) Exploración inicial\n",
        "\n",
        "Tareas: revisar tipos, nulos, estadísticas descriptivas, correlaciones y distribución de las variables de gasto."
      ]
    },
    {
      "cell_type": "code",
      "execution_count": null,
      "id": "249feeee",
      "metadata": {
        "id": "249feeee"
      },
      "outputs": [],
      "source": [
        "# TODO: Muestra df.info(), df.describe().T y nulos por columna\n"
      ]
    },
    {
      "cell_type": "code",
      "execution_count": null,
      "id": "6c0dcbf5",
      "metadata": {
        "id": "6c0dcbf5"
      },
      "outputs": [],
      "source": [
        "# TODO: Dibuja un heatmap de correlación entre las features de gasto (usa df.corr())\n"
      ]
    },
    {
      "cell_type": "code",
      "execution_count": null,
      "id": "8faec5d8",
      "metadata": {
        "id": "8faec5d8"
      },
      "outputs": [],
      "source": [
        "# TODO: Opcional - Usa pairplot para visualizar relaciones entre un subconjunto de features\n"
      ]
    },
    {
      "cell_type": "markdown",
      "id": "b702cdf2",
      "metadata": {
        "id": "b702cdf2"
      },
      "source": [
        "### 4) Selección de features y limpieza\n",
        "\n",
        "Decide qué columnas usar para clustering (normalmente las columnas de gasto). Crea `X` con las columnas escogidas."
      ]
    },
    {
      "cell_type": "code",
      "execution_count": null,
      "id": "d52f3593",
      "metadata": {
        "id": "d52f3593"
      },
      "outputs": [],
      "source": [
        "# TODO: Define `features` (lista de columnas numéricas de gasto) y crea X = df[features].copy()\n",
        "# Ejemplo guía:\n",
        "# features = [...]\n",
        "# X = df[features].copy()\n"
      ]
    },
    {
      "cell_type": "markdown",
      "id": "6530419d",
      "metadata": {
        "id": "6530419d"
      },
      "source": [
        "### 5) Preprocesado: escalado\n",
        "\n",
        "Escalamos con `StandardScaler`."
      ]
    },
    {
      "cell_type": "code",
      "execution_count": null,
      "id": "ba6388f9",
      "metadata": {
        "id": "ba6388f9"
      },
      "outputs": [],
      "source": [
        "# Escalado (resuelto)\n",
        "scaler = StandardScaler()\n",
        "# TODO: aplica scaler sobre X y guarda en X_scaled (DataFrame con mismos nombres de columnas)"
      ]
    },
    {
      "cell_type": "markdown",
      "id": "466e29dd",
      "metadata": {
        "id": "466e29dd"
      },
      "source": [
        "### 6) Determinar k: Elbow + Silhouette\n",
        "\n",
        "Prueba `k` en un rango (ej. 2..10) y calcula inertia y silhouette score para cada `k`. Dibuja ambos gráficos y decide un `k` razonable."
      ]
    },
    {
      "cell_type": "code",
      "execution_count": null,
      "id": "2c906b8b",
      "metadata": {
        "id": "2c906b8b"
      },
      "outputs": [],
      "source": [
        "# TODO: Bucle para k en range(2,11):\n",
        "# - Entrena KMeans(n_clusters=k)\n",
        "# - Guarda inertia y silhouette_score(X_scaled, labels)\n",
        "# - Al final dibuja ambos plots (inertia vs k, silhouette vs k)\n",
        "# Pista: silhouette_score requiere al menos 2 clusters distintos.\n",
        "# TODO"
      ]
    },
    {
      "cell_type": "markdown",
      "id": "57f257dd",
      "metadata": {
        "id": "57f257dd"
      },
      "source": [
        "### 7) Entrenamiento KMeans y perfilado\n",
        "\n",
        "Entrena KMeans con el `k` elegido y perfila los clusters (medias por cluster sobre las variables originales)."
      ]
    },
    {
      "cell_type": "code",
      "execution_count": null,
      "id": "83f61e26",
      "metadata": {
        "id": "83f61e26"
      },
      "outputs": [],
      "source": [
        "# TODO: Entrena KMeans con k elegido: k_chosen = ...\n",
        "# - kmeans = KMeans(n_clusters=k_chosen, random_state=42, n_init=10)\n",
        "# - fit_predict\n",
        "# - Añade labels a df\n",
        "# - Muestra tamaños de cluster y medias (df.groupby('cluster_km')[features].mean())\n",
        "# TODO"
      ]
    },
    {
      "cell_type": "markdown",
      "id": "5891d75d",
      "metadata": {
        "id": "5891d75d"
      },
      "source": [
        "### 8) PCA para visualización\n",
        "\n",
        "Reducir a 2 componentes para visualizar clusters."
      ]
    },
    {
      "cell_type": "code",
      "execution_count": null,
      "id": "e0985a5b",
      "metadata": {
        "id": "e0985a5b"
      },
      "outputs": [],
      "source": [
        "# Resuelto: crear PCA\n",
        "pca = PCA(n_components=2)\n",
        "# TODO: proyecta X_scaled en 2D -> X_pca (array o DataFrame)\n",
        "# TODO: plotea scatter de X_pca coloreado por df['cluster_km']\n",
        "# TODO"
      ]
    },
    {
      "cell_type": "markdown",
      "id": "d43c2f2f",
      "metadata": {
        "id": "d43c2f2f"
      },
      "source": [
        "### 9) Comparación con DBSCAN\n",
        "\n",
        "Usa un k-distance plot para elegir `eps` y prueba DBSCAN con al menos dos valores de eps/min_samples."
      ]
    },
    {
      "cell_type": "code",
      "execution_count": null,
      "id": "8f90e508",
      "metadata": {
        "id": "8f90e508"
      },
      "outputs": [],
      "source": [
        "# TODO: k-distance plot (usa NearestNeighbors)\n",
        "# - neigh = NearestNeighbors(n_neighbors=5)\n",
        "                      # - distances, indices = neigh.fit(X_scaled).kneighbors(X_scaled)\n",
        "# - distances = np.sort(distances[:, -1])\n",
        "# - plt.plot(distances)\n",
        "# TODO"
      ]
    },
    {
      "cell_type": "code",
      "execution_count": null,
      "id": "a39ae966",
      "metadata": {
        "id": "a39ae966"
      },
      "outputs": [],
      "source": [
        "# TODO: Ejecuta DBSCAN con algún eps/min_samples y guarda labels_db\n",
        "# - db = DBSCAN(eps=..., min_samples=...)\n",
        "# - labels_db = db.fit_predict(X_scaled)\n",
        "# - df['cluster_db'] = labels_db\n",
        "# - muestra np.unique(labels_db) y pd.Series(labels_db).value_counts()\n",
        "# TODO"
      ]
    },
    {
      "cell_type": "code",
      "execution_count": null,
      "id": "4cd44f89",
      "metadata": {
        "id": "4cd44f89"
      },
      "outputs": [],
      "source": [
        "# TODO: Opcional: calcula adjusted_rand_score(labels_km, labels_db) para cuantificar similitud\n",
        "# from sklearn.metrics import adjusted_rand_score\n",
        "# TODO"
      ]
    }
  ],
  "metadata": {
    "colab": {
      "provenance": [],
      "include_colab_link": true
    },
    "language_info": {
      "name": "python"
    },
    "kernelspec": {
      "name": "python3",
      "display_name": "Python 3"
    }
  },
  "nbformat": 4,
  "nbformat_minor": 5
}
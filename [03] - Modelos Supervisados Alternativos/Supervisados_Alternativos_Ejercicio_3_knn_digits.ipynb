{
  "cells": [
    {
      "cell_type": "markdown",
      "metadata": {
        "id": "view-in-github",
        "colab_type": "text"
      },
      "source": [
        "<a href=\"https://colab.research.google.com/github/dtoralg/INESDI_Data-Science_ML_IA/blob/main/%5B03%5D%20-%20Modelos%20Supervisados%20Alternativos/Supervisados_Alternativos_Ejercicio_3_knn_digits.ipynb\" target=\"_parent\"><img src=\"https://colab.research.google.com/assets/colab-badge.svg\" alt=\"Open In Colab\"/></a>"
      ]
    },
    {
      "cell_type": "markdown",
      "id": "9ff8714c",
      "metadata": {
        "id": "9ff8714c"
      },
      "source": [
        "# Supervisados Alternativos - Ejercicio 3: knn_digits.ipynb\n",
        "\n",
        "Este notebook es **You do**: esqueleto guiado con muchas `# TODO` para que implementes el pipeline completo de KNN sobre el dataset **Digits**."
      ]
    },
    {
      "cell_type": "markdown",
      "id": "47e26fbb",
      "metadata": {
        "id": "47e26fbb"
      },
      "source": [
        "## Objetivos\n",
        "\n",
        "- Cargar y explorar el dataset `digits` (8×8 imágenes, 10 clases: dígitos 0–9).\n",
        "- Preparar los datos (escalado y, opcional, reducción dimensional con PCA).\n",
        "- Implementar un pipeline KNN y evaluar con métricas multiclass (accuracy, F1-macro, matriz de confusión).\n",
        "- Visualizar ejemplos correctos y mal clasificados para entender errores del modelo.\n"
      ]
    },
    {
      "cell_type": "markdown",
      "id": "636a8733",
      "metadata": {
        "id": "636a8733"
      },
      "source": [
        "## Descripción del dataset\n",
        "\n",
        "El dataset `digits` disponible en `sklearn.datasets.load_digits()` contiene 1797 imágenes de dígitos de 8×8 píxeles. Cada muestra está representada por 64 features (intensidades) y una etiqueta 0–9. Es ideal para practicar clasificación multiclass y visualizar resultados."
      ]
    },
    {
      "cell_type": "code",
      "execution_count": null,
      "id": "f3111cb4",
      "metadata": {
        "id": "f3111cb4"
      },
      "outputs": [],
      "source": [
        "# 1) Importaciones necesarias\n",
        "import numpy as np\n",
        "import pandas as pd\n",
        "import matplotlib.pyplot as plt\n",
        "import seaborn as sns\n",
        "sns.set(style='whitegrid')\n",
        "\n",
        "from sklearn.datasets import load_digits\n",
        "from sklearn.model_selection import train_test_split, cross_val_score\n",
        "from sklearn.preprocessing import StandardScaler\n",
        "from sklearn.neighbors import KNeighborsClassifier\n",
        "from sklearn.decomposition import PCA\n",
        "from sklearn.metrics import (accuracy_score, confusion_matrix, classification_report,\n",
        "                             f1_score)\n",
        "np.random.seed(42)"
      ]
    },
    {
      "cell_type": "markdown",
      "id": "f6744351",
      "metadata": {
        "id": "f6744351"
      },
      "source": [
        "### 2) Cargar datos (resuelto)"
      ]
    },
    {
      "cell_type": "code",
      "execution_count": null,
      "id": "620b3cb6",
      "metadata": {
        "colab": {
          "base_uri": "https://localhost:8080/",
          "height": 682
        },
        "id": "620b3cb6",
        "outputId": "520fa45a-0100-41c0-dfc2-80a56b59a5d1"
      },
      "outputs": [
        {
          "output_type": "stream",
          "name": "stdout",
          "text": [
            "Dimensiones X: (1797, 64)\n",
            "Número de clases: 10\n"
          ]
        },
        {
          "output_type": "display_data",
          "data": {
            "text/plain": [
              "    0    1    2     3     4     5    6    7    8    9   ...   54   55   56  \\\n",
              "0  0.0  0.0  5.0  13.0   9.0   1.0  0.0  0.0  0.0  0.0  ...  0.0  0.0  0.0   \n",
              "1  0.0  0.0  0.0  12.0  13.0   5.0  0.0  0.0  0.0  0.0  ...  0.0  0.0  0.0   \n",
              "2  0.0  0.0  0.0   4.0  15.0  12.0  0.0  0.0  0.0  0.0  ...  5.0  0.0  0.0   \n",
              "3  0.0  0.0  7.0  15.0  13.0   1.0  0.0  0.0  0.0  8.0  ...  9.0  0.0  0.0   \n",
              "4  0.0  0.0  0.0   1.0  11.0   0.0  0.0  0.0  0.0  0.0  ...  0.0  0.0  0.0   \n",
              "\n",
              "    57   58    59    60    61   62   63  \n",
              "0  0.0  6.0  13.0  10.0   0.0  0.0  0.0  \n",
              "1  0.0  0.0  11.0  16.0  10.0  0.0  0.0  \n",
              "2  0.0  0.0   3.0  11.0  16.0  9.0  0.0  \n",
              "3  0.0  7.0  13.0  13.0   9.0  0.0  0.0  \n",
              "4  0.0  0.0   2.0  16.0   4.0  0.0  0.0  \n",
              "\n",
              "[5 rows x 64 columns]"
            ],
            "text/html": [
              "\n",
              "  <div id=\"df-58a07b15-345d-4ee8-8f1f-ed049a24da56\" class=\"colab-df-container\">\n",
              "    <div>\n",
              "<style scoped>\n",
              "    .dataframe tbody tr th:only-of-type {\n",
              "        vertical-align: middle;\n",
              "    }\n",
              "\n",
              "    .dataframe tbody tr th {\n",
              "        vertical-align: top;\n",
              "    }\n",
              "\n",
              "    .dataframe thead th {\n",
              "        text-align: right;\n",
              "    }\n",
              "</style>\n",
              "<table border=\"1\" class=\"dataframe\">\n",
              "  <thead>\n",
              "    <tr style=\"text-align: right;\">\n",
              "      <th></th>\n",
              "      <th>0</th>\n",
              "      <th>1</th>\n",
              "      <th>2</th>\n",
              "      <th>3</th>\n",
              "      <th>4</th>\n",
              "      <th>5</th>\n",
              "      <th>6</th>\n",
              "      <th>7</th>\n",
              "      <th>8</th>\n",
              "      <th>9</th>\n",
              "      <th>...</th>\n",
              "      <th>54</th>\n",
              "      <th>55</th>\n",
              "      <th>56</th>\n",
              "      <th>57</th>\n",
              "      <th>58</th>\n",
              "      <th>59</th>\n",
              "      <th>60</th>\n",
              "      <th>61</th>\n",
              "      <th>62</th>\n",
              "      <th>63</th>\n",
              "    </tr>\n",
              "  </thead>\n",
              "  <tbody>\n",
              "    <tr>\n",
              "      <th>0</th>\n",
              "      <td>0.0</td>\n",
              "      <td>0.0</td>\n",
              "      <td>5.0</td>\n",
              "      <td>13.0</td>\n",
              "      <td>9.0</td>\n",
              "      <td>1.0</td>\n",
              "      <td>0.0</td>\n",
              "      <td>0.0</td>\n",
              "      <td>0.0</td>\n",
              "      <td>0.0</td>\n",
              "      <td>...</td>\n",
              "      <td>0.0</td>\n",
              "      <td>0.0</td>\n",
              "      <td>0.0</td>\n",
              "      <td>0.0</td>\n",
              "      <td>6.0</td>\n",
              "      <td>13.0</td>\n",
              "      <td>10.0</td>\n",
              "      <td>0.0</td>\n",
              "      <td>0.0</td>\n",
              "      <td>0.0</td>\n",
              "    </tr>\n",
              "    <tr>\n",
              "      <th>1</th>\n",
              "      <td>0.0</td>\n",
              "      <td>0.0</td>\n",
              "      <td>0.0</td>\n",
              "      <td>12.0</td>\n",
              "      <td>13.0</td>\n",
              "      <td>5.0</td>\n",
              "      <td>0.0</td>\n",
              "      <td>0.0</td>\n",
              "      <td>0.0</td>\n",
              "      <td>0.0</td>\n",
              "      <td>...</td>\n",
              "      <td>0.0</td>\n",
              "      <td>0.0</td>\n",
              "      <td>0.0</td>\n",
              "      <td>0.0</td>\n",
              "      <td>0.0</td>\n",
              "      <td>11.0</td>\n",
              "      <td>16.0</td>\n",
              "      <td>10.0</td>\n",
              "      <td>0.0</td>\n",
              "      <td>0.0</td>\n",
              "    </tr>\n",
              "    <tr>\n",
              "      <th>2</th>\n",
              "      <td>0.0</td>\n",
              "      <td>0.0</td>\n",
              "      <td>0.0</td>\n",
              "      <td>4.0</td>\n",
              "      <td>15.0</td>\n",
              "      <td>12.0</td>\n",
              "      <td>0.0</td>\n",
              "      <td>0.0</td>\n",
              "      <td>0.0</td>\n",
              "      <td>0.0</td>\n",
              "      <td>...</td>\n",
              "      <td>5.0</td>\n",
              "      <td>0.0</td>\n",
              "      <td>0.0</td>\n",
              "      <td>0.0</td>\n",
              "      <td>0.0</td>\n",
              "      <td>3.0</td>\n",
              "      <td>11.0</td>\n",
              "      <td>16.0</td>\n",
              "      <td>9.0</td>\n",
              "      <td>0.0</td>\n",
              "    </tr>\n",
              "    <tr>\n",
              "      <th>3</th>\n",
              "      <td>0.0</td>\n",
              "      <td>0.0</td>\n",
              "      <td>7.0</td>\n",
              "      <td>15.0</td>\n",
              "      <td>13.0</td>\n",
              "      <td>1.0</td>\n",
              "      <td>0.0</td>\n",
              "      <td>0.0</td>\n",
              "      <td>0.0</td>\n",
              "      <td>8.0</td>\n",
              "      <td>...</td>\n",
              "      <td>9.0</td>\n",
              "      <td>0.0</td>\n",
              "      <td>0.0</td>\n",
              "      <td>0.0</td>\n",
              "      <td>7.0</td>\n",
              "      <td>13.0</td>\n",
              "      <td>13.0</td>\n",
              "      <td>9.0</td>\n",
              "      <td>0.0</td>\n",
              "      <td>0.0</td>\n",
              "    </tr>\n",
              "    <tr>\n",
              "      <th>4</th>\n",
              "      <td>0.0</td>\n",
              "      <td>0.0</td>\n",
              "      <td>0.0</td>\n",
              "      <td>1.0</td>\n",
              "      <td>11.0</td>\n",
              "      <td>0.0</td>\n",
              "      <td>0.0</td>\n",
              "      <td>0.0</td>\n",
              "      <td>0.0</td>\n",
              "      <td>0.0</td>\n",
              "      <td>...</td>\n",
              "      <td>0.0</td>\n",
              "      <td>0.0</td>\n",
              "      <td>0.0</td>\n",
              "      <td>0.0</td>\n",
              "      <td>0.0</td>\n",
              "      <td>2.0</td>\n",
              "      <td>16.0</td>\n",
              "      <td>4.0</td>\n",
              "      <td>0.0</td>\n",
              "      <td>0.0</td>\n",
              "    </tr>\n",
              "  </tbody>\n",
              "</table>\n",
              "<p>5 rows × 64 columns</p>\n",
              "</div>\n",
              "    <div class=\"colab-df-buttons\">\n",
              "\n",
              "  <div class=\"colab-df-container\">\n",
              "    <button class=\"colab-df-convert\" onclick=\"convertToInteractive('df-58a07b15-345d-4ee8-8f1f-ed049a24da56')\"\n",
              "            title=\"Convert this dataframe to an interactive table.\"\n",
              "            style=\"display:none;\">\n",
              "\n",
              "  <svg xmlns=\"http://www.w3.org/2000/svg\" height=\"24px\" viewBox=\"0 -960 960 960\">\n",
              "    <path d=\"M120-120v-720h720v720H120Zm60-500h600v-160H180v160Zm220 220h160v-160H400v160Zm0 220h160v-160H400v160ZM180-400h160v-160H180v160Zm440 0h160v-160H620v160ZM180-180h160v-160H180v160Zm440 0h160v-160H620v160Z\"/>\n",
              "  </svg>\n",
              "    </button>\n",
              "\n",
              "  <style>\n",
              "    .colab-df-container {\n",
              "      display:flex;\n",
              "      gap: 12px;\n",
              "    }\n",
              "\n",
              "    .colab-df-convert {\n",
              "      background-color: #E8F0FE;\n",
              "      border: none;\n",
              "      border-radius: 50%;\n",
              "      cursor: pointer;\n",
              "      display: none;\n",
              "      fill: #1967D2;\n",
              "      height: 32px;\n",
              "      padding: 0 0 0 0;\n",
              "      width: 32px;\n",
              "    }\n",
              "\n",
              "    .colab-df-convert:hover {\n",
              "      background-color: #E2EBFA;\n",
              "      box-shadow: 0px 1px 2px rgba(60, 64, 67, 0.3), 0px 1px 3px 1px rgba(60, 64, 67, 0.15);\n",
              "      fill: #174EA6;\n",
              "    }\n",
              "\n",
              "    .colab-df-buttons div {\n",
              "      margin-bottom: 4px;\n",
              "    }\n",
              "\n",
              "    [theme=dark] .colab-df-convert {\n",
              "      background-color: #3B4455;\n",
              "      fill: #D2E3FC;\n",
              "    }\n",
              "\n",
              "    [theme=dark] .colab-df-convert:hover {\n",
              "      background-color: #434B5C;\n",
              "      box-shadow: 0px 1px 3px 1px rgba(0, 0, 0, 0.15);\n",
              "      filter: drop-shadow(0px 1px 2px rgba(0, 0, 0, 0.3));\n",
              "      fill: #FFFFFF;\n",
              "    }\n",
              "  </style>\n",
              "\n",
              "    <script>\n",
              "      const buttonEl =\n",
              "        document.querySelector('#df-58a07b15-345d-4ee8-8f1f-ed049a24da56 button.colab-df-convert');\n",
              "      buttonEl.style.display =\n",
              "        google.colab.kernel.accessAllowed ? 'block' : 'none';\n",
              "\n",
              "      async function convertToInteractive(key) {\n",
              "        const element = document.querySelector('#df-58a07b15-345d-4ee8-8f1f-ed049a24da56');\n",
              "        const dataTable =\n",
              "          await google.colab.kernel.invokeFunction('convertToInteractive',\n",
              "                                                    [key], {});\n",
              "        if (!dataTable) return;\n",
              "\n",
              "        const docLinkHtml = 'Like what you see? Visit the ' +\n",
              "          '<a target=\"_blank\" href=https://colab.research.google.com/notebooks/data_table.ipynb>data table notebook</a>'\n",
              "          + ' to learn more about interactive tables.';\n",
              "        element.innerHTML = '';\n",
              "        dataTable['output_type'] = 'display_data';\n",
              "        await google.colab.output.renderOutput(dataTable, element);\n",
              "        const docLink = document.createElement('div');\n",
              "        docLink.innerHTML = docLinkHtml;\n",
              "        element.appendChild(docLink);\n",
              "      }\n",
              "    </script>\n",
              "  </div>\n",
              "\n",
              "\n",
              "    <div id=\"df-69003f39-de23-4352-bafd-e3072082d3c6\">\n",
              "      <button class=\"colab-df-quickchart\" onclick=\"quickchart('df-69003f39-de23-4352-bafd-e3072082d3c6')\"\n",
              "                title=\"Suggest charts\"\n",
              "                style=\"display:none;\">\n",
              "\n",
              "<svg xmlns=\"http://www.w3.org/2000/svg\" height=\"24px\"viewBox=\"0 0 24 24\"\n",
              "     width=\"24px\">\n",
              "    <g>\n",
              "        <path d=\"M19 3H5c-1.1 0-2 .9-2 2v14c0 1.1.9 2 2 2h14c1.1 0 2-.9 2-2V5c0-1.1-.9-2-2-2zM9 17H7v-7h2v7zm4 0h-2V7h2v10zm4 0h-2v-4h2v4z\"/>\n",
              "    </g>\n",
              "</svg>\n",
              "      </button>\n",
              "\n",
              "<style>\n",
              "  .colab-df-quickchart {\n",
              "      --bg-color: #E8F0FE;\n",
              "      --fill-color: #1967D2;\n",
              "      --hover-bg-color: #E2EBFA;\n",
              "      --hover-fill-color: #174EA6;\n",
              "      --disabled-fill-color: #AAA;\n",
              "      --disabled-bg-color: #DDD;\n",
              "  }\n",
              "\n",
              "  [theme=dark] .colab-df-quickchart {\n",
              "      --bg-color: #3B4455;\n",
              "      --fill-color: #D2E3FC;\n",
              "      --hover-bg-color: #434B5C;\n",
              "      --hover-fill-color: #FFFFFF;\n",
              "      --disabled-bg-color: #3B4455;\n",
              "      --disabled-fill-color: #666;\n",
              "  }\n",
              "\n",
              "  .colab-df-quickchart {\n",
              "    background-color: var(--bg-color);\n",
              "    border: none;\n",
              "    border-radius: 50%;\n",
              "    cursor: pointer;\n",
              "    display: none;\n",
              "    fill: var(--fill-color);\n",
              "    height: 32px;\n",
              "    padding: 0;\n",
              "    width: 32px;\n",
              "  }\n",
              "\n",
              "  .colab-df-quickchart:hover {\n",
              "    background-color: var(--hover-bg-color);\n",
              "    box-shadow: 0 1px 2px rgba(60, 64, 67, 0.3), 0 1px 3px 1px rgba(60, 64, 67, 0.15);\n",
              "    fill: var(--button-hover-fill-color);\n",
              "  }\n",
              "\n",
              "  .colab-df-quickchart-complete:disabled,\n",
              "  .colab-df-quickchart-complete:disabled:hover {\n",
              "    background-color: var(--disabled-bg-color);\n",
              "    fill: var(--disabled-fill-color);\n",
              "    box-shadow: none;\n",
              "  }\n",
              "\n",
              "  .colab-df-spinner {\n",
              "    border: 2px solid var(--fill-color);\n",
              "    border-color: transparent;\n",
              "    border-bottom-color: var(--fill-color);\n",
              "    animation:\n",
              "      spin 1s steps(1) infinite;\n",
              "  }\n",
              "\n",
              "  @keyframes spin {\n",
              "    0% {\n",
              "      border-color: transparent;\n",
              "      border-bottom-color: var(--fill-color);\n",
              "      border-left-color: var(--fill-color);\n",
              "    }\n",
              "    20% {\n",
              "      border-color: transparent;\n",
              "      border-left-color: var(--fill-color);\n",
              "      border-top-color: var(--fill-color);\n",
              "    }\n",
              "    30% {\n",
              "      border-color: transparent;\n",
              "      border-left-color: var(--fill-color);\n",
              "      border-top-color: var(--fill-color);\n",
              "      border-right-color: var(--fill-color);\n",
              "    }\n",
              "    40% {\n",
              "      border-color: transparent;\n",
              "      border-right-color: var(--fill-color);\n",
              "      border-top-color: var(--fill-color);\n",
              "    }\n",
              "    60% {\n",
              "      border-color: transparent;\n",
              "      border-right-color: var(--fill-color);\n",
              "    }\n",
              "    80% {\n",
              "      border-color: transparent;\n",
              "      border-right-color: var(--fill-color);\n",
              "      border-bottom-color: var(--fill-color);\n",
              "    }\n",
              "    90% {\n",
              "      border-color: transparent;\n",
              "      border-bottom-color: var(--fill-color);\n",
              "    }\n",
              "  }\n",
              "</style>\n",
              "\n",
              "      <script>\n",
              "        async function quickchart(key) {\n",
              "          const quickchartButtonEl =\n",
              "            document.querySelector('#' + key + ' button');\n",
              "          quickchartButtonEl.disabled = true;  // To prevent multiple clicks.\n",
              "          quickchartButtonEl.classList.add('colab-df-spinner');\n",
              "          try {\n",
              "            const charts = await google.colab.kernel.invokeFunction(\n",
              "                'suggestCharts', [key], {});\n",
              "          } catch (error) {\n",
              "            console.error('Error during call to suggestCharts:', error);\n",
              "          }\n",
              "          quickchartButtonEl.classList.remove('colab-df-spinner');\n",
              "          quickchartButtonEl.classList.add('colab-df-quickchart-complete');\n",
              "        }\n",
              "        (() => {\n",
              "          let quickchartButtonEl =\n",
              "            document.querySelector('#df-69003f39-de23-4352-bafd-e3072082d3c6 button');\n",
              "          quickchartButtonEl.style.display =\n",
              "            google.colab.kernel.accessAllowed ? 'block' : 'none';\n",
              "        })();\n",
              "      </script>\n",
              "    </div>\n",
              "\n",
              "    </div>\n",
              "  </div>\n"
            ],
            "application/vnd.google.colaboratory.intrinsic+json": {
              "type": "dataframe"
            }
          },
          "metadata": {}
        },
        {
          "output_type": "execute_result",
          "data": {
            "text/plain": [
              "digit\n",
              "0    178\n",
              "1    182\n",
              "2    177\n",
              "3    183\n",
              "4    181\n",
              "5    182\n",
              "6    181\n",
              "7    179\n",
              "8    174\n",
              "9    180\n",
              "Name: count, dtype: int64"
            ],
            "text/html": [
              "<div>\n",
              "<style scoped>\n",
              "    .dataframe tbody tr th:only-of-type {\n",
              "        vertical-align: middle;\n",
              "    }\n",
              "\n",
              "    .dataframe tbody tr th {\n",
              "        vertical-align: top;\n",
              "    }\n",
              "\n",
              "    .dataframe thead th {\n",
              "        text-align: right;\n",
              "    }\n",
              "</style>\n",
              "<table border=\"1\" class=\"dataframe\">\n",
              "  <thead>\n",
              "    <tr style=\"text-align: right;\">\n",
              "      <th></th>\n",
              "      <th>count</th>\n",
              "    </tr>\n",
              "    <tr>\n",
              "      <th>digit</th>\n",
              "      <th></th>\n",
              "    </tr>\n",
              "  </thead>\n",
              "  <tbody>\n",
              "    <tr>\n",
              "      <th>0</th>\n",
              "      <td>178</td>\n",
              "    </tr>\n",
              "    <tr>\n",
              "      <th>1</th>\n",
              "      <td>182</td>\n",
              "    </tr>\n",
              "    <tr>\n",
              "      <th>2</th>\n",
              "      <td>177</td>\n",
              "    </tr>\n",
              "    <tr>\n",
              "      <th>3</th>\n",
              "      <td>183</td>\n",
              "    </tr>\n",
              "    <tr>\n",
              "      <th>4</th>\n",
              "      <td>181</td>\n",
              "    </tr>\n",
              "    <tr>\n",
              "      <th>5</th>\n",
              "      <td>182</td>\n",
              "    </tr>\n",
              "    <tr>\n",
              "      <th>6</th>\n",
              "      <td>181</td>\n",
              "    </tr>\n",
              "    <tr>\n",
              "      <th>7</th>\n",
              "      <td>179</td>\n",
              "    </tr>\n",
              "    <tr>\n",
              "      <th>8</th>\n",
              "      <td>174</td>\n",
              "    </tr>\n",
              "    <tr>\n",
              "      <th>9</th>\n",
              "      <td>180</td>\n",
              "    </tr>\n",
              "  </tbody>\n",
              "</table>\n",
              "</div><br><label><b>dtype:</b> int64</label>"
            ]
          },
          "metadata": {},
          "execution_count": 2
        }
      ],
      "source": [
        "digits = load_digits()\n",
        "X = pd.DataFrame(digits.data)\n",
        "y = pd.Series(digits.target, name='digit')\n",
        "images = digits.images  # array (n_samples, 8, 8) para visualizar\n",
        "print('Dimensiones X:', X.shape)\n",
        "print('Número de clases:', len(np.unique(y)))\n",
        "display(X.head())\n",
        "y.value_counts().sort_index()"
      ]
    },
    {
      "cell_type": "markdown",
      "id": "6ce1faec",
      "metadata": {
        "id": "6ce1faec"
      },
      "source": [
        "### 3) Exploración rápida (TODO)\n",
        "\n",
        "Objetivos: revisar balance de clases, rangos de valores y ver algunas imágenes ejemplo."
      ]
    },
    {
      "cell_type": "code",
      "execution_count": null,
      "id": "4ec50b6b",
      "metadata": {
        "id": "4ec50b6b"
      },
      "outputs": [],
      "source": [
        "# TODO: Muestra 6 imágenes de ejemplo (una por clase si quieres)\n",
        "# Sugerencia:\n",
        "# fig, axes = plt.subplots(2,3, figsize=(8,5))\n",
        "# axes = axes.ravel()\n",
        "# for i, ax in enumerate(axes):\n",
        "#     ax.imshow(images[i], cmap='gray')\n",
        "#     ax.set_title(f'label={y.iloc[i]}')\n",
        "#     ax.axis('off')\n",
        "# plt.show()\n",
        "# TODO"
      ]
    },
    {
      "cell_type": "markdown",
      "id": "fac2283f",
      "metadata": {
        "id": "fac2283f"
      },
      "source": [
        "### 4) Preparación de datos: escalado y selección de variables (TODO)\n",
        "\n",
        "KNN usa distancias, por tanto es imprescindible escalar. Aquí aplicaremos `StandardScaler` a todas las columnas numéricas.\n"
      ]
    },
    {
      "cell_type": "code",
      "execution_count": null,
      "id": "b1082b1b",
      "metadata": {
        "id": "b1082b1b"
      },
      "outputs": [],
      "source": [
        "# TODO: Escala X usando StandardScaler y crea X_scaled (DataFrame con mismos nombres de columnas)\n",
        "# TODO"
      ]
    },
    {
      "cell_type": "markdown",
      "id": "ee6bf57c",
      "metadata": {
        "id": "ee6bf57c"
      },
      "source": [
        "### 5) (Opcional) Reducción dimensional con PCA para acelerar y visualizar (TODO)\n",
        "\n",
        "Si quieres trabajar más rápido o visualizar fronteras, reduce a 2 componentes con PCA. Conserva X_scaled para el modelo final."
      ]
    },
    {
      "cell_type": "code",
      "execution_count": null,
      "id": "3a0dc9da",
      "metadata": {
        "id": "3a0dc9da"
      },
      "outputs": [],
      "source": [
        "# TODO: Aplica PCA(n_components=2) sobre X_scaled y guarda X_pca (DataFrame con PC1, PC2)\n",
        "# TODO"
      ]
    },
    {
      "cell_type": "markdown",
      "id": "fb7e4e0e",
      "metadata": {
        "id": "fb7e4e0e"
      },
      "source": [
        "### 6) División en train/test (TODO)\n",
        "\n",
        "Usa `train_test_split` con `stratify=y` y `random_state=42`. Reserva 20% para test."
      ]
    },
    {
      "cell_type": "code",
      "execution_count": null,
      "id": "a3c5a770",
      "metadata": {
        "id": "a3c5a770"
      },
      "outputs": [],
      "source": [
        "# TODO: Divide en X_train, X_test, y_train, y_test\n",
        "# TODO"
      ]
    },
    {
      "cell_type": "markdown",
      "id": "680aa4c5",
      "metadata": {
        "id": "680aa4c5"
      },
      "source": [
        "### 7) Baseline: KNN con k=3 (TODO)\n",
        "\n",
        "Entrena un KNN con k=3 y evalúa en test; muestra accuracy y classification_report."
      ]
    },
    {
      "cell_type": "code",
      "execution_count": null,
      "id": "83f2df41",
      "metadata": {
        "id": "83f2df41"
      },
      "outputs": [],
      "source": [
        "# TODO: Entrena KNeighborsClassifier(n_neighbors=3) sobre X_train y evalúa sobre X_test\n",
        "# TODO"
      ]
    },
    {
      "cell_type": "markdown",
      "id": "1d968128",
      "metadata": {
        "id": "1d968128"
      },
      "source": [
        "### 8) Afinar `k` manualmente con cross-validation (TODO)\n",
        "\n",
        "Prueba varios `k` en una lista (ej. [1,3,5,7,9,11]) y usa `cross_val_score` sobre X_train para comparar medias de CV. No hace falta GridSearchCV."
      ]
    },
    {
      "cell_type": "code",
      "execution_count": null,
      "id": "ceb96e89",
      "metadata": {
        "id": "ceb96e89"
      },
      "outputs": [],
      "source": [
        "# TODO: Prueba varios k usando cross_val_score y registra mean CV accuracy para cada k\n",
        "# TODO"
      ]
    },
    {
      "cell_type": "markdown",
      "id": "64b857b2",
      "metadata": {
        "id": "64b857b2"
      },
      "source": [
        "### 9) Visualizar ejemplos mal clasificados (TODO)\n",
        "\n",
        "Muestra algunas imágenes de dígitos del test que el modelo clasificó mal junto con su etiqueta real y predicha. Esto ayuda a entender errores (ruido, parecidos entre dígitos)."
      ]
    },
    {
      "cell_type": "code",
      "execution_count": null,
      "id": "0a2cb1e1",
      "metadata": {
        "id": "0a2cb1e1"
      },
      "outputs": [],
      "source": [
        "# TODO: Encuentra índices de test donde y_test != y_pred y muestra 6 imágenes con su real/predicho\n",
        "# TODO"
      ]
    },
    {
      "cell_type": "markdown",
      "id": "87271fbb",
      "metadata": {
        "id": "87271fbb"
      },
      "source": [
        "### 10) Evaluación por clase y conclusiones (TODO)\n",
        "\n",
        "Calcula F1-score por clase y una tabla resumen. Interpreta qué dígitos son más confusos entre sí y por qué puede suceder."
      ]
    },
    {
      "cell_type": "code",
      "execution_count": null,
      "id": "ca2c39bf",
      "metadata": {
        "id": "ca2c39bf"
      },
      "outputs": [],
      "source": [
        "# TODO: Calcula f1_score(y_test, y_pred, average=None) y muestra en DataFrame con index 0..9\n",
        "# TODO"
      ]
    },
    {
      "cell_type": "markdown",
      "id": "7de113c8",
      "metadata": {
        "id": "7de113c8"
      },
      "source": [
        "### Entrega\n",
        "\n",
        "Guarda el notebook completado y añade en la última celda un breve resumen (3–5 líneas) sobre los hallazgos: mejor k, accuracy final, qué errores son frecuentes y recomendaciones para mejorar el modelo."
      ]
    }
  ],
  "metadata": {
    "colab": {
      "provenance": [],
      "include_colab_link": true
    },
    "language_info": {
      "name": "python"
    },
    "kernelspec": {
      "name": "python3",
      "display_name": "Python 3"
    }
  },
  "nbformat": 4,
  "nbformat_minor": 5
}
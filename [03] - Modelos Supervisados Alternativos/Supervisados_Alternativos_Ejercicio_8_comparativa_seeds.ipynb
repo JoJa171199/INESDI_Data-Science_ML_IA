{
  "cells": [
    {
      "cell_type": "markdown",
      "metadata": {
        "id": "view-in-github",
        "colab_type": "text"
      },
      "source": [
        "<a href=\"https://colab.research.google.com/github/dtoralg/INESDI_Data-Science_ML_IA/blob/main/%5B03%5D%20-%20Modelos%20Supervisados%20Alternativos/Supervisados_Alternativos_Ejercicio_8_comparativa_seeds.ipynb\" target=\"_parent\"><img src=\"https://colab.research.google.com/assets/colab-badge.svg\" alt=\"Open In Colab\"/></a>"
      ]
    },
    {
      "cell_type": "markdown",
      "id": "90d7af14",
      "metadata": {
        "id": "90d7af14"
      },
      "source": [
        "# Supervisados Alternativos - Ejercicio 8: comparativa_seeds.ipynb\n",
        "\n",
        "Este notebook es **You do**: ejercicio de comparativa sobre el dataset **Seeds (UCI)**. Debes completar las celdas marcadas con `# TODO` para preparar datos, entrenar KNN, SVM y otro modelo de referencia (p.ej. LogisticRegression), y comparar sus resultados"
      ]
    },
    {
      "cell_type": "markdown",
      "id": "15046f5f",
      "metadata": {
        "id": "15046f5f"
      },
      "source": [
        "## Objetivos\n",
        "\n",
        "- Cargar y explorar el dataset Seeds (UCI).\n",
        "- Preparar los datos (naming de columnas, escalado) y dividir en train/test.\n",
        "- Entrenar KNN, SVM y Logistic.\n",
        "- Comparar métricas multiclass (accuracy, F1-macro, matriz de confusión por clase) y justificar la elección del modelo final."
      ]
    },
    {
      "cell_type": "markdown",
      "id": "13261b85",
      "metadata": {
        "id": "13261b85"
      },
      "source": [
        "## Dataset\n",
        "\n",
        "Dataset **Seeds** (UCI): cada fila contiene medidas geométricas de granos de trigo. Son 7 atributos continuos y 3 clases (variedades de semillas).\n",
        "\n",
        "URL (archivo .txt): https://archive.ics.uci.edu/ml/machine-learning-databases/00236/seeds_dataset.txt\n",
        "\n",
        "Columnas (no tienen cabecera original):\n",
        "1. area A\n",
        "2. perimeter P\n",
        "3. compactness C = 4*pi*A/P^2\n",
        "4. length of kernel\n",
        "5. width of kernel\n",
        "6. asymmetry coefficient\n",
        "7. length of kernel groove\n",
        "8. class (1,2,3)"
      ]
    },
    {
      "cell_type": "markdown",
      "id": "9b5d8915",
      "metadata": {
        "id": "9b5d8915"
      },
      "source": [
        "### 1) Importaciones (resuelto)"
      ]
    },
    {
      "cell_type": "code",
      "execution_count": null,
      "id": "552caced",
      "metadata": {
        "id": "552caced"
      },
      "outputs": [],
      "source": [
        "import numpy as np\n",
        "import pandas as pd\n",
        "import matplotlib.pyplot as plt\n",
        "import seaborn as sns\n",
        "sns.set(style='whitegrid')\n",
        "\n",
        "from sklearn.model_selection import train_test_split, cross_val_score\n",
        "from sklearn.preprocessing import StandardScaler\n",
        "from sklearn.neighbors import KNeighborsClassifier\n",
        "from sklearn.svm import SVC\n",
        "from sklearn.ensemble import RandomForestClassifier\n",
        "from sklearn.metrics import (accuracy_score, confusion_matrix, classification_report,\n",
        "                             f1_score, precision_score, recall_score)\n",
        "\n",
        "np.random.seed(42)"
      ]
    },
    {
      "cell_type": "markdown",
      "id": "f64b6cde",
      "metadata": {
        "id": "f64b6cde"
      },
      "source": [
        "### 2) Carga de datos\n",
        "\n",
        "Carga el archivo desde la URL y asigna nombres de columna. Ten en cuenta que el dataset puede tener separadores por espacios."
      ]
    },
    {
      "cell_type": "code",
      "execution_count": null,
      "id": "1ffa5050",
      "metadata": {
        "id": "1ffa5050"
      },
      "outputs": [],
      "source": [
        "# Carga el dataset Seeds desde la URL en un DataFrame `df`\n",
        "url = 'https://archive.ics.uci.edu/ml/machine-learning-databases/00236/seeds_dataset.txt'\n",
        "cols = ['area','perimeter','compactness','length_kernel','width_kernel','asymmetry','groove','class']\n",
        "df = pd.read_csv(url, sep='\\s+', names=cols, engine='python')\n",
        "display(df.head())\n"
      ]
    },
    {
      "cell_type": "markdown",
      "id": "1440b517",
      "metadata": {
        "id": "1440b517"
      },
      "source": [
        "### 3) Exploración inicial (TODO)\n",
        "\n",
        "Objetivos: comprobar shapes, tipos, distribución de clases y estadísticas básicas. Realiza visualizaciones básicas (pairplot/heatmap) si lo consideras útil."
      ]
    },
    {
      "cell_type": "code",
      "execution_count": null,
      "id": "5460c92f",
      "metadata": {
        "id": "5460c92f"
      },
      "outputs": [],
      "source": [
        "# TODO: Muestra df.shape, df.dtypes, df['class'].value_counts(), df.describe().T\n",
        "# TODO: Opcional: dibuja sns.heatmap(df.corr(), annot=True)\n",
        "# TODO"
      ]
    },
    {
      "cell_type": "markdown",
      "id": "8af8a482",
      "metadata": {
        "id": "8af8a482"
      },
      "source": [
        "### 4) Preparación: X, y y train/test (varias `# TODO`)"
      ]
    },
    {
      "cell_type": "code",
      "execution_count": null,
      "id": "abb4bba5",
      "metadata": {
        "id": "abb4bba5"
      },
      "outputs": [],
      "source": [
        "# TODO: Define X (todas las features numéricas) e y (columna 'class').\n",
        "# Recuerda convertir la clase a 0..2 si lo prefieres (opcional): y = df['class'] - 1\n",
        "# TODO"
      ]
    },
    {
      "cell_type": "code",
      "execution_count": null,
      "id": "774e64d5",
      "metadata": {
        "id": "774e64d5"
      },
      "outputs": [],
      "source": [
        "# TODO: Divide en train/test con stratify=y, test_size=0.2, random_state=42\n",
        "# X_train, X_test, y_train, y_test = train_test_split(...)\n",
        "# TODO"
      ]
    },
    {
      "cell_type": "markdown",
      "id": "ee291468",
      "metadata": {
        "id": "ee291468"
      },
      "source": [
        "### 5) Escalado (TODO)\n",
        "\n",
        "Escala las features usando StandardScaler; ajusta el scaler solo en X_train y aplica a X_test."
      ]
    },
    {
      "cell_type": "code",
      "execution_count": null,
      "id": "fbcf1c88",
      "metadata": {
        "id": "fbcf1c88"
      },
      "outputs": [],
      "source": [
        "# TODO: Crea StandardScaler(), ajústalo con X_train y transforma X_train_scaled y X_test_scaled\n",
        "\n",
        "# TODO"
      ]
    },
    {
      "cell_type": "markdown",
      "id": "e2deac92",
      "metadata": {
        "id": "e2deac92"
      },
      "source": [
        "### 6) Modelo 1 — KNN (TODO)\n",
        "\n",
        "Entrena un KNN multiclass (por ejemplo k=5) y evalúa con classification_report y matriz de confusión. Guarda métricas relevantes para la comparativa posterior."
      ]
    },
    {
      "cell_type": "code",
      "execution_count": null,
      "id": "e8f17795",
      "metadata": {
        "id": "e8f17795"
      },
      "outputs": [],
      "source": [
        "# TODO: Entrena KNeighborsClassifier(n_neighbors=5) sobre X_train_scaled y evalúa en X_test_scaled\n",
        "\n",
        "# TODO"
      ]
    },
    {
      "cell_type": "markdown",
      "id": "99ce5039",
      "metadata": {
        "id": "99ce5039"
      },
      "source": [
        "### 7) Modelo 2 — SVM (TODO)\n",
        "\n",
        "Entrena SVM multiclass (usa SVC con approach default 'ovr'). Prueba kernel='linear' y kernel='rbf' (elige uno para la comparativa o entrena ambos)."
      ]
    },
    {
      "cell_type": "code",
      "execution_count": null,
      "id": "bd68c4f3",
      "metadata": {
        "id": "bd68c4f3"
      },
      "outputs": [],
      "source": [
        "# TODO: Entrena SVC(kernel='rbf', C=1.0, gamma='scale') y evalúa\n",
        "\n",
        "# TODO"
      ]
    },
    {
      "cell_type": "markdown",
      "id": "919456ce",
      "metadata": {
        "id": "919456ce"
      },
      "source": [
        "### 8) Modelo 3 — LogisticRegression como referencia (TODO)\n",
        "\n",
        "Entrena un Logisticregression simple como baseline no lineal y guarda métricas para comparar."
      ]
    },
    {
      "cell_type": "code",
      "execution_count": null,
      "id": "04aa2b2c",
      "metadata": {
        "id": "04aa2b2c"
      },
      "outputs": [],
      "source": [
        "# TODO: Entrena LogisticRegression()\n",
        "\n",
        "# TODO"
      ]
    },
    {
      "cell_type": "markdown",
      "id": "e84a198b",
      "metadata": {
        "id": "e84a198b"
      },
      "source": [
        "### 9) Comparativa: métricas y matrices (varias `# TODO`)\n",
        "\n",
        "Construye una tabla `summary` con accuracy y F1-macro para cada modelo. Dibuja las matrices de confusión de los tres modelos en una figura (1x3)."
      ]
    },
    {
      "cell_type": "code",
      "execution_count": null,
      "id": "2678e006",
      "metadata": {
        "id": "2678e006"
      },
      "outputs": [],
      "source": [
        "# TODO: Crea DataFrame summary con filas ['KNN','SVM','LR'] y columnas ['accuracy','f1_macro'] usando las predicciones calculadas\n",
        "# Ejemplo guía:\n",
        "# summary = pd.DataFrame({'model':['KNN','SVM','LR'], 'accuracy':[acc_knn, acc_svm, acc_lr], 'f1_macro':[f1_knn, f1_svm, f1_lr]})\n",
        "# display(summary)\n",
        "# TODO"
      ]
    },
    {
      "cell_type": "code",
      "execution_count": null,
      "id": "a3c1b292",
      "metadata": {
        "id": "a3c1b292"
      },
      "outputs": [],
      "source": [
        "# TODO: Dibuja las 3 matrices de confusión (cm_knn, cm_svm, cm_lr) lado a lado con seaborn. Añade en el título de cada subplot la accuracy y f1_macro correspondiente.\n",
        "# TODO"
      ]
    },
    {
      "cell_type": "markdown",
      "id": "073ffafe",
      "metadata": {
        "id": "073ffafe"
      },
      "source": [
        "### 10) Análisis por clase y recomendaciones (TODO)\n",
        "\n",
        "Analiza la matriz de confusión por clase: ¿qué clases se confunden más? ¿Qué modelo tiene mejor recall para cada clase? Según el objetivo (p.ej. minimizar falsos negativos para una clase concreta), ¿qué modelo elegirías?"
      ]
    },
    {
      "cell_type": "code",
      "execution_count": null,
      "id": "6e571464",
      "metadata": {
        "id": "6e571464"
      },
      "outputs": [],
      "source": [
        "# TODO: Calcula f1_score(y_test, y_pred, average=None) para cada modelo y muestra en DataFrame con index de clases\n",
        "# Ejemplo:\n",
        "# pd.DataFrame({'f1_knn': f1_score(y_test, y_pred_knn, average=None), 'f1_svm': f1_score(y_test, y_pred_svm, average=None), 'f1_lr': f1_score(y_test, y_pred_lr, average=None)}, index=[1,2,3])\n",
        "# TODO"
      ]
    },
    {
      "cell_type": "markdown",
      "id": "51279d75",
      "metadata": {
        "id": "51279d75"
      },
      "source": [
        "### 11) Reflexión final y entrega (TODO)\n",
        "\n",
        "Escribe un párrafo final (3–5 líneas) con tu elección de modelo y por qué, respaldado en las métricas. Indica también posibles pasos para mejorar el rendimiento (feature engineering, ajuste de hiperparámetros, calibración de probabilidades)."
      ]
    },
    {
      "cell_type": "code",
      "execution_count": null,
      "id": "6e4e17af",
      "metadata": {
        "id": "6e4e17af"
      },
      "outputs": [],
      "source": [
        "# TODO: Escribe aquí tu párrafo final como comentario o string\n",
        "# TODO"
      ]
    }
  ],
  "metadata": {
    "colab": {
      "provenance": [],
      "include_colab_link": true
    }
  },
  "nbformat": 4,
  "nbformat_minor": 5
}
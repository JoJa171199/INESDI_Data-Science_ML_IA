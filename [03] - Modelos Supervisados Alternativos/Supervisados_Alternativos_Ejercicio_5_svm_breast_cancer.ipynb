{
  "cells": [
    {
      "cell_type": "markdown",
      "metadata": {
        "id": "view-in-github",
        "colab_type": "text"
      },
      "source": [
        "<a href=\"https://colab.research.google.com/github/dtoralg/INESDI_Data-Science_ML_IA/blob/main/%5B03%5D%20-%20Modelos%20Supervisados%20Alternativos/Supervisados_Alternativos_Ejercicio_5_svm_breast_cancer.ipynb\" target=\"_parent\"><img src=\"https://colab.research.google.com/assets/colab-badge.svg\" alt=\"Open In Colab\"/></a>"
      ]
    },
    {
      "cell_type": "markdown",
      "id": "7d62b0be",
      "metadata": {
        "id": "7d62b0be"
      },
      "source": [
        "# Supervisados Alternativos - Ejercicio 5: svm_breast_cancer.ipynb\n",
        "\n",
        "Este notebook es **We do**: mezcla de celdas resueltas y `# TODO` guiados para que rellenes algunos pasos clave."
      ]
    },
    {
      "cell_type": "markdown",
      "id": "f8d8bf35",
      "metadata": {
        "id": "f8d8bf35"
      },
      "source": [
        "## Objetivos\n",
        "\n",
        "- Cargar y explorar el dataset Breast Cancer.\n",
        "- Preparar datos (escalado) y entrenar SVM lineal y SVM RBF.\n",
        "- Evaluar con métricas: accuracy, matriz de confusión, ROC-AUC.\n",
        "- Guiar al alumno para probar diferentes valores de C/gamma y reflexionar sobre trade-offs clínicos."
      ]
    },
    {
      "cell_type": "markdown",
      "id": "b16e6449",
      "metadata": {
        "id": "b16e6449"
      },
      "source": [
        "## Descripción del dataset\n",
        "\n",
        "Dataset Breast Cancer (Wisconsin) provisto por `sklearn.datasets.load_breast_cancer()`.\n",
        "Contiene 569 muestras y 30 variables numéricas. Target binario: 0 = malignant, 1 = benign."
      ]
    },
    {
      "cell_type": "code",
      "execution_count": null,
      "id": "5659b9c5",
      "metadata": {
        "id": "5659b9c5"
      },
      "outputs": [],
      "source": [
        "import numpy as np\n",
        "import pandas as pd\n",
        "import matplotlib.pyplot as plt\n",
        "import seaborn as sns\n",
        "sns.set(style='whitegrid')\n",
        "\n",
        "from sklearn.datasets import load_breast_cancer\n",
        "from sklearn.model_selection import train_test_split, cross_val_score\n",
        "from sklearn.preprocessing import StandardScaler\n",
        "from sklearn.svm import SVC\n",
        "from sklearn.metrics import accuracy_score, confusion_matrix, classification_report, roc_auc_score, roc_curve\n",
        "np.random.seed(42)"
      ]
    },
    {
      "cell_type": "markdown",
      "id": "4d08a827",
      "metadata": {
        "id": "4d08a827"
      },
      "source": [
        "### 1) Carga de datos (resuelta)"
      ]
    },
    {
      "cell_type": "code",
      "execution_count": null,
      "id": "880fb2f5",
      "metadata": {
        "id": "880fb2f5"
      },
      "outputs": [],
      "source": [
        "# Cargar dataset\n",
        "data = load_breast_cancer()\n",
        "df = pd.DataFrame(data.data, columns=data.feature_names)\n",
        "y = pd.Series(data.target, name='target')\n",
        "target_names = data.target_names\n",
        "print('Dimensiones:', df.shape)\n",
        "display(df.head())\n",
        "print('\\nDistribución objetivo:')\n",
        "display(y.value_counts())"
      ]
    },
    {
      "cell_type": "markdown",
      "id": "fae9da41",
      "metadata": {
        "id": "fae9da41"
      },
      "source": [
        "### 2) Exploración inicial (TODO)\n",
        "\n",
        "Objetivos: revisar rangos, detectar posibles outliers y comprobar correlaciones relevantes."
      ]
    },
    {
      "cell_type": "code",
      "execution_count": null,
      "id": "1dc56029",
      "metadata": {
        "id": "1dc56029"
      },
      "outputs": [],
      "source": [
        "# TODO: Muestra info, describe() y una heatmap de correlaciones con las top features correlacionadas con el target\n",
        "# TODO"
      ]
    },
    {
      "cell_type": "code",
      "execution_count": null,
      "id": "10e11593",
      "metadata": {
        "id": "10e11593"
      },
      "outputs": [],
      "source": [
        "# Selección de numéricas (ejemplo)\n",
        "vars_numericas = df.select_dtypes(include=[np.number]).columns\n",
        "vars_numericas[:10]"
      ]
    },
    {
      "cell_type": "markdown",
      "id": "8feffe0a",
      "metadata": {
        "id": "8feffe0a"
      },
      "source": [
        "### 3) Preprocesado: escalado (resuelto)\n",
        "\n",
        "SVM es sensible a la escala; estandarizamos con `StandardScaler`."
      ]
    },
    {
      "cell_type": "code",
      "execution_count": null,
      "id": "996c5a17",
      "metadata": {
        "id": "996c5a17"
      },
      "outputs": [],
      "source": [
        "scaler = StandardScaler()\n",
        "X_scaled = pd.DataFrame(scaler.fit_transform(df[vars_numericas]), columns=vars_numericas)\n",
        "display(X_scaled.describe().T)"
      ]
    },
    {
      "cell_type": "markdown",
      "id": "3ad6f284",
      "metadata": {
        "id": "3ad6f284"
      },
      "source": [
        "### 4) División train/test (resuelto)"
      ]
    },
    {
      "cell_type": "code",
      "execution_count": null,
      "id": "b7595438",
      "metadata": {
        "id": "b7595438"
      },
      "outputs": [],
      "source": [
        "X_train, X_test, y_train, y_test = train_test_split(\n",
        "    X_scaled, y, test_size=0.2, random_state=42, stratify=y\n",
        ")\n",
        "print('Train:', X_train.shape, 'Test:', X_test.shape)\n",
        "display(y_train.value_counts(normalize=True).round(3))\n",
        "display(y_test.value_counts(normalize=True).round(3))"
      ]
    },
    {
      "cell_type": "markdown",
      "id": "23976b8e",
      "metadata": {
        "id": "23976b8e"
      },
      "source": [
        "### 5) SVM lineal"
      ]
    },
    {
      "cell_type": "code",
      "execution_count": null,
      "id": "1a1212a1",
      "metadata": {
        "id": "1a1212a1"
      },
      "outputs": [],
      "source": [
        "# Entrenamos SVM con kernel lineal\n",
        "svm_lin = ...\n",
        "svm_lin.fit(...)\n",
        "\n",
        "y_pred_lin = ...\n",
        "y_proba_lin = ...\n",
        "\n",
        "print('Accuracy SVM linear:', ...)\n",
        "print('\\nClassification report (SVM linear):\\n')\n",
        "print(...)\n",
        "\n",
        "cm_lin = confusion_matrix(...)\n",
        "sns.heatmap(cm_lin, annot=True, fmt='d', cmap='Blues', xticklabels=..., yticklabels=...)\n",
        "\n",
        "plt.title('Confusion matrix - SVM linear')\n",
        "plt.xlabel('Predicción')\n",
        "plt.ylabel('Real')\n",
        "plt.show()\n",
        "\n",
        "# ROC-AUC\n",
        "auc_lin = roc_auc_score(...)\n",
        "print('ROC-AUC (linear):', round(auc_lin,3))"
      ]
    },
    {
      "cell_type": "markdown",
      "id": "6a096982",
      "metadata": {
        "id": "6a096982"
      },
      "source": [
        "### 6) SVM RBF"
      ]
    },
    {
      "cell_type": "code",
      "execution_count": null,
      "id": "70bd8ead",
      "metadata": {
        "id": "70bd8ead"
      },
      "outputs": [],
      "source": [
        "# Entrenamos SVM con kernel RBF (defaults gamma='scale')\n",
        "svm_rbf = ...\n",
        "svm_rbf.fit(...)\n",
        "\n",
        "y_pred_rbf = ...\n",
        "y_proba_rbf = ...\n",
        "\n",
        "print('Accuracy SVM RBF:', ...)\n",
        "print('\\nClassification report (SVM RBF):\\n')\n",
        "print(...)\n",
        "\n",
        "cm_rbf = confusion_matrix(...)\n",
        "sns.heatmap(cm_rbf, annot=True, fmt='d', cmap='Blues', xticklabels=..., yticklabels=target_...)\n",
        "\n",
        "plt.title('Confusion matrix - SVM RBF')\n",
        "plt.xlabel('Predicción')\n",
        "plt.ylabel('Real')\n",
        "plt.show()\n",
        "\n",
        "auc_rbf = roc_auc_score(...)\n",
        "print('ROC-AUC (rbf):', round(auc_rbf,3))"
      ]
    },
    {
      "cell_type": "markdown",
      "id": "d19493c8",
      "metadata": {
        "id": "d19493c8"
      },
      "source": [
        "### 7) Probar manualmente hiperparámetros (TODO)\n",
        "\n",
        "Prueba manualmente varios valores de C (ej: [0.1, 1, 10]) y para RBF varios gamma (ej: [0.01, 0.1, 1]). Compara accuracy y AUC."
      ]
    },
    {
      "cell_type": "code",
      "execution_count": null,
      "id": "75317e02",
      "metadata": {
        "id": "75317e02"
      },
      "outputs": [],
      "source": [
        "# TODO: Implementa bucles para probar combinaciones de C y gamma y guarda resultados en DataFrame\n",
        "# TODO"
      ]
    },
    {
      "cell_type": "markdown",
      "id": "5ed85c7d",
      "metadata": {
        "id": "5ed85c7d"
      },
      "source": [
        "### 8) Curva ROC y comparación (TODO)\n",
        "\n",
        "Dibuja las curvas ROC de SVM linear y RBF usando las probabilidades calculadas arriba. Comenta qué modelo tiene mejor AUC y qué significa en este contexto clínico."
      ]
    },
    {
      "cell_type": "code",
      "execution_count": null,
      "id": "6e2d63f6",
      "metadata": {
        "id": "6e2d63f6"
      },
      "outputs": [],
      "source": [
        "# Dibuja ROC para ambos modelos (usa fpr,tpr de roc_curve y auc ya calculados)\n",
        "# Ejemplo:\n",
        "# fpr_lin, tpr_lin, _ = roc_curve(y_test, y_proba_lin)\n",
        "# fpr_rbf, tpr_rbf, _ = roc_curve(y_test, y_proba_rbf)\n",
        "# plt.plot(fpr_lin, tpr_lin, label=f'linear AUC={auc_lin:.3f}')\n",
        "# plt.plot(fpr_rbf, tpr_rbf, label=f'rbf AUC={auc_rbf:.3f}')\n",
        "# plt.plot([0,1],[0,1],'k--')\n",
        "# plt.xlabel('FPR')\n",
        "# plt.ylabel('TPR')\n",
        "# plt.legend()\n",
        "# plt.show()\n"
      ]
    },
    {
      "cell_type": "markdown",
      "id": "5f0cbde0",
      "metadata": {
        "id": "5f0cbde0"
      },
      "source": [
        "### 9) Interpretación y reflexiones (TODO)\n",
        "\n",
        "Analiza las matrices de confusión: ¿qué modelo tiene menos falsos negativos? ¿Qué modelo sacrifica más falsos positivos? En problemas clínicos, ¿qué prefieres optimizar y por qué?"
      ]
    },
    {
      "cell_type": "code",
      "execution_count": null,
      "id": "9af67201",
      "metadata": {
        "id": "9af67201"
      },
      "outputs": [],
      "source": [
        "# TODO: Calcula precision/recall/f1 para la clase positiva (benign=1) y comenta\n",
        "# from sklearn.metrics import precision_score, recall_score\n",
        "# print('Recall positive (linear):', ...)\n",
        "# TODO"
      ]
    },
    {
      "cell_type": "markdown",
      "id": "6726678c",
      "metadata": {
        "id": "6726678c"
      },
      "source": [
        "### 10) Conclusión y siguientes pasos\n",
        "\n",
        "- Has entrenado SVM lineal y RBF, visualizado matrices y calculado AUC.\n",
        "- Guarda el notebook completado y añade en la última celda tus observaciones sobre qué modelo preferirías en un entorno clínico y por qué."
      ]
    }
  ],
  "metadata": {
    "colab": {
      "provenance": [],
      "include_colab_link": true
    }
  },
  "nbformat": 4,
  "nbformat_minor": 5
}
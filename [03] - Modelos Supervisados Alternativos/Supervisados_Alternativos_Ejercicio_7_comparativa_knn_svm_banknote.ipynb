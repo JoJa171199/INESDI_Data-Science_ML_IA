{
  "cells": [
    {
      "cell_type": "markdown",
      "metadata": {
        "id": "view-in-github",
        "colab_type": "text"
      },
      "source": [
        "<a href=\"https://colab.research.google.com/github/dtoralg/INESDI_Data-Science_ML_IA/blob/main/%5B03%5D%20-%20Modelos%20Supervisados%20Alternativos/Supervisados_Alternativos_Ejercicio_7_comparativa_knn_svm_banknote.ipynb\" target=\"_parent\"><img src=\"https://colab.research.google.com/assets/colab-badge.svg\" alt=\"Open In Colab\"/></a>"
      ]
    },
    {
      "cell_type": "markdown",
      "id": "f62a910a",
      "metadata": {
        "id": "f62a910a"
      },
      "source": [
        "# Supervisados Alternativos - Ejercicio 7: comparativa_knn_svm_banknote.ipynb\n",
        "\n",
        "Este notebook es **We do**: comparativa guiada entre **KNN** y **SVM** usando el dataset **Banknote Authentication** (UCI)."
      ]
    },
    {
      "cell_type": "markdown",
      "id": "2ef8487a",
      "metadata": {
        "id": "2ef8487a"
      },
      "source": [
        "## Objetivos\n",
        "\n",
        "- Cargar y explorar el dataset Banknote Authentication.\n",
        "- Preparar los datos (selección de variables, escalado) — varias celdas `# TODO`.\n",
        "- Entrenar KNN y SVM.\n",
        "- Comparar resultados con métricas (accuracy, precision/recall/F1, ROC-AUC) y matrices de confusión.\n",
        "- Reflexionar sobre elección de modelo según error tipo (falsos positivos/negativos)."
      ]
    },
    {
      "cell_type": "markdown",
      "id": "38541c29",
      "metadata": {
        "id": "38541c29"
      },
      "source": [
        "## Dataset\n",
        "\n",
        "Banco de datos: **Banknote Authentication** (UCI). Cada fila son medidas extraídas de imágenes de billetes. Target binario: 0 (genuine) / 1 (forged).\n",
        "\n",
        "URL: https://archive.ics.uci.edu/ml/machine-learning-databases/00267/data_banknote_authentication.txt\n",
        "\n",
        "Columnas (no incluyen cabecera en el CSV original):\n",
        "1. variance of Wavelet Transformed image (continuous)\n",
        "2. skewness of Wavelet Transformed image (continuous)\n",
        "3. curtosis of Wavelet Transformed image (continuous)\n",
        "4. entropy of image (continuous)\n",
        "5. class (0 or 1)"
      ]
    },
    {
      "cell_type": "markdown",
      "id": "a2d7baf9",
      "metadata": {
        "id": "a2d7baf9"
      },
      "source": [
        "### 1) Importar librerías (resuelto)"
      ]
    },
    {
      "cell_type": "code",
      "execution_count": null,
      "id": "a1b5309e",
      "metadata": {
        "id": "a1b5309e"
      },
      "outputs": [],
      "source": [
        "import numpy as np\n",
        "import pandas as pd\n",
        "import matplotlib.pyplot as plt\n",
        "import seaborn as sns\n",
        "sns.set(style='whitegrid')\n",
        "\n",
        "from sklearn.model_selection import train_test_split, cross_val_score\n",
        "from sklearn.preprocessing import StandardScaler\n",
        "from sklearn.neighbors import KNeighborsClassifier\n",
        "from sklearn.svm import SVC\n",
        "from sklearn.metrics import accuracy_score, confusion_matrix, classification_report, roc_auc_score, roc_curve\n",
        "\n",
        "np.random.seed(42)"
      ]
    },
    {
      "cell_type": "markdown",
      "id": "64ccf5b9",
      "metadata": {
        "id": "64ccf5b9"
      },
      "source": [
        "### 2) Cargar datos (resuelto)"
      ]
    },
    {
      "cell_type": "code",
      "execution_count": null,
      "id": "0e22c990",
      "metadata": {
        "id": "0e22c990"
      },
      "outputs": [],
      "source": [
        "# Cargamos desde la URL (no hay cabecera en el archivo original)\n",
        "url = 'https://archive.ics.uci.edu/ml/machine-learning-databases/00267/data_banknote_authentication.txt'\n",
        "cols = ['variance','skewness','curtosis','entropy','class']\n",
        "df = pd.read_csv(url, header=None, names=cols)\n",
        "\n",
        "df.head()\n"
      ]
    },
    {
      "cell_type": "markdown",
      "id": "9ada90ce",
      "metadata": {
        "id": "9ada90ce"
      },
      "source": [
        "### 3) Exploración inicial (varias tareas para el alumno)"
      ]
    },
    {
      "cell_type": "code",
      "execution_count": null,
      "id": "6e645791",
      "metadata": {
        "id": "6e645791"
      },
      "outputs": [],
      "source": [
        "# TODO: Muestra dimensiones, tipos y un summary estadístico"
      ]
    },
    {
      "cell_type": "code",
      "execution_count": null,
      "id": "4fcda2ed",
      "metadata": {
        "id": "4fcda2ed"
      },
      "outputs": [],
      "source": [
        "# TODO: Muestra la distribución del target (balance de clases) y un barplot"
      ]
    },
    {
      "cell_type": "code",
      "execution_count": null,
      "id": "7ff0aa05",
      "metadata": {
        "id": "7ff0aa05"
      },
      "outputs": [],
      "source": [
        "# TODO: Revisa correlaciones entre features y dibuja un heatmap de correlación\n"
      ]
    },
    {
      "cell_type": "markdown",
      "id": "15518be2",
      "metadata": {
        "id": "15518be2"
      },
      "source": [
        "### 4) Selección de variables y convención del curso"
      ]
    },
    {
      "cell_type": "code",
      "execution_count": null,
      "id": "4e99793e",
      "metadata": {
        "id": "4e99793e"
      },
      "outputs": [],
      "source": [
        "# TODO: Define X e y. Usa todas las features numéricas como X y 'class' como y"
      ]
    },
    {
      "cell_type": "markdown",
      "id": "2a7b61ce",
      "metadata": {
        "id": "2a7b61ce"
      },
      "source": [
        "### 5) Preprocesado: escalado (varias celdas `# TODO`)\n",
        "\n",
        "KNN y SVM son sensibles a la escala. Estandarizaremos las features. Haz las celdas paso a paso: crear scaler, ajustar en train, transformar train/test."
      ]
    },
    {
      "cell_type": "code",
      "execution_count": null,
      "id": "7564e61c",
      "metadata": {
        "id": "7564e61c"
      },
      "outputs": [],
      "source": [
        "# TODO: Divide primero en train/test stratificando por y (test_size=0.2, random_state=42)"
      ]
    },
    {
      "cell_type": "code",
      "execution_count": null,
      "id": "99e81fbe",
      "metadata": {
        "id": "99e81fbe"
      },
      "outputs": [],
      "source": [
        "# TODO: Crea un StandardScaler(), ajústalo solo con X_train y transforma X_train y X_test"
      ]
    },
    {
      "cell_type": "markdown",
      "id": "19498398",
      "metadata": {
        "id": "19498398"
      },
      "source": [
        "### 6) KNN — entrenamiento y evaluación (varias `# TODO`)\n",
        "\n",
        "Vamos a entrenar KNN y evaluar. Podemos probar `k` manualmente (por ejemplo 3,5,7) y comparar `weights` ('uniform' vs 'distance')."
      ]
    },
    {
      "cell_type": "code",
      "execution_count": null,
      "id": "2ebd7ec2",
      "metadata": {
        "id": "2ebd7ec2"
      },
      "outputs": [],
      "source": [
        "# TODO: Entrena un KNeighborsClassifier con k=5 (weights='uniform') sobre X_train_scaled y evalúa en X_test_scaled"
      ]
    },
    {
      "cell_type": "code",
      "execution_count": null,
      "id": "ce62b119",
      "metadata": {
        "id": "ce62b119"
      },
      "outputs": [],
      "source": [
        "# TODO: Prueba weights='distance' y un par de valores de k (ej: 3 y 7). Registra resultados en una lista o DataFrame."
      ]
    },
    {
      "cell_type": "code",
      "execution_count": null,
      "id": "e3b1516e",
      "metadata": {
        "id": "e3b1516e"
      },
      "outputs": [],
      "source": [
        "# TODO: Dibuja la matriz de confusión de la mejor configuración de KNN (usa seaborn heatmap)"
      ]
    },
    {
      "cell_type": "markdown",
      "id": "77af4c4e",
      "metadata": {
        "id": "77af4c4e"
      },
      "source": [
        "### 7) SVM — entrenamiento y evaluación (varias `# TODO`)\n",
        "\n",
        "Entrena SVM lineal y SVM con kernel RBF. Probaremos C en {0.1,1,10} y gamma en {0.01,0.1,1} (solo para RBF)."
      ]
    },
    {
      "cell_type": "code",
      "execution_count": null,
      "id": "a4cc94c3",
      "metadata": {
        "id": "a4cc94c3"
      },
      "outputs": [],
      "source": [
        "# TODO: Entrena SVC(kernel='linear', C=1.0) y evalúa. Guarda y muestra accuracy, classification_report y matriz de confusión."
      ]
    },
    {
      "cell_type": "code",
      "execution_count": null,
      "id": "03292240",
      "metadata": {
        "id": "03292240"
      },
      "outputs": [],
      "source": [
        "# TODO: Entrena SVC(kernel='rbf', C=1.0, gamma='scale') y evalúa. Luego prueba manualmente gamma en [0.01,0.1,1] y C en [0.1,1,10] y registra resultados."
      ]
    },
    {
      "cell_type": "code",
      "execution_count": null,
      "id": "0c064af1",
      "metadata": {
        "id": "0c064af1"
      },
      "outputs": [],
      "source": [
        "# TODO: Dibuja la matriz de confusión de la mejor configuración de SVM (usa seaborn heatmap)"
      ]
    },
    {
      "cell_type": "markdown",
      "id": "7a6426dc",
      "metadata": {
        "id": "7a6426dc"
      },
      "source": [
        "### 8) Comparativa final: tablas y matrices (múltiples `# TODO`)\n",
        "\n",
        "Aquí consolidaremos métricas para comparar KNN vs SVM. Debe haber una tabla resumen (accuracy, precision, recall, f1, AUC) y un plot con las matrices de confusión lado a lado."
      ]
    },
    {
      "cell_type": "code",
      "execution_count": null,
      "id": "f79c769d",
      "metadata": {
        "id": "f79c769d"
      },
      "outputs": [],
      "source": [
        "# TODO: Construye un DataFrame `summary` con filas para 'KNN' y 'SVM' y columnas: accuracy, precision, recall, f1, roc_auc\n",
        "# - Usa los resultados guardados en las celdas anteriores\n",
        "# - Si no has calculado probas, usa roc_auc_score solo si tienes predict_proba/predict_proba"
      ]
    },
    {
      "cell_type": "code",
      "execution_count": null,
      "id": "413e1773",
      "metadata": {
        "id": "413e1773"
      },
      "outputs": [],
      "source": [
        "# TODO: Dibuja las matrices de confusión de KNN y SVM lado a lado (plt.subplots(1,2)) y anota las métricas principales en el título de cada subplot"
      ]
    },
    {
      "cell_type": "markdown",
      "id": "671b8e35",
      "metadata": {
        "id": "671b8e35"
      },
      "source": [
        "### 9) Análisis guiado (varias `# TODO` para discusión)\n",
        "\n",
        "- ¿Qué modelo tiene menos falsos negativos? (importante si prefieres minimizar falsos negativos)\n",
        "- ¿Qué modelo tiene menos falsos positivos?\n",
        "- ¿Qué modelo recomendarías en producción y por qué? Ten en cuenta precisión, recall, AUC y coste computacional."
      ]
    },
    {
      "cell_type": "code",
      "execution_count": null,
      "id": "ac95354e",
      "metadata": {
        "id": "ac95354e"
      },
      "outputs": [],
      "source": [
        "# TODO: Escribe aquí un breve párrafo (3-5 líneas) con tu recomendación y razones apoyadas en las métricas que obtuvisteis."
      ]
    }
  ],
  "metadata": {
    "colab": {
      "provenance": [],
      "include_colab_link": true
    }
  },
  "nbformat": 4,
  "nbformat_minor": 5
}
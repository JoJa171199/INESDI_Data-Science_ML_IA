{
  "cells": [
    {
      "cell_type": "markdown",
      "metadata": {
        "id": "view-in-github",
        "colab_type": "text"
      },
      "source": [
        "<a href=\"https://colab.research.google.com/github/dtoralg/INESDI_Data-Science_ML_IA/blob/main/%5B03%5D%20-%20Modelos%20Supervisados%20Alternativos/Supervisados_Alternativos_Ejercicio_6_svm_digits.ipynb\" target=\"_parent\"><img src=\"https://colab.research.google.com/assets/colab-badge.svg\" alt=\"Open In Colab\"/></a>"
      ]
    },
    {
      "cell_type": "markdown",
      "id": "a0328b4c",
      "metadata": {
        "id": "a0328b4c"
      },
      "source": [
        "# Supervisados Alternativos - Ejercicio 6: svm_digits.ipynb\n",
        "\n",
        "Este notebook es **You do**: esqueleto guiado con `# TODO` para que  implementes el pipeline completo de **SVM** sobre el dataset `digits`."
      ]
    },
    {
      "cell_type": "markdown",
      "id": "2e7a1b63",
      "metadata": {
        "id": "2e7a1b63"
      },
      "source": [
        "## Objetivos\n",
        "\n",
        "- **O1.** Cargar y explorar el dataset `digits`.\n",
        "- **O2.** Implementar SVM (lineal y RBF), escalar datos y evaluar métricas multiclass (accuracy, F1-macro, matriz de confusión).\n",
        "- **O3.** Afinar manualmente hiperparámetros (C, gamma) sin GridSearch y analizar ejemplos mal clasificados."
      ]
    },
    {
      "cell_type": "markdown",
      "id": "c0065bb7",
      "metadata": {
        "id": "c0065bb7"
      },
      "source": [
        "## Descripción del dataset\n",
        "\n",
        "El dataset `digits` contiene 1797 imágenes de dígitos (8×8 píxeles), representadas como vectores de 64 features. Etiquetas: 0–9 (10 clases)."
      ]
    },
    {
      "cell_type": "code",
      "execution_count": null,
      "id": "64106bca",
      "metadata": {
        "id": "64106bca"
      },
      "outputs": [],
      "source": [
        "# 1) Importaciones\n",
        "import numpy as np\n",
        "import pandas as pd\n",
        "import matplotlib.pyplot as plt\n",
        "import seaborn as sns\n",
        "sns.set(style='whitegrid')\n",
        "\n",
        "from sklearn.datasets import load_digits\n",
        "from sklearn.model_selection import train_test_split, cross_val_score\n",
        "from sklearn.preprocessing import StandardScaler\n",
        "from sklearn.svm import SVC\n",
        "from sklearn.decomposition import PCA\n",
        "from sklearn.metrics import (accuracy_score, confusion_matrix, classification_report,\n",
        "                             f1_score)\n",
        "np.random.seed(42)"
      ]
    },
    {
      "cell_type": "code",
      "execution_count": null,
      "id": "ce8e52c9",
      "metadata": {
        "id": "ce8e52c9"
      },
      "outputs": [],
      "source": [
        "# 2) Carga de datos (resuelto)\n",
        "digits = load_digits()\n",
        "X = pd.DataFrame(digits.data)\n",
        "y = pd.Series(digits.target, name='digit')\n",
        "images = digits.images\n",
        "print('X shape:', X.shape)\n",
        "print('Unique labels:', np.unique(y))\n",
        "display(X.head())\n",
        "y.value_counts().sort_index()"
      ]
    },
    {
      "cell_type": "markdown",
      "id": "1436b1e8",
      "metadata": {
        "id": "1436b1e8"
      },
      "source": [
        "### 3) Exploración rápida\n",
        "\n",
        "- Ver balance de clases.\n",
        "- Visualizar algunas imágenes de ejemplo."
      ]
    },
    {
      "cell_type": "code",
      "execution_count": null,
      "id": "70c7686f",
      "metadata": {
        "id": "70c7686f"
      },
      "outputs": [],
      "source": [
        "# Muestra la distribución de clases y dibuja 12 imágenes de ejemplo (varias clases)\n",
        "print(y.value_counts().sort_index())\n",
        "fig, axes = plt.subplots(3,4, figsize=(8,6))\n",
        "axes = axes.ravel()\n",
        "for i, ax in enumerate(axes):\n",
        "    ax.imshow(images[i], cmap='gray')\n",
        "    ax.set_title(f'label={y.iloc[i]}')\n",
        "    ax.axis('off')\n",
        "plt.tight_layout()"
      ]
    },
    {
      "cell_type": "markdown",
      "id": "76d6acee",
      "metadata": {
        "id": "76d6acee"
      },
      "source": [
        "### 4) Preprocesado: escalado (TODO)\n",
        "\n",
        "SVM es sensible a la escala. Escala todas las columnas numéricas con `StandardScaler`."
      ]
    },
    {
      "cell_type": "code",
      "execution_count": null,
      "id": "75e59adf",
      "metadata": {
        "id": "75e59adf"
      },
      "outputs": [],
      "source": [
        "# TODO: Escala X con StandardScaler y crea X_scaled (DataFrame con mismos nombres de columnas)\n",
        "# TODO"
      ]
    },
    {
      "cell_type": "markdown",
      "id": "9944e25e",
      "metadata": {
        "id": "9944e25e"
      },
      "source": [
        "### 6) División en train/test (TODO)\n",
        "\n",
        "Usa `train_test_split` con `stratify=y` y `random_state=42`. Reserva 20% para test."
      ]
    },
    {
      "cell_type": "code",
      "execution_count": null,
      "id": "3bb9e951",
      "metadata": {
        "id": "3bb9e951"
      },
      "outputs": [],
      "source": [
        "# TODO: Divide en X_train, X_test, y_train, y_test\n",
        "# TODO"
      ]
    },
    {
      "cell_type": "markdown",
      "id": "236c1bcd",
      "metadata": {
        "id": "236c1bcd"
      },
      "source": [
        "### 7) Baseline: SVM lineal y SVM RBF (TODO)\n",
        "\n",
        "Entrena SVM lineal y SVM RBF con parámetros por defecto (C=1.0, gamma='scale') y compara accuracy y reporte de clasificación."
      ]
    },
    {
      "cell_type": "code",
      "execution_count": null,
      "id": "6b6917b7",
      "metadata": {
        "id": "6b6917b7"
      },
      "outputs": [],
      "source": [
        "# TODO: Entrena SVC(kernel='linear') y SVC(kernel='rbf') sobre X_train; evalúa en X_test\n",
        "# TODO"
      ]
    },
    {
      "cell_type": "markdown",
      "id": "2333d872",
      "metadata": {
        "id": "2333d872"
      },
      "source": [
        "### 8) Afinar manualmente hiperparámetros (TODO)\n",
        "\n",
        "Prueba varios valores de C (ej: [0.1, 1, 10]) y para RBF prueba gamma en [0.01, 0.1, 1]. No uses GridSearchCV — haz bucles manuales y registra resultados con `cross_val_score` o en el test set."
      ]
    },
    {
      "cell_type": "code",
      "execution_count": null,
      "id": "b7d335f7",
      "metadata": {
        "id": "b7d335f7"
      },
      "outputs": [],
      "source": [
        "# TODO: Implementa bucles para probar combinaciones de C y gamma y registra accuracy (o mean CV accuracy)\n",
        "# TODO"
      ]
    },
    {
      "cell_type": "markdown",
      "id": "43787845",
      "metadata": {
        "id": "43787845"
      },
      "source": [
        "### 9) Evaluación multiclass y análisis por clase (TODO)\n",
        "\n",
        "Calcula F1-score por clase, muestra la matriz de confusión normalizada y comenta qué clases (dígitos) son más confusas entre sí."
      ]
    },
    {
      "cell_type": "code",
      "execution_count": null,
      "id": "c5d17562",
      "metadata": {
        "id": "c5d17562"
      },
      "outputs": [],
      "source": [
        "# TODO: Calcula f1_score(y_test, y_pred, average=None) y muestra en DataFrame\n",
        "# TODO"
      ]
    },
    {
      "cell_type": "markdown",
      "id": "1590b82a",
      "metadata": {
        "id": "1590b82a"
      },
      "source": [
        "### 10) Visualizar ejemplos mal clasificados (TODO)\n",
        "\n",
        "Muestra algunas imágenes del conjunto de test que el modelo clasificó mal junto con su etiqueta real y predicha."
      ]
    },
    {
      "cell_type": "code",
      "execution_count": null,
      "id": "ee671097",
      "metadata": {
        "id": "ee671097"
      },
      "outputs": [],
      "source": [
        "# TODO: Encuentra índices de test donde y_test != y_pred y muestra 6 imágenes con su real/predicho\n",
        "# TODO"
      ]
    },
    {
      "cell_type": "markdown",
      "id": "768b0f7e",
      "metadata": {
        "id": "768b0f7e"
      },
      "source": [
        "### 11) Rendimiento y recursos (TODO)\n",
        "\n",
        "Reflexiona sobre el coste computacional de SVM en datos multiclass y cómo afectan C, gamma y tamaño del conjunto de entrenamiento. Propón estrategias para acelerar entrenamiento sin perder demasiada precisión (submuestreo, PCA, utilizar LinearSVC, etc.)."
      ]
    },
    {
      "cell_type": "code",
      "execution_count": null,
      "id": "9653dfcf",
      "metadata": {
        "id": "9653dfcf"
      },
      "outputs": [],
      "source": [
        "# TODO: Escribe en una celda corta tus conclusiones y recomendaciones (3-5 líneas)\n",
        "# - qué kernel funciona mejor y por qué\n",
        "# - trade-offs entre precisión y tiempo\n",
        "# - recomendaciones prácticas para desplegar un SVM en este problema\n",
        "# TODO"
      ]
    },
    {
      "cell_type": "markdown",
      "id": "1d2b0da3",
      "metadata": {
        "id": "1d2b0da3"
      },
      "source": [
        "### Entrega\n",
        "\n",
        "Guarda el notebook completado y añade en la última celda un breve resumen (3–5 líneas) con: mejor configuración encontrada, accuracy final y recomendaciones prácticas."
      ]
    }
  ],
  "metadata": {
    "colab": {
      "provenance": [],
      "include_colab_link": true
    }
  },
  "nbformat": 4,
  "nbformat_minor": 5
}
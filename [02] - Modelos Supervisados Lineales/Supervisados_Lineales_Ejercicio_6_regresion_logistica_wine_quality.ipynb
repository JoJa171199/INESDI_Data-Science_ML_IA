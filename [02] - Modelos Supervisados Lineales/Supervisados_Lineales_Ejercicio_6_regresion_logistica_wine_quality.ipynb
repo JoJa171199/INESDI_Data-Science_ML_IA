{
  "cells": [
    {
      "cell_type": "markdown",
      "metadata": {
        "id": "view-in-github",
        "colab_type": "text"
      },
      "source": [
        "<a href=\"https://colab.research.google.com/github/dtoralg/INESDI_Data-Science_ML_IA/blob/main/%5B02%5D%20-%20Modelos%20Supervisados%20Lineales/Supervisados_Lineales_Ejercicio_6_regresion_logistica_wine_quality.ipynb\" target=\"_parent\"><img src=\"https://colab.research.google.com/assets/colab-badge.svg\" alt=\"Open In Colab\"/></a>"
      ]
    },
    {
      "cell_type": "markdown",
      "id": "4f2d1590",
      "metadata": {
        "id": "4f2d1590"
      },
      "source": [
        "## Supervisados Lineales - Ejercicio 6: regresion_logistica_wine_quality.ipynb\n",
        "\n",
        "Este ejercicio es de tipo You do. Debes construir un modelo de **Regresión Logística** para predecir si un vino es de **alta calidad**.\n",
        "Trabajarás con el dataset *Wine Quality (red)* de UCI. La variable `quality` (0–10) se transformará a binaria."
      ]
    },
    {
      "cell_type": "markdown",
      "id": "a5bbf6f5",
      "metadata": {
        "id": "a5bbf6f5"
      },
      "source": [
        "### Objetivos\n",
        "- Cargar el dataset y preparar la variable objetivo binaria.\n",
        "- Entrenar y evaluar una Regresión Logística (baseline y con estandarización).\n",
        "- Medir Accuracy, Matriz de Confusión y ROC-AUC.\n",
        "- Analizar el impacto del umbral de decisión."
      ]
    },
    {
      "cell_type": "markdown",
      "id": "7ae3c207",
      "metadata": {
        "id": "7ae3c207"
      },
      "source": [
        "### Descripción del dataset\n",
        "Dataset de vinos tintos portugueses con 11 variables fisicoquímicas y la variable `quality`.\n",
        "Fuente: https://archive.ics.uci.edu/ml/machine-learning-databases/wine-quality/winequality-red.csv\n",
        "\n",
        "Sugerencia de binarización del objetivo: `quality >= 7` → 1 (alta), en caso contrario 0 (no alta)."
      ]
    },
    {
      "cell_type": "markdown",
      "id": "496f8b55",
      "metadata": {
        "id": "496f8b55"
      },
      "source": [
        "### 1. Importación de librerías y carga del dataset"
      ]
    },
    {
      "cell_type": "code",
      "execution_count": null,
      "id": "eaf38479",
      "metadata": {
        "id": "eaf38479"
      },
      "outputs": [],
      "source": [
        "# TODO: Importa pandas, numpy, matplotlib, seaborn\n",
        "# TODO: Importa train_test_split, StandardScaler, LogisticRegression y métricas (accuracy_score, confusion_matrix, roc_auc_score, roc_curve)\n",
        "# TODO"
      ]
    },
    {
      "cell_type": "code",
      "execution_count": null,
      "id": "9dcfe007",
      "metadata": {
        "id": "9dcfe007"
      },
      "outputs": [],
      "source": [
        "# TODO: Carga el dataset desde la URL (usa sep=';') y asígnalo a df\n",
        "url = 'https://archive.ics.uci.edu/ml/machine-learning-databases/wine-quality/winequality-red.csv'\n",
        "# df = pd.read_csv(url, sep=';')\n",
        "# TODO"
      ]
    },
    {
      "cell_type": "markdown",
      "id": "6c2500ce",
      "metadata": {
        "id": "6c2500ce"
      },
      "source": [
        "### 2. Exploración inicial"
      ]
    },
    {
      "cell_type": "code",
      "execution_count": null,
      "id": "768de63b",
      "metadata": {
        "id": "768de63b"
      },
      "outputs": [],
      "source": [
        "# TODO: Explora dimensiones, primeras filas y descriptores estadísticos\n",
        "# df.shape, df.head(), df.describe().T\n",
        "# TODO"
      ]
    },
    {
      "cell_type": "markdown",
      "id": "5105e23a",
      "metadata": {
        "id": "5105e23a"
      },
      "source": [
        "### 3. Preparación de variables (X, y)"
      ]
    },
    {
      "cell_type": "code",
      "execution_count": null,
      "id": "fa7c975c",
      "metadata": {
        "id": "fa7c975c"
      },
      "outputs": [],
      "source": [
        "# TODO: Crea y binariza la variable objetivo: y = (df['quality'] >= 7).astype(int)\n",
        "# TODO"
      ]
    },
    {
      "cell_type": "code",
      "execution_count": null,
      "id": "de213d46",
      "metadata": {
        "id": "de213d46"
      },
      "outputs": [],
      "source": [
        "# TODO: Define X quitando la columna 'quality'\n",
        "# X = df.drop(columns=['quality'])\n",
        "# TODO"
      ]
    },
    {
      "cell_type": "markdown",
      "id": "bd3c65f4",
      "metadata": {
        "id": "bd3c65f4"
      },
      "source": [
        "### 4. División de datos"
      ]
    },
    {
      "cell_type": "code",
      "execution_count": null,
      "id": "959cca36",
      "metadata": {
        "id": "959cca36"
      },
      "outputs": [],
      "source": [
        "# TODO: Divide en train/test (80/20), con stratify=y y random_state=42\n",
        "# X_train, X_test, y_train, y_test = ...\n",
        "# TODO"
      ]
    },
    {
      "cell_type": "markdown",
      "id": "c7f21c68",
      "metadata": {
        "id": "c7f21c68"
      },
      "source": [
        "### 5. Regresión Logística baseline (sin escalar)"
      ]
    },
    {
      "cell_type": "code",
      "execution_count": null,
      "id": "00dd07de",
      "metadata": {
        "id": "00dd07de"
      },
      "outputs": [],
      "source": [
        "# TODO: Crea, entrena y evalúa un modelo LogisticRegression(max_iter=1000) sin escalado\n",
        "# Calcula y reporta accuracy y matriz de confusión\n",
        "# Sugerencia: usa y_proba = model.predict_proba(X_test)[:,1] para ROC-AUC\n",
        "# TODO"
      ]
    },
    {
      "cell_type": "markdown",
      "id": "1d089753",
      "metadata": {
        "id": "1d089753"
      },
      "source": [
        "### 6. Estandarización y reentrenamiento"
      ]
    },
    {
      "cell_type": "code",
      "execution_count": null,
      "id": "020a2d40",
      "metadata": {
        "id": "020a2d40"
      },
      "outputs": [],
      "source": [
        "# TODO: Estandariza todas las columnas numéricas con StandardScaler\n",
        "# Reentrena la Regresión Logística y recalcula accuracy y ROC-AUC\n",
        "# TODO"
      ]
    },
    {
      "cell_type": "markdown",
      "id": "3a6bcf8e",
      "metadata": {
        "id": "3a6bcf8e"
      },
      "source": [
        "### 7. Curva ROC y análisis de umbral"
      ]
    },
    {
      "cell_type": "code",
      "execution_count": null,
      "id": "698b3e4a",
      "metadata": {
        "id": "698b3e4a"
      },
      "outputs": [],
      "source": [
        "# TODO: Dibuja la curva ROC (fpr, tpr) y muestra el AUC\n",
        "# TODO"
      ]
    },
    {
      "cell_type": "code",
      "execution_count": null,
      "id": "85e14e66",
      "metadata": {
        "id": "85e14e66"
      },
      "outputs": [],
      "source": [
        "# TODO: Prueba a cambiar el umbral de decisión (por ejemplo 0.3, 0.5, 0.7)\n",
        "# y observa cómo cambia la matriz de confusión y el recall de la clase positiva\n",
        "# TODO"
      ]
    },
    {
      "cell_type": "markdown",
      "id": "8d844f63",
      "metadata": {
        "id": "8d844f63"
      },
      "source": [
        "### Conclusión\n",
        "Resume los hallazgos: diferencias entre baseline y estandarizado, efecto del umbral, y qué variables parecen más influyentes."
      ]
    }
  ],
  "metadata": {
    "colab": {
      "provenance": [],
      "include_colab_link": true
    }
  },
  "nbformat": 4,
  "nbformat_minor": 5
}
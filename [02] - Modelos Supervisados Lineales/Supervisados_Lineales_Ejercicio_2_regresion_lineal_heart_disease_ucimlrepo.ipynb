{
  "cells": [
    {
      "cell_type": "markdown",
      "metadata": {
        "id": "view-in-github",
        "colab_type": "text"
      },
      "source": [
        "<a href=\"https://colab.research.google.com/github/dtoralg/INESDI_Data-Science_ML_IA/blob/main/%5B02%5D%20-%20Modelos%20Supervisados%20Lineales/Supervisados_Lineales_Ejercicio_2_regresion_lineal_heart_disease_ucimlrepo.ipynb\" target=\"_parent\"><img src=\"https://colab.research.google.com/assets/colab-badge.svg\" alt=\"Open In Colab\"/></a>"
      ]
    },
    {
      "cell_type": "markdown",
      "id": "448d8a68",
      "metadata": {
        "id": "448d8a68"
      },
      "source": [
        "## Supervisados Lineales - Ejercicio 2: regresion_lineal_heart_disease.ipynb\n",
        "\n",
        "En este ejercicio aplicarás un modelo de **Regresión Lineal** usando el dataset de Heart Disease disponible en la librería `ucimlrepo`. Es un ejercicio guiado, con varias celdas que deberás completar (`# TODO`)."
      ]
    },
    {
      "cell_type": "markdown",
      "id": "229c583f",
      "metadata": {
        "id": "229c583f"
      },
      "source": [
        "### Objetivos\n",
        "- Cargar y explorar el dataset de Heart Disease desde `ucimlrepo`.\n",
        "- Seleccionar variables numéricas y categóricas.\n",
        "- Entrenar un modelo de Regresión Lineal para predecir una variable continua.\n",
        "- Evaluar el rendimiento con métricas de regresión."
      ]
    },
    {
      "cell_type": "markdown",
      "id": "8a61c0cc",
      "metadata": {
        "id": "8a61c0cc"
      },
      "source": [
        "### Descripción del dataset\n",
        "El dataset de Heart Disease contiene información clínica de pacientes: edad, sexo, presión sanguínea, colesterol, frecuencia cardiaca máxima, dolor torácico, entre otros. Aunque su variable principal suele ser binaria (presencia de enfermedad), en este ejercicio trabajaremos con una variable **continua** (por ejemplo, `trestbps` o `chol`) para practicar regresión lineal."
      ]
    },
    {
      "cell_type": "markdown",
      "id": "589c3807",
      "metadata": {
        "id": "589c3807"
      },
      "source": [
        "### 1. Importación de librerías y carga del dataset"
      ]
    },
    {
      "cell_type": "code",
      "source": [
        "!pip install ucimlrepo"
      ],
      "metadata": {
        "id": "Cq1kuHe18JgX"
      },
      "id": "Cq1kuHe18JgX",
      "execution_count": null,
      "outputs": []
    },
    {
      "cell_type": "code",
      "execution_count": null,
      "id": "5695e8b4",
      "metadata": {
        "id": "5695e8b4"
      },
      "outputs": [],
      "source": [
        "import pandas as pd\n",
        "import matplotlib.pyplot as plt\n",
        "import seaborn as sns\n",
        "from sklearn.model_selection import train_test_split\n",
        "from sklearn.linear_model import LinearRegression\n",
        "from sklearn.metrics import mean_squared_error, r2_score\n",
        "import numpy as np\n",
        "from ucimlrepo import fetch_ucirepo\n",
        "sns.set(style='whitegrid')"
      ]
    },
    {
      "cell_type": "code",
      "execution_count": null,
      "id": "175cc213",
      "metadata": {
        "id": "175cc213"
      },
      "outputs": [],
      "source": [
        "# Cargar dataset Heart Disease desde ucimlrepo\n",
        "heart_disease = fetch_ucirepo(id=45)\n",
        "X = heart_disease.data.features\n",
        "y = heart_disease.data.targets\n",
        "print(heart_disease.metadata)\n",
        "print(heart_disease.variables)\n",
        "X.head()"
      ]
    },
    {
      "cell_type": "markdown",
      "id": "bd6d7249",
      "metadata": {
        "id": "bd6d7249"
      },
      "source": [
        "### 2. Exploración inicial"
      ]
    },
    {
      "cell_type": "code",
      "execution_count": null,
      "id": "9487dc68",
      "metadata": {
        "id": "9487dc68"
      },
      "outputs": [],
      "source": [
        "# TODO: Muestra dimensiones y tipos de datos del dataset"
      ]
    },
    {
      "cell_type": "code",
      "execution_count": null,
      "id": "18b86b09",
      "metadata": {
        "id": "18b86b09"
      },
      "outputs": [],
      "source": [
        "# TODO: Explora estadísticas descriptivas con X.describe()"
      ]
    },
    {
      "cell_type": "markdown",
      "id": "afc0695e",
      "metadata": {
        "id": "afc0695e"
      },
      "source": [
        "### 3. Selección de variables"
      ]
    },
    {
      "cell_type": "code",
      "execution_count": null,
      "id": "2ea1c924",
      "metadata": {
        "id": "2ea1c924"
      },
      "outputs": [],
      "source": [
        "# TODO: Define y como una variable continua (ej: 'chol')"
      ]
    },
    {
      "cell_type": "markdown",
      "id": "d5e432b1",
      "metadata": {
        "id": "d5e432b1"
      },
      "source": [
        "### 4. División en train y test"
      ]
    },
    {
      "cell_type": "code",
      "execution_count": null,
      "id": "81ebb776",
      "metadata": {
        "id": "81ebb776"
      },
      "outputs": [],
      "source": [
        "# TODO: Divide en train/test con train_test_split (80/20)\n",
        "# Usa random_state=42 para reproducibilidad"
      ]
    },
    {
      "cell_type": "markdown",
      "id": "c3474645",
      "metadata": {
        "id": "c3474645"
      },
      "source": [
        "### 5. Entrenamiento del modelo"
      ]
    },
    {
      "cell_type": "code",
      "execution_count": null,
      "id": "d72b3c7f",
      "metadata": {
        "id": "d72b3c7f"
      },
      "outputs": [],
      "source": [
        "# TODO: Crea y ajusta un modelo de Regresión Lineal"
      ]
    },
    {
      "cell_type": "markdown",
      "id": "d7a4dbfa",
      "metadata": {
        "id": "d7a4dbfa"
      },
      "source": [
        "### 6. Evaluación del modelo"
      ]
    },
    {
      "cell_type": "code",
      "execution_count": null,
      "id": "fab29b75",
      "metadata": {
        "id": "fab29b75"
      },
      "outputs": [],
      "source": [
        "# TODO: Genera predicciones y calcula métricas (MSE, RMSE, R²)"
      ]
    },
    {
      "cell_type": "markdown",
      "id": "7eecb4bc",
      "metadata": {
        "id": "7eecb4bc"
      },
      "source": [
        "### 7. Visualización de resultados"
      ]
    },
    {
      "cell_type": "code",
      "execution_count": null,
      "id": "83110c43",
      "metadata": {
        "id": "83110c43"
      },
      "outputs": [],
      "source": [
        "# TODO: Haz un scatterplot de valores reales vs predicciones"
      ]
    },
    {
      "cell_type": "markdown",
      "id": "ace85a44",
      "metadata": {
        "id": "ace85a44"
      },
      "source": [
        "### Conclusión\n",
        "En este ejercicio has practicado cómo aplicar un modelo de Regresión Lineal sobre un dataset clínico.\n",
        "Has trabajado con selección de variables, división de datos, entrenamiento, evaluación y visualización de resultados.\n",
        "\n",
        "Reflexiona: ¿Qué limitaciones tiene usar Regresión Lineal en este tipo de problema clínico?"
      ]
    }
  ],
  "metadata": {
    "colab": {
      "provenance": [],
      "include_colab_link": true
    },
    "language_info": {
      "name": "python"
    },
    "kernelspec": {
      "name": "python3",
      "display_name": "Python 3"
    }
  },
  "nbformat": 4,
  "nbformat_minor": 5
}
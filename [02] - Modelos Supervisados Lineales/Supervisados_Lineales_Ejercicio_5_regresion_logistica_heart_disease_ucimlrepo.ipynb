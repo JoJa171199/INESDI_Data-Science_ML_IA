{
  "cells": [
    {
      "cell_type": "markdown",
      "metadata": {
        "id": "view-in-github",
        "colab_type": "text"
      },
      "source": [
        "<a href=\"https://colab.research.google.com/github/dtoralg/INESDI_Data-Science_ML_IA/blob/main/%5B02%5D%20-%20Modelos%20Supervisados%20Lineales/Supervisados_Lineales_Ejercicio_5_regresion_logistica_heart_disease_ucimlrepo.ipynb\" target=\"_parent\"><img src=\"https://colab.research.google.com/assets/colab-badge.svg\" alt=\"Open In Colab\"/></a>"
      ]
    },
    {
      "cell_type": "markdown",
      "id": "b31ff835",
      "metadata": {
        "id": "b31ff835"
      },
      "source": [
        "## Supervisados Lineales - Ejercicio 5: regresion_logistica_heart_disease.ipynb\n",
        "\n",
        "En este ejercicio aplicarás un modelo de **Regresión Logística** usando el dataset de Heart Disease disponible en la librería `ucimlrepo`. Es un ejercicio guiado con varias celdas que deberás completar (`# TODO`)."
      ]
    },
    {
      "cell_type": "markdown",
      "id": "fa831baf",
      "metadata": {
        "id": "fa831baf"
      },
      "source": [
        "### Objetivos\n",
        "- Cargar el dataset de Heart Disease desde `ucimlrepo`.\n",
        "- Formular un problema de clasificación binaria.\n",
        "- Entrenar un modelo de Regresión Logística.\n",
        "- Evaluar con métricas de clasificación: Accuracy, Matriz de Confusión, ROC-AUC.\n",
        "- Comparar resultados con diferentes configuraciones (ej: con/ sin estandarización)."
      ]
    },
    {
      "cell_type": "markdown",
      "id": "e370b217",
      "metadata": {
        "id": "e370b217"
      },
      "source": [
        "### Descripción del dataset\n",
        "El dataset de Heart Disease contiene información clínica de pacientes: edad, sexo, presión sanguínea, colesterol, frecuencia cardiaca máxima, dolor torácico, entre otros. El objetivo será la presencia o ausencia de enfermedad cardíaca."
      ]
    },
    {
      "cell_type": "markdown",
      "id": "b0d5b842",
      "metadata": {
        "id": "b0d5b842"
      },
      "source": [
        "### 1. Importación de librerías y carga del dataset"
      ]
    },
    {
      "cell_type": "code",
      "source": [
        "!pip install ucimlrepo"
      ],
      "metadata": {
        "id": "sF1LLVB9_4Hn"
      },
      "id": "sF1LLVB9_4Hn",
      "execution_count": null,
      "outputs": []
    },
    {
      "cell_type": "code",
      "execution_count": null,
      "id": "5ba34aa4",
      "metadata": {
        "id": "5ba34aa4"
      },
      "outputs": [],
      "source": [
        "import pandas as pd\n",
        "import matplotlib.pyplot as plt\n",
        "import seaborn as sns\n",
        "import numpy as np\n",
        "from sklearn.model_selection import train_test_split\n",
        "from sklearn.preprocessing import StandardScaler\n",
        "from sklearn.linear_model import LogisticRegression\n",
        "from sklearn.metrics import accuracy_score, confusion_matrix, roc_auc_score, roc_curve, classification_report\n",
        "from ucimlrepo import fetch_ucirepo\n",
        "sns.set(style='whitegrid')"
      ]
    },
    {
      "cell_type": "code",
      "execution_count": null,
      "id": "f4fc284e",
      "metadata": {
        "id": "f4fc284e"
      },
      "outputs": [],
      "source": [
        "# Cargar dataset Heart Disease desde ucimlrepo\n",
        "heart_disease = fetch_ucirepo(id=45)\n",
        "X = heart_disease.data.features\n",
        "y = heart_disease.data.targets\n",
        "print(heart_disease.metadata)\n",
        "print(heart_disease.variables)\n",
        "X.head()"
      ]
    },
    {
      "cell_type": "markdown",
      "id": "8131d012",
      "metadata": {
        "id": "8131d012"
      },
      "source": [
        "### 2. Exploración inicial"
      ]
    },
    {
      "cell_type": "code",
      "execution_count": null,
      "id": "f667f8cb",
      "metadata": {
        "id": "f667f8cb"
      },
      "outputs": [],
      "source": [
        "# TODO: Explora dimensiones y tipos de datos\n",
        "# Usa X.shape, X.dtypes, y.value_counts()\n",
        "# TODO"
      ]
    },
    {
      "cell_type": "code",
      "execution_count": null,
      "id": "11949890",
      "metadata": {
        "id": "11949890"
      },
      "outputs": [],
      "source": [
        "# TODO: Explora estadísticas descriptivas con X.describe()\n",
        "# TODO"
      ]
    },
    {
      "cell_type": "markdown",
      "id": "576125df",
      "metadata": {
        "id": "576125df"
      },
      "source": [
        "### 3. División de datos"
      ]
    },
    {
      "cell_type": "code",
      "execution_count": null,
      "id": "e5f1ce43",
      "metadata": {
        "id": "e5f1ce43"
      },
      "outputs": [],
      "source": [
        "# TODO: Divide en train y test (80/20), estratificando por y\n",
        "# Usa random_state=42 para reproducibilidad\n",
        "# TODO"
      ]
    },
    {
      "cell_type": "markdown",
      "id": "bd6c43d3",
      "metadata": {
        "id": "bd6c43d3"
      },
      "source": [
        "### 4. Entrenamiento del modelo"
      ]
    },
    {
      "cell_type": "code",
      "execution_count": null,
      "id": "bce34499",
      "metadata": {
        "id": "bce34499"
      },
      "outputs": [],
      "source": [
        "# TODO: Crea y entrena un modelo de Regresión Logística\n",
        "# Prueba primero sin escalar los datos\n",
        "# TODO"
      ]
    },
    {
      "cell_type": "code",
      "execution_count": null,
      "id": "d3b17c47",
      "metadata": {
        "id": "d3b17c47"
      },
      "outputs": [],
      "source": [
        "# TODO: Calcula métricas: accuracy, matriz de confusión, reporte de clasificación\n",
        "# TODO"
      ]
    },
    {
      "cell_type": "markdown",
      "id": "d339f944",
      "metadata": {
        "id": "d339f944"
      },
      "source": [
        "### 5. Estandarización y reentrenamiento"
      ]
    },
    {
      "cell_type": "code",
      "execution_count": null,
      "id": "dbc6aa27",
      "metadata": {
        "id": "dbc6aa27"
      },
      "outputs": [],
      "source": [
        "# TODO: Estandariza las variables numéricas con StandardScaler\n",
        "# Repite el entrenamiento y la evaluación\n",
        "# TODO"
      ]
    },
    {
      "cell_type": "markdown",
      "id": "4c2e1cc2",
      "metadata": {
        "id": "4c2e1cc2"
      },
      "source": [
        "### 6. Curva ROC"
      ]
    },
    {
      "cell_type": "code",
      "execution_count": null,
      "id": "3149d96f",
      "metadata": {
        "id": "3149d96f"
      },
      "outputs": [],
      "source": [
        "# Código para curvas ROC multiclase\n",
        "from sklearn.metrics import roc_curve, roc_auc_score\n",
        "from sklearn.preprocessing import label_binarize\n",
        "\n",
        "probs = model_scaled.predict_proba(X_test_scaled)\n",
        "classes = model_scaled.classes_\n",
        "\n",
        "y_bin = label_binarize(y_test, classes=classes)\n",
        "fpr, tpr, _ = roc_curve(y_bin.ravel(), probs.ravel())\n",
        "auc = roc_auc_score(y_test, probs, multi_class='ovr', average='weighted')\n",
        "auc_ovr = roc_auc_score(y_test, probs, multi_class='ovr', average='weighted')\n",
        "auc_ovo = roc_auc_score(y_test, probs, multi_class='ovo', average='weighted')\n",
        "\n",
        "plt.figure()\n",
        "plt.plot(fpr, tpr)\n",
        "plt.plot([0,1],[0,1],'--')\n",
        "plt.xlabel('FPR')\n",
        "plt.ylabel('TPR')\n",
        "plt.title(f'Curva ROC (AUC={auc:.3f})')"
      ]
    },
    {
      "cell_type": "markdown",
      "id": "197ad334",
      "metadata": {
        "id": "197ad334"
      },
      "source": [
        "### Conclusión\n",
        "En este ejercicio has practicado cómo aplicar la Regresión Logística en un dataset clínico real, probando diferentes configuraciones y evaluando con métricas adecuadas.\n",
        "\n",
        "Reflexiona: ¿Qué variables parecen tener más peso en la predicción? ¿Cómo cambia el rendimiento con estandarización?"
      ]
    }
  ],
  "metadata": {
    "colab": {
      "provenance": [],
      "include_colab_link": true
    },
    "language_info": {
      "name": "python"
    },
    "kernelspec": {
      "name": "python3",
      "display_name": "Python 3"
    }
  },
  "nbformat": 4,
  "nbformat_minor": 5
}
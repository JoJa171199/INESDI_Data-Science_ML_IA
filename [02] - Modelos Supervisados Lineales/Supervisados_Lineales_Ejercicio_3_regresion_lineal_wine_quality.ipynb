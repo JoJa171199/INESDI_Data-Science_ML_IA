{
  "cells": [
    {
      "cell_type": "markdown",
      "metadata": {
        "id": "view-in-github",
        "colab_type": "text"
      },
      "source": [
        "<a href=\"https://colab.research.google.com/github/dtoralg/INESDI_Data-Science_ML_IA/blob/main/%5B02%5D%20-%20Modelos%20Supervisados%20Lineales/Supervisados_Lineales_Ejercicio_3_regresion_lineal_wine_quality.ipynb\" target=\"_parent\"><img src=\"https://colab.research.google.com/assets/colab-badge.svg\" alt=\"Open In Colab\"/></a>"
      ]
    },
    {
      "cell_type": "markdown",
      "id": "19f397c0",
      "metadata": {
        "id": "19f397c0"
      },
      "source": [
        "## Supervisados Lineales - Ejercicio 3: regresion_lineal_wine_quality.ipynb\n",
        "\n",
        "Este ejercicio lo resolverás de forma autónoma. Debes aplicar un modelo de **Regresión Lineal** para predecir la calidad del vino usando el dataset *Wine Quality* (UCI)."
      ]
    },
    {
      "cell_type": "markdown",
      "id": "e24208a7",
      "metadata": {
        "id": "e24208a7"
      },
      "source": [
        "### Objetivos\n",
        "- Cargar y explorar el dataset de Wine Quality.\n",
        "- Seleccionar variables predictoras y la variable objetivo.\n",
        "- Dividir en train/test y entrenar un modelo de Regresión Lineal.\n",
        "- Evaluar con métricas de regresión.\n",
        "- Visualizar resultados."
      ]
    },
    {
      "cell_type": "markdown",
      "id": "ad82cf79",
      "metadata": {
        "id": "ad82cf79"
      },
      "source": [
        "### Descripción del dataset\n",
        "El dataset de Wine Quality incluye 1599 vinos tintos portugueses con 11 características fisicoquímicas (acidez, azúcar, pH, alcohol, etc.) y un target (`quality`) que va de 0 a 10.\n",
        "\n",
        "Fuente: [UCI Wine Quality dataset](https://archive.ics.uci.edu/ml/machine-learning-databases/wine-quality/winequality-red.csv)"
      ]
    },
    {
      "cell_type": "markdown",
      "id": "710adc36",
      "metadata": {
        "id": "710adc36"
      },
      "source": [
        "### 1. Importación de librerías y carga del dataset"
      ]
    },
    {
      "cell_type": "code",
      "execution_count": null,
      "id": "f0b786b9",
      "metadata": {
        "id": "f0b786b9"
      },
      "outputs": [],
      "source": [
        "# TODO: Importa pandas, numpy, seaborn, matplotlib y sklearn\n",
        "# TODO"
      ]
    },
    {
      "cell_type": "code",
      "execution_count": null,
      "id": "d4292a91",
      "metadata": {
        "id": "d4292a91"
      },
      "outputs": [],
      "source": [
        "# Carga el dataset desde la URL\n",
        "url = 'https://archive.ics.uci.edu/ml/machine-learning-databases/wine-quality/winequality-red.csv'\n",
        "df = pd.read_csv(url, sep=';')\n",
        "# NOTA: usa sep=';' porque los datos están delimitados por punto y coma"
      ]
    },
    {
      "cell_type": "markdown",
      "id": "a93d9528",
      "metadata": {
        "id": "a93d9528"
      },
      "source": [
        "### 2. Exploración inicial"
      ]
    },
    {
      "cell_type": "code",
      "execution_count": null,
      "id": "28d3ce34",
      "metadata": {
        "id": "28d3ce34"
      },
      "outputs": [],
      "source": [
        "# TODO: Muestra las dimensiones del dataset y las primeras filas\n",
        "# TODO"
      ]
    },
    {
      "cell_type": "code",
      "execution_count": null,
      "id": "65af35be",
      "metadata": {
        "id": "65af35be"
      },
      "outputs": [],
      "source": [
        "# TODO: Explora las estadísticas descriptivas\n",
        "# TODO"
      ]
    },
    {
      "cell_type": "markdown",
      "id": "a1f13f73",
      "metadata": {
        "id": "a1f13f73"
      },
      "source": [
        "### 3. Selección de variables"
      ]
    },
    {
      "cell_type": "code",
      "execution_count": null,
      "id": "7c0cd88d",
      "metadata": {
        "id": "7c0cd88d"
      },
      "outputs": [],
      "source": [
        "# TODO: Define X con todas las variables predictoras y y como la variable objetivo 'quality'\n",
        "# TODO"
      ]
    },
    {
      "cell_type": "markdown",
      "id": "d9dbcac3",
      "metadata": {
        "id": "d9dbcac3"
      },
      "source": [
        "### 4. División en train y test"
      ]
    },
    {
      "cell_type": "code",
      "execution_count": null,
      "id": "73d10c5c",
      "metadata": {
        "id": "73d10c5c"
      },
      "outputs": [],
      "source": [
        "# TODO: Divide en train/test con train_test_split (80/20)\n",
        "# Usa random_state=42\n",
        "# TODO"
      ]
    },
    {
      "cell_type": "markdown",
      "id": "52678874",
      "metadata": {
        "id": "52678874"
      },
      "source": [
        "### 5. Entrenamiento del modelo"
      ]
    },
    {
      "cell_type": "code",
      "execution_count": null,
      "id": "f1fa8483",
      "metadata": {
        "id": "f1fa8483"
      },
      "outputs": [],
      "source": [
        "# TODO: Crea y entrena un modelo de Regresión Lineal\n",
        "# TODO"
      ]
    },
    {
      "cell_type": "markdown",
      "id": "aa7fd8c0",
      "metadata": {
        "id": "aa7fd8c0"
      },
      "source": [
        "### 6. Evaluación del modelo"
      ]
    },
    {
      "cell_type": "code",
      "execution_count": null,
      "id": "5c488a09",
      "metadata": {
        "id": "5c488a09"
      },
      "outputs": [],
      "source": [
        "# TODO: Genera predicciones y calcula métricas (MSE, RMSE, R²)\n",
        "# TODO"
      ]
    },
    {
      "cell_type": "markdown",
      "id": "a5ee7b1c",
      "metadata": {
        "id": "a5ee7b1c"
      },
      "source": [
        "### 7. Visualización de resultados"
      ]
    },
    {
      "cell_type": "code",
      "execution_count": null,
      "id": "97313bca",
      "metadata": {
        "id": "97313bca"
      },
      "outputs": [],
      "source": [
        "# TODO: Haz un scatterplot de valores reales vs predicciones\n",
        "# Añade línea de referencia y=x\n",
        "# TODO"
      ]
    },
    {
      "cell_type": "markdown",
      "id": "b5a67432",
      "metadata": {
        "id": "b5a67432"
      },
      "source": [
        "### Conclusión\n",
        "Resume tus resultados: ¿cómo de bien predice el modelo la calidad del vino?\n",
        "¿Qué limitaciones ves al usar Regresión Lineal en este contexto?"
      ]
    }
  ],
  "metadata": {
    "colab": {
      "provenance": [],
      "include_colab_link": true
    },
    "language_info": {
      "name": "python"
    },
    "kernelspec": {
      "name": "python3",
      "display_name": "Python 3"
    }
  },
  "nbformat": 4,
  "nbformat_minor": 5
}
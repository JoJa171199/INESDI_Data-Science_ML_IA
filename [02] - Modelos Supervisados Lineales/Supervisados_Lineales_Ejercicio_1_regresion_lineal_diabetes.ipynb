{
  "cells": [
    {
      "cell_type": "markdown",
      "metadata": {
        "id": "view-in-github",
        "colab_type": "text"
      },
      "source": [
        "<a href=\"https://colab.research.google.com/github/dtoralg/INESDI_Data-Science_ML_IA/blob/main/%5B02%5D%20-%20Modelos%20Supervisados%20Lineales/Supervisados_Lineales_Ejercicio_1_regresion_lineal_diabetes.ipynb\" target=\"_parent\"><img src=\"https://colab.research.google.com/assets/colab-badge.svg\" alt=\"Open In Colab\"/></a>"
      ]
    },
    {
      "cell_type": "markdown",
      "id": "e3ef4ea5",
      "metadata": {
        "id": "e3ef4ea5"
      },
      "source": [
        "## Supervisados Lineales - Ejercicio 1: regresion_lineal_diabetes.ipynb\n",
        "\n",
        "En este ejercicio aprenderás a entrenar un modelo de **Regresión Lineal** usando el dataset de Diabetes disponible en `scikit-learn`. Es un ejercicio guiado, con todo el código implementado paso a paso."
      ]
    },
    {
      "cell_type": "markdown",
      "id": "03b33e9e",
      "metadata": {
        "id": "03b33e9e"
      },
      "source": [
        "### Objetivos\n",
        "- Cargar el dataset de Diabetes desde scikit-learn.\n",
        "- Entrenar un modelo de **Regresión Lineal**.\n",
        "- Evaluar su rendimiento con métricas de regresión.\n",
        "- Visualizar las predicciones frente a los valores reales."
      ]
    },
    {
      "cell_type": "markdown",
      "id": "9ac46e1d",
      "metadata": {
        "id": "9ac46e1d"
      },
      "source": [
        "### Descripción del dataset\n",
        "El dataset de Diabetes incluye 442 pacientes con 10 variables predictoras (edad, sexo, IMC, presión sanguínea, y otras medidas). La variable objetivo es un valor numérico que indica la progresión de la enfermedad un año después de la recogida de datos."
      ]
    },
    {
      "cell_type": "markdown",
      "id": "660f9a14",
      "metadata": {
        "id": "660f9a14"
      },
      "source": [
        "### 1. Importación de librerías y carga del dataset"
      ]
    },
    {
      "cell_type": "code",
      "execution_count": null,
      "id": "7918107a",
      "metadata": {
        "id": "7918107a"
      },
      "outputs": [],
      "source": [
        "import pandas as pd\n",
        "import matplotlib.pyplot as plt\n",
        "import seaborn as sns\n",
        "from sklearn.datasets import load_diabetes\n",
        "from sklearn.model_selection import train_test_split\n",
        "from sklearn.linear_model import LinearRegression\n",
        "from sklearn.metrics import mean_squared_error, r2_score\n",
        "import numpy as np\n",
        "sns.set(style='whitegrid')"
      ]
    },
    {
      "cell_type": "code",
      "execution_count": null,
      "id": "4e401885",
      "metadata": {
        "id": "4e401885"
      },
      "outputs": [],
      "source": [
        "# Cargar dataset de Diabetes\n",
        "diabetes = load_diabetes()\n",
        "X = pd.DataFrame(diabetes.data, columns=diabetes.feature_names)\n",
        "y = pd.Series(diabetes.target, name='progression')\n",
        "X.head()"
      ]
    },
    {
      "cell_type": "markdown",
      "id": "41095785",
      "metadata": {
        "id": "41095785"
      },
      "source": [
        "### 2. Exploración inicial"
      ]
    },
    {
      "cell_type": "code",
      "execution_count": null,
      "id": "ca4a463b",
      "metadata": {
        "id": "ca4a463b"
      },
      "outputs": [],
      "source": [
        "print('Dimensiones:', X.shape)\n",
        "X.describe().T"
      ]
    },
    {
      "cell_type": "markdown",
      "id": "aea72afe",
      "metadata": {
        "id": "aea72afe"
      },
      "source": [
        "### 3. División en train y test"
      ]
    },
    {
      "cell_type": "code",
      "execution_count": null,
      "id": "feb444a0",
      "metadata": {
        "id": "feb444a0"
      },
      "outputs": [],
      "source": [
        "X_train, X_test, y_train, y_test = train_test_split(\n",
        "    X, y, test_size=0.2, random_state=42\n",
        ")\n",
        "print('Train:', X_train.shape, 'Test:', X_test.shape)"
      ]
    },
    {
      "cell_type": "markdown",
      "id": "14cbf664",
      "metadata": {
        "id": "14cbf664"
      },
      "source": [
        "### 4. Entrenamiento del modelo de Regresión Lineal"
      ]
    },
    {
      "cell_type": "code",
      "execution_count": null,
      "id": "90bda277",
      "metadata": {
        "id": "90bda277"
      },
      "outputs": [],
      "source": [
        "model = LinearRegression()\n",
        "model.fit(X_train, y_train)\n",
        "y_pred = model.predict(X_test)\n",
        "print('Modelo entrenado.')"
      ]
    },
    {
      "cell_type": "markdown",
      "id": "25a1e4e3",
      "metadata": {
        "id": "25a1e4e3"
      },
      "source": [
        "### 5. Evaluación del modelo"
      ]
    },
    {
      "cell_type": "code",
      "execution_count": null,
      "id": "481803b9",
      "metadata": {
        "id": "481803b9"
      },
      "outputs": [],
      "source": [
        "mse = mean_squared_error(y_test, y_pred)\n",
        "rmse = np.sqrt(mse)\n",
        "r2 = r2_score(y_test, y_pred)\n",
        "print('MSE:', mse)\n",
        "print('RMSE:', rmse)\n",
        "print('R2:', r2)"
      ]
    },
    {
      "cell_type": "markdown",
      "id": "d64ae554",
      "metadata": {
        "id": "d64ae554"
      },
      "source": [
        "### 6. Visualización de predicciones"
      ]
    },
    {
      "cell_type": "code",
      "execution_count": null,
      "id": "2427aa4a",
      "metadata": {
        "id": "2427aa4a"
      },
      "outputs": [],
      "source": [
        "plt.figure(figsize=(6,6))\n",
        "sns.scatterplot(x=y_test, y=y_pred)\n",
        "plt.xlabel('Valores reales')\n",
        "plt.ylabel('Predicciones')\n",
        "plt.title('Predicciones vs Valores Reales')\n",
        "plt.plot([y_test.min(), y_test.max()], [y_test.min(), y_test.max()], 'r--')\n",
        "plt.show()"
      ]
    },
    {
      "cell_type": "markdown",
      "id": "39e9ad3a",
      "metadata": {
        "id": "39e9ad3a"
      },
      "source": [
        "### Conclusión\n",
        "En este ejercicio hemos:\n",
        "- Cargado el dataset de Diabetes.\n",
        "- Entrenado un modelo de Regresión Lineal.\n",
        "- Evaluado su rendimiento con MSE, RMSE y R².\n",
        "- Visualizado la relación entre predicciones y valores reales.\n",
        "\n",
        "La regresión lineal nos da una primera aproximación a la predicción de variables continuas."
      ]
    }
  ],
  "metadata": {
    "colab": {
      "provenance": [],
      "include_colab_link": true
    },
    "language_info": {
      "name": "python"
    },
    "kernelspec": {
      "name": "python3",
      "display_name": "Python 3"
    }
  },
  "nbformat": 4,
  "nbformat_minor": 5
}
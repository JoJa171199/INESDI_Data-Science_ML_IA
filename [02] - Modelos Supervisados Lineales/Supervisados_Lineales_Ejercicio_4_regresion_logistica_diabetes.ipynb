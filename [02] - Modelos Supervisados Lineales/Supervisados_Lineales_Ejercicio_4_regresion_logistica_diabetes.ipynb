{
  "cells": [
    {
      "cell_type": "markdown",
      "metadata": {
        "id": "view-in-github",
        "colab_type": "text"
      },
      "source": [
        "<a href=\"https://colab.research.google.com/github/dtoralg/INESDI_Data-Science_ML_IA/blob/main/%5B02%5D%20-%20Modelos%20Supervisados%20Lineales/Supervisados_Lineales_Ejercicio_4_regresion_logistica_diabetes.ipynb\" target=\"_parent\"><img src=\"https://colab.research.google.com/assets/colab-badge.svg\" alt=\"Open In Colab\"/></a>"
      ]
    },
    {
      "cell_type": "markdown",
      "id": "6fe8a313",
      "metadata": {
        "id": "6fe8a313"
      },
      "source": [
        "## Supervisados Lineales - Ejercicio 4: regresion_logistica_diabetes.ipynb\n",
        "\n",
        "En este ejercicio entrenaremos un modelo de **Regresión Logística** utilizando el dataset de Diabetes de `scikit-learn`. Convertiremos la variable objetivo a binaria para plantear un problema de clasificación, evaluaremos el rendimiento con métricas adecuadas y analizaremos la interpretabilidad de los coeficientes."
      ]
    },
    {
      "cell_type": "markdown",
      "id": "fe6a75d6",
      "metadata": {
        "id": "fe6a75d6"
      },
      "source": [
        "### Objetivos\n",
        "- Cargar el dataset de Diabetes desde `scikit-learn`.\n",
        "- Formular un problema de clasificación binaria a partir del objetivo continuo.\n",
        "- Entrenar una **Regresión Logística** con y sin estandarización.\n",
        "- Evaluar el modelo con Accuracy, Matriz de confusión, ROC-AUC.\n",
        "- Interpretar coeficientes como odds ratios."
      ]
    },
    {
      "cell_type": "markdown",
      "id": "b1864f5b",
      "metadata": {
        "id": "b1864f5b"
      },
      "source": [
        "### Descripción del dataset\n",
        "El dataset de Diabetes contiene 442 pacientes y 10 características numéricas normalizadas (edad, sexo, IMC, presión sanguínea y 6 medidas bioquímicas). El objetivo original es continuo y representa la progresión de la enfermedad tras un año. Para clasificación, lo binarizaremos."
      ]
    },
    {
      "cell_type": "markdown",
      "id": "470d5adc",
      "metadata": {
        "id": "470d5adc"
      },
      "source": [
        "### 1. Importación de librerías y carga del dataset"
      ]
    },
    {
      "cell_type": "code",
      "execution_count": null,
      "id": "2a148f8a",
      "metadata": {
        "id": "2a148f8a"
      },
      "outputs": [],
      "source": [
        "import numpy as np\n",
        "import pandas as pd\n",
        "import matplotlib.pyplot as plt\n",
        "import seaborn as sns\n",
        "from sklearn.datasets import load_diabetes\n",
        "from sklearn.model_selection import train_test_split\n",
        "from sklearn.preprocessing import StandardScaler\n",
        "from sklearn.linear_model import LogisticRegression\n",
        "from sklearn.metrics import accuracy_score, confusion_matrix, roc_auc_score, roc_curve, classification_report\n",
        "sns.set(style='whitegrid')"
      ]
    },
    {
      "cell_type": "code",
      "execution_count": null,
      "id": "2f176645",
      "metadata": {
        "id": "2f176645"
      },
      "outputs": [],
      "source": [
        "# Cargar dataset de Diabetes\n",
        "data = load_diabetes()\n",
        "X = pd.DataFrame(data.data, columns=data.feature_names)\n",
        "y_cont = pd.Series(data.target, name='progression')\n",
        "\n",
        "# Convertimos a clasificación binaria: 1 si progresión > mediana, 0 en caso contrario\n",
        "threshold = y_cont.median()\n",
        "y = (y_cont > threshold).astype(int)\n",
        "print('Umbral de binarización (mediana):', threshold)\n",
        "X.head()"
      ]
    },
    {
      "cell_type": "markdown",
      "id": "92e70170",
      "metadata": {
        "id": "92e70170"
      },
      "source": [
        "### 2. División de datos"
      ]
    },
    {
      "cell_type": "code",
      "execution_count": null,
      "id": "743b8b8d",
      "metadata": {
        "id": "743b8b8d"
      },
      "outputs": [],
      "source": [
        "X_train, X_test, y_train, y_test = train_test_split(\n",
        "    X, y, test_size=0.2, random_state=42, stratify=y\n",
        ")\n",
        "X_train.shape, X_test.shape, y_train.mean(), y_test.mean()"
      ]
    },
    {
      "cell_type": "markdown",
      "id": "9c4daccc",
      "metadata": {
        "id": "9c4daccc"
      },
      "source": [
        "### 4. Estandarización y entrenamiento"
      ]
    },
    {
      "cell_type": "code",
      "execution_count": null,
      "id": "39510e2c",
      "metadata": {
        "id": "39510e2c"
      },
      "outputs": [],
      "source": [
        "# Estandarizamos todas las columnas numéricas\n",
        "scaler = StandardScaler()\n",
        "X_train_std = scaler.fit_transform(X_train)\n",
        "X_test_std = scaler.transform(X_test)\n"
      ]
    },
    {
      "cell_type": "code",
      "source": [
        "logreg = LogisticRegression(max_iter=1000)\n",
        "logreg.fit(X_train_std, y_train)"
      ],
      "metadata": {
        "id": "eWT-3r5T-zI5"
      },
      "id": "eWT-3r5T-zI5",
      "execution_count": null,
      "outputs": []
    },
    {
      "cell_type": "code",
      "source": [
        "y_pred = logreg.predict(X_test_std)\n",
        "y_proba = logreg.predict_proba(X_test_std)[:, 1]"
      ],
      "metadata": {
        "id": "0x4BIHTd-0ga"
      },
      "id": "0x4BIHTd-0ga",
      "execution_count": null,
      "outputs": []
    },
    {
      "cell_type": "code",
      "source": [
        "acc = accuracy_score(y_test, y_pred)\n",
        "auc = roc_auc_score(y_test, y_proba)\n",
        "print('Accuracy (std):', acc)\n",
        "print('ROC-AUC (std):', auc)"
      ],
      "metadata": {
        "id": "03ok_AyF-15W"
      },
      "id": "03ok_AyF-15W",
      "execution_count": null,
      "outputs": []
    },
    {
      "cell_type": "markdown",
      "id": "b63871dc",
      "metadata": {
        "id": "b63871dc"
      },
      "source": [
        "### 5. Matriz de confusión y clasificación"
      ]
    },
    {
      "cell_type": "code",
      "execution_count": null,
      "id": "d3e0f498",
      "metadata": {
        "id": "d3e0f498"
      },
      "outputs": [],
      "source": [
        "cm = confusion_matrix(y_test, y_pred)\n",
        "cm_df = pd.DataFrame(cm, index=['Real 0','Real 1'], columns=['Pred 0','Pred 1'])\n",
        "print(cm_df)\n",
        "print('\\nReporte de clasificación:')\n",
        "print(classification_report(y_test, y_pred, digits=3))"
      ]
    },
    {
      "cell_type": "markdown",
      "id": "45d8c884",
      "metadata": {
        "id": "45d8c884"
      },
      "source": [
        "### 6. Curva ROC"
      ]
    },
    {
      "cell_type": "code",
      "execution_count": null,
      "id": "af4bdcc1",
      "metadata": {
        "id": "af4bdcc1"
      },
      "outputs": [],
      "source": [
        "fpr, tpr, thr = roc_curve(y_test, y_proba)\n",
        "plt.figure(figsize=(6,5))\n",
        "plt.plot(fpr, tpr, label=f'ROC-AUC = {auc:.3f}')\n",
        "plt.plot([0,1],[0,1],'k--', linewidth=1)\n",
        "plt.xlabel('False Positive Rate')\n",
        "plt.ylabel('True Positive Rate')\n",
        "plt.title('Curva ROC - Regresión Logística (estandarizado)')\n",
        "plt.legend(loc='lower right')\n",
        "plt.show()"
      ]
    },
    {
      "cell_type": "markdown",
      "id": "67f38b9e",
      "metadata": {
        "id": "67f38b9e"
      },
      "source": [
        "### 7. Interpretación de coeficientes"
      ]
    },
    {
      "cell_type": "markdown",
      "source": [
        "Cada variable aporta un \"empuje\" al resultado: positivo = aumenta probabilidad, negativo = reduce.\n",
        "\n",
        "El odds_ratio nos dice cuánto multiplican ( >1 ) o dividen ( <1 ) las probabilidades de que ocurra el evento.\n"
      ],
      "metadata": {
        "id": "_Zt30-QF_hj4"
      },
      "id": "_Zt30-QF_hj4"
    },
    {
      "cell_type": "code",
      "execution_count": null,
      "id": "4c81f559",
      "metadata": {
        "id": "4c81f559"
      },
      "outputs": [],
      "source": [
        "# Coeficientes en escala estandarizada -> interpretables como efecto por desviación estándar\n",
        "coef = pd.Series(logreg.coef_[0], index=X.columns, name='coef')\n",
        "odds_ratio = np.exp(coef)\n",
        "summary = pd.concat([coef, odds_ratio.rename('odds_ratio')], axis=1).sort_values('odds_ratio', ascending=False)\n",
        "summary"
      ]
    },
    {
      "cell_type": "markdown",
      "id": "1e3911d2",
      "metadata": {
        "id": "1e3911d2"
      },
      "source": [
        "### Conclusión\n",
        "Hemos formulado un problema de clasificación a partir del objetivo continuo del dataset de Diabetes, entrenado una Regresión Logística con y sin estandarización, evaluado su rendimiento con métricas adecuadas y analizado la contribución de cada variable mediante coeficientes y odds ratios."
      ]
    }
  ],
  "metadata": {
    "colab": {
      "provenance": [],
      "include_colab_link": true
    },
    "language_info": {
      "name": "python"
    },
    "kernelspec": {
      "name": "python3",
      "display_name": "Python 3"
    }
  },
  "nbformat": 4,
  "nbformat_minor": 5
}
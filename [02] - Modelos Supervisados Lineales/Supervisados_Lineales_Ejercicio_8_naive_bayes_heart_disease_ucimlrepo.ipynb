{
  "cells": [
    {
      "cell_type": "markdown",
      "metadata": {
        "id": "view-in-github",
        "colab_type": "text"
      },
      "source": [
        "<a href=\"https://colab.research.google.com/github/dtoralg/INESDI_Data-Science_ML_IA/blob/main/%5B02%5D%20-%20Modelos%20Supervisados%20Lineales/Supervisados_Lineales_Ejercicio_8_naive_bayes_heart_disease_ucimlrepo.ipynb\" target=\"_parent\"><img src=\"https://colab.research.google.com/assets/colab-badge.svg\" alt=\"Open In Colab\"/></a>"
      ]
    },
    {
      "cell_type": "markdown",
      "id": "fd2eb0a1",
      "metadata": {
        "id": "fd2eb0a1"
      },
      "source": [
        "## Supervisados Lineales - Ejercicio 8: naive_bayes_heart_disease.ipynb\n",
        "\n",
        "En este ejercicio practicarás con el algoritmo **Naive Bayes** usando el dataset de **Heart Disease** disponible en la librería `ucimlrepo`. Debes completar las celdas marcadas con `# TODO`. Trabajaremos con tres variantes:\n",
        "\n",
        "- **GaussianNB**: para rasgos continuos (asume distribución normal).\n",
        "- **CategoricalNB**: discretizando rasgos numéricos en bins.\n",
        "- **MultinomialNB**: reescalando rasgos a no negativos para simular conteos.\n",
        "\n",
        "Al final, compararemos sus resultados mediante matrices de confusión y métricas."
      ]
    },
    {
      "cell_type": "markdown",
      "id": "d32f8788",
      "metadata": {
        "id": "d32f8788"
      },
      "source": [
        "### Objetivos\n",
        "- **O1.** Entrenar y evaluar GaussianNB, CategoricalNB y MultinomialNB sobre Heart Disease.\n",
        "- **O2.** Completar las celdas `# TODO` para preparar los datos, entrenar y evaluar.\n",
        "- **O3.** Comparar los resultados y reflexionar sobre diferencias y supuestos de cada variante."
      ]
    },
    {
      "cell_type": "markdown",
      "id": "43cad6f8",
      "metadata": {
        "id": "43cad6f8"
      },
      "source": [
        "### Dataset\n",
        "El dataset de **Heart Disease (Cleveland)** contiene 303 pacientes, con 14 variables clínicas (edad, sexo, presión sanguínea, colesterol, frecuencia cardiaca máxima, dolor torácico, etc.). El objetivo es binario: presencia o ausencia de enfermedad cardiaca.\n",
        "\n",
        "Fuente: UCI Machine Learning Repository (id=45, accesible vía `ucimlrepo`)."
      ]
    },
    {
      "cell_type": "markdown",
      "id": "803baa9e",
      "metadata": {
        "id": "803baa9e"
      },
      "source": [
        "### 1. Importación de librerías y carga de datos"
      ]
    },
    {
      "cell_type": "code",
      "source": [
        "!pip install ucimlrepo"
      ],
      "metadata": {
        "id": "wvTRzxF8ocAW"
      },
      "id": "wvTRzxF8ocAW",
      "execution_count": null,
      "outputs": []
    },
    {
      "cell_type": "code",
      "execution_count": null,
      "id": "6aabb193",
      "metadata": {
        "id": "6aabb193"
      },
      "outputs": [],
      "source": [
        "import numpy as np\n",
        "import pandas as pd\n",
        "import matplotlib.pyplot as plt\n",
        "import seaborn as sns\n",
        "from sklearn.model_selection import train_test_split\n",
        "from sklearn.naive_bayes import GaussianNB, CategoricalNB, MultinomialNB\n",
        "from sklearn.preprocessing import KBinsDiscretizer, MinMaxScaler\n",
        "from sklearn.metrics import accuracy_score, confusion_matrix, roc_auc_score, roc_curve, classification_report\n",
        "from ucimlrepo import fetch_ucirepo\n",
        "sns.set(style='whitegrid')\n",
        "\n",
        "def plot_confusion(cm, title, ax=None):\n",
        "    if ax is None:\n",
        "        fig, ax = plt.subplots(figsize=(4,3))\n",
        "    sns.heatmap(cm, annot=True, fmt='d', cmap='Blues', cbar=False,\n",
        "                xticklabels=['Pred 0','Pred 1'], yticklabels=['Real 0','Real 1'], ax=ax)\n",
        "    ax.set_title(title)\n",
        "    ax.set_xlabel('Predicción')\n",
        "    ax.set_ylabel('Real')\n",
        "    return ax"
      ]
    },
    {
      "cell_type": "code",
      "execution_count": null,
      "id": "5a0ded8c",
      "metadata": {
        "id": "5a0ded8c"
      },
      "outputs": [],
      "source": [
        "# TODO: Cargar dataset Heart Disease desde ucimlrepo\n",
        "heart_disease = fetch_ucirepo(id=45)\n",
        "X = heart_disease.data.features\n",
        "y = heart_disease.data.targets\n",
        "\n",
        "# TODO: Inspecciona el dataset (shape, primeras filas, distribución del target)\n",
        "print(X.shape)\n",
        "X.head()\n",
        "y.value_counts()"
      ]
    },
    {
      "cell_type": "markdown",
      "id": "3e669578",
      "metadata": {
        "id": "3e669578"
      },
      "source": [
        "### 2. División en train/test"
      ]
    },
    {
      "cell_type": "code",
      "execution_count": null,
      "id": "a352eb2d",
      "metadata": {
        "id": "a352eb2d"
      },
      "outputs": [],
      "source": [
        "# TODO: Divide en train/test (80/20) estratificando por y, random_state=42\n",
        "# ...\n",
        "# TODO"
      ]
    },
    {
      "cell_type": "markdown",
      "id": "f31aa270",
      "metadata": {
        "id": "f31aa270"
      },
      "source": [
        "### 3. Gaussian Naive Bayes"
      ]
    },
    {
      "cell_type": "code",
      "execution_count": null,
      "id": "2ce6bfc7",
      "metadata": {
        "id": "2ce6bfc7"
      },
      "outputs": [],
      "source": [
        "# TODO: Entrena GaussianNB y evalúa accuracy, ROC-AUC, matriz de confusión, classification_report\n",
        "# gnb = GaussianNB()\n",
        "# gnb.fit(X_train, y_train)\n",
        "# y_pred_gnb = gnb.predict(X_test)\n",
        "# y_proba_gnb = gnb.predict_proba(X_test)[:, 1]\n",
        "# cm_gnb = confusion_matrix(y_test, y_pred_gnb)\n",
        "# TODO: imprime métricas y dibuja matriz de confusión\n"
      ]
    },
    {
      "cell_type": "markdown",
      "id": "c01e0050",
      "metadata": {
        "id": "c01e0050"
      },
      "source": [
        "### 4. Categorical Naive Bayes"
      ]
    },
    {
      "cell_type": "code",
      "execution_count": null,
      "id": "ff471c76",
      "metadata": {
        "id": "ff471c76"
      },
      "outputs": [],
      "source": [
        "# TODO: Discretiza variables numéricas con KBinsDiscretizer(n_bins=5, encode='ordinal', strategy='quantile')\n",
        "# Entrena CategoricalNB con los datos discretizados\n",
        "# Evalúa igual que en GaussianNB\n",
        "# TODO"
      ]
    },
    {
      "cell_type": "markdown",
      "id": "54976931",
      "metadata": {
        "id": "54976931"
      },
      "source": [
        "### 5. Multinomial Naive Bayes"
      ]
    },
    {
      "cell_type": "code",
      "execution_count": null,
      "id": "5cc89eba",
      "metadata": {
        "id": "5cc89eba"
      },
      "outputs": [],
      "source": [
        "# TODO: Reescala variables con MinMaxScaler a [0,1]\n",
        "# Entrena MultinomialNB y evalúa\n",
        "# TODO"
      ]
    },
    {
      "cell_type": "markdown",
      "id": "a272e942",
      "metadata": {
        "id": "a272e942"
      },
      "source": [
        "### 6. Comparativa final"
      ]
    },
    {
      "cell_type": "code",
      "execution_count": null,
      "id": "c3ecd074",
      "metadata": {
        "id": "c3ecd074"
      },
      "outputs": [],
      "source": [
        "# TODO: Dibuja matrices de confusión de los tres modelos lado a lado\n",
        "# TODO: Construye un DataFrame resumen con accuracy y AUC de cada modelo\n",
        "# TODO"
      ]
    },
    {
      "cell_type": "markdown",
      "id": "de2f5302",
      "metadata": {
        "id": "de2f5302"
      },
      "source": [
        "### Conclusión\n",
        "- Compara cómo cambian las métricas entre GaussianNB, CategoricalNB y MultinomialNB.\n",
        "- Reflexiona: ¿qué inductiva parece ajustarse mejor a este dataset clínico?\n",
        "- Qué modelo muestra menos falsos negativos (importante en problemas de salud)?"
      ]
    }
  ],
  "metadata": {
    "colab": {
      "provenance": [],
      "include_colab_link": true
    },
    "language_info": {
      "name": "python"
    },
    "kernelspec": {
      "name": "python3",
      "display_name": "Python 3"
    }
  },
  "nbformat": 4,
  "nbformat_minor": 5
}